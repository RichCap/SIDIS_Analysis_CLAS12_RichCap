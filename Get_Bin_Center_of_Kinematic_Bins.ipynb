{
 "cells": [
  {
   "cell_type": "markdown",
   "id": "lesbian-hebrew",
   "metadata": {
    "tags": [
     "Loading"
    ]
   },
   "source": [
    "# Get Bin Centers of Kinematic Bins\n",
    "\n",
    "### This code's intended use is to print information pertaining to the statistical centers of the kinematic bins\n",
    "\n",
    "Give this code an up-to-date version of the experimental data plots (with cuts) for the Q2 vs y AND z vs pT plots"
   ]
  },
  {
   "cell_type": "code",
   "execution_count": 1,
   "id": "scientific-fiber",
   "metadata": {},
   "outputs": [
    {
     "name": "stdout",
     "output_type": "stream",
     "text": [
      "\u001b[1m\n",
      "Starting RG-A SIDIS Analysis\n",
      "\u001b[0m\n",
      "Ran on \u001b[1m11-3-2024\u001b[0m at \u001b[1m3:47 p.m.\u001b[0m\n",
      "\n"
     ]
    }
   ],
   "source": [
    "%reset -f\n",
    "import ROOT, numpy\n",
    "import traceback\n",
    "from datetime import datetime\n",
    "from array import array\n",
    "\n",
    "from MyCommonAnalysisFunction_richcap import *\n",
    "\n",
    "import math\n",
    "import array\n",
    "import copy\n",
    "\n",
    "ROOT.TH1.AddDirectory(0)\n",
    "ROOT.gStyle.SetTitleOffset(1.3,'y')\n",
    "\n",
    "ROOT.gStyle.SetGridColor(17)\n",
    "ROOT.gStyle.SetPadGridX(1)\n",
    "ROOT.gStyle.SetPadGridY(1)\n",
    "\n",
    "print(f\"{color.BOLD}\\nStarting RG-A SIDIS Analysis\\n{color.END}\")\n",
    "\n",
    "\n",
    "# getting current date\n",
    "datetime_object_full = datetime.now()\n",
    "# print(datetime_object)\n",
    "\n",
    "startMin_full = datetime_object_full.minute\n",
    "startHr_full = datetime_object_full.hour\n",
    "\n",
    "if(datetime_object_full.minute <10):\n",
    "    timeMin_full = \"\".join([\"0\", str(datetime_object_full.minute)])\n",
    "else:\n",
    "    timeMin_full = str(datetime_object_full.minute)\n",
    "\n",
    "    \n",
    "Date_Day = \"\".join([\"Ran on \", color.BOLD, str(datetime_object_full.month), \"-\", str(datetime_object_full.day), \"-\", str(datetime_object_full.year), color.END, \" at \"])\n",
    "# printing current time\n",
    "if(datetime_object_full.hour > 12 and datetime_object_full.hour < 24):\n",
    "    print(\"\".join([Date_Day, color.BOLD, str((datetime_object_full.hour)-12), \":\", timeMin_full, \" p.m.\", color.END]))\n",
    "if(datetime_object_full.hour < 12 and datetime_object_full.hour > 0):\n",
    "    print(\"\".join([Date_Day, color.BOLD, str(datetime_object_full.hour), \":\", timeMin_full, \" a.m.\", color.END]))\n",
    "if(datetime_object_full.hour == 12):\n",
    "    print(\"\".join([Date_Day, color.BOLD, str(datetime_object_full.hour), \":\", timeMin_full, \" p.m.\", color.END]))\n",
    "if(datetime_object_full.hour == 0 or datetime_object_full.hour == 24):\n",
    "    print(\"\".join([Date_Day, color.BOLD, \"12:\", str(timeMin_full), \" a.m.\", color.END]))\n",
    "print(\"\")"
   ]
  },
  {
   "cell_type": "markdown",
   "id": "present-approval",
   "metadata": {},
   "source": [
    ".\n",
    "\n",
    ".\n",
    "\n",
    "."
   ]
  },
  {
   "cell_type": "markdown",
   "id": "plain-attack",
   "metadata": {
    "tags": [
     "Loading"
    ]
   },
   "source": [
    "## Load Data File(s)"
   ]
  },
  {
   "cell_type": "code",
   "execution_count": 2,
   "id": "italic-sixth",
   "metadata": {},
   "outputs": [
    {
     "name": "stdout",
     "output_type": "stream",
     "text": [
      "\u001b[1m\u001b[94m\n",
      "Running with Pass 2 files\n",
      "\n",
      "\u001b[0m\n",
      "\u001b[1m\n",
      "Not using the common file name for the Generated Monte Carlo Data...\n",
      "\u001b[0m\n",
      "The total number of histograms available for the\u001b[94m Real (Experimental) Data\u001b[0m in       '\u001b[1mPass_2_New_Fiducial_Cut_Test_FC_14_V13_All\u001b[0m' is \u001b[1m432\u001b[0m\n",
      "The total number of histograms available for the\u001b[91m Reconstructed Monte Carlo Data\u001b[0m in '\u001b[1mPass_2_New_Fiducial_Cut_Test_FC_14_V13_All\u001b[0m' is \u001b[1m972\u001b[0m\n",
      "The total number of histograms available for the\u001b[92m Generated Monte Carlo Data\u001b[0m in     '\u001b[1mPass_2_New_Fiducial_Cut_Test_V12_All\u001b[0m' is \u001b[1m432\u001b[0m\n",
      "\u001b[1m\n",
      "Pass Version in use is:\u001b[0m\u001b[94m Pass 2\u001b[0m\u001b[1m\n",
      "\n",
      "\n",
      "Done Loading RDataFrame files...\n",
      "\n",
      "\u001b[0m\n"
     ]
    }
   ],
   "source": [
    "def FileLocation(FileName, Datatype):\n",
    "    # location = \"/lustre19/expphy/volatile/clas12/richcap/SIDIS_Analysis/Histo_Files_ROOT/\"\n",
    "    location = \"Histo_Files_ROOT/\"\n",
    "    if(str(Datatype) == 'rdf'):\n",
    "        file = \"\".join([\"REAL_Data/SIDIS_epip_Data_REC_\", str(FileName), \".root\"])\n",
    "    if(str(Datatype) == 'mdf'):\n",
    "        file = \"\".join([\"Matching_REC_MC/SIDIS_epip_MC_Matched_\", str(FileName), \".root\"])\n",
    "    if(str(Datatype) == 'gdf'):\n",
    "        file = \"\".join([\"GEN_MC/SIDIS_epip_MC_GEN_\", str(FileName), \".root\"])\n",
    "    loading = \"\".join([location, file])\n",
    "    return loading\n",
    "\n",
    "\n",
    "################################################################################################################################################################\n",
    "##==========##==========##     Names of Requested File(s)     ##==========##==========##==========##==========##==========##==========##==========##==========##\n",
    "################################################################################################################################################################\n",
    "\n",
    "Smearing_Options = \"no_smear\"\n",
    "Smearing_Options = \"smear\"\n",
    "\n",
    "Common_Name = \"Pass_2_New_Sector_Cut_Test_V12_All\"\n",
    "Common_Name = \"Tagged_Proton_Pass_2_New_Fiducial_Cut_Test_V2_All\"\n",
    "# Common_Name = \"Pass_2_New_Fiducial_Cut_Test_V4_All\"\n",
    "# Common_Name = \"Tagged_Proton_Pass_2_New_Fiducial_Cut_Test_V4_All\"\n",
    "\n",
    "Common_Name = \"Pass_2_New_Fiducial_Cut_Test_V5_All\"\n",
    "Common_Name = \"Tagged_Proton_Pass_2_New_Fiducial_Cut_Test_V5_All\"\n",
    "\n",
    "Common_Name = \"Pass_2_New_Fiducial_Cut_Test_FC0_V7_All\"\n",
    "# Common_Name = \"Tagged_Proton_Pass_2_New_Fiducial_Cut_Test_FC0_V7_All\"\n",
    "\n",
    "Common_Name = \"Pass_2_New_Fiducial_Cut_Test_FC_14_V13_All\"\n",
    "\n",
    "Standard_Histogram_Title_Addition = \"\"\n",
    "Pass_Version = \"Pass 2\" if(\"Pass_2\" in Common_Name) else \"Pass 1\"\n",
    "if(Pass_Version not in [\"\"]):\n",
    "    Standard_Histogram_Title_Addition = Pass_Version\n",
    "    \n",
    "if(\"Tagged_Proton\" in Common_Name):\n",
    "    if(Standard_Histogram_Title_Addition not in [\"\"]):\n",
    "        Standard_Histogram_Title_Addition = f\"{Standard_Histogram_Title_Addition} - Tagged Proton\"\n",
    "    else:\n",
    "        Standard_Histogram_Title_Addition = \"Tagged Proton\"\n",
    "    print(f\"{color.BGREEN}\\nRunning with 'Tagged Proton' files{color.END}\")\n",
    "print(f\"{color.BBLUE}\\nRunning with {Pass_Version} files\\n\\n{color.END}\")\n",
    "        \n",
    "        \n",
    "# Use unique file(s) for one of datatypes? (If so, set the following if(...) conditions to 'False')\n",
    "\n",
    "##################################\n",
    "##   Real (Experimental) Data   ##\n",
    "##################################\n",
    "if(True):\n",
    "#     print(\"\".join([color.BOLD, \"\\nNot using the common file name for the Real (Experimental) Data...\\n\", color.END]))\n",
    "# if(False):\n",
    "    REAL_File_Name = Common_Name\n",
    "else:\n",
    "    REAL_File_Name = \"Pass_2_5D_Unfold_Test_V7_All\" if(Pass_Version in [\"Pass 2\"]) else \"5D_Unfold_Test_V7_All\"\n",
    "##################################\n",
    "##   Real (Experimental) Data   ##\n",
    "##################################\n",
    "\n",
    "########################################\n",
    "##   Reconstructed Monte Carlo Data   ##\n",
    "########################################\n",
    "if(True):\n",
    "#     print(\"\".join([color.BOLD, \"\\nNot using the common file name for the Reconstructed Monte Carlo Data...\\n\", color.END]))\n",
    "# if(False):\n",
    "#     MC_REC_File_Name = Common_Name\n",
    "    MC_REC_File_Name = f\"Unsmeared_{Common_Name}\" if(Smearing_Options in [\"no_smear\"]) else Common_Name\n",
    "else:\n",
    "    MC_REC_File_Name = \"Unsmeared_Pass_2_New_Sector_Cut_Test_V3_All\" if(Smearing_Options in [\"no_smear\"]) else \"Pass_2_New_Sector_Cut_Test_V3_All\"\n",
    "if((Pass_Version not in [\"Pass 2\"]) and (\"Pass_2_\" in str(MC_REC_File_Name))):\n",
    "    print(f\"{color.Error}Error: 'MC_REC_File_Name' includes 'Pass_2' in name when not appropriate...{color.END}\\n\\t(MC_REC_File_Name = {MC_REC_File_Name})\")\n",
    "    MC_REC_File_Name = MC_REC_File_Name.replace(\"Pass_2_\", \"\")\n",
    "########################################\n",
    "##   Reconstructed Monte Carlo Data   ##\n",
    "########################################\n",
    "\n",
    "####################################\n",
    "##   Generated Monte Carlo Data   ##\n",
    "####################################\n",
    "if(True):\n",
    "    print(\"\".join([color.BOLD, \"\\nNot using the common file name for the Generated Monte Carlo Data...\\n\", color.END]))\n",
    "if(False):\n",
    "    MC_GEN_File_Name = Common_Name\n",
    "else:\n",
    "    MC_GEN_File_Name = \"Pass_2_New_Sector_Cut_Test_V9_All\"\n",
    "    MC_GEN_File_Name = \"Pass_2_New_Fiducial_Cut_Test_V12_All\"\n",
    "####################################\n",
    "##   Generated Monte Carlo Data   ##\n",
    "####################################\n",
    "\n",
    "\n",
    "################################################################################################################################################################\n",
    "##==========##==========##     Names of Requested File(s)     ##==========##==========##==========##==========##==========##==========##==========##==========##\n",
    "################################################################################################################################################################\n",
    "\n",
    "\n",
    "\n",
    "\n",
    "\n",
    "################################################################################################################################################################\n",
    "##==========##==========##     Loading Requested File(s)     ##==========##==========##==========##==========##==========##==========##==========##==========##\n",
    "################################################################################################################################################################\n",
    "try:\n",
    "    rdf = ROOT.TFile(str(FileLocation(str(REAL_File_Name), \"rdf\")), \"READ\")\n",
    "    print(\"\".join([\"The total number of histograms available for the\", color.BLUE,  \" Real (Experimental) Data\",       color.END, \" in       '\", color.BOLD, REAL_File_Name,   color.END, \"' is \", color.BOLD, str(len(rdf.GetListOfKeys())), color.END]))\n",
    "except:\n",
    "    print(\"\".join([color.Error, \"\\nERROR IN GETTING THE 'rdf' DATAFRAME...\\nTraceback:\\n\", color.END_R, str(traceback.format_exc()), color.END]))\n",
    "try:\n",
    "    mdf = ROOT.TFile(str(FileLocation(str(MC_REC_File_Name), \"mdf\")), \"READ\")\n",
    "    print(\"\".join([\"The total number of histograms available for the\", color.RED,   \" Reconstructed Monte Carlo Data\", color.END, \" in '\",       color.BOLD, MC_REC_File_Name, color.END, \"' is \", color.BOLD, str(len(mdf.GetListOfKeys())), color.END]))\n",
    "except:\n",
    "    print(\"\".join([color.Error, \"\\nERROR IN GETTING THE 'mdf' DATAFRAME...\\nTraceback:\\n\", color.END_R, str(traceback.format_exc()), color.END]))\n",
    "try:\n",
    "    gdf = ROOT.TFile(str(FileLocation(str(MC_GEN_File_Name), \"gdf\")), \"READ\")\n",
    "    print(\"\".join([\"The total number of histograms available for the\", color.GREEN, \" Generated Monte Carlo Data\",     color.END, \" in     '\",   color.BOLD, MC_GEN_File_Name, color.END, \"' is \", color.BOLD, str(len(gdf.GetListOfKeys())), color.END]))\n",
    "except:\n",
    "    print(\"\".join([color.Error, \"\\nERROR IN GETTING THE 'gdf' DATAFRAME...\\nTraceback:\\n\", color.END_R, str(traceback.format_exc()), color.END]))\n",
    "################################################################################################################################################################\n",
    "##==========##==========##     Loading Requested File(s)     ##==========##==========##==========##==========##==========##==========##==========##==========##\n",
    "################################################################################################################################################################\n",
    "\n",
    "\n",
    "print(f\"{color.BOLD}\\nPass Version in use is:{color.END}{color.BLUE} {Pass_Version}{color.END_B}\\n\\n\\nDone Loading RDataFrame files...\\n\\n{color.END}\")"
   ]
  },
  {
   "cell_type": "markdown",
   "id": "through-serve",
   "metadata": {},
   "source": [
    ".\n",
    "\n",
    ".\n",
    "\n",
    "."
   ]
  },
  {
   "cell_type": "markdown",
   "id": "absolute-assessment",
   "metadata": {
    "tags": [
     "Checks"
    ]
   },
   "source": [
    "## Checking DataFrame(s) for required histograms"
   ]
  },
  {
   "cell_type": "code",
   "execution_count": 3,
   "id": "decreased-climb",
   "metadata": {},
   "outputs": [
    {
     "name": "stdout",
     "output_type": "stream",
     "text": [
      "\u001b[1mDataFrame in use = \u001b[4mrdf\u001b[0m\n",
      "\n",
      "\u001b[1mhisto_count (Total) = 54\u001b[0m\n",
      "\n",
      "Done\n"
     ]
    }
   ],
   "source": [
    "Check_Inputs     = not True\n",
    "Check_Inputs_All = not True\n",
    "\n",
    "if(Check_Inputs):\n",
    "    print(\"\")\n",
    "    \n",
    "Use_xB = True\n",
    "Data_Frame = \"rdf\"\n",
    "df = rdf   # Make sure df and Data_Frame are set to the same file\n",
    "# Cut_Type   = \"cut_Complete_SIDIS_Proton\"\n",
    "Cut_Type   = \"cut_Complete_SIDIS\"\n",
    "\n",
    "if(\"Proton\" in str(Cut_Type)):\n",
    "    Standard_Histogram_Title_Addition = Standard_Histogram_Title_Addition.replace(\"Tagged Proton\", \"Cut on MM_{Proton}\")\n",
    "\n",
    "print(f\"{color.BOLD}DataFrame in use = {color.UNDERLINE}{Data_Frame}{color.END}\\n\")\n",
    "# Select only one dataframe at a time (default should be 'rdf')\n",
    "histo_count = 0\n",
    "for df_name in df.GetListOfKeys():\n",
    "    if(f\"'{Data_Frame}'\" in str(df_name.GetName())):\n",
    "        # Looking for one DataFrame type at a time\n",
    "        if(\"Normal_2D\" in str(df_name.GetName())):\n",
    "            # Only looking for the 2D Histograms\n",
    "            if(f\"(Data-Cut='{Cut_Type}')\" in str(df_name.GetName())):\n",
    "                # Only looking for the Histograms with all the regular SIDIS cuts (or whatever 'Cut_Type' is set to)\n",
    "                if((\"Var-D2='xB'\" in str(df_name.GetName())) and (not Use_xB)):\n",
    "                    # Not looking for the Q2 vs xB plots (right now - will include xB if 'Use_xB' is set to 'True')\n",
    "                    continue\n",
    "                if(\"Var-D1='Q2'\" in str(df_name.GetName())):\n",
    "                    histo_count += 1\n",
    "                    if(Check_Inputs):\n",
    "                        print(f\"{color.BOLD}Histo {histo_count}:{color.BBLUE}\\n\\t {df_name.GetName()}{color.END}\\n\")\n",
    "                if(\"Var-D1='z'\"  in str(df_name.GetName())):\n",
    "                    histo_count += 1\n",
    "                    if(Check_Inputs):\n",
    "                        print(f\"{color.BOLD}Histo {histo_count}:{color.BGREEN}\\n\\t {df_name.GetName()}{color.END}\\n\")\n",
    "        if(Check_Inputs_All):\n",
    "            print(f\"{color.RED}\\t {df_name.GetName()}{color.END}\\n\")\n",
    "    else:\n",
    "        print(f\"{color.Error}Could not find the correct dataframe type (i.e., '{Data_Frame}'){color.END}\")\n",
    "        break\n",
    "        \n",
    "if(histo_count not in [36, 54]):\n",
    "    print(f\"{color.Error}histo_count (Total) = {histo_count} is the incorrect number of histograms{color.END_R}\\n\\tCheck input file with 'Check_Inputs' or 'Check_Inputs_All'{color.END}\")\n",
    "else:\n",
    "    print(f\"{color.BOLD}histo_count (Total) = {histo_count}{color.END}\\n\")   \n",
    "print(\"Done\")"
   ]
  },
  {
   "cell_type": "markdown",
   "id": "tested-above",
   "metadata": {},
   "source": [
    ".\n",
    "\n",
    ".\n",
    "\n",
    "."
   ]
  },
  {
   "cell_type": "markdown",
   "id": "weighted-cradle",
   "metadata": {
    "tags": [
     "Checks"
    ]
   },
   "source": [
    "## Drawing Histograms"
   ]
  },
  {
   "cell_type": "code",
   "execution_count": null,
   "id": "isolated-kennedy",
   "metadata": {
    "jupyter": {
     "source_hidden": true
    }
   },
   "outputs": [],
   "source": [
    "Draw_Histos   = not True\n",
    "Save_Histos   = not True\n",
    "Print_Centers = not True\n",
    "\n",
    "Q2_y_borders = {}\n",
    "for Q2_Y_Bin_ii in range(1, 18, 1):\n",
    "    Q2_y_borders[Q2_Y_Bin_ii] = Draw_Q2_Y_Bins(Input_Bin=Q2_Y_Bin_ii)\n",
    "    Q2_y_borders[f\"{Q2_Y_Bin_ii}_RED\"] = Draw_Q2_Y_Bins(Input_Bin=Q2_Y_Bin_ii)\n",
    "    for line in Q2_y_borders[f\"{Q2_Y_Bin_ii}_RED\"]:\n",
    "        line.SetLineColor(ROOT.kRed)\n",
    "        line.SetLineWidth(5)\n",
    "statbox, Q2_vs_xB_Histo, Q2_vs_y_Histo, z_vs_pT_Histo, canvas_main = {}, {}, {}, {}, {}\n",
    "Final_Output = {}\n",
    "Final_Output[\"Key\"] = [\"mean_Q2\", \"ErrorQ2\", \"mean__y\", \"Error_y\", \"mean__z\", \"Error_z\", \"mean_pT\", \"ErrorpT\"]\n",
    "if(Use_xB):\n",
    "    Final_Output[\"Key\"].append(\"mean_xB\")\n",
    "    Final_Output[\"Key\"].append(\"ErrorxB\")\n",
    "    \n",
    "    \n",
    "Select_Q2_y_Bin = range(0, 18)\n",
    "# Select_Q2_y_Bin = [1, 2]\n",
    "# Select_Q2_y_Bin = [0]\n",
    "\n",
    "Skip_z_pT_Q = not True\n",
    "    \n",
    "for Q2_y_Bin in range(0, 18):\n",
    "    if(Q2_y_Bin not in Select_Q2_y_Bin):\n",
    "        continue\n",
    "    if(Q2_y_Bin     in [0]):\n",
    "        Q2_y_Bin = \"All\"\n",
    "    Q2_vs_y_Name      = f\"((Histo-Group='Normal_2D'), (Data-Type='{Data_Frame}'), (Data-Cut='{Cut_Type}'), (Smear-Type=''), (Binning-Type='Y_bin'-[Q2-y-Bin={Q2_y_Bin}, z-PT-Bin=All]), (Var-D1='Q2'-[NumBins=280, MinBin=0, MaxBin=14]), (Var-D2='y'-[NumBins=100, MinBin=0, MaxBin=1]))\"\n",
    "    z_vs_pT_Name      = f\"((Histo-Group='Normal_2D'), (Data-Type='{Data_Frame}'), (Data-Cut='{Cut_Type}'), (Smear-Type=''), (Binning-Type='Y_bin'-[Q2-y-Bin={Q2_y_Bin}, z-PT-Bin=All]), (Var-D1='z'-[NumBins=120, MinBin=0, MaxBin=1.2]), (Var-D2='pT'-[NumBins=200, MinBin=0, MaxBin=2.0]))\"\n",
    "    Q2_vs_y_Histo[f\"({Q2_y_Bin})\"] = df.Get(Q2_vs_y_Name)\n",
    "    # print(f\"Q2_vs_y_Name = {Q2_vs_y_Name}\")\n",
    "    z_vs_pT_Histo[f\"({Q2_y_Bin})\"] = df.Get(z_vs_pT_Name)\n",
    "    # print(f\"z_vs_pT_Name = {z_vs_pT_Name}\")\n",
    "    if(Use_xB):\n",
    "        Q2_vs_xB_Name = f\"((Histo-Group='Normal_2D'), (Data-Type='{Data_Frame}'), (Data-Cut='{Cut_Type}'), (Smear-Type=''), (Binning-Type='Y_bin'-[Q2-y-Bin={Q2_y_Bin}, z-PT-Bin=All]), (Var-D1='Q2'-[NumBins=280, MinBin=0, MaxBin=14]), (Var-D2='xB'-[NumBins=50, MinBin=0.09, MaxBin=0.826]))\"\n",
    "        Q2_vs_xB_Histo[f\"({Q2_y_Bin})\"] = df.Get(Q2_vs_xB_Name)\n",
    "        # print(f\"Q2_vs_xB_Name = {Q2_vs_xB_Name}\")\n",
    "    \n",
    "    z_pT_Bin_List = [\"All\"]\n",
    "    if(not Skip_z_pT_Q):\n",
    "        # z_pT_Bin_List = range(1, Get_Num_of_z_pT_Bins_w_Migrations(Q2_y_Bin_Num_In=Q2_y_Bin)[1] + 1)\n",
    "        z_pT_Bin_List.extend(range(1, Get_Num_of_z_pT_Bins_w_Migrations(Q2_y_Bin_Num_In=Q2_y_Bin)[1] + 1))\n",
    "    for z_pT_Bin in z_pT_Bin_List:\n",
    "        if(skip_condition_z_pT_bins(Q2_Y_BIN=Q2_y_Bin, Z_PT_BIN=z_pT_Bin, BINNING_METHOD=\"_Y_bin\")):\n",
    "            continue\n",
    "            \n",
    "        Q2_vs_y_Histo[f\"({Q2_y_Bin}, {z_pT_Bin})\"] = Q2_vs_y_Histo[f\"({Q2_y_Bin})\"].Clone(Q2_vs_y_Name.replace(\"z-PT-Bin=All\",  f\"z-PT-Bin={z_pT_Bin}\"))\n",
    "        z_vs_pT_Histo[f\"({Q2_y_Bin}, {z_pT_Bin})\"] = z_vs_pT_Histo[f\"({Q2_y_Bin})\"].Clone(z_vs_pT_Name.replace(\"z-PT-Bin=All\",  f\"z-PT-Bin={z_pT_Bin}\"))\n",
    "        \n",
    "        if(z_pT_Bin not in [\"All\", \"0\", 0]):\n",
    "            Q2_vs_y_Histo[f\"({Q2_y_Bin}, {z_pT_Bin})\"].GetXaxis().SetRangeUser(z_pT_Bin, z_pT_Bin)\n",
    "            z_vs_pT_Histo[f\"({Q2_y_Bin}, {z_pT_Bin})\"].GetXaxis().SetRangeUser(z_pT_Bin, z_pT_Bin)\n",
    "        else:\n",
    "            # Q2_vs_y_Histo[f\"({Q2_y_Bin}, {z_pT_Bin})\"].GetXaxis().SetRangeUser(-0.5 if(Skip_z_pT_Q) else 0.5, 50)\n",
    "            Q2_vs_y_Histo[f\"({Q2_y_Bin}, {z_pT_Bin})\"].GetXaxis().SetRangeUser(0.5, 50)\n",
    "            z_vs_pT_Histo[f\"({Q2_y_Bin}, {z_pT_Bin})\"].GetXaxis().SetRangeUser(-0.5 if(Skip_z_pT_Q) else 0.5, 50)\n",
    "            # z_vs_pT_Histo[f\"({Q2_y_Bin}, {z_pT_Bin})\"].GetXaxis().SetRangeUser(0.5, 50)\n",
    "        \n",
    "        Q2_vs_y_Histo[f\"({Q2_y_Bin}, {z_pT_Bin})\"] = Q2_vs_y_Histo[f\"({Q2_y_Bin}, {z_pT_Bin})\"].Project3D(\"yz\")\n",
    "        z_vs_pT_Histo[f\"({Q2_y_Bin}, {z_pT_Bin})\"] = z_vs_pT_Histo[f\"({Q2_y_Bin}, {z_pT_Bin})\"].Project3D(\"yz\")\n",
    "        \n",
    "        Kinematic_Bin = \"\".join([\"Q^{2}-y Bin: \", str(Q2_y_Bin), \" #topbar z-P_{T} Bin: \", str(z_pT_Bin)])\n",
    "\n",
    "        Q2_vs_y_Title = \"\".join([\"#splitline{#splitline{#splitline{\", \"Experimental\" if(str(Data_Frame) in [\"rdf\"]) else \"MC REC\" if(str(Data_Frame) in [\"mdf\"]) else \"MC GEN\" if(str(Data_Frame) in [\"gdf\"]) else \"ERROR\", \" Data}{\", str(root_color.Bold), \"{Q^{2} vs y Plot}}}{\", str(root_color.Bold), \"{\", str(Kinematic_Bin), \"}}}{\", str(root_color.Bold), \"{Pass Version:} #color[\", str(root_color.Blue), \"]{\", str(Standard_Histogram_Title_Addition), \"}}\"])\n",
    "        z_vs_pT_Title = \"\".join([\"#splitline{#splitline{#splitline{\", \"Experimental\" if(str(Data_Frame) in [\"rdf\"]) else \"MC REC\" if(str(Data_Frame) in [\"mdf\"]) else \"MC GEN\" if(str(Data_Frame) in [\"gdf\"]) else \"ERROR\", \" Data}{\", str(root_color.Bold), \"{z vs P_{T} Plot}}}{\", str(root_color.Bold), \"{\", str(Kinematic_Bin), \"}}}{\", str(root_color.Bold), \"{Pass Version:} #color[\", str(root_color.Blue), \"]{\", str(Standard_Histogram_Title_Addition), \"}}\"])\n",
    "\n",
    "        Q2_vs_y_Histo[f\"({Q2_y_Bin}, {z_pT_Bin})\"].SetTitle(Q2_vs_y_Title)\n",
    "        z_vs_pT_Histo[f\"({Q2_y_Bin}, {z_pT_Bin})\"].SetTitle(z_vs_pT_Title)\n",
    "        \n",
    "        if(Use_xB):\n",
    "            Q2_vs_xB_Histo[f\"({Q2_y_Bin}, {z_pT_Bin})\"] = Q2_vs_xB_Histo[f\"({Q2_y_Bin})\"].Clone(Q2_vs_xB_Name.replace(\"z-PT-Bin=All\", f\"z-PT-Bin={z_pT_Bin}\"))\n",
    "            if(z_pT_Bin not in [\"All\", \"0\", 0]):\n",
    "                Q2_vs_xB_Histo[f\"({Q2_y_Bin}, {z_pT_Bin})\"].GetXaxis().SetRangeUser(z_pT_Bin, z_pT_Bin)\n",
    "            else:\n",
    "                Q2_vs_xB_Histo[f\"({Q2_y_Bin}, {z_pT_Bin})\"].GetXaxis().SetRangeUser(-0.5 if(Skip_z_pT_Q) else 0.5, 50)\n",
    "            Q2_vs_xB_Histo[f\"({Q2_y_Bin}, {z_pT_Bin})\"] = Q2_vs_xB_Histo[f\"({Q2_y_Bin}, {z_pT_Bin})\"].Project3D(\"yz\")\n",
    "            Q2_vs_xB_Histo[f\"({Q2_y_Bin}, {z_pT_Bin})\"].SetTitle(Q2_vs_y_Title.replace(\"y Plot\", \"x_{B} Plot\"))\n",
    "        \n",
    "        # Q2_vs_y_Histo[f\"({Q2_y_Bin}, {z_pT_Bin})\"].SetTitleOffset(8.2, 't')\n",
    "        # print(Q2_vs_y_Histo[f\"({Q2_y_Bin}, {z_pT_Bin})\"].GetTitleOffset('t'))\n",
    "        # print(z_vs_pT_Histo[f\"({Q2_y_Bin}, {z_pT_Bin})\"].GetTitleOffset('t'))\n",
    "        \n",
    "        Q2_vs_y_Histo[f\"({Q2_y_Bin}, {z_pT_Bin})\"].GetYaxis().SetRangeUser(0 if(Skip_z_pT_Q) else 0.5, 11.5 if(Skip_z_pT_Q) else 9)\n",
    "        Q2_vs_y_Histo[f\"({Q2_y_Bin}, {z_pT_Bin})\"].GetXaxis().SetRangeUser(0.2, 0.9)\n",
    "        if(Use_xB):\n",
    "            Q2_vs_xB_Histo[f\"({Q2_y_Bin}, {z_pT_Bin})\"].GetYaxis().SetRangeUser(0.5, 9)\n",
    "        \n",
    "        z_vs_pT_Histo[f\"({Q2_y_Bin}, {z_pT_Bin})\"].GetYaxis().SetRangeUser(0.01, 1.0 if(Skip_z_pT_Q) else 0.8)\n",
    "        z_vs_pT_Histo[f\"({Q2_y_Bin}, {z_pT_Bin})\"].GetXaxis().SetRangeUser(0,    1.6 if(Skip_z_pT_Q) else 1.1)\n",
    "\n",
    "#         canvas_main[f\"({Q2_y_Bin}, {z_pT_Bin})\"] = Canvas_Create(Name=f\"({Q2_y_Bin}, {z_pT_Bin})\", Num_Columns=3 if(Use_xB) else 2, Num_Rows=1, Size_X=1600, Size_Y=1200, cd_Space=0)\n",
    "#         canvas_main[f\"({Q2_y_Bin}, {z_pT_Bin})\"] = Canvas_Create(Name=f\"({Q2_y_Bin}, {z_pT_Bin})\", Num_Columns=1, Num_Rows=3 if(Use_xB) else 2, Size_X=1200, Size_Y=1600, cd_Space=0)\n",
    "        canvas_main[f\"({Q2_y_Bin}, {z_pT_Bin})\"] = Canvas_Create(Name=f\"({Q2_y_Bin}, {z_pT_Bin})\", Num_Columns=3 if(Use_xB) else 2, Num_Rows=1, Size_X=1600, Size_Y=1200, cd_Space=0)\n",
    "        Draw_Canvas(canvas=canvas_main[f\"({Q2_y_Bin}, {z_pT_Bin})\"], cd_num=1, left_add=0.15, right_add=0.15, up_add=0.15, down_add=0.15)\n",
    "        Q2_vs_y_Histo[f\"({Q2_y_Bin}, {z_pT_Bin})\"].Draw(\"colz\")\n",
    "        Q2_vs_y_Histo[f\"({Q2_y_Bin}, {z_pT_Bin})\"].SetStats(ROOT.kTRUE)  # Ensure statistics box is enabled\n",
    "        ROOT.gStyle.SetOptStat(1100)  # '11' means decimal part of precision, '00'\n",
    "        \n",
    "        statbox[f\"Q2_vs_y_({Q2_y_Bin}, {z_pT_Bin})\"] = Q2_vs_y_Histo[f\"({Q2_y_Bin}, {z_pT_Bin})\"].GetListOfFunctions().FindObject(\"stats\")\n",
    "        if(statbox[f\"Q2_vs_y_({Q2_y_Bin}, {z_pT_Bin})\"]):\n",
    "            statbox[f\"Q2_vs_y_({Q2_y_Bin}, {z_pT_Bin})\"].SetX1NDC(0.55)   # X position of left edge\n",
    "            statbox[f\"Q2_vs_y_({Q2_y_Bin}, {z_pT_Bin})\"].SetX2NDC(0.85)  # X position of right edge\n",
    "            statbox[f\"Q2_vs_y_({Q2_y_Bin}, {z_pT_Bin})\"].SetY1NDC(0.15)  # Y position of bottom edge\n",
    "            statbox[f\"Q2_vs_y_({Q2_y_Bin}, {z_pT_Bin})\"].SetY2NDC(0.25)  # Y position of top edge\n",
    "        for Q2_Y_Bin_ii in range(1, 18, 1):\n",
    "            for line in Q2_y_borders[Q2_Y_Bin_ii]:\n",
    "                line.SetLineColor(ROOT.kBlack)\n",
    "                line.SetLineWidth(2)\n",
    "                line.Draw(\"same\")\n",
    "        if(Q2_y_Bin not in [0, \"All\"]):\n",
    "            for line_current in Q2_y_borders[f\"{Q2_y_Bin}_RED\"]:\n",
    "                line_current.Draw(\"same\")\n",
    "            \n",
    "        Draw_Canvas(canvas=canvas_main[f\"({Q2_y_Bin}, {z_pT_Bin})\"], cd_num=2, left_add=0.15, right_add=0.15, up_add=0.15, down_add=0.15)\n",
    "        z_vs_pT_Histo[f\"({Q2_y_Bin}, {z_pT_Bin})\"].Draw(\"colz\")\n",
    "        z_vs_pT_Histo[f\"({Q2_y_Bin}, {z_pT_Bin})\"].SetStats(ROOT.kTRUE)  # Ensure statistics box is enabled\n",
    "        ROOT.gStyle.SetOptStat(1100)  # '11' means decimal part of precision, '00'\n",
    "        statbox[f\"z_vs_pT_({Q2_y_Bin}, {z_pT_Bin})\"] = z_vs_pT_Histo[f\"({Q2_y_Bin}, {z_pT_Bin})\"].GetListOfFunctions().FindObject(\"stats\")\n",
    "        if(statbox[f\"z_vs_pT_({Q2_y_Bin}, {z_pT_Bin})\"]):\n",
    "            statbox[f\"z_vs_pT_({Q2_y_Bin}, {z_pT_Bin})\"].SetX1NDC(0.55)   # X position of left edge\n",
    "            statbox[f\"z_vs_pT_({Q2_y_Bin}, {z_pT_Bin})\"].SetX2NDC(0.85)  # X position of right edge\n",
    "            statbox[f\"z_vs_pT_({Q2_y_Bin}, {z_pT_Bin})\"].SetY1NDC(0.15)  # Y position of bottom edge\n",
    "            statbox[f\"z_vs_pT_({Q2_y_Bin}, {z_pT_Bin})\"].SetY2NDC(0.25)  # Y position of top edge\n",
    "        if(Q2_y_Bin not in [\"All\", \"0\", 0]):\n",
    "            Draw_z_pT_Bins_With_Migration(Q2_y_Bin_Num_In=int(Q2_y_Bin), Set_Max_Y=1.2, Set_Max_X=1.2, Plot_Orientation_Input=\"z_pT\")\n",
    "            \n",
    "        if(Use_xB):\n",
    "            Draw_Canvas(canvas=canvas_main[f\"({Q2_y_Bin}, {z_pT_Bin})\"], cd_num=3, left_add=0.15, right_add=0.15, up_add=0.15, down_add=0.15)\n",
    "            Q2_vs_xB_Histo[f\"({Q2_y_Bin}, {z_pT_Bin})\"].Draw(\"colz\")\n",
    "            Q2_vs_xB_Histo[f\"({Q2_y_Bin}, {z_pT_Bin})\"].SetStats(ROOT.kTRUE)  # Ensure statistics box is enabled\n",
    "            ROOT.gStyle.SetOptStat(1100)  # '11' means decimal part of precision, '00'\n",
    "            statbox[f\"Q2_vs_xB_({Q2_y_Bin}, {z_pT_Bin})\"] = Q2_vs_xB_Histo[f\"({Q2_y_Bin}, {z_pT_Bin})\"].GetListOfFunctions().FindObject(\"stats\")\n",
    "            if(statbox[f\"Q2_vs_xB_({Q2_y_Bin}, {z_pT_Bin})\"]):\n",
    "                statbox[f\"Q2_vs_xB_({Q2_y_Bin}, {z_pT_Bin})\"].SetX1NDC(0.55)   # X position of left edge\n",
    "                statbox[f\"Q2_vs_xB_({Q2_y_Bin}, {z_pT_Bin})\"].SetX2NDC(0.85)  # X position of right edge\n",
    "                statbox[f\"Q2_vs_xB_({Q2_y_Bin}, {z_pT_Bin})\"].SetY1NDC(0.15)  # Y position of bottom edge\n",
    "                statbox[f\"Q2_vs_xB_({Q2_y_Bin}, {z_pT_Bin})\"].SetY2NDC(0.25)  # Y position of top edge\n",
    "            \n",
    "        mean_Q2 = Q2_vs_y_Histo[f\"({Q2_y_Bin}, {z_pT_Bin})\"].GetMean(2)  # 2 denotes the Y-axis\n",
    "        mean__y = Q2_vs_y_Histo[f\"({Q2_y_Bin}, {z_pT_Bin})\"].GetMean(1)  # 1 denotes the X-axis\n",
    "        Q2_vs_y_entries = Q2_vs_y_Histo[f\"({Q2_y_Bin}, {z_pT_Bin})\"].GetEntries()\n",
    "        sdev_Q2 = Q2_vs_y_Histo[f\"({Q2_y_Bin}, {z_pT_Bin})\"].GetStdDev(2)\n",
    "        sdev__y = Q2_vs_y_Histo[f\"({Q2_y_Bin}, {z_pT_Bin})\"].GetStdDev(1)\n",
    "        ErrorQ2 = (sdev_Q2/ROOT.sqrt(Q2_vs_y_entries)) if(Q2_vs_y_entries > 0) else 0\n",
    "        Error_y = (sdev__y/ROOT.sqrt(Q2_vs_y_entries)) if(Q2_vs_y_entries > 0) else 0\n",
    "        \n",
    "        mean__z = z_vs_pT_Histo[f\"({Q2_y_Bin}, {z_pT_Bin})\"].GetMean(2)  # 2 denotes the Y-axis\n",
    "        mean_pT = z_vs_pT_Histo[f\"({Q2_y_Bin}, {z_pT_Bin})\"].GetMean(1)  # 1 denotes the X-axis\n",
    "        z_vs_pT_entries = z_vs_pT_Histo[f\"({Q2_y_Bin}, {z_pT_Bin})\"].GetEntries()\n",
    "        sdev__z = z_vs_pT_Histo[f\"({Q2_y_Bin}, {z_pT_Bin})\"].GetStdDev(2)\n",
    "        sdev_pT = z_vs_pT_Histo[f\"({Q2_y_Bin}, {z_pT_Bin})\"].GetStdDev(1)\n",
    "        Error_z = (sdev__z/ROOT.sqrt(z_vs_pT_entries)) if(z_vs_pT_entries > 0) else 0\n",
    "        ErrorpT = (sdev_pT/ROOT.sqrt(z_vs_pT_entries)) if(z_vs_pT_entries > 0) else 0\n",
    "        \n",
    "        if(Use_xB):\n",
    "            mean_xB     = Q2_vs_xB_Histo[f\"({Q2_y_Bin}, {z_pT_Bin})\"].GetMean(1)  # 1 denotes the X-axis\n",
    "            mean_Q2_xB  = Q2_vs_xB_Histo[f\"({Q2_y_Bin}, {z_pT_Bin})\"].GetMean(2)\n",
    "            Q2_vs_xB_entries = Q2_vs_xB_Histo[f\"({Q2_y_Bin}, {z_pT_Bin})\"].GetEntries()\n",
    "            sdev_xB = Q2_vs_xB_Histo[f\"({Q2_y_Bin}, {z_pT_Bin})\"].GetStdDev(1)\n",
    "            ErrorxB = (sdev_xB/ROOT.sqrt(Q2_vs_xB_entries)) if(Q2_vs_xB_entries > 0) else 0\n",
    "            if(round(mean_Q2, 3) != round(mean_Q2_xB, 3)):\n",
    "                print(f\"\"\"{color.Error}\n",
    "Q2_vs_y_Histo[f\"({Q2_y_Bin}, {z_pT_Bin})\"].GetMean(2)  = {mean_Q2}\n",
    "Q2_vs_xB_Histo[f\"({Q2_y_Bin}, {z_pT_Bin})\"].GetMean(2) = {mean_Q2_xB}\n",
    "{color.END}\"\"\")\n",
    "            if(Print_Centers):\n",
    "                print(f\"For ({Q2_y_Bin}-{z_pT_Bin}):\\t [mean_Q2, ErrorQ2, mean__y, Error_y, mean__z, Error_z, mean_pT, ErrorpT, mean_xB, ErrorxB] = [{round(mean_Q2, 3)}, {round(ErrorQ2, 7)}, {round(mean__y, 4)}, {round(Error_y, 7)}, {round(mean__z, 4)}, {round(Error_z, 7)}, {round(mean_pT, 4)}, {round(ErrorpT, 7)}, {round(mean_xB, 4)}, {round(ErrorxB, 7)}]\")\n",
    "            Final_Output[f\"{Q2_y_Bin}-{z_pT_Bin}\"] = [round(mean_Q2, 3), round(ErrorQ2, 7), round(mean__y, 4), round(Error_y, 7), round(mean__z, 4), round(Error_z, 7), round(mean_pT, 4), round(ErrorpT, 7), round(mean_xB, 4), round(ErrorxB, 7)]\n",
    "        else:\n",
    "            if(Print_Centers):\n",
    "                print(f\"For ({Q2_y_Bin}-{z_pT_Bin}):\\t [mean_Q2, ErrorQ2, mean__y, Error_y, mean__z, Error_z, mean_pT, ErrorpT] = [{round(mean_Q2, 3)}, {round(ErrorQ2, 7)}, {round(mean__y, 4)}, {round(Error_y, 7)}, {round(mean__z, 4)}, {round(Error_z, 7)}, {round(mean_pT, 4)}, {round(ErrorpT, 7)}]\")\n",
    "            Final_Output[f\"{Q2_y_Bin}-{z_pT_Bin}\"] = [round(mean_Q2, 3), round(ErrorQ2, 7), round(mean__y, 4), round(Error_y, 7), round(mean__z, 4), round(Error_z, 7), round(mean_pT, 4), round(ErrorpT, 7)]\n",
    "            \n",
    "        if(Draw_Histos):\n",
    "            canvas_main[f\"({Q2_y_Bin}, {z_pT_Bin})\"].Draw()\n",
    "        if(Save_Histos):\n",
    "            Save_Name = f\"Normal_2D_Histos_For_Q2_y_Bin_{Q2_y_Bin}_z_pT_Bin_{z_pT_Bin}.pdf\"\n",
    "            canvas_main[f\"({Q2_y_Bin}, {z_pT_Bin})\"].SaveAs(Save_Name)\n",
    "            print(f\"\\n{color.BBLUE}Saved: {color.UNDERLINE}{Save_Name}{color.END}\\n\")\n",
    "            \n",
    "\n",
    "print(f\"\\n{color.BOLD}Done{color.END}\")"
   ]
  },
  {
   "cell_type": "markdown",
   "id": "upper-holocaust",
   "metadata": {},
   "source": [
    ".\n",
    "\n",
    ".\n",
    "\n",
    "."
   ]
  },
  {
   "cell_type": "markdown",
   "id": "moved-philosophy",
   "metadata": {
    "tags": [
     "Main_Output"
    ]
   },
   "source": [
    "# Making Final Output\n",
    "Use the final text printed from this cell as the reference for bin centers"
   ]
  },
  {
   "cell_type": "code",
   "execution_count": 9,
   "id": "brutal-motion",
   "metadata": {},
   "outputs": [
    {
     "name": "stdout",
     "output_type": "stream",
     "text": [
      "\u001b[1m\n",
      "# From REAL_File_Name = Tagged_Proton_Pass_2_New_Fiducial_Cut_Test_V5_All (Common_Name = Tagged_Proton_Pass_2_New_Fiducial_Cut_Test_V5_All)\n",
      "Get_Bin_Center_Dictionary = {'Key': ['mean_Q2', 'ErrorQ2', 'mean__y', 'Error_y', 'mean__z', 'Error_z', 'mean_pT', 'ErrorpT', 'mean_xB', 'ErrorxB'], '1-All': [2.194, 0.0001272, 0.7, 3.2e-05, 0.301, 0.000127, 0.4135, 0.0002032, 0.1578, 1.26e-05], '1-1': [2.198, 0.0009085, 0.6935, 0.0002244, 0.4954, 0.0005955, 0.1536, 0.0003611, 0.1595, 9.14e-05], '1-2': [2.194, 0.0008496, 0.6958, 0.0002132, 0.4925, 0.0005447, 0.2724, 0.0002132, 0.1588, 8.45e-05], '1-3': [2.196, 0.0007655, 0.6963, 0.0001921, 0.4949, 0.0004978, 0.371, 0.0001928, 0.1587, 7.59e-05], '1-4': [2.196, 0.0007426, 0.6969, 0.0001855, 0.4959, 0.000484, 0.47, 0.0001868, 0.1586, 7.4e-05], '1-5': [2.195, 0.0007334, 0.6973, 0.000183, 0.4984, 0.000477, 0.5738, 0.0002028, 0.1585, 7.26e-05], '1-6': [2.192, 0.0007795, 0.6979, 0.0001949, 0.5021, 0.0005107, 0.6866, 0.0002356, 0.1581, 7.76e-05], '1-7': [2.194, 0.0007605, 0.6982, 0.0001921, 0.5103, 0.0005104, 0.8476, 0.000441, 0.1582, 7.52e-05], '1-8': [2.198, 0.0007175, 0.6963, 0.0001795, 0.3362, 0.0001939, 0.1557, 0.0002756, 0.1589, 7.15e-05], '1-9': [2.195, 0.0006782, 0.6977, 0.0001699, 0.3367, 0.0001844, 0.2726, 0.0001688, 0.1584, 6.78e-05], '1-10': [2.194, 0.0006087, 0.6983, 0.000152, 0.3361, 0.0001636, 0.3709, 0.0001522, 0.1581, 6.04e-05], '1-11': [2.193, 0.0006038, 0.699, 0.0001517, 0.3367, 0.0001626, 0.4692, 0.0001509, 0.158, 6.02e-05], '1-12': [2.193, 0.0006309, 0.6991, 0.0001583, 0.3383, 0.0001717, 0.5718, 0.0001742, 0.1579, 6.25e-05], '1-13': [2.194, 0.0007545, 0.6996, 0.0001894, 0.3403, 0.0002078, 0.6837, 0.0002249, 0.1578, 7.44e-05], '1-14': [2.191, 0.0008948, 0.7015, 0.0002238, 0.3434, 0.0002439, 0.835, 0.000486, 0.1572, 8.77e-05], '1-15': [2.195, 0.0006804, 0.6975, 0.0001713, 0.2576, 0.0001014, 0.1545, 0.0002601, 0.1584, 6.76e-05], '1-16': [2.194, 0.0006323, 0.6985, 0.0001579, 0.257, 9.36e-05, 0.2731, 0.0001569, 0.1581, 6.27e-05], '1-17': [2.193, 0.0005603, 0.6991, 0.0001405, 0.2571, 8.3e-05, 0.3709, 0.0001408, 0.1579, 5.59e-05], '1-18': [2.193, 0.0005793, 0.6991, 0.0001463, 0.2579, 8.58e-05, 0.4681, 0.000145, 0.158, 5.75e-05], '1-19': [2.194, 0.0006624, 0.6998, 0.0001661, 0.2585, 9.87e-05, 0.5703, 0.0001807, 0.1578, 6.55e-05], '1-20': [2.191, 0.000889, 0.7019, 0.0002216, 0.2603, 0.0001306, 0.6803, 0.0002582, 0.1571, 8.79e-05], '1-22': [2.196, 0.0006682, 0.6976, 0.0001687, 0.2087, 6.55e-05, 0.1547, 0.0002621, 0.1584, 6.69e-05], '1-23': [2.193, 0.0005855, 0.699, 0.0001471, 0.2083, 5.69e-05, 0.2734, 0.0001447, 0.1579, 5.78e-05], '1-24': [2.194, 0.0005335, 0.6989, 0.0001337, 0.2088, 5.19e-05, 0.3696, 0.0001334, 0.158, 5.29e-05], '1-25': [2.193, 0.0005916, 0.6996, 0.0001484, 0.2093, 5.78e-05, 0.4672, 0.0001474, 0.1578, 5.87e-05], '1-26': [2.189, 0.0007716, 0.7034, 0.0001909, 0.2108, 7.43e-05, 0.5656, 0.0002022, 0.1566, 7.52e-05], '1-29': [2.195, 0.0008037, 0.7089, 0.0001885, 0.178, 5.22e-05, 0.1571, 0.0003139, 0.1557, 7.7e-05], '1-30': [2.193, 0.0006761, 0.71, 0.000159, 0.1778, 4.4e-05, 0.2733, 0.0001682, 0.1555, 6.44e-05], '1-31': [2.194, 0.0006503, 0.71, 0.0001521, 0.178, 4.22e-05, 0.3686, 0.0001627, 0.1555, 6.16e-05], '1-32': [2.191, 0.000774, 0.7109, 0.0001796, 0.1781, 4.98e-05, 0.4648, 0.0001904, 0.1551, 7.3e-05], '2-All': [2.196, 0.0001315, 0.6004, 3.27e-05, 0.3451, 0.0001446, 0.3996, 0.0002096, 0.1842, 1.59e-05], '2-1': [2.2, 0.0008544, 0.596, 0.0002102, 0.5952, 0.0005116, 0.1661, 0.0004043, 0.186, 0.0001043], '2-2': [2.201, 0.0009845, 0.5966, 0.0002446, 0.5935, 0.0005843, 0.3012, 0.0002468, 0.1859, 0.0001204], '2-3': [2.199, 0.0009349, 0.5972, 0.0002333, 0.5931, 0.0005561, 0.4009, 0.0002361, 0.1854, 0.0001143], '2-4': [2.197, 0.0009687, 0.5976, 0.0002428, 0.5947, 0.0005822, 0.4946, 0.000217, 0.1853, 0.0001182], '2-5': [2.199, 0.0008535, 0.5977, 0.0002127, 0.5978, 0.0005187, 0.6029, 0.0002781, 0.1854, 0.000104], '2-6': [2.195, 0.0007751, 0.5988, 0.0001923, 0.6005, 0.0004663, 0.779, 0.0004857, 0.1847, 9.32e-05], '2-7': [2.199, 0.0006994, 0.5969, 0.0001749, 0.4315, 0.0002083, 0.1687, 0.0003291, 0.1856, 8.51e-05], '2-8': [2.197, 0.0007927, 0.598, 0.000198, 0.4314, 0.0002342, 0.3008, 0.0001982, 0.1851, 9.64e-05], '2-9': [2.197, 0.0007632, 0.5987, 0.0001909, 0.4315, 0.000227, 0.4, 0.0001908, 0.1848, 9.31e-05], '2-10': [2.194, 0.0008174, 0.5986, 0.0002043, 0.432, 0.0002421, 0.4941, 0.0001839, 0.1846, 9.91e-05], '2-11': [2.195, 0.0007446, 0.5989, 0.0001855, 0.433, 0.0002218, 0.6016, 0.000242, 0.1846, 9.15e-05], '2-12': [2.194, 0.0007656, 0.6001, 0.0001911, 0.4354, 0.000229, 0.77, 0.0004687, 0.1841, 9.28e-05], '2-13': [2.198, 0.0006555, 0.5975, 0.0001638, 0.3422, 0.0001142, 0.1695, 0.0003023, 0.1854, 7.99e-05], '2-14': [2.197, 0.0007421, 0.5986, 0.0001864, 0.3423, 0.0001298, 0.3014, 0.0001862, 0.1849, 9.04e-05], '2-15': [2.195, 0.0007033, 0.5985, 0.000176, 0.3416, 0.0001218, 0.4001, 0.0001757, 0.1847, 8.58e-05], '2-16': [2.197, 0.0007674, 0.5992, 0.000192, 0.3418, 0.0001336, 0.4939, 0.0001728, 0.1847, 9.36e-05], '2-17': [2.196, 0.0007294, 0.5998, 0.0001819, 0.3427, 0.0001266, 0.5995, 0.000235, 0.1844, 8.86e-05], '2-18': [2.193, 0.0008922, 0.6028, 0.0002229, 0.3454, 0.0001543, 0.7567, 0.0005086, 0.1832, 0.0001077], '2-19': [2.199, 0.0006286, 0.5983, 0.0001569, 0.2836, 7.74e-05, 0.1685, 0.0002881, 0.1852, 7.65e-05], '2-20': [2.195, 0.0006893, 0.5988, 0.0001728, 0.2833, 8.51e-05, 0.3023, 0.0001724, 0.1846, 8.36e-05], '2-21': [2.195, 0.0006473, 0.5989, 0.0001617, 0.2832, 7.98e-05, 0.4003, 0.0001627, 0.1846, 7.9e-05], '2-22': [2.195, 0.0007142, 0.5995, 0.0001798, 0.2835, 8.86e-05, 0.493, 0.0001623, 0.1844, 8.72e-05], '2-23': [2.194, 0.0007637, 0.6011, 0.0001882, 0.2845, 9.43e-05, 0.5972, 0.0002444, 0.1838, 9.21e-05], '2-25': [2.198, 0.0007028, 0.5982, 0.0001738, 0.2445, 4.99e-05, 0.1682, 0.0003237, 0.185, 8.52e-05], '2-26': [2.196, 0.0007303, 0.5986, 0.0001833, 0.2443, 5.21e-05, 0.3022, 0.0001825, 0.1848, 8.91e-05], '2-27': [2.196, 0.0006951, 0.5992, 0.000174, 0.2444, 4.95e-05, 0.3992, 0.0001735, 0.1846, 8.49e-05], '2-28': [2.195, 0.0008335, 0.6011, 0.0002068, 0.2449, 5.96e-05, 0.4913, 0.0001858, 0.1839, 0.0001003], '2-29': [2.191, 0.0010071, 0.6049, 0.0002462, 0.2454, 7.19e-05, 0.5919, 0.0003086, 0.1824, 0.0001205], '2-31': [2.197, 0.0006012, 0.607, 0.0001419, 0.2123, 5.48e-05, 0.1705, 0.0002816, 0.1822, 7.06e-05], '2-32': [2.195, 0.0006069, 0.6079, 0.0001417, 0.2121, 5.54e-05, 0.3021, 0.0001517, 0.1818, 7.06e-05], '2-33': [2.195, 0.0006075, 0.6083, 0.0001411, 0.2125, 5.56e-05, 0.3978, 0.000151, 0.1817, 7.04e-05], '2-34': [2.193, 0.0008004, 0.6102, 0.0001858, 0.2131, 7.33e-05, 0.4904, 0.0001801, 0.1809, 9.27e-05], '3-All': [2.198, 0.0001431, 0.5016, 3.58e-05, 0.3868, 0.0001562, 0.3745, 0.0002075, 0.221, 2.23e-05], '3-1': [2.201, 0.0010813, 0.4976, 0.0002731, 0.6439, 0.0005253, 0.1365, 0.0003887, 0.223, 0.0001705], '3-2': [2.202, 0.0010512, 0.4967, 0.0002626, 0.6425, 0.0005019, 0.2512, 0.000264, 0.2234, 0.0001662], '3-3': [2.203, 0.0010419, 0.4962, 0.0002601, 0.6427, 0.0004978, 0.3452, 0.0002348, 0.2238, 0.000163], '3-4': [2.201, 0.0009908, 0.497, 0.0002481, 0.6417, 0.0004659, 0.4397, 0.0002491, 0.2233, 0.0001547], '3-5': [2.2, 0.0010298, 0.4979, 0.0002574, 0.6408, 0.0004719, 0.5391, 0.0002592, 0.2226, 0.00016], '3-6': [2.197, 0.0009206, 0.5004, 0.0002274, 0.635, 0.0003974, 0.6653, 0.0003866, 0.2213, 0.0001413], '3-7': [2.2, 0.0007853, 0.4986, 0.0001955, 0.4737, 0.0002907, 0.1387, 0.000281, 0.2224, 0.0001227], '3-8': [2.198, 0.0007308, 0.4975, 0.0001817, 0.473, 0.0002698, 0.2512, 0.0001816, 0.2227, 0.0001145], '3-9': [2.2, 0.0007506, 0.4978, 0.0001864, 0.4736, 0.0002769, 0.3448, 0.0001688, 0.2228, 0.0001171], '3-10': [2.199, 0.0007135, 0.4987, 0.0001795, 0.4739, 0.0002652, 0.4397, 0.0001795, 0.2223, 0.0001121], '3-11': [2.199, 0.0007568, 0.4986, 0.0001903, 0.4747, 0.0002835, 0.5385, 0.0001889, 0.2223, 0.0001194], '3-12': [2.195, 0.0007048, 0.5, 0.0001757, 0.4769, 0.0002637, 0.6648, 0.0002941, 0.2213, 0.0001101], '3-13': [2.2, 0.0007354, 0.4984, 0.0001841, 0.3661, 0.000146, 0.1415, 0.0002564, 0.2226, 0.000115], '3-14': [2.2, 0.0006937, 0.4975, 0.000175, 0.3669, 0.0001385, 0.2504, 0.000175, 0.223, 0.0001092], '3-15': [2.2, 0.0007155, 0.4986, 0.0001793, 0.3662, 0.0001422, 0.3457, 0.0001616, 0.2224, 0.0001112], '3-16': [2.198, 0.0006737, 0.4986, 0.0001692, 0.366, 0.0001345, 0.4395, 0.0001692, 0.2222, 0.0001055], '3-17': [2.196, 0.0007336, 0.5003, 0.0001829, 0.3674, 0.0001463, 0.5372, 0.0001826, 0.2213, 0.0001139], '3-18': [2.196, 0.0008073, 0.5044, 0.0001997, 0.3698, 0.0001613, 0.6583, 0.0003316, 0.2194, 0.0001249], '3-19': [2.2, 0.0007358, 0.4981, 0.0001834, 0.3033, 9.07e-05, 0.1418, 0.0002505, 0.2227, 0.0001154], '3-20': [2.2, 0.0007229, 0.4982, 0.0001817, 0.3038, 8.9e-05, 0.2503, 0.0001824, 0.2226, 0.0001142], '3-21': [2.198, 0.0007058, 0.4987, 0.0001765, 0.3031, 8.66e-05, 0.3461, 0.0001575, 0.2222, 0.0001101], '3-22': [2.198, 0.0006808, 0.5007, 0.0001686, 0.304, 8.41e-05, 0.4383, 0.0001702, 0.2213, 0.0001053], '3-23': [2.195, 0.0008391, 0.5036, 0.0002083, 0.3048, 0.0001041, 0.535, 0.0002087, 0.2198, 0.0001286], '3-24': [2.193, 0.0010793, 0.5066, 0.0002695, 0.3064, 0.0001335, 0.6491, 0.0004119, 0.2181, 0.0001674], '3-25': [2.2, 0.0006728, 0.5088, 0.0001588, 0.2555, 8.99e-05, 0.1393, 0.0002326, 0.2178, 0.0001009], '3-26': [2.198, 0.0006607, 0.5096, 0.0001547, 0.2548, 8.89e-05, 0.2527, 0.0001674, 0.2173, 9.85e-05], '3-27': [2.198, 0.0006276, 0.5103, 0.0001449, 0.2548, 8.43e-05, 0.3449, 0.0001411, 0.2169, 9.16e-05], '3-28': [2.197, 0.0006797, 0.5124, 0.0001535, 0.256, 8.94e-05, 0.4359, 0.0001685, 0.2159, 9.82e-05], '3-29': [2.194, 0.0009203, 0.512, 0.0002122, 0.2565, 0.0001214, 0.534, 0.0002245, 0.2158, 0.0001361], '4-All': [2.197, 0.0001746, 0.4041, 4.32e-05, 0.4397, 0.0001622, 0.3437, 0.0002365, 0.2746, 3.77e-05], '4-1': [2.199, 0.0011493, 0.3983, 0.0002861, 0.6454, 0.0003397, 0.1364, 0.000414, 0.2788, 0.0002491], '4-2': [2.199, 0.0011926, 0.3989, 0.0002934, 0.6434, 0.0003484, 0.2464, 0.0002687, 0.2785, 0.0002571], '4-3': [2.195, 0.0011127, 0.4013, 0.0002679, 0.6411, 0.0003204, 0.3354, 0.0002507, 0.276, 0.0002332], '4-4': [2.198, 0.0011392, 0.4042, 0.000268, 0.638, 0.0003185, 0.4277, 0.000284, 0.2744, 0.0002316], '4-5': [2.187, 0.0012448, 0.413, 0.0002695, 0.6329, 0.0003315, 0.5373, 0.0004026, 0.2669, 0.0002261], '4-7': [2.202, 0.0010993, 0.3971, 0.0002755, 0.5421, 0.0002465, 0.1379, 0.0003908, 0.2802, 0.0002458], '4-8': [2.2, 0.0010513, 0.3961, 0.0002662, 0.5412, 0.0002345, 0.2468, 0.0002372, 0.2806, 0.0002368], '4-9': [2.2, 0.0009702, 0.396, 0.0002427, 0.5421, 0.000219, 0.3352, 0.0002156, 0.2806, 0.0002158], '4-10': [2.2, 0.0009604, 0.3969, 0.0002392, 0.542, 0.0002147, 0.4286, 0.0002412, 0.28, 0.0002113], '4-11': [2.197, 0.0009635, 0.4016, 0.0002334, 0.5426, 0.000217, 0.5399, 0.0003129, 0.2762, 0.0002035], '4-12': [2.187, 0.0012606, 0.4154, 0.0002597, 0.5415, 0.0002807, 0.686, 0.0006321, 0.2654, 0.0002275], '4-13': [2.199, 0.001025, 0.3987, 0.0002591, 0.4629, 0.0001764, 0.14, 0.0003637, 0.2788, 0.000227], '4-14': [2.199, 0.0009473, 0.398, 0.0002408, 0.4624, 0.0001655, 0.2469, 0.000214, 0.2791, 0.0002108], '4-15': [2.201, 0.0009126, 0.3972, 0.0002274, 0.4628, 0.0001583, 0.3342, 0.0002053, 0.2799, 0.0002022], '4-16': [2.199, 0.0009347, 0.3995, 0.0002323, 0.4634, 0.0001637, 0.4286, 0.0002336, 0.278, 0.0002053], '4-17': [2.195, 0.0009599, 0.4038, 0.0002325, 0.4639, 0.0001669, 0.5392, 0.0003098, 0.2745, 0.0002049], '4-18': [2.189, 0.0012684, 0.4096, 0.0002971, 0.4644, 0.000221, 0.687, 0.0006375, 0.2696, 0.0002566], '4-19': [2.198, 0.00099, 0.3994, 0.000252, 0.4035, 0.0001231, 0.1419, 0.0003466, 0.278, 0.0002205], '4-20': [2.198, 0.00093, 0.3985, 0.0002329, 0.4038, 0.0001151, 0.2467, 0.0002091, 0.2786, 0.0002052], '4-21': [2.2, 0.0009356, 0.399, 0.0002349, 0.4042, 0.0001162, 0.3336, 0.0002114, 0.2784, 0.0002064], '4-22': [2.196, 0.0009714, 0.4034, 0.0002361, 0.4043, 0.0001198, 0.4282, 0.0002431, 0.2748, 0.0002065], '4-23': [2.194, 0.001056, 0.4056, 0.0002632, 0.4047, 0.0001302, 0.5373, 0.0003394, 0.2732, 0.0002292], '4-24': [2.192, 0.0014969, 0.408, 0.0003586, 0.4051, 0.000184, 0.6849, 0.0007451, 0.2712, 0.0003128], '4-25': [2.198, 0.0008247, 0.3994, 0.0002056, 0.3537, 0.0001017, 0.1431, 0.0002843, 0.2781, 0.0001809], '4-26': [2.2, 0.0007856, 0.399, 0.000195, 0.354, 9.64e-05, 0.2451, 0.0001757, 0.2785, 0.0001718], '4-27': [2.197, 0.000852, 0.4026, 0.0002083, 0.3543, 0.0001053, 0.3338, 0.0001959, 0.2755, 0.0001835], '4-28': [2.195, 0.0008791, 0.4055, 0.0002165, 0.3544, 0.0001079, 0.4271, 0.0002189, 0.2733, 0.0001886], '4-29': [2.193, 0.0010152, 0.4056, 0.0002507, 0.3548, 0.0001255, 0.5369, 0.0003261, 0.2731, 0.0002183], '4-31': [2.198, 0.0008542, 0.4195, 0.0001595, 0.305, 0.0001207, 0.143, 0.0002909, 0.2639, 0.0001505], '4-32': [2.199, 0.0008693, 0.4185, 0.0001636, 0.3057, 0.0001219, 0.2442, 0.0001951, 0.2647, 0.0001534], '4-33': [2.193, 0.0008891, 0.4215, 0.0001584, 0.3047, 0.000127, 0.3345, 0.0001989, 0.262, 0.0001518], '4-34': [2.194, 0.0009773, 0.4215, 0.0001776, 0.3055, 0.0001371, 0.4262, 0.0002455, 0.2621, 0.0001691], '5-All': [2.638, 0.0001635, 0.6995, 3.28e-05, 0.3051, 0.0001331, 0.4008, 0.0002044, 0.1899, 1.55e-05], '5-1': [2.647, 0.0015809, 0.691, 0.0003027, 0.567, 0.0006086, 0.1505, 0.0005074, 0.1928, 0.0001494], '5-2': [2.642, 0.0015673, 0.6939, 0.0003059, 0.5637, 0.00058, 0.2718, 0.0003115, 0.1916, 0.0001484], '5-3': [2.64, 0.0014922, 0.6942, 0.0002947, 0.5651, 0.0005585, 0.3657, 0.0002669, 0.1914, 0.0001432], '5-4': [2.641, 0.0013859, 0.6953, 0.000274, 0.5641, 0.0005132, 0.46, 0.0002753, 0.1913, 0.0001319], '5-5': [2.64, 0.0011833, 0.6955, 0.0002358, 0.5657, 0.0004459, 0.5784, 0.0003338, 0.1911, 0.0001122], '5-6': [2.638, 0.0010166, 0.6958, 0.0002014, 0.5697, 0.0003874, 0.783, 0.0006413, 0.1909, 9.62e-05], '5-7': [2.645, 0.0012336, 0.695, 0.0002465, 0.4271, 0.0002677, 0.1522, 0.000391, 0.1916, 0.000117], '5-8': [2.641, 0.001194, 0.6969, 0.0002387, 0.427, 0.0002582, 0.2721, 0.0002382, 0.1908, 0.0001131], '5-9': [2.64, 0.0011649, 0.6973, 0.0002335, 0.4276, 0.0002526, 0.3658, 0.000211, 0.1906, 0.0001112], '5-10': [2.638, 0.0010893, 0.6979, 0.0002159, 0.4273, 0.0002337, 0.4603, 0.0002172, 0.1903, 0.0001043], '5-11': [2.637, 0.0009821, 0.6984, 0.0001976, 0.4281, 0.0002149, 0.5764, 0.0002735, 0.1901, 9.32e-05], '5-12': [2.635, 0.0009507, 0.6993, 0.0001914, 0.4308, 0.000209, 0.7708, 0.0005759, 0.1898, 8.97e-05], '5-13': [2.642, 0.0010096, 0.6957, 0.0001996, 0.3358, 0.0001591, 0.1538, 0.0003148, 0.1911, 9.48e-05], '5-14': [2.639, 0.0009749, 0.6981, 0.0001957, 0.3359, 0.0001548, 0.272, 0.0001949, 0.1903, 9.21e-05], '5-15': [2.637, 0.0009486, 0.6981, 0.0001882, 0.3354, 0.0001491, 0.3659, 0.0001705, 0.1902, 8.91e-05], '5-16': [2.638, 0.0008882, 0.6985, 0.0001784, 0.3357, 0.0001413, 0.4595, 0.0001782, 0.1902, 8.44e-05], '5-17': [2.637, 0.0008418, 0.6988, 0.000169, 0.3368, 0.0001336, 0.5755, 0.0002357, 0.19, 7.95e-05], '5-18': [2.633, 0.0009361, 0.6997, 0.0001886, 0.3386, 0.000149, 0.7582, 0.0005343, 0.1895, 8.84e-05], '5-19': [2.641, 0.0008739, 0.697, 0.000174, 0.2677, 0.0001039, 0.1537, 0.0002689, 0.1907, 8.28e-05], '5-20': [2.638, 0.0008369, 0.6985, 0.0001677, 0.2672, 9.91e-05, 0.273, 0.0001675, 0.1902, 7.94e-05], '5-21': [2.637, 0.0008003, 0.6988, 0.0001607, 0.2673, 9.48e-05, 0.3655, 0.0001441, 0.1899, 7.6e-05], '5-22': [2.637, 0.0007624, 0.6985, 0.0001524, 0.2676, 9e-05, 0.4585, 0.0001511, 0.1901, 7.22e-05], '5-23': [2.637, 0.000774, 0.699, 0.0001556, 0.2683, 9.19e-05, 0.5727, 0.0002154, 0.1899, 7.34e-05], '5-25': [2.64, 0.0008714, 0.697, 0.0001747, 0.219, 6.79e-05, 0.1529, 0.0002736, 0.1907, 8.26e-05], '5-26': [2.637, 0.0007984, 0.6983, 0.0001601, 0.2187, 6.2e-05, 0.273, 0.0001581, 0.1901, 7.54e-05], '5-27': [2.637, 0.0007578, 0.6985, 0.0001518, 0.2186, 5.87e-05, 0.3654, 0.0001354, 0.1901, 7.19e-05], '5-28': [2.637, 0.0007676, 0.6992, 0.0001539, 0.2191, 5.97e-05, 0.4574, 0.000153, 0.1899, 7.28e-05], '5-29': [2.634, 0.0008931, 0.7022, 0.0001781, 0.2205, 6.88e-05, 0.5658, 0.0002367, 0.1889, 8.33e-05], '5-31': [2.639, 0.0008539, 0.7055, 0.0001665, 0.1832, 5.92e-05, 0.1553, 0.0002673, 0.1883, 7.97e-05], '5-32': [2.637, 0.0007334, 0.7062, 0.0001423, 0.1828, 5.1e-05, 0.2733, 0.0001454, 0.188, 6.81e-05], '5-33': [2.637, 0.0007278, 0.7065, 0.0001412, 0.1831, 5.05e-05, 0.3642, 0.0001307, 0.1879, 6.76e-05], '5-34': [2.636, 0.0008083, 0.7071, 0.0001563, 0.1836, 5.6e-05, 0.4551, 0.0001589, 0.1877, 7.49e-05], '6-All': [2.639, 0.0001638, 0.6004, 3.27e-05, 0.346, 0.0001427, 0.3884, 0.0002077, 0.2214, 1.91e-05], '6-1': [2.643, 0.0009532, 0.5964, 0.0001881, 0.5501, 0.0004881, 0.1507, 0.0003026, 0.2232, 0.0001107], '6-2': [2.645, 0.0009969, 0.5965, 0.0001976, 0.5487, 0.0005101, 0.2715, 0.0001994, 0.2234, 0.0001169], '6-3': [2.643, 0.0009949, 0.5975, 0.0001977, 0.5479, 0.0005083, 0.3655, 0.0001791, 0.2228, 0.0001162], '6-4': [2.639, 0.0009375, 0.5976, 0.0001864, 0.5505, 0.0004822, 0.46, 0.000188, 0.2224, 0.00011], '6-5': [2.641, 0.0008424, 0.5979, 0.0001688, 0.5547, 0.0004447, 0.5775, 0.0002366, 0.2226, 9.86e-05], '6-6': [2.637, 0.0007655, 0.5994, 0.0001531, 0.5601, 0.0004015, 0.7804, 0.0004944, 0.2216, 8.91e-05], '6-7': [2.644, 0.0009007, 0.5971, 0.000177, 0.394, 0.0001763, 0.1518, 0.0002821, 0.2231, 0.0001049], '6-8': [2.642, 0.0009306, 0.5979, 0.0001843, 0.3943, 0.0001838, 0.271, 0.0001856, 0.2225, 0.0001082], '6-9': [2.639, 0.0009382, 0.5981, 0.0001881, 0.3947, 0.0001872, 0.3651, 0.0001695, 0.2223, 0.0001098], '6-10': [2.639, 0.0009044, 0.5988, 0.0001806, 0.3944, 0.0001788, 0.4595, 0.0001808, 0.222, 0.0001056], '6-11': [2.638, 0.000848, 0.5988, 0.0001697, 0.395, 0.0001691, 0.5762, 0.0002377, 0.2219, 9.93e-05], '6-12': [2.635, 0.0009084, 0.6009, 0.0001809, 0.3981, 0.0001815, 0.7606, 0.0005353, 0.2209, 0.0001056], '6-13': [2.64, 0.0007919, 0.5976, 0.0001587, 0.3122, 0.0001108, 0.1517, 0.0002484, 0.2225, 9.3e-05], '6-14': [2.641, 0.0008318, 0.5981, 0.0001666, 0.3122, 0.0001154, 0.2713, 0.0001676, 0.2224, 9.76e-05], '6-15': [2.641, 0.0008132, 0.5987, 0.0001628, 0.3117, 0.0001129, 0.3657, 0.0001465, 0.2222, 9.57e-05], '6-16': [2.64, 0.0007823, 0.5987, 0.000157, 0.3116, 0.0001088, 0.4591, 0.0001564, 0.2221, 9.17e-05], '6-17': [2.638, 0.0007773, 0.5996, 0.0001548, 0.3128, 0.0001077, 0.5727, 0.0002151, 0.2216, 9.06e-05], '6-19': [2.64, 0.0007561, 0.5979, 0.0001512, 0.2535, 7.45e-05, 0.151, 0.0002355, 0.2224, 8.83e-05], '6-20': [2.639, 0.0007715, 0.5982, 0.0001531, 0.253, 7.58e-05, 0.2727, 0.0001542, 0.2222, 9.01e-05], '6-21': [2.638, 0.0007383, 0.5986, 0.0001471, 0.2531, 7.25e-05, 0.3654, 0.0001329, 0.2219, 8.6e-05], '6-22': [2.637, 0.0007368, 0.5998, 0.0001463, 0.2538, 7.24e-05, 0.4576, 0.0001466, 0.2214, 8.58e-05], '6-23': [2.635, 0.0008688, 0.6035, 0.0001712, 0.2558, 8.5e-05, 0.5669, 0.0002327, 0.2199, 9.93e-05], '6-25': [2.642, 0.0008204, 0.6076, 0.0001572, 0.2115, 6.56e-05, 0.1503, 0.0002601, 0.219, 9.29e-05], '6-26': [2.639, 0.0007724, 0.6089, 0.0001461, 0.211, 6.23e-05, 0.2729, 0.0001526, 0.2182, 8.71e-05], '6-27': [2.639, 0.0007572, 0.6091, 0.0001422, 0.2113, 6.03e-05, 0.3646, 0.0001351, 0.2181, 8.5e-05], '6-28': [2.637, 0.0008556, 0.6107, 0.0001592, 0.2122, 6.83e-05, 0.4542, 0.00017, 0.2174, 9.57e-05], '7-All': [2.639, 0.0001747, 0.5014, 3.49e-05, 0.3889, 0.000152, 0.3658, 0.0002014, 0.2654, 2.62e-05], '7-1': [2.643, 0.0013373, 0.4969, 0.0002663, 0.6662, 0.0005066, 0.1381, 0.0003812, 0.2682, 0.0002027], '7-2': [2.643, 0.0013449, 0.4965, 0.0002688, 0.6627, 0.0005091, 0.2462, 0.0002445, 0.2685, 0.0002027], '7-3': [2.64, 0.0012796, 0.4967, 0.000253, 0.6612, 0.0004656, 0.3353, 0.0002283, 0.268, 0.0001924], '7-4': [2.64, 0.00123, 0.4973, 0.0002421, 0.6588, 0.0004335, 0.4292, 0.0002462, 0.2678, 0.0001821], '7-5': [2.637, 0.0011942, 0.4993, 0.0002381, 0.6518, 0.000397, 0.5372, 0.0002867, 0.2663, 0.0001766], '7-7': [2.64, 0.0010934, 0.4978, 0.0002185, 0.5067, 0.0002856, 0.1389, 0.0003105, 0.2674, 0.0001654], '7-8': [2.642, 0.0010937, 0.4979, 0.0002175, 0.5061, 0.0002794, 0.2464, 0.0001944, 0.2676, 0.0001636], '7-9': [2.642, 0.0010325, 0.4973, 0.0002068, 0.5071, 0.000266, 0.3349, 0.0001854, 0.268, 0.0001566], '7-10': [2.642, 0.0010123, 0.4983, 0.0002023, 0.5072, 0.000262, 0.4295, 0.0002023, 0.2674, 0.0001535], '7-11': [2.639, 0.0009847, 0.4986, 0.0001969, 0.5084, 0.000257, 0.5378, 0.0002361, 0.2668, 0.0001491], '7-12': [2.636, 0.0009408, 0.4995, 0.0001872, 0.5103, 0.0002451, 0.6957, 0.0004166, 0.2661, 0.0001405], '7-13': [2.64, 0.0010178, 0.4984, 0.000202, 0.4067, 0.0001613, 0.1395, 0.0002866, 0.2671, 0.0001523], '7-14': [2.642, 0.0009761, 0.4978, 0.0001958, 0.4065, 0.0001555, 0.246, 0.0001757, 0.2676, 0.0001476], '7-15': [2.641, 0.0009768, 0.4978, 0.0001952, 0.4068, 0.0001552, 0.3348, 0.0001749, 0.2675, 0.0001477], '7-16': [2.641, 0.0009518, 0.4983, 0.0001901, 0.4065, 0.0001514, 0.4299, 0.0001902, 0.2673, 0.0001445], '7-17': [2.638, 0.0009393, 0.4992, 0.0001865, 0.4073, 0.0001498, 0.5366, 0.0002246, 0.2664, 0.0001404], '7-18': [2.633, 0.0010318, 0.5032, 0.000204, 0.4092, 0.0001653, 0.6844, 0.000438, 0.2637, 0.0001522], '7-19': [2.639, 0.0009236, 0.4988, 0.0001843, 0.3379, 0.0001095, 0.1412, 0.0002581, 0.2668, 0.0001383], '7-20': [2.641, 0.0009142, 0.4977, 0.0001841, 0.3381, 0.0001089, 0.2452, 0.0001647, 0.2676, 0.0001385], '7-21': [2.64, 0.0009062, 0.4982, 0.000181, 0.3381, 0.0001076, 0.3356, 0.0001635, 0.2672, 0.0001362], '7-22': [2.639, 0.00085, 0.4991, 0.0001693, 0.3379, 0.0001003, 0.4289, 0.0001692, 0.2666, 0.0001279], '7-23': [2.637, 0.0009119, 0.5026, 0.00018, 0.3389, 0.0001089, 0.5344, 0.0002173, 0.2644, 0.0001346], '7-24': [2.633, 0.0012192, 0.5061, 0.000239, 0.3413, 0.0001448, 0.6716, 0.0004694, 0.2622, 0.0001801], '7-25': [2.64, 0.0009334, 0.4984, 0.0001871, 0.2891, 7.27e-05, 0.1416, 0.000256, 0.2671, 0.0001412], '7-26': [2.642, 0.0009603, 0.4976, 0.0001927, 0.2892, 7.52e-05, 0.245, 0.000174, 0.2678, 0.0001456], '7-27': [2.637, 0.0009141, 0.4989, 0.0001826, 0.289, 7.1e-05, 0.3362, 0.000164, 0.2666, 0.0001369], '7-28': [2.636, 0.0009063, 0.5019, 0.0001782, 0.2895, 7.07e-05, 0.4276, 0.0001814, 0.2647, 0.0001344], '7-29': [2.637, 0.0010873, 0.5041, 0.0002181, 0.29, 8.48e-05, 0.5313, 0.0002563, 0.2637, 0.0001624], '7-31': [2.639, 0.0009163, 0.5113, 0.0001641, 0.2503, 8.14e-05, 0.1397, 0.0002503, 0.26, 0.0001279], '7-32': [2.641, 0.0009576, 0.5121, 0.0001693, 0.2497, 8.59e-05, 0.2467, 0.0001725, 0.2599, 0.0001337], '7-33': [2.635, 0.0008743, 0.5133, 0.0001544, 0.2498, 7.83e-05, 0.3348, 0.0001566, 0.2586, 0.0001204], '7-34': [2.637, 0.0009372, 0.5153, 0.0001634, 0.2503, 8.36e-05, 0.4259, 0.0001874, 0.2577, 0.0001278], '7-35': [2.634, 0.0012562, 0.5147, 0.0002169, 0.2516, 0.0001076, 0.5283, 0.0002802, 0.2577, 0.0001703], '8-All': [2.638, 0.0002197, 0.4042, 4.33e-05, 0.4359, 0.0001589, 0.3149, 0.0002019, 0.3295, 4.58e-05], '8-1': [2.637, 0.0012165, 0.4002, 0.0002398, 0.6214, 0.0003321, 0.1372, 0.000352, 0.3327, 0.0002514], '8-2': [2.642, 0.0012444, 0.4011, 0.0002411, 0.6183, 0.000332, 0.2464, 0.000225, 0.3325, 0.0002538], '8-3': [2.633, 0.0012637, 0.4034, 0.0002438, 0.6156, 0.0003338, 0.3298, 0.0002031, 0.3295, 0.0002541], '8-4': [2.628, 0.001281, 0.4064, 0.0002407, 0.6123, 0.0003291, 0.4128, 0.0002321, 0.3263, 0.0002452], '8-5': [2.622, 0.0013386, 0.4156, 0.000217, 0.6075, 0.0003221, 0.5201, 0.0003741, 0.3177, 0.0002251], '8-6': [2.643, 0.0013567, 0.3975, 0.0002731, 0.5228, 0.000189, 0.1383, 0.0003823, 0.3359, 0.0002946], '8-7': [2.644, 0.0013224, 0.3962, 0.0002658, 0.5228, 0.0001855, 0.2473, 0.000239, 0.3372, 0.0002871], '8-8': [2.641, 0.001277, 0.3962, 0.0002556, 0.5231, 0.0001784, 0.3305, 0.0002043, 0.3368, 0.0002755], '8-9': [2.643, 0.0012661, 0.3973, 0.0002482, 0.5233, 0.000177, 0.4135, 0.0002288, 0.3359, 0.0002649], '8-10': [2.634, 0.0012356, 0.4035, 0.0002319, 0.5229, 0.000171, 0.5223, 0.0003411, 0.3294, 0.0002431], '8-11': [2.645, 0.0014108, 0.3983, 0.0002842, 0.4641, 0.0001397, 0.1393, 0.0003986, 0.3354, 0.0003052], '8-12': [2.642, 0.001331, 0.3972, 0.0002671, 0.464, 0.0001324, 0.2474, 0.000238, 0.336, 0.0002876], '8-13': [2.643, 0.0013148, 0.3969, 0.0002601, 0.4641, 0.0001306, 0.3298, 0.00021, 0.3362, 0.0002809], '8-14': [2.642, 0.001342, 0.3996, 0.0002643, 0.4643, 0.0001319, 0.4127, 0.0002412, 0.3339, 0.0002799], '8-15': [2.636, 0.0013166, 0.4044, 0.0002566, 0.4645, 0.0001316, 0.5227, 0.0003663, 0.3291, 0.0002711], '8-16': [2.637, 0.001224, 0.3995, 0.000247, 0.4138, 0.0001216, 0.1405, 0.0003467, 0.3335, 0.0002633], '8-17': [2.639, 0.0011316, 0.3982, 0.000228, 0.4137, 0.0001122, 0.2469, 0.0002037, 0.3348, 0.0002447], '8-18': [2.642, 0.001176, 0.3993, 0.0002335, 0.414, 0.0001157, 0.3289, 0.0001892, 0.3342, 0.00025], '8-19': [2.638, 0.0012523, 0.4028, 0.0002461, 0.4144, 0.0001242, 0.413, 0.0002264, 0.3307, 0.0002634], '8-20': [2.636, 0.0012485, 0.4057, 0.0002496, 0.4145, 0.0001246, 0.5216, 0.0003447, 0.3281, 0.0002633], '8-21': [2.638, 0.0013887, 0.3997, 0.0002792, 0.3746, 7.98e-05, 0.1417, 0.0003949, 0.3335, 0.0002995], '8-22': [2.64, 0.0013011, 0.3992, 0.0002587, 0.3745, 7.4e-05, 0.2466, 0.0002328, 0.3341, 0.0002755], '8-23': [2.64, 0.0014218, 0.4013, 0.0002801, 0.3749, 8.15e-05, 0.3283, 0.0002278, 0.3322, 0.0003027], '8-24': [2.637, 0.0015234, 0.4054, 0.0002979, 0.3748, 8.78e-05, 0.4133, 0.0002745, 0.3283, 0.000314], '8-25': [2.634, 0.0015814, 0.4052, 0.0003158, 0.375, 9.08e-05, 0.5213, 0.0004392, 0.3282, 0.0003345], '8-26': [2.639, 0.0012619, 0.4001, 0.0002507, 0.3446, 7.14e-05, 0.1422, 0.0003489, 0.333, 0.0002687], '8-27': [2.637, 0.0011852, 0.4004, 0.0002344, 0.3447, 6.74e-05, 0.2452, 0.0002126, 0.3326, 0.0002477], '8-28': [2.641, 0.0013755, 0.4037, 0.0002679, 0.3449, 7.86e-05, 0.3283, 0.0002214, 0.3303, 0.0002849], '8-29': [2.633, 0.0014695, 0.4065, 0.0002895, 0.3449, 8.38e-05, 0.4128, 0.0002603, 0.3268, 0.0003048], '8-30': [2.634, 0.0015641, 0.4059, 0.0003085, 0.345, 8.94e-05, 0.5205, 0.0004313, 0.3277, 0.000326], '8-31': [2.637, 0.0010288, 0.4189, 0.0001527, 0.3055, 0.0001129, 0.1425, 0.0002839, 0.3171, 0.0001746], '8-32': [2.64, 0.0010259, 0.4188, 0.0001526, 0.306, 0.000112, 0.2442, 0.0001828, 0.3175, 0.0001736], '8-33': [2.632, 0.0011917, 0.4217, 0.0001678, 0.3053, 0.0001302, 0.3289, 0.0001905, 0.3142, 0.0001988], '8-34': [2.632, 0.0012726, 0.4215, 0.0001818, 0.3059, 0.0001389, 0.4126, 0.0002263, 0.3144, 0.0002108], '9-All': [3.269, 0.000252, 0.6993, 3.15e-05, 0.31, 0.0001286, 0.3916, 0.0001972, 0.2353, 2.16e-05], '9-1': [3.281, 0.0016281, 0.6938, 0.0001993, 0.5131, 0.0004977, 0.15, 0.0003265, 0.238, 0.0001392], '9-2': [3.278, 0.0018553, 0.6953, 0.0002306, 0.5119, 0.0005648, 0.2606, 0.0001859, 0.2374, 0.0001598], '9-3': [3.272, 0.0017249, 0.696, 0.0002163, 0.5129, 0.0005272, 0.3404, 0.0001727, 0.2367, 0.0001476], '9-4': [3.274, 0.0016854, 0.6965, 0.0002088, 0.514, 0.0005107, 0.4197, 0.0001681, 0.2366, 0.0001454], '9-5': [3.272, 0.0013979, 0.6968, 0.0001744, 0.5143, 0.0004271, 0.5191, 0.0002098, 0.2364, 0.0001198], '9-6': [3.269, 0.0013758, 0.6969, 0.0001701, 0.5183, 0.0004229, 0.6542, 0.000273, 0.2361, 0.0001173], '9-7': [3.263, 0.0016647, 0.6977, 0.0002065, 0.5265, 0.0005228, 0.8279, 0.0004275, 0.2355, 0.0001432], '9-8': [3.277, 0.001261, 0.6961, 0.0001571, 0.3511, 0.000186, 0.1522, 0.0002497, 0.237, 0.000108], '9-9': [3.271, 0.0014225, 0.6975, 0.000178, 0.3512, 0.0002102, 0.2611, 0.0001421, 0.2361, 0.0001225], '9-10': [3.271, 0.0013391, 0.6981, 0.0001683, 0.351, 0.0001991, 0.3404, 0.000134, 0.2359, 0.0001152], '9-11': [3.269, 0.0013033, 0.6984, 0.0001637, 0.3508, 0.0001939, 0.4198, 0.0001311, 0.2356, 0.0001118], '9-12': [3.269, 0.0011349, 0.6984, 0.000142, 0.3517, 0.0001685, 0.5176, 0.0001695, 0.2356, 9.75e-05], '9-13': [3.264, 0.0012222, 0.6991, 0.0001534, 0.3538, 0.0001824, 0.6507, 0.0002415, 0.235, 0.0001043], '9-14': [3.26, 0.0018218, 0.7004, 0.0002285, 0.3582, 0.000272, 0.8174, 0.0004465, 0.2342, 0.0001544], '9-15': [3.276, 0.0012866, 0.6972, 0.0001607, 0.2679, 9.51e-05, 0.1527, 0.0002513, 0.2365, 0.0001107], '9-16': [3.27, 0.0014445, 0.6979, 0.0001797, 0.2675, 0.0001065, 0.2614, 0.0001434, 0.2359, 0.0001239], '9-17': [3.268, 0.0013183, 0.6986, 0.0001648, 0.2673, 9.67e-05, 0.3408, 0.0001305, 0.2355, 0.0001132], '9-18': [3.267, 0.0012978, 0.6988, 0.0001621, 0.2674, 9.6e-05, 0.4198, 0.0001286, 0.2353, 0.0001115], '9-19': [3.268, 0.001166, 0.6987, 0.0001461, 0.2682, 8.62e-05, 0.5159, 0.000174, 0.2354, 0.0001], '9-20': [3.263, 0.0014357, 0.7004, 0.000179, 0.2697, 0.0001058, 0.6449, 0.0002736, 0.2345, 0.0001221], '9-22': [3.271, 0.0013016, 0.6974, 0.0001623, 0.2189, 6.35e-05, 0.1521, 0.0002543, 0.2361, 0.0001116], '9-23': [3.267, 0.0013803, 0.6986, 0.0001739, 0.2187, 6.74e-05, 0.2622, 0.0001379, 0.2354, 0.0001184], '9-24': [3.264, 0.0012568, 0.6985, 0.0001575, 0.2186, 6.1e-05, 0.3408, 0.0001257, 0.2352, 0.0001077], '9-25': [3.265, 0.0012706, 0.699, 0.0001608, 0.2191, 6.22e-05, 0.4189, 0.0001275, 0.2351, 0.0001088], '9-26': [3.261, 0.0012535, 0.7001, 0.0001562, 0.2197, 6.09e-05, 0.5132, 0.000185, 0.2345, 0.0001069], '9-29': [3.271, 0.0012826, 0.7055, 0.0001562, 0.1831, 5.56e-05, 0.1532, 0.000254, 0.2333, 0.000108], '9-30': [3.267, 0.0012979, 0.7062, 0.0001576, 0.1828, 5.68e-05, 0.262, 0.0001287, 0.2328, 0.0001097], '9-31': [3.266, 0.0011965, 0.7063, 0.0001453, 0.1829, 5.18e-05, 0.3399, 0.0001188, 0.2327, 0.0001011], '9-32': [3.263, 0.001285, 0.7066, 0.0001561, 0.1833, 5.57e-05, 0.418, 0.0001276, 0.2323, 0.0001076], '10-All': [3.267, 0.0002518, 0.6001, 3.13e-05, 0.3496, 0.0001374, 0.3791, 0.0001933, 0.2741, 2.6e-05], '10-1': [3.274, 0.001771, 0.5971, 0.0002209, 0.5876, 0.0004819, 0.1452, 0.0003348, 0.2761, 0.0001837], '10-2': [3.277, 0.0017279, 0.5967, 0.000217, 0.5888, 0.0004712, 0.2613, 0.0002173, 0.2766, 0.0001796], '10-3': [3.278, 0.001799, 0.5967, 0.0002222, 0.589, 0.0004855, 0.3555, 0.000201, 0.2767, 0.0001867], '10-4': [3.274, 0.001684, 0.5973, 0.000208, 0.5884, 0.0004553, 0.4499, 0.0002102, 0.2761, 0.0001757], '10-5': [3.271, 0.0015056, 0.5978, 0.0001882, 0.5914, 0.0004108, 0.5678, 0.0002631, 0.2757, 0.0001567], '10-6': [3.262, 0.0014716, 0.5994, 0.0001839, 0.5935, 0.0003941, 0.747, 0.0004617, 0.2741, 0.0001522], '10-7': [3.274, 0.0016384, 0.5976, 0.0002031, 0.4443, 0.0002035, 0.1451, 0.000307, 0.2759, 0.0001701], '10-8': [3.273, 0.0016382, 0.5972, 0.0002047, 0.445, 0.0002033, 0.261, 0.0002044, 0.2759, 0.0001693], '10-9': [3.272, 0.0016768, 0.5978, 0.0002084, 0.4448, 0.000207, 0.3551, 0.0001878, 0.2757, 0.0001743], '10-10': [3.268, 0.0016122, 0.5986, 0.0002021, 0.4451, 0.0002007, 0.4492, 0.0002024, 0.2749, 0.0001672], '10-11': [3.264, 0.0015085, 0.599, 0.0001871, 0.4451, 0.0001889, 0.5658, 0.0002625, 0.2744, 0.0001567], '10-12': [3.26, 0.001595, 0.5995, 0.0002003, 0.4466, 0.0002005, 0.7411, 0.0004905, 0.2738, 0.0001652], '10-13': [3.273, 0.0013512, 0.598, 0.0001672, 0.3563, 0.0001335, 0.1457, 0.0002508, 0.2756, 0.0001394], '10-14': [3.27, 0.0013603, 0.5976, 0.0001698, 0.3569, 0.0001347, 0.2607, 0.0001697, 0.2756, 0.0001417], '10-15': [3.267, 0.0013903, 0.5984, 0.0001742, 0.3566, 0.0001388, 0.3551, 0.0001571, 0.275, 0.000144], '10-16': [3.266, 0.0013313, 0.5983, 0.0001668, 0.3562, 0.0001323, 0.4491, 0.0001664, 0.2749, 0.0001383], '10-17': [3.266, 0.0012753, 0.5989, 0.0001585, 0.3565, 0.0001261, 0.5648, 0.0002208, 0.2746, 0.0001317], '10-18': [3.256, 0.0015614, 0.6022, 0.0001925, 0.3597, 0.0001558, 0.7276, 0.0004452, 0.2723, 0.0001602], '10-19': [3.272, 0.0012333, 0.5981, 0.000153, 0.2881, 9.15e-05, 0.1461, 0.0002262, 0.2755, 0.0001275], '10-20': [3.269, 0.0012389, 0.5982, 0.0001548, 0.2878, 9.19e-05, 0.2612, 0.0001552, 0.2753, 0.0001295], '10-21': [3.267, 0.0012236, 0.5985, 0.0001535, 0.2874, 9.08e-05, 0.3559, 0.0001373, 0.2749, 0.0001271], '10-22': [3.264, 0.0011771, 0.5987, 0.0001471, 0.2877, 8.71e-05, 0.4489, 0.0001469, 0.2747, 0.0001221], '10-23': [3.258, 0.0012289, 0.6012, 0.0001523, 0.2891, 9.13e-05, 0.5607, 0.0002106, 0.2729, 0.0001263], '10-25': [3.271, 0.0014775, 0.5978, 0.0001847, 0.2445, 5.27e-05, 0.1455, 0.0002718, 0.2756, 0.0001533], '10-26': [3.268, 0.0014698, 0.5982, 0.0001838, 0.2445, 5.25e-05, 0.2623, 0.0001851, 0.2752, 0.0001527], '10-27': [3.264, 0.0014068, 0.5989, 0.0001766, 0.2444, 5.03e-05, 0.3554, 0.000159, 0.2745, 0.0001457], '10-28': [3.262, 0.0014359, 0.6005, 0.0001776, 0.2446, 5.1e-05, 0.4466, 0.0001774, 0.2736, 0.0001468], '10-29': [3.255, 0.0017764, 0.6052, 0.0002193, 0.2456, 6.37e-05, 0.5533, 0.0002881, 0.2708, 0.0001797], '10-31': [3.27, 0.0012975, 0.6061, 0.0001536, 0.2127, 5.86e-05, 0.1435, 0.0002409, 0.2716, 0.0001316], '10-32': [3.265, 0.0012464, 0.6073, 0.0001461, 0.2123, 5.67e-05, 0.2632, 0.0001548, 0.2707, 0.0001257], '10-33': [3.263, 0.0012109, 0.6079, 0.0001418, 0.2123, 5.52e-05, 0.3547, 0.0001357, 0.2702, 0.0001212], '10-34': [3.258, 0.0013551, 0.6102, 0.0001564, 0.213, 6.16e-05, 0.4446, 0.0001678, 0.2687, 0.0001352], '11-All': [3.263, 0.0002742, 0.5017, 3.42e-05, 0.3891, 0.0001472, 0.3479, 0.0001815, 0.3279, 3.6e-05], '11-1': [3.27, 0.0016789, 0.4973, 0.0002108, 0.6109, 0.0004405, 0.1387, 0.0002985, 0.3316, 0.0002236], '11-2': [3.271, 0.0015488, 0.4974, 0.000194, 0.6108, 0.0004067, 0.252, 0.0001942, 0.3316, 0.0002052], '11-3': [3.269, 0.0014732, 0.4973, 0.000183, 0.609, 0.0003795, 0.3501, 0.0001852, 0.3314, 0.000193], '11-4': [3.266, 0.0013588, 0.4984, 0.0001683, 0.6058, 0.0003372, 0.4624, 0.0002215, 0.3303, 0.0001775], '11-5': [3.254, 0.0014799, 0.502, 0.0001847, 0.5981, 0.0003421, 0.6015, 0.0002946, 0.3268, 0.00019], '11-6': [3.266, 0.0013775, 0.4991, 0.0001736, 0.4466, 0.0002223, 0.1394, 0.0002445, 0.3299, 0.0001827], '11-7': [3.267, 0.0012772, 0.4986, 0.0001599, 0.4461, 0.0002052, 0.2517, 0.0001594, 0.3304, 0.0001681], '11-8': [3.268, 0.0012317, 0.4978, 0.0001539, 0.4467, 0.0001982, 0.3497, 0.0001537, 0.331, 0.0001634], '11-9': [3.266, 0.0011522, 0.4983, 0.0001446, 0.4474, 0.0001865, 0.463, 0.0001876, 0.3305, 0.0001532], '11-10': [3.258, 0.0012778, 0.5004, 0.0001588, 0.4494, 0.0002076, 0.6009, 0.0002528, 0.3283, 0.0001673], '11-11': [3.261, 0.0013646, 0.4988, 0.000171, 0.3521, 0.000119, 0.1404, 0.0002406, 0.3297, 0.0001799], '11-12': [3.269, 0.0012489, 0.4976, 0.0001558, 0.3523, 0.0001084, 0.251, 0.0001561, 0.3312, 0.0001649], '11-13': [3.266, 0.0012529, 0.4982, 0.0001562, 0.3528, 0.0001096, 0.3496, 0.0001577, 0.3305, 0.0001658], '11-14': [3.26, 0.0011877, 0.501, 0.0001471, 0.3529, 0.000103, 0.461, 0.000192, 0.3281, 0.0001545], '11-15': [3.254, 0.0014934, 0.5048, 0.0001847, 0.3545, 0.0001312, 0.5954, 0.0002907, 0.3249, 0.0001939], '11-16': [3.266, 0.0013066, 0.4987, 0.0001634, 0.2933, 8.07e-05, 0.1417, 0.0002266, 0.3302, 0.0001729], '11-17': [3.27, 0.001231, 0.4978, 0.0001542, 0.2939, 7.6e-05, 0.2501, 0.000154, 0.3313, 0.0001636], '11-18': [3.262, 0.0012279, 0.5002, 0.0001521, 0.2938, 7.58e-05, 0.3501, 0.0001541, 0.3287, 0.0001597], '11-19': [3.254, 0.0012392, 0.5038, 0.0001538, 0.2946, 7.7e-05, 0.4586, 0.0002003, 0.3256, 0.0001611], '11-20': [3.25, 0.0018564, 0.5076, 0.0002266, 0.2965, 0.0001139, 0.5859, 0.0003281, 0.3226, 0.0002366], '11-21': [3.264, 0.0013883, 0.5119, 0.0001551, 0.2501, 7.72e-05, 0.1413, 0.0002387, 0.3212, 0.0001709], '11-22': [3.265, 0.0013689, 0.5119, 0.000153, 0.2501, 7.69e-05, 0.2508, 0.0001729, 0.3213, 0.0001688], '11-23': [3.258, 0.0013247, 0.5144, 0.000144, 0.2498, 7.5e-05, 0.3486, 0.0001642, 0.319, 0.0001607], '11-24': [3.256, 0.0014614, 0.5152, 0.0001594, 0.2505, 8.18e-05, 0.457, 0.0002349, 0.3183, 0.0001776], '12-All': [3.252, 0.0003621, 0.4061, 4.41e-05, 0.4237, 0.0001501, 0.2961, 0.0001953, 0.4042, 6.27e-05], '12-1': [3.245, 0.0015673, 0.4035, 0.0001941, 0.5806, 0.000343, 0.1387, 0.0002843, 0.4057, 0.0002677], '12-2': [3.24, 0.0016793, 0.4049, 0.0002047, 0.5769, 0.000361, 0.241, 0.0001732, 0.4037, 0.0002787], '12-3': [3.234, 0.0016423, 0.4071, 0.0001972, 0.5735, 0.0003433, 0.3194, 0.0001696, 0.4006, 0.000264], '12-4': [3.222, 0.0016865, 0.4113, 0.00019, 0.568, 0.0003311, 0.4024, 0.0001952, 0.3949, 0.0002539], '12-6': [3.263, 0.0017083, 0.3983, 0.0002136, 0.4677, 0.0001709, 0.1397, 0.0003018, 0.4138, 0.0003121], '12-7': [3.264, 0.0017546, 0.3987, 0.0002177, 0.4672, 0.0001746, 0.2419, 0.0001754, 0.4134, 0.0003133], '12-8': [3.262, 0.0015989, 0.3994, 0.0001966, 0.4674, 0.0001607, 0.3203, 0.0001614, 0.4123, 0.0002806], '12-9': [3.255, 0.0016244, 0.4022, 0.000196, 0.4681, 0.0001634, 0.4025, 0.0001844, 0.4084, 0.0002732], '12-10': [3.236, 0.0016881, 0.4107, 0.0001914, 0.4686, 0.0001727, 0.5113, 0.0003129, 0.3971, 0.0002565], '12-11': [3.261, 0.0016583, 0.399, 0.00021, 0.3981, 0.0001229, 0.1404, 0.0002934, 0.4129, 0.0003066], '12-12': [3.258, 0.0016577, 0.3992, 0.0002087, 0.3983, 0.0001229, 0.2418, 0.0001647, 0.4122, 0.000302], '12-13': [3.26, 0.0015942, 0.4009, 0.0001974, 0.3989, 0.0001194, 0.3193, 0.0001582, 0.4107, 0.0002845], '12-14': [3.259, 0.0017347, 0.4044, 0.0002135, 0.3996, 0.0001301, 0.4014, 0.0001952, 0.4069, 0.000308], '12-15': [3.24, 0.0018458, 0.4083, 0.0002209, 0.3993, 0.0001408, 0.513, 0.0003415, 0.4003, 0.0003051], '12-16': [3.263, 0.0017489, 0.3997, 0.0002175, 0.3494, 8.44e-05, 0.1415, 0.0003043, 0.4123, 0.0003184], '12-17': [3.257, 0.0017493, 0.4019, 0.0002156, 0.3492, 8.6e-05, 0.2409, 0.0001755, 0.4091, 0.0003116], '12-18': [3.26, 0.0017963, 0.4038, 0.0002208, 0.35, 8.81e-05, 0.3178, 0.0001814, 0.4078, 0.0003228], '12-19': [3.252, 0.002087, 0.4068, 0.0002565, 0.3499, 0.0001023, 0.4023, 0.0002354, 0.4034, 0.0003721], '12-20': [3.239, 0.0021589, 0.4076, 0.0002621, 0.3498, 0.0001078, 0.5132, 0.0004024, 0.401, 0.0003657], '12-21': [3.258, 0.0016311, 0.4195, 0.0001518, 0.3054, 0.0001121, 0.1423, 0.0002856, 0.3911, 0.0002449], '12-22': [3.259, 0.0016877, 0.4198, 0.0001529, 0.3055, 0.0001157, 0.24, 0.0001681, 0.3909, 0.0002502], '12-23': [3.253, 0.0019251, 0.4211, 0.0001748, 0.3063, 0.0001318, 0.3177, 0.0001942, 0.3889, 0.0002858], '12-24': [3.247, 0.0021037, 0.4221, 0.0001903, 0.3053, 0.0001471, 0.4027, 0.0002391, 0.3874, 0.0003119], '13-All': [4.382, 0.0004962, 0.6998, 3.15e-05, 0.3155, 0.0001323, 0.3704, 0.0001888, 0.3152, 3.87e-05], '13-1': [4.404, 0.003389, 0.6952, 0.0002107, 0.5454, 0.0004615, 0.1513, 0.000342, 0.3188, 0.0002647], '13-2': [4.41, 0.0031454, 0.6952, 0.0001958, 0.5459, 0.000426, 0.2811, 0.0002372, 0.3193, 0.0002476], '13-3': [4.4, 0.003314, 0.6961, 0.0002076, 0.5452, 0.00045, 0.3902, 0.0002088, 0.3182, 0.0002587], '13-4': [4.384, 0.0028535, 0.6963, 0.0001797, 0.5472, 0.0003912, 0.5078, 0.0002519, 0.317, 0.0002238], '13-5': [4.37, 0.0025085, 0.6969, 0.0001591, 0.5518, 0.0003505, 0.7092, 0.0004882, 0.3156, 0.0001957], '13-6': [4.405, 0.0028053, 0.6972, 0.0001762, 0.3979, 0.0001939, 0.151, 0.0002819, 0.318, 0.0002194], '13-7': [4.402, 0.0026399, 0.6978, 0.0001655, 0.3984, 0.0001812, 0.2816, 0.0001993, 0.3176, 0.0002056], '13-8': [4.391, 0.0027967, 0.6989, 0.0001775, 0.3984, 0.0001937, 0.3895, 0.0001764, 0.3163, 0.000219], '13-9': [4.381, 0.0024999, 0.6991, 0.0001592, 0.3985, 0.0001735, 0.5069, 0.0002231, 0.3155, 0.0001955], '13-10': [4.364, 0.002433, 0.6999, 0.0001553, 0.4002, 0.0001703, 0.6988, 0.0004548, 0.3138, 0.0001899], '13-11': [4.399, 0.0028401, 0.6975, 0.0001795, 0.3179, 0.0001064, 0.1511, 0.0002851, 0.3175, 0.0002224], '13-12': [4.392, 0.0026516, 0.6986, 0.0001681, 0.3179, 9.96e-05, 0.2812, 0.0002018, 0.3165, 0.0002069], '13-13': [4.384, 0.0027992, 0.6988, 0.0001786, 0.3175, 0.0001057, 0.3901, 0.0001786, 0.3158, 0.0002184], '13-14': [4.373, 0.0025444, 0.6993, 0.0001616, 0.3177, 9.6e-05, 0.5062, 0.000225, 0.3148, 0.0001976], '13-15': [4.352, 0.0027579, 0.701, 0.0001763, 0.3195, 0.0001051, 0.6827, 0.0004724, 0.3125, 0.0002145], '13-16': [4.39, 0.0025612, 0.6981, 0.0001618, 0.2635, 7.96e-05, 0.1514, 0.0002546, 0.3166, 0.0002004], '13-17': [4.387, 0.0023561, 0.6987, 0.0001497, 0.2634, 7.38e-05, 0.2829, 0.0001799, 0.3161, 0.0001849], '13-18': [4.379, 0.0024271, 0.6994, 0.0001549, 0.2632, 7.59e-05, 0.3896, 0.0001539, 0.3152, 0.0001895], '13-19': [4.368, 0.0022861, 0.6995, 0.0001458, 0.2637, 7.14e-05, 0.5046, 0.0002022, 0.3144, 0.0001786], '13-21': [4.395, 0.0024401, 0.6979, 0.0001547, 0.219, 6e-05, 0.1509, 0.0002419, 0.317, 0.000191], '13-22': [4.378, 0.0021391, 0.6992, 0.0001361, 0.2187, 5.28e-05, 0.2832, 0.0001623, 0.3152, 0.0001671], '13-23': [4.368, 0.0022029, 0.6995, 0.0001406, 0.2189, 5.47e-05, 0.3894, 0.0001397, 0.3143, 0.0001718], '13-24': [4.362, 0.0022917, 0.7019, 0.0001456, 0.22, 5.7e-05, 0.4996, 0.000198, 0.3128, 0.0001767], '13-26': [4.394, 0.0024031, 0.7058, 0.0001482, 0.1832, 5.25e-05, 0.1523, 0.0002405, 0.3134, 0.0001856], '13-27': [4.376, 0.0020343, 0.7069, 0.0001246, 0.1828, 4.51e-05, 0.2831, 0.0001532, 0.3115, 0.0001565], '13-28': [4.368, 0.0022005, 0.7074, 0.0001353, 0.1832, 4.87e-05, 0.3876, 0.0001394, 0.3108, 0.0001687], '14-All': [4.359, 0.000507, 0.601, 3.22e-05, 0.3523, 0.0001413, 0.365, 0.0001924, 0.3653, 4.69e-05], '14-1': [4.381, 0.0034348, 0.5977, 0.0002187, 0.5865, 0.0004533, 0.1461, 0.0003256, 0.3691, 0.00032], '14-2': [4.384, 0.0033151, 0.5976, 0.0002078, 0.5874, 0.0004372, 0.2618, 0.000208, 0.3696, 0.0003083], '14-3': [4.387, 0.0033578, 0.5975, 0.0002124, 0.589, 0.0004484, 0.3551, 0.0001931, 0.3697, 0.0003123], '14-4': [4.383, 0.0032681, 0.5979, 0.0002067, 0.5897, 0.0004337, 0.4495, 0.0002081, 0.3692, 0.000304], '14-5': [4.358, 0.003004, 0.599, 0.0001915, 0.5881, 0.0003938, 0.5658, 0.0002704, 0.3664, 0.0002782], '14-6': [4.307, 0.0031537, 0.6028, 0.0002053, 0.5828, 0.0004034, 0.7381, 0.0005055, 0.3597, 0.0002821], '14-7': [4.374, 0.0029479, 0.5987, 0.0001872, 0.4388, 0.0002043, 0.1461, 0.0002798, 0.3679, 0.0002736], '14-8': [4.381, 0.0029157, 0.5981, 0.000185, 0.4386, 0.0002025, 0.2612, 0.0001858, 0.3689, 0.0002699], '14-9': [4.374, 0.0029972, 0.5987, 0.0001916, 0.4388, 0.0002079, 0.3545, 0.000171, 0.368, 0.0002794], '14-10': [4.368, 0.0030046, 0.5988, 0.0001917, 0.4389, 0.0002101, 0.4488, 0.0001929, 0.3674, 0.0002791], '14-11': [4.352, 0.0028913, 0.5995, 0.0001835, 0.4396, 0.000202, 0.5652, 0.0002588, 0.3657, 0.0002695], '14-12': [4.335, 0.0032459, 0.6008, 0.0002085, 0.4418, 0.0002302, 0.7381, 0.0005088, 0.3632, 0.0003014], '14-13': [4.365, 0.0027733, 0.5991, 0.0001763, 0.3524, 0.0001232, 0.146, 0.0002653, 0.367, 0.000258], '14-14': [4.377, 0.0027369, 0.5986, 0.0001735, 0.3523, 0.0001211, 0.2608, 0.0001735, 0.3683, 0.0002534], '14-15': [4.378, 0.0028865, 0.599, 0.0001819, 0.3526, 0.0001269, 0.3546, 0.0001635, 0.3681, 0.0002684], '14-16': [4.363, 0.0028193, 0.5992, 0.0001798, 0.3523, 0.0001248, 0.4486, 0.0001802, 0.3668, 0.0002623], '14-17': [4.346, 0.0027682, 0.6003, 0.0001774, 0.3529, 0.0001239, 0.5637, 0.0002474, 0.3646, 0.0002557], '14-18': [4.307, 0.0036504, 0.6045, 0.0002351, 0.3557, 0.0001656, 0.719, 0.0005075, 0.3588, 0.0003324], '14-19': [4.368, 0.002691, 0.5992, 0.0001705, 0.2935, 8.44e-05, 0.147, 0.0002557, 0.3671, 0.0002499], '14-20': [4.373, 0.002685, 0.5988, 0.0001712, 0.2938, 8.36e-05, 0.2605, 0.0001703, 0.3678, 0.0002494], '14-21': [4.359, 0.0027563, 0.5991, 0.0001753, 0.2936, 8.65e-05, 0.3552, 0.0001585, 0.3665, 0.0002567], '14-22': [4.35, 0.0027051, 0.5997, 0.0001729, 0.2936, 8.52e-05, 0.4483, 0.0001728, 0.3652, 0.0002496], '14-23': [4.338, 0.0028912, 0.6029, 0.0001822, 0.2945, 9.15e-05, 0.56, 0.0002538, 0.3623, 0.0002648], '14-25': [4.369, 0.0025358, 0.599, 0.0001619, 0.2489, 6.31e-05, 0.1467, 0.0002365, 0.3674, 0.0002356], '14-26': [4.369, 0.0025795, 0.5989, 0.0001635, 0.2489, 6.38e-05, 0.261, 0.000165, 0.3674, 0.000239], '14-27': [4.355, 0.002543, 0.5998, 0.0001617, 0.249, 6.33e-05, 0.3551, 0.0001458, 0.3657, 0.0002359], '14-28': [4.339, 0.0026668, 0.6023, 0.0001684, 0.2496, 6.66e-05, 0.4467, 0.0001691, 0.3627, 0.0002444], '14-29': [4.296, 0.0034187, 0.607, 0.0002198, 0.2515, 8.69e-05, 0.5494, 0.0002766, 0.3563, 0.0003057], '14-31': [4.377, 0.0025395, 0.6068, 0.0001514, 0.2125, 5.84e-05, 0.1448, 0.0002345, 0.3631, 0.0002298], '14-32': [4.358, 0.0024845, 0.6078, 0.0001478, 0.2123, 5.8e-05, 0.2624, 0.0001584, 0.361, 0.000226], '14-33': [4.347, 0.0025188, 0.6093, 0.0001491, 0.2122, 5.91e-05, 0.354, 0.0001442, 0.3591, 0.0002259], '14-34': [4.326, 0.0028777, 0.611, 0.000173, 0.2132, 6.8e-05, 0.4439, 0.0001838, 0.3564, 0.0002571], '15-All': [4.325, 0.0005865, 0.5036, 3.78e-05, 0.3833, 0.0001521, 0.3278, 0.0001926, 0.4328, 6.65e-05], '15-1': [4.325, 0.0027526, 0.5003, 0.0001773, 0.582, 0.0004019, 0.1516, 0.0002869, 0.4356, 0.0003089], '15-2': [4.319, 0.0027461, 0.501, 0.0001804, 0.5792, 0.0003953, 0.2711, 0.0001808, 0.4345, 0.000308], '15-3': [4.309, 0.0027422, 0.5015, 0.0001789, 0.5745, 0.0003784, 0.3691, 0.0001819, 0.4329, 0.0003035], '15-4': [4.277, 0.0026448, 0.5043, 0.0001756, 0.5683, 0.0003546, 0.4806, 0.0002351, 0.4271, 0.0002839], '15-6': [4.347, 0.003018, 0.4996, 0.0001939, 0.4417, 0.0001737, 0.1523, 0.0003059, 0.4387, 0.000351], '15-7': [4.351, 0.0029737, 0.4991, 0.0001907, 0.4411, 0.0001717, 0.2713, 0.00019, 0.4395, 0.0003457], '15-8': [4.358, 0.002898, 0.4985, 0.0001858, 0.4413, 0.0001659, 0.3696, 0.000186, 0.4408, 0.0003371], '15-9': [4.346, 0.0028299, 0.4993, 0.0001814, 0.4421, 0.0001643, 0.4802, 0.0002369, 0.4387, 0.000324], '15-10': [4.267, 0.0030565, 0.507, 0.0002014, 0.4432, 0.0001896, 0.6371, 0.0004714, 0.4237, 0.0003256], '15-11': [4.335, 0.0024327, 0.5008, 0.0001589, 0.3564, 0.0001256, 0.1532, 0.0002498, 0.4364, 0.000281], '15-12': [4.34, 0.0023878, 0.4995, 0.0001541, 0.3567, 0.0001225, 0.2712, 0.0001534, 0.438, 0.0002745], '15-13': [4.344, 0.0024752, 0.5003, 0.0001582, 0.3575, 0.0001262, 0.3684, 0.0001587, 0.4378, 0.0002845], '15-14': [4.316, 0.0025373, 0.5036, 0.0001616, 0.3582, 0.0001316, 0.4787, 0.0002124, 0.432, 0.0002869], '15-15': [4.27, 0.0032579, 0.5083, 0.0002127, 0.3616, 0.0001758, 0.6252, 0.0004454, 0.4231, 0.0003569], '15-16': [4.335, 0.0024453, 0.5, 0.0001593, 0.2934, 7.8e-05, 0.1541, 0.0002509, 0.4372, 0.0002828], '15-17': [4.342, 0.0024699, 0.4998, 0.0001596, 0.2939, 7.9e-05, 0.2696, 0.0001597, 0.4378, 0.0002831], '15-18': [4.321, 0.0026938, 0.5038, 0.0001722, 0.2943, 8.67e-05, 0.368, 0.0001764, 0.4323, 0.0003044], '15-19': [4.296, 0.0029869, 0.5059, 0.0001932, 0.295, 9.67e-05, 0.4763, 0.0002515, 0.428, 0.0003375], '15-21': [4.345, 0.00256, 0.5128, 0.0001451, 0.2498, 7.37e-05, 0.1538, 0.0002581, 0.4267, 0.000278], '15-22': [4.336, 0.0027681, 0.5136, 0.0001558, 0.2498, 8.04e-05, 0.269, 0.0001795, 0.425, 0.0002997], '15-23': [4.313, 0.0030311, 0.5163, 0.0001666, 0.2499, 8.83e-05, 0.3666, 0.0001961, 0.4206, 0.0003251], '15-24': [4.264, 0.0035901, 0.5174, 0.0002048, 0.251, 0.0001075, 0.4704, 0.0002909, 0.4148, 0.0003815], '16-All': [6.216, 0.0011235, 0.7, 4.69e-05, 0.3198, 0.0001966, 0.3535, 0.0002729, 0.4469, 8.58e-05], '16-1': [6.24, 0.0060185, 0.697, 0.0002483, 0.5113, 0.000582, 0.1523, 0.0003992, 0.4506, 0.0004624], '16-2': [6.264, 0.0061233, 0.6968, 0.0002466, 0.5135, 0.000586, 0.271, 0.0002518, 0.4524, 0.0004672], '16-3': [6.245, 0.0059054, 0.6969, 0.000245, 0.5147, 0.0005838, 0.3695, 0.0002451, 0.4511, 0.0004562], '16-4': [6.248, 0.0062628, 0.6977, 0.0002558, 0.5159, 0.000608, 0.4681, 0.0002581, 0.4508, 0.0004845], '16-5': [6.202, 0.0060121, 0.6984, 0.0002496, 0.5191, 0.0006037, 0.5853, 0.0003521, 0.4469, 0.0004601], '16-6': [6.13, 0.0064316, 0.7005, 0.0002817, 0.5191, 0.0006671, 0.7535, 0.0006477, 0.4404, 0.0004826], '16-7': [6.24, 0.0052354, 0.6984, 0.0002142, 0.3588, 0.0002336, 0.1519, 0.0003419, 0.4497, 0.0003982], '16-8': [6.251, 0.0053947, 0.6984, 0.0002229, 0.3584, 0.000243, 0.2707, 0.000223, 0.4506, 0.000414], '16-9': [6.242, 0.005373, 0.6984, 0.0002214, 0.3582, 0.0002419, 0.3697, 0.0002222, 0.4499, 0.0004128], '16-10': [6.22, 0.0056492, 0.699, 0.0002362, 0.3585, 0.0002562, 0.4685, 0.0002361, 0.4479, 0.0004298], '16-11': [6.202, 0.0057075, 0.6994, 0.0002393, 0.3592, 0.0002626, 0.5831, 0.0003324, 0.4463, 0.0004366], '16-12': [6.14, 0.0072737, 0.7021, 0.000318, 0.3636, 0.000345, 0.7408, 0.0006674, 0.4401, 0.0005489], '16-13': [6.232, 0.0047888, 0.6982, 0.0001988, 0.2725, 0.000138, 0.1514, 0.0003154, 0.4492, 0.0003646], '16-14': [6.229, 0.0050149, 0.6986, 0.0002075, 0.2724, 0.0001449, 0.2709, 0.0002085, 0.4488, 0.0003847], '16-15': [6.207, 0.0048602, 0.6992, 0.0002032, 0.2718, 0.0001413, 0.3704, 0.0002034, 0.4469, 0.0003723], '16-16': [6.192, 0.0051224, 0.6998, 0.0002187, 0.2721, 0.000151, 0.4673, 0.0002172, 0.4454, 0.0003934], '16-17': [6.152, 0.0056371, 0.7018, 0.0002441, 0.2748, 0.0001692, 0.5777, 0.0003308, 0.4411, 0.0004243], '16-19': [6.237, 0.005285, 0.6979, 0.0002164, 0.219, 8.48e-05, 0.1513, 0.000342, 0.4498, 0.0004032], '16-20': [6.232, 0.0053864, 0.6986, 0.0002252, 0.2189, 8.65e-05, 0.2713, 0.0002223, 0.449, 0.0004123], '16-21': [6.214, 0.0051292, 0.6998, 0.0002134, 0.2188, 8.35e-05, 0.3693, 0.0002148, 0.4469, 0.0003926], '16-22': [6.15, 0.0056756, 0.7026, 0.0002455, 0.22, 9.58e-05, 0.4645, 0.0002413, 0.4405, 0.0004281], '16-25': [6.241, 0.0052247, 0.7053, 0.0002088, 0.1832, 7.45e-05, 0.1502, 0.0003416, 0.4452, 0.0003955], '16-26': [6.22, 0.0051553, 0.7063, 0.0002076, 0.183, 7.41e-05, 0.2722, 0.0002118, 0.4432, 0.0003894], '16-27': [6.182, 0.0050026, 0.7079, 0.0002054, 0.1833, 7.42e-05, 0.3677, 0.0002098, 0.4393, 0.0003761], '17-All': [6.163, 0.0012156, 0.6036, 5.21e-05, 0.3477, 0.0002154, 0.3307, 0.0002728, 0.5141, 0.0001091], '17-1': [6.2, 0.0067522, 0.6008, 0.0002863, 0.5336, 0.0006691, 0.1332, 0.0003839, 0.5195, 0.0006025], '17-2': [6.2, 0.0063557, 0.6013, 0.0002725, 0.5337, 0.0006352, 0.2367, 0.0002462, 0.5191, 0.000565], '17-3': [6.166, 0.0058522, 0.6011, 0.0002556, 0.5328, 0.0005905, 0.3249, 0.0002322, 0.5165, 0.0005187], '17-4': [6.141, 0.0064257, 0.6017, 0.0002811, 0.5315, 0.0006547, 0.4093, 0.0002293, 0.5136, 0.0005558], '17-5': [6.08, 0.0060302, 0.604, 0.0002821, 0.5293, 0.0006346, 0.497, 0.0002871, 0.5067, 0.0005167], '17-6': [5.965, 0.0054915, 0.6075, 0.0002815, 0.5246, 0.0006208, 0.6229, 0.0005131, 0.4937, 0.0004575], '17-7': [6.19, 0.0066272, 0.6013, 0.000283, 0.3849, 0.0002793, 0.1335, 0.0003746, 0.5184, 0.0006054], '17-8': [6.202, 0.0062287, 0.6009, 0.0002614, 0.3844, 0.0002607, 0.2372, 0.0002356, 0.5198, 0.0005688], '17-9': [6.21, 0.0059189, 0.6004, 0.000251, 0.3849, 0.0002498, 0.3251, 0.0002261, 0.521, 0.0005416], '17-10': [6.207, 0.0064891, 0.6007, 0.0002742, 0.386, 0.0002734, 0.4091, 0.0002186, 0.5204, 0.0005918], '17-11': [6.18, 0.0064426, 0.6016, 0.000276, 0.3852, 0.0002774, 0.4967, 0.0002795, 0.5172, 0.0005771], '17-12': [6.087, 0.0061418, 0.6052, 0.0002838, 0.3869, 0.0002907, 0.6219, 0.0005008, 0.5061, 0.0005224], '17-13': [6.18, 0.0066336, 0.6016, 0.0002826, 0.3081, 0.0001707, 0.1341, 0.0003774, 0.5174, 0.0006089], '17-14': [6.204, 0.0061034, 0.6006, 0.0002584, 0.3081, 0.000155, 0.2367, 0.000231, 0.5203, 0.0005546], '17-15': [6.202, 0.0060329, 0.6008, 0.0002556, 0.3085, 0.0001526, 0.3246, 0.000231, 0.5199, 0.0005493], '17-16': [6.173, 0.0066905, 0.6017, 0.0002862, 0.3086, 0.0001717, 0.4089, 0.0002308, 0.5167, 0.0006142], '17-17': [6.141, 0.0066897, 0.6044, 0.0002906, 0.3089, 0.0001762, 0.4959, 0.0002953, 0.5115, 0.0005977], '17-18': [6.019, 0.0076995, 0.6099, 0.0003517, 0.3122, 0.0002209, 0.6067, 0.0005574, 0.4967, 0.0006646], '17-19': [6.202, 0.0058374, 0.6008, 0.0002471, 0.2533, 0.0001222, 0.1343, 0.0003267, 0.5198, 0.0005284], '17-20': [6.198, 0.0055976, 0.6005, 0.0002368, 0.2537, 0.0001179, 0.2354, 0.0002134, 0.5198, 0.0005126], '17-21': [6.183, 0.0055965, 0.6023, 0.0002361, 0.2535, 0.0001177, 0.3249, 0.0002166, 0.5169, 0.0005061], '17-22': [6.137, 0.0062187, 0.6042, 0.000267, 0.2543, 0.0001349, 0.4078, 0.0002181, 0.5113, 0.0005576], '17-23': [6.036, 0.0067565, 0.6099, 0.0003064, 0.2568, 0.0001584, 0.4911, 0.0003123, 0.4979, 0.0005799], '17-25': [6.215, 0.0062072, 0.6089, 0.0002418, 0.2123, 9.62e-05, 0.1345, 0.0003422, 0.5138, 0.0005503], '17-26': [6.222, 0.0062102, 0.6089, 0.0002429, 0.2123, 9.61e-05, 0.2356, 0.0002357, 0.5144, 0.0005522], '17-27': [6.168, 0.0060459, 0.6112, 0.0002351, 0.212, 9.61e-05, 0.3237, 0.0002349, 0.5079, 0.0005322], '17-28': [6.066, 0.0070771, 0.6147, 0.0002949, 0.213, 0.0001221, 0.4054, 0.0002582, 0.4964, 0.0006021]}\n",
      "\u001b[0m\n",
      "\n",
      "\n",
      "Done\n"
     ]
    }
   ],
   "source": [
    "print(\"\".join([f\"\"\"{color.BOLD}\n",
    "# From REAL_File_Name = {REAL_File_Name} (Common_Name = {Common_Name})\n",
    "Get_Bin_Center_Dictionary = {Final_Output}\n",
    "\"\"\", \"\"\"\n",
    "def Get_Bin_Center_Function(Q2_y_Bin, z_pT_Bin, Variable=\"All\"):\n",
    "    if(str(z_pT_Bin) in [\"0\", 0, \"all\"]):\n",
    "        z_pT_Bin = \"All\"\n",
    "    if(Variable in [\"All\"]):\n",
    "        return Get_Bin_Center_Dictionary[f\"{Q2_y_Bin}-{z_pT_Bin}\"]\n",
    "    else:\n",
    "        if(str(Variable) in [\"mean_Q2\",  \"Q2\"]):\n",
    "            return Get_Bin_Center_Dictionary[f\"{Q2_y_Bin}-{z_pT_Bin}\"][0]\n",
    "        if(str(Variable) in [\"Error_Q2\", \"error_Q2\"]):\n",
    "            return Get_Bin_Center_Dictionary[f\"{Q2_y_Bin}-{z_pT_Bin}\"][1]\n",
    "        if(str(Variable) in [\"mean_y\",   \"y\"]):\n",
    "            return Get_Bin_Center_Dictionary[f\"{Q2_y_Bin}-{z_pT_Bin}\"][2]\n",
    "        if(str(Variable) in [\"Error_y\",  \"error_y\"]):\n",
    "            return Get_Bin_Center_Dictionary[f\"{Q2_y_Bin}-{z_pT_Bin}\"][3]\n",
    "        if(str(Variable) in [\"mean_z\",   \"z\"]):\n",
    "            return Get_Bin_Center_Dictionary[f\"{Q2_y_Bin}-{z_pT_Bin}\"][4]\n",
    "        if(str(Variable) in [\"Error_z\",  \"error_z\"]):\n",
    "            return Get_Bin_Center_Dictionary[f\"{Q2_y_Bin}-{z_pT_Bin}\"][5]\n",
    "        if(str(Variable) in [\"mean_pT\",  \"pT\"]):\n",
    "            return Get_Bin_Center_Dictionary[f\"{Q2_y_Bin}-{z_pT_Bin}\"][6]\n",
    "        if(str(Variable) in [\"Error_pT\", \"error_pT\"]):\n",
    "            return Get_Bin_Center_Dictionary[f\"{Q2_y_Bin}-{z_pT_Bin}\"][7]\n",
    "        if(str(Variable) in [\"mean_xB\",  \"xB\"]):\n",
    "            return Get_Bin_Center_Dictionary[f\"{Q2_y_Bin}-{z_pT_Bin}\"][8]\n",
    "        if(str(Variable) in [\"Error_xB\", \"error_xB\"]):\n",
    "            return Get_Bin_Center_Dictionary[f\"{Q2_y_Bin}-{z_pT_Bin}\"][9]\n",
    "    print(f\"POTENTIAL ERROR: Get_Bin_Center_Function({Q2_y_Bin}, {z_pT_Bin}, {Variable}) did not return anything yet... (returning Variable='All')\")\n",
    "    return Get_Bin_Center_Dictionary[f\"{Q2_y_Bin}-{z_pT_Bin}\"]\n",
    "\"\"\" if(not True) else \"\", color.END]))\n",
    "print(\"\\n\\nDone\")"
   ]
  },
  {
   "cell_type": "markdown",
   "id": "signal-flashing",
   "metadata": {},
   "source": [
    ".\n",
    "\n",
    ".\n",
    "\n",
    ".\n",
    "\n",
    ".\n",
    "\n",
    "."
   ]
  },
  {
   "cell_type": "markdown",
   "id": "elementary-boulder",
   "metadata": {},
   "source": [
    "## Test"
   ]
  },
  {
   "cell_type": "code",
   "execution_count": 23,
   "id": "white-commissioner",
   "metadata": {
    "jupyter": {
     "source_hidden": true
    }
   },
   "outputs": [
    {
     "name": "stdout",
     "output_type": "stream",
     "text": [
      "[2.193, 0.6976, 0.5011, 0.5731, 0.1583]\n"
     ]
    }
   ],
   "source": [
    "Get_Bin_Center_Dictionary = {'Key': ['mean_Q2', 'mean__y', 'mean__z', 'mean_pT', 'mean_xB'], '1-All': [2.193, 0.7002, 0.3052, 0.4127, 0.1577], '1-1': [2.197, 0.6936, 0.5021, 0.1529, 0.1594], '1-2': [2.195, 0.6962, 0.4988, 0.2724, 0.1587], '1-3': [2.193, 0.6968, 0.4996, 0.3709, 0.1585], '1-4': [2.193, 0.6973, 0.4996, 0.4696, 0.1583], '1-5': [2.193, 0.6976, 0.5011, 0.5731, 0.1583], '1-6': [2.192, 0.6979, 0.5042, 0.6862, 0.1581], '1-7': [2.193, 0.6982, 0.513, 0.8469, 0.1581], '1-8': [2.196, 0.6967, 0.3371, 0.1563, 0.1587], '1-9': [2.194, 0.6982, 0.3374, 0.2724, 0.1582], '1-10': [2.193, 0.6989, 0.3368, 0.3708, 0.1579], '1-11': [2.193, 0.6992, 0.3375, 0.469, 0.1578], '1-12': [2.193, 0.6995, 0.3389, 0.5716, 0.1578], '1-13': [2.193, 0.6997, 0.3405, 0.6838, 0.1577], '1-14': [2.192, 0.7007, 0.3434, 0.8361, 0.1575], '1-15': [2.196, 0.6976, 0.2577, 0.1546, 0.1584], '1-16': [2.194, 0.699, 0.2571, 0.2733, 0.158], '1-17': [2.192, 0.6994, 0.2572, 0.3706, 0.1578], '1-18': [2.193, 0.6994, 0.258, 0.468, 0.1578], '1-19': [2.194, 0.6999, 0.2585, 0.5701, 0.1578], '1-20': [2.193, 0.7005, 0.2596, 0.6813, 0.1576], '1-22': [2.195, 0.698, 0.2088, 0.1548, 0.1583], '1-23': [2.193, 0.6991, 0.2085, 0.2734, 0.1579], '1-24': [2.193, 0.6993, 0.2088, 0.3694, 0.1579], '1-25': [2.193, 0.6998, 0.2092, 0.4667, 0.1578], '1-26': [2.191, 0.7016, 0.2104, 0.5664, 0.1572], '1-29': [2.194, 0.7094, 0.1779, 0.1572, 0.1556], '1-30': [2.192, 0.7103, 0.1778, 0.2732, 0.1553], '1-31': [2.194, 0.7101, 0.178, 0.3684, 0.1554], '1-32': [2.192, 0.7101, 0.1781, 0.4663, 0.1553], '2-All': [2.196, 0.6005, 0.3491, 0.4043, 0.1842], '2-1': [2.197, 0.5966, 0.6019, 0.1657, 0.1855], '2-2': [2.197, 0.5969, 0.5989, 0.3013, 0.1854], '2-3': [2.196, 0.5977, 0.5982, 0.4001, 0.1851], '2-4': [2.195, 0.598, 0.5987, 0.4944, 0.1849], '2-5': [2.196, 0.5981, 0.6001, 0.6018, 0.1849], '2-6': [2.194, 0.5991, 0.6016, 0.7777, 0.1845], '2-7': [2.198, 0.5972, 0.4324, 0.1693, 0.1854], '2-8': [2.197, 0.5981, 0.4327, 0.3008, 0.185], '2-9': [2.196, 0.5989, 0.4324, 0.4001, 0.1847], '2-10': [2.195, 0.5989, 0.4326, 0.494, 0.1846], '2-11': [2.195, 0.5993, 0.4333, 0.601, 0.1845], '2-12': [2.195, 0.5999, 0.4357, 0.7699, 0.1843], '2-13': [2.197, 0.5978, 0.3424, 0.1705, 0.1852], '2-14': [2.196, 0.599, 0.3423, 0.3015, 0.1847], '2-15': [2.195, 0.599, 0.3419, 0.4003, 0.1846], '2-16': [2.196, 0.5993, 0.3421, 0.4937, 0.1846], '2-17': [2.196, 0.5995, 0.3429, 0.5993, 0.1845], '2-18': [2.194, 0.6007, 0.3444, 0.7615, 0.184], '2-19': [2.197, 0.5983, 0.2836, 0.1693, 0.185], '2-20': [2.195, 0.599, 0.2832, 0.3023, 0.1846], '2-21': [2.195, 0.5991, 0.2833, 0.3999, 0.1845], '2-22': [2.196, 0.5996, 0.2836, 0.493, 0.1845], '2-23': [2.195, 0.5995, 0.284, 0.598, 0.1844], '2-25': [2.197, 0.5983, 0.2444, 0.1689, 0.185], '2-26': [2.196, 0.5988, 0.2443, 0.3021, 0.1847], '2-27': [2.195, 0.5995, 0.2444, 0.3993, 0.1845], '2-28': [2.196, 0.5997, 0.2446, 0.4922, 0.1845], '2-29': [2.193, 0.6019, 0.2451, 0.5938, 0.1835], '2-31': [2.196, 0.607, 0.2124, 0.1708, 0.1822], '2-32': [2.195, 0.6078, 0.2121, 0.3021, 0.1818], '2-33': [2.196, 0.6079, 0.2125, 0.3981, 0.1819], '2-34': [2.194, 0.608, 0.2127, 0.4922, 0.1817], '3-All': [2.197, 0.5014, 0.3891, 0.3797, 0.2209], '3-1': [2.198, 0.4981, 0.6459, 0.1364, 0.2224], '3-2': [2.199, 0.4977, 0.6442, 0.2517, 0.2227], '3-3': [2.199, 0.497, 0.6435, 0.3449, 0.2231], '3-4': [2.199, 0.4977, 0.643, 0.4392, 0.2227], '3-5': [2.198, 0.4986, 0.6406, 0.5386, 0.2222], '3-6': [2.195, 0.5007, 0.6351, 0.6649, 0.221], '3-7': [2.199, 0.4988, 0.4746, 0.1387, 0.2223], '3-8': [2.198, 0.4978, 0.4739, 0.2514, 0.2226], '3-9': [2.198, 0.4983, 0.475, 0.3447, 0.2224], '3-10': [2.198, 0.499, 0.4745, 0.4393, 0.2221], '3-11': [2.198, 0.4989, 0.4752, 0.538, 0.2221], '3-12': [2.196, 0.4994, 0.4763, 0.6656, 0.2217], '3-13': [2.198, 0.4985, 0.3664, 0.142, 0.2223], '3-14': [2.199, 0.4977, 0.3671, 0.2501, 0.2228], '3-15': [2.198, 0.4985, 0.3664, 0.3456, 0.2223], '3-16': [2.197, 0.4987, 0.3663, 0.439, 0.2221], '3-17': [2.197, 0.4992, 0.3668, 0.5377, 0.2219], '3-18': [2.196, 0.5011, 0.3685, 0.6609, 0.2209], '3-19': [2.198, 0.4984, 0.3036, 0.1421, 0.2223], '3-20': [2.2, 0.4983, 0.3039, 0.2507, 0.2226], '3-21': [2.197, 0.4988, 0.3032, 0.346, 0.222], '3-22': [2.197, 0.4993, 0.3036, 0.4388, 0.2218], '3-23': [2.196, 0.5004, 0.3043, 0.5362, 0.2213], '3-24': [2.193, 0.5066, 0.3064, 0.6492, 0.2181], '3-25': [2.198, 0.5088, 0.2555, 0.1396, 0.2176], '3-26': [2.197, 0.5095, 0.255, 0.2529, 0.2173], '3-27': [2.196, 0.5099, 0.255, 0.3453, 0.217], '3-28': [2.197, 0.5102, 0.2554, 0.4377, 0.2169], '3-29': [2.194, 0.5118, 0.2562, 0.534, 0.216], '4-All': [2.199, 0.4046, 0.434, 0.3655, 0.2744], '4-1': [2.198, 0.4001, 0.6455, 0.136, 0.2775], '4-2': [2.199, 0.4007, 0.6435, 0.2467, 0.2772], '4-3': [2.195, 0.4023, 0.6413, 0.3353, 0.2755], '4-4': [2.196, 0.4048, 0.6387, 0.4271, 0.2738], '4-5': [2.19, 0.4133, 0.6335, 0.5369, 0.2671], '4-7': [2.203, 0.3987, 0.5422, 0.1376, 0.2792], '4-8': [2.201, 0.3982, 0.5414, 0.2475, 0.2792], '4-9': [2.202, 0.3976, 0.542, 0.3351, 0.2798], '4-10': [2.202, 0.3981, 0.542, 0.4284, 0.2795], '4-11': [2.199, 0.4002, 0.5418, 0.5405, 0.2775], '4-12': [2.188, 0.4129, 0.5397, 0.6895, 0.2672], '4-13': [2.201, 0.3994, 0.4629, 0.1403, 0.2785], '4-14': [2.201, 0.3987, 0.4624, 0.2472, 0.2789], '4-15': [2.203, 0.3976, 0.463, 0.3343, 0.2799], '4-16': [2.202, 0.3985, 0.463, 0.4289, 0.2792], '4-17': [2.199, 0.4004, 0.4632, 0.5403, 0.2774], '4-18': [2.193, 0.4094, 0.4643, 0.6873, 0.2703], '4-19': [2.2, 0.3995, 0.4036, 0.1425, 0.2782], '4-20': [2.201, 0.3988, 0.4038, 0.2467, 0.2788], '4-21': [2.203, 0.3985, 0.4041, 0.334, 0.2793], '4-22': [2.199, 0.3997, 0.4039, 0.4294, 0.278], '4-23': [2.197, 0.4031, 0.4042, 0.5385, 0.2752], '4-24': [2.193, 0.4096, 0.4054, 0.6814, 0.2702], '4-25': [2.2, 0.3998, 0.3536, 0.1434, 0.278], '4-26': [2.201, 0.3989, 0.354, 0.2457, 0.2788], '4-27': [2.2, 0.3999, 0.354, 0.3346, 0.278], '4-28': [2.198, 0.4019, 0.3541, 0.4282, 0.2763], '4-29': [2.196, 0.4062, 0.3549, 0.5362, 0.273], '4-31': [2.198, 0.4194, 0.305, 0.1429, 0.264], '4-32': [2.201, 0.4186, 0.3059, 0.2444, 0.2648], '4-33': [2.197, 0.4198, 0.3048, 0.3361, 0.2637], '4-34': [2.197, 0.4206, 0.3051, 0.4273, 0.263], '4-35': [2.195, 0.4219, 0.306, 0.5337, 0.262], '5-All': [2.636, 0.6998, 0.3068, 0.4072, 0.1897], '5-1': [2.642, 0.6918, 0.5698, 0.1498, 0.1923], '5-2': [2.638, 0.6942, 0.5671, 0.272, 0.1913], '5-3': [2.637, 0.6949, 0.5669, 0.3656, 0.1911], '5-4': [2.637, 0.6952, 0.567, 0.4599, 0.191], '5-5': [2.637, 0.6957, 0.5675, 0.5773, 0.1908], '5-6': [2.636, 0.696, 0.5709, 0.7814, 0.1907], '5-7': [2.641, 0.6954, 0.428, 0.1527, 0.1912], '5-8': [2.639, 0.6975, 0.4281, 0.2719, 0.1905], '5-9': [2.638, 0.698, 0.4283, 0.3655, 0.1903], '5-10': [2.636, 0.6984, 0.4278, 0.4596, 0.1901], '5-11': [2.635, 0.6987, 0.4287, 0.5761, 0.1899], '5-12': [2.635, 0.6994, 0.4307, 0.7698, 0.1897], '5-13': [2.64, 0.6964, 0.3359, 0.1545, 0.1909], '5-14': [2.637, 0.698, 0.3363, 0.2717, 0.1902], '5-15': [2.637, 0.6987, 0.3356, 0.3657, 0.19], '5-16': [2.636, 0.6987, 0.336, 0.4593, 0.19], '5-17': [2.636, 0.6992, 0.3367, 0.5745, 0.1898], '5-18': [2.635, 0.6997, 0.3385, 0.7593, 0.1896], '5-19': [2.639, 0.6974, 0.2678, 0.1538, 0.1905], '5-20': [2.636, 0.6987, 0.2673, 0.273, 0.19], '5-21': [2.635, 0.6991, 0.2673, 0.3654, 0.1898], '5-22': [2.636, 0.6989, 0.2676, 0.4584, 0.1899], '5-23': [2.636, 0.699, 0.2683, 0.5724, 0.1899], '5-25': [2.638, 0.6975, 0.2189, 0.1536, 0.1905], '5-26': [2.636, 0.6989, 0.2186, 0.273, 0.1899], '5-27': [2.636, 0.6989, 0.2187, 0.3653, 0.1899], '5-28': [2.636, 0.6994, 0.2191, 0.4574, 0.1898], '5-29': [2.634, 0.7009, 0.2202, 0.5675, 0.1892], '5-31': [2.638, 0.7057, 0.183, 0.1554, 0.1882], '5-32': [2.635, 0.7067, 0.1828, 0.2731, 0.1877], '5-33': [2.635, 0.7067, 0.1831, 0.3641, 0.1878], '5-34': [2.635, 0.7068, 0.1834, 0.4563, 0.1877], '6-All': [2.637, 0.6005, 0.3466, 0.401, 0.2212], '6-1': [2.638, 0.5972, 0.5551, 0.1499, 0.2225], '6-2': [2.639, 0.5969, 0.5532, 0.2714, 0.2227], '6-3': [2.639, 0.5977, 0.5528, 0.3651, 0.2225], '6-4': [2.637, 0.5979, 0.5536, 0.4594, 0.2222], '6-5': [2.637, 0.5983, 0.5557, 0.5765, 0.222], '6-6': [2.636, 0.5994, 0.5607, 0.7799, 0.2215], '6-7': [2.641, 0.5974, 0.3946, 0.1521, 0.2227], '6-8': [2.639, 0.5979, 0.3948, 0.271, 0.2223], '6-9': [2.638, 0.5983, 0.3947, 0.3651, 0.2221], '6-10': [2.636, 0.5987, 0.3945, 0.4591, 0.2218], '6-11': [2.636, 0.599, 0.3952, 0.5752, 0.2217], '6-12': [2.635, 0.6, 0.3975, 0.7649, 0.2212], '6-13': [2.639, 0.5977, 0.3123, 0.1525, 0.2224], '6-14': [2.639, 0.5983, 0.3124, 0.2712, 0.2222], '6-15': [2.637, 0.5987, 0.3117, 0.3656, 0.2218], '6-16': [2.637, 0.5988, 0.3118, 0.459, 0.2218], '6-17': [2.636, 0.5991, 0.3127, 0.5731, 0.2217], '6-19': [2.639, 0.5978, 0.2536, 0.1512, 0.2224], '6-20': [2.637, 0.5985, 0.2531, 0.2731, 0.2219], '6-21': [2.636, 0.5987, 0.2531, 0.3654, 0.2218], '6-22': [2.637, 0.5994, 0.2536, 0.4577, 0.2216], '6-23': [2.636, 0.6008, 0.2547, 0.5694, 0.2209], '6-25': [2.64, 0.6077, 0.2116, 0.1507, 0.2187], '6-26': [2.637, 0.6089, 0.2111, 0.273, 0.2181], '6-27': [2.637, 0.6089, 0.2114, 0.3645, 0.2181], '6-28': [2.637, 0.6089, 0.2118, 0.4566, 0.218], '7-All': [2.637, 0.5013, 0.3937, 0.3805, 0.2653], '7-1': [2.637, 0.4981, 0.6652, 0.1376, 0.267], '7-2': [2.638, 0.4976, 0.6641, 0.2466, 0.2673], '7-3': [2.637, 0.4977, 0.6622, 0.3351, 0.2671], '7-4': [2.638, 0.4981, 0.659, 0.4288, 0.267], '7-5': [2.634, 0.5001, 0.6525, 0.5368, 0.2655], '7-7': [2.638, 0.4985, 0.5076, 0.1386, 0.2668], '7-8': [2.639, 0.4979, 0.5065, 0.2465, 0.2672], '7-9': [2.64, 0.4974, 0.5077, 0.3348, 0.2677], '7-10': [2.639, 0.498, 0.5077, 0.4291, 0.2673], '7-11': [2.637, 0.4985, 0.5082, 0.5374, 0.2668], '7-12': [2.637, 0.4989, 0.5094, 0.6969, 0.2665], '7-13': [2.638, 0.4986, 0.4069, 0.14, 0.2668], '7-14': [2.64, 0.4977, 0.4068, 0.2462, 0.2674], '7-15': [2.64, 0.4978, 0.4071, 0.3346, 0.2674], '7-16': [2.639, 0.4984, 0.4068, 0.4294, 0.267], '7-17': [2.637, 0.4986, 0.4068, 0.5369, 0.2667], '7-18': [2.636, 0.5006, 0.4084, 0.6887, 0.2654], '7-19': [2.638, 0.4986, 0.338, 0.1421, 0.2667], '7-20': [2.641, 0.4976, 0.3383, 0.2453, 0.2676], '7-21': [2.638, 0.4982, 0.3381, 0.3355, 0.267], '7-22': [2.637, 0.4986, 0.3379, 0.4291, 0.2667], '7-23': [2.637, 0.4994, 0.3383, 0.5358, 0.2662], '7-24': [2.633, 0.5052, 0.341, 0.6731, 0.2627], '7-25': [2.638, 0.4982, 0.2891, 0.1425, 0.267], '7-26': [2.641, 0.4976, 0.2892, 0.2452, 0.2676], '7-27': [2.638, 0.4987, 0.2889, 0.3363, 0.2667], '7-28': [2.636, 0.4992, 0.2892, 0.4287, 0.2663], '7-29': [2.636, 0.5019, 0.2898, 0.5328, 0.2648], '7-31': [2.638, 0.5115, 0.2503, 0.1407, 0.2598], '7-32': [2.639, 0.512, 0.2499, 0.2466, 0.2597], '7-33': [2.636, 0.5126, 0.2498, 0.3354, 0.259], '7-34': [2.637, 0.5129, 0.2501, 0.428, 0.2589], '7-35': [2.632, 0.515, 0.2513, 0.5278, 0.2573], '8-All': [2.636, 0.4041, 0.428, 0.331, 0.3294], '8-1': [2.633, 0.4009, 0.6209, 0.1371, 0.3316], '8-2': [2.635, 0.4021, 0.6185, 0.2465, 0.3308], '8-3': [2.63, 0.4039, 0.6154, 0.33, 0.3286], '8-4': [2.626, 0.4068, 0.6127, 0.4128, 0.3256], '8-5': [2.619, 0.4152, 0.6075, 0.5193, 0.3178], '8-6': [2.64, 0.3983, 0.5232, 0.1386, 0.3348], '8-7': [2.639, 0.3977, 0.5227, 0.2473, 0.3352], '8-8': [2.638, 0.3975, 0.5227, 0.3303, 0.3353], '8-9': [2.641, 0.3974, 0.5231, 0.4138, 0.3356], '8-10': [2.633, 0.401, 0.5223, 0.5232, 0.3314], '8-11': [2.64, 0.3987, 0.464, 0.1399, 0.3345], '8-12': [2.638, 0.3981, 0.4639, 0.2473, 0.3348], '8-13': [2.64, 0.3974, 0.464, 0.33, 0.3355], '8-14': [2.64, 0.3977, 0.4641, 0.4135, 0.3354], '8-15': [2.635, 0.401, 0.4641, 0.5242, 0.3318], '8-16': [2.637, 0.3992, 0.4138, 0.1415, 0.3338], '8-17': [2.637, 0.3983, 0.4138, 0.2471, 0.3345], '8-18': [2.641, 0.398, 0.414, 0.3294, 0.3352], '8-19': [2.639, 0.3992, 0.4142, 0.4135, 0.334], '8-20': [2.634, 0.4032, 0.4142, 0.5229, 0.3299], '8-21': [2.635, 0.3991, 0.3746, 0.1423, 0.3336], '8-22': [2.637, 0.3987, 0.3746, 0.2467, 0.3341], '8-23': [2.64, 0.3982, 0.3748, 0.329, 0.3349], '8-24': [2.637, 0.4011, 0.3746, 0.4142, 0.3319], '8-25': [2.633, 0.4053, 0.3748, 0.5208, 0.328], '8-26': [2.637, 0.3996, 0.3447, 0.1428, 0.3332], '8-27': [2.638, 0.3996, 0.3447, 0.2461, 0.3334], '8-28': [2.64, 0.3999, 0.3449, 0.3291, 0.3334], '8-29': [2.633, 0.403, 0.3448, 0.4139, 0.3298], '8-30': [2.633, 0.4068, 0.345, 0.5194, 0.3268], '8-31': [2.637, 0.419, 0.3055, 0.1429, 0.317], '8-32': [2.64, 0.4183, 0.3062, 0.2449, 0.3179], '8-33': [2.636, 0.4193, 0.3056, 0.3303, 0.3166], '8-34': [2.633, 0.4205, 0.3057, 0.4131, 0.3154], '8-35': [2.631, 0.4216, 0.3067, 0.5167, 0.3142], '9-All': [3.267, 0.6998, 0.3083, 0.3982, 0.235], '9-1': [3.275, 0.6944, 0.5172, 0.1503, 0.2374], '9-2': [3.273, 0.6956, 0.5142, 0.261, 0.2369], '9-3': [3.27, 0.6962, 0.5147, 0.3403, 0.2364], '9-4': [3.269, 0.6967, 0.5156, 0.4198, 0.2361], '9-5': [3.268, 0.6971, 0.5159, 0.5185, 0.236], '9-6': [3.266, 0.6973, 0.5197, 0.654, 0.2357], '9-7': [3.265, 0.6976, 0.5262, 0.8281, 0.2356], '9-8': [3.275, 0.6966, 0.3514, 0.1529, 0.2366], '9-9': [3.27, 0.6977, 0.3517, 0.261, 0.2359], '9-10': [3.269, 0.6985, 0.3514, 0.3406, 0.2356], '9-11': [3.267, 0.6987, 0.3511, 0.42, 0.2353], '9-12': [3.265, 0.6988, 0.3516, 0.5174, 0.2352], '9-13': [3.265, 0.6992, 0.3537, 0.6506, 0.2351], '9-14': [3.262, 0.7, 0.3574, 0.8194, 0.2345], '9-15': [3.272, 0.6973, 0.2678, 0.1532, 0.2362], '9-16': [3.269, 0.6985, 0.2676, 0.2615, 0.2355], '9-17': [3.267, 0.699, 0.2673, 0.3407, 0.2353], '9-18': [3.265, 0.6991, 0.2674, 0.4196, 0.2351], '9-19': [3.267, 0.6991, 0.2681, 0.5158, 0.2352], '9-20': [3.263, 0.6998, 0.2693, 0.6463, 0.2347], '9-22': [3.271, 0.6976, 0.2189, 0.1524, 0.236], '9-23': [3.267, 0.6987, 0.2186, 0.2622, 0.2353], '9-24': [3.266, 0.6989, 0.2187, 0.3406, 0.2352], '9-25': [3.266, 0.6992, 0.219, 0.4189, 0.2351], '9-26': [3.264, 0.6995, 0.2194, 0.5142, 0.2349], '9-29': [3.27, 0.7057, 0.1831, 0.1535, 0.2332], '9-30': [3.266, 0.7068, 0.1828, 0.262, 0.2325], '9-31': [3.264, 0.7067, 0.1829, 0.3401, 0.2324], '9-32': [3.264, 0.7066, 0.1832, 0.4181, 0.2325], '10-All': [3.264, 0.6004, 0.3483, 0.3897, 0.2738], '10-1': [3.265, 0.5977, 0.5899, 0.1453, 0.2751], '10-2': [3.271, 0.5971, 0.5902, 0.2611, 0.2759], '10-3': [3.269, 0.5972, 0.5904, 0.355, 0.2757], '10-4': [3.266, 0.5978, 0.59, 0.4493, 0.2752], '10-5': [3.267, 0.5981, 0.5916, 0.5668, 0.2751], '10-6': [3.261, 0.5995, 0.593, 0.7472, 0.274], '10-7': [3.268, 0.5981, 0.4449, 0.1454, 0.2752], '10-8': [3.269, 0.5974, 0.4449, 0.2612, 0.2756], '10-9': [3.267, 0.598, 0.445, 0.355, 0.2752], '10-10': [3.266, 0.5987, 0.4453, 0.449, 0.2748], '10-11': [3.263, 0.5991, 0.4452, 0.5657, 0.2743], '10-12': [3.261, 0.5996, 0.4465, 0.7419, 0.2739], '10-13': [3.27, 0.5981, 0.3564, 0.1464, 0.2753], '10-14': [3.269, 0.5978, 0.3568, 0.2608, 0.2755], '10-15': [3.267, 0.5985, 0.3566, 0.3551, 0.2749], '10-16': [3.264, 0.5985, 0.3564, 0.4491, 0.2747], '10-17': [3.263, 0.5991, 0.3567, 0.5647, 0.2743], '10-18': [3.258, 0.6007, 0.3587, 0.733, 0.2731], '10-19': [3.267, 0.598, 0.288, 0.147, 0.2751], '10-20': [3.268, 0.5983, 0.288, 0.261, 0.2751], '10-21': [3.263, 0.5988, 0.2875, 0.3558, 0.2745], '10-22': [3.262, 0.5991, 0.2877, 0.4487, 0.2742], '10-23': [3.26, 0.5995, 0.2885, 0.5627, 0.2739], '10-25': [3.269, 0.598, 0.2446, 0.1459, 0.2753], '10-26': [3.265, 0.5987, 0.2444, 0.2623, 0.2746], '10-27': [3.262, 0.599, 0.2444, 0.3553, 0.2742], '10-28': [3.262, 0.5994, 0.2445, 0.4478, 0.2741], '10-29': [3.256, 0.6024, 0.2453, 0.5562, 0.2721], '10-31': [3.269, 0.6066, 0.2127, 0.1443, 0.2713], '10-32': [3.263, 0.6077, 0.2122, 0.2633, 0.2704], '10-33': [3.262, 0.6078, 0.2123, 0.3551, 0.2702], '10-34': [3.262, 0.6082, 0.2126, 0.4469, 0.27], '11-All': [3.26, 0.5016, 0.3858, 0.3576, 0.3277], '11-1': [3.261, 0.498, 0.6104, 0.1387, 0.3301], '11-2': [3.263, 0.4979, 0.6092, 0.2521, 0.3304], '11-3': [3.261, 0.4981, 0.6082, 0.35, 0.3301], '11-4': [3.261, 0.499, 0.6055, 0.4621, 0.3294], '11-5': [3.249, 0.5023, 0.5984, 0.6013, 0.326], '11-6': [3.261, 0.499, 0.4468, 0.1398, 0.3295], '11-7': [3.262, 0.4985, 0.4461, 0.2521, 0.3299], '11-8': [3.266, 0.4978, 0.4471, 0.3495, 0.3307], '11-9': [3.264, 0.4983, 0.4475, 0.4626, 0.3302], '11-10': [3.259, 0.499, 0.4478, 0.6022, 0.3293], '11-11': [3.259, 0.4992, 0.3523, 0.1413, 0.3292], '11-12': [3.265, 0.4979, 0.3525, 0.2511, 0.3306], '11-13': [3.262, 0.4985, 0.3527, 0.3494, 0.33], '11-14': [3.26, 0.4992, 0.3524, 0.4626, 0.3292], '11-15': [3.256, 0.5017, 0.3538, 0.598, 0.3271], '11-16': [3.262, 0.4989, 0.2934, 0.1427, 0.3297], '11-17': [3.266, 0.498, 0.2939, 0.25, 0.3307], '11-18': [3.259, 0.4991, 0.2936, 0.3506, 0.3292], '11-19': [3.257, 0.5004, 0.294, 0.4609, 0.3281], '11-20': [3.247, 0.5073, 0.2964, 0.5863, 0.3225], '11-21': [3.262, 0.5121, 0.25, 0.1417, 0.3209], '11-22': [3.263, 0.5119, 0.2502, 0.2507, 0.3211], '11-23': [3.258, 0.5129, 0.2498, 0.3502, 0.3199], '11-24': [3.255, 0.5142, 0.2502, 0.4581, 0.3188], '12-All': [3.246, 0.4065, 0.4191, 0.3211, 0.403], '12-1': [3.236, 0.4044, 0.5806, 0.1384, 0.4038], '12-2': [3.234, 0.4055, 0.5765, 0.2411, 0.4024], '12-3': [3.226, 0.4073, 0.5728, 0.3198, 0.3995], '12-4': [3.216, 0.4109, 0.5679, 0.4028, 0.3944], '12-6': [3.256, 0.3993, 0.4676, 0.1401, 0.4118], '12-7': [3.255, 0.399, 0.4669, 0.2419, 0.412], '12-8': [3.255, 0.3993, 0.4669, 0.3206, 0.4116], '12-9': [3.25, 0.4002, 0.4673, 0.4031, 0.4099], '12-10': [3.231, 0.4081, 0.4673, 0.5135, 0.399], '12-11': [3.256, 0.3993, 0.3983, 0.1414, 0.4118], '12-12': [3.255, 0.3989, 0.3981, 0.2419, 0.4122], '12-13': [3.256, 0.3993, 0.3985, 0.3197, 0.4119], '12-14': [3.256, 0.401, 0.3991, 0.4025, 0.4099], '12-15': [3.235, 0.408, 0.3992, 0.5137, 0.3998], '12-16': [3.254, 0.3999, 0.3494, 0.1421, 0.4109], '12-17': [3.253, 0.4, 0.3494, 0.2417, 0.4107], '12-18': [3.26, 0.4003, 0.3498, 0.3187, 0.4112], '12-19': [3.249, 0.4045, 0.3498, 0.403, 0.4055], '12-20': [3.236, 0.4085, 0.3499, 0.5115, 0.3995], '12-21': [3.255, 0.4192, 0.3056, 0.1428, 0.3911], '12-22': [3.258, 0.4189, 0.3059, 0.2407, 0.3916], '12-23': [3.258, 0.4191, 0.3062, 0.319, 0.3915], '12-24': [3.245, 0.4213, 0.3055, 0.403, 0.3878], '12-25': [3.238, 0.4224, 0.3068, 0.5078, 0.3859], '13-All': [4.374, 0.7004, 0.3118, 0.384, 0.3144], '13-1': [4.392, 0.6955, 0.547, 0.1515, 0.3178], '13-2': [4.4, 0.6955, 0.5463, 0.2815, 0.3185], '13-3': [4.391, 0.6962, 0.5458, 0.39, 0.3175], '13-4': [4.38, 0.6964, 0.5477, 0.5075, 0.3167], '13-5': [4.373, 0.6969, 0.5518, 0.7102, 0.3159], '13-6': [4.395, 0.6976, 0.3984, 0.1514, 0.3171], '13-7': [4.392, 0.6981, 0.3984, 0.2815, 0.3167], '13-8': [4.381, 0.6989, 0.3986, 0.3896, 0.3155], '13-9': [4.376, 0.6993, 0.3986, 0.5069, 0.315], '13-10': [4.364, 0.6999, 0.4002, 0.6996, 0.3138], '13-11': [4.391, 0.6979, 0.3178, 0.1525, 0.3167], '13-12': [4.388, 0.6988, 0.318, 0.2814, 0.3161], '13-13': [4.377, 0.6993, 0.3177, 0.3899, 0.3151], '13-14': [4.374, 0.6995, 0.3178, 0.5062, 0.3148], '13-15': [4.358, 0.7008, 0.3192, 0.6854, 0.3131], '13-16': [4.39, 0.6982, 0.2636, 0.1524, 0.3165], '13-17': [4.381, 0.699, 0.2634, 0.2828, 0.3155], '13-18': [4.373, 0.6994, 0.2632, 0.3898, 0.3148], '13-19': [4.369, 0.6997, 0.2637, 0.5047, 0.3143], '13-21': [4.389, 0.6981, 0.219, 0.1514, 0.3165], '13-22': [4.376, 0.6995, 0.2187, 0.2836, 0.315], '13-23': [4.37, 0.6999, 0.2189, 0.3893, 0.3143], '13-24': [4.363, 0.7011, 0.2197, 0.5009, 0.3132], '13-26': [4.385, 0.7059, 0.1832, 0.1521, 0.3127], '13-27': [4.37, 0.7073, 0.1828, 0.2832, 0.311], '13-28': [4.37, 0.7074, 0.1831, 0.388, 0.3109], '14-All': [4.356, 0.6013, 0.3502, 0.3766, 0.3648], '14-1': [4.366, 0.5985, 0.5866, 0.1458, 0.3674], '14-2': [4.373, 0.5983, 0.5873, 0.2617, 0.3681], '14-3': [4.376, 0.5982, 0.5882, 0.355, 0.3684], '14-4': [4.376, 0.5984, 0.5884, 0.449, 0.3683], '14-5': [4.357, 0.5993, 0.5878, 0.566, 0.3661], '14-6': [4.309, 0.6029, 0.5827, 0.7393, 0.3598], '14-7': [4.368, 0.5991, 0.4388, 0.1463, 0.3672], '14-8': [4.375, 0.5986, 0.4385, 0.2614, 0.3681], '14-9': [4.375, 0.5988, 0.4391, 0.3547, 0.368], '14-10': [4.367, 0.5991, 0.4392, 0.4486, 0.3671], '14-11': [4.358, 0.5996, 0.4394, 0.5654, 0.3661], '14-12': [4.345, 0.6005, 0.4409, 0.7399, 0.3644], '14-13': [4.364, 0.5994, 0.3524, 0.147, 0.3667], '14-14': [4.373, 0.5987, 0.3524, 0.2609, 0.3678], '14-15': [4.374, 0.599, 0.3527, 0.3546, 0.3677], '14-16': [4.361, 0.5994, 0.3523, 0.4488, 0.3665], '14-17': [4.353, 0.6001, 0.3527, 0.564, 0.3654], '14-18': [4.325, 0.6026, 0.3549, 0.7246, 0.3613], '14-19': [4.364, 0.5994, 0.2936, 0.1478, 0.3667], '14-20': [4.374, 0.5989, 0.2938, 0.2605, 0.3678], '14-21': [4.36, 0.5995, 0.2935, 0.3553, 0.3663], '14-22': [4.355, 0.6001, 0.2936, 0.4485, 0.3655], '14-23': [4.349, 0.6009, 0.2941, 0.5624, 0.3645], '14-25': [4.367, 0.5992, 0.249, 0.1476, 0.367], '14-26': [4.368, 0.5992, 0.2491, 0.261, 0.3672], '14-27': [4.352, 0.6003, 0.2489, 0.3551, 0.3651], '14-28': [4.347, 0.6007, 0.2493, 0.4478, 0.3645], '14-29': [4.304, 0.6054, 0.2511, 0.5517, 0.3579], '14-31': [4.372, 0.6072, 0.2126, 0.1452, 0.3625], '14-32': [4.36, 0.6082, 0.2123, 0.2625, 0.3609], '14-33': [4.35, 0.6087, 0.2122, 0.3546, 0.3597], '14-34': [4.334, 0.6092, 0.2127, 0.4457, 0.3581], '15-All': [4.315, 0.5039, 0.3829, 0.352, 0.4316], '15-1': [4.315, 0.5007, 0.5808, 0.1515, 0.4343], '15-2': [4.308, 0.5015, 0.5781, 0.2712, 0.4329], '15-3': [4.294, 0.5022, 0.5735, 0.3691, 0.4308], '15-4': [4.267, 0.5046, 0.5679, 0.4802, 0.4259], '15-6': [4.339, 0.5001, 0.4415, 0.1526, 0.4375], '15-7': [4.339, 0.4995, 0.4408, 0.2718, 0.438], '15-8': [4.349, 0.4989, 0.4413, 0.3694, 0.4395], '15-9': [4.339, 0.4995, 0.4417, 0.481, 0.4378], '15-10': [4.268, 0.5051, 0.4418, 0.6407, 0.4255], '15-11': [4.332, 0.5003, 0.3565, 0.1535, 0.4365], '15-12': [4.339, 0.4997, 0.3566, 0.2712, 0.4377], '15-13': [4.344, 0.4996, 0.3575, 0.3688, 0.4383], '15-14': [4.326, 0.5012, 0.3573, 0.481, 0.435], '15-15': [4.273, 0.5078, 0.3607, 0.6271, 0.4238], '15-16': [4.33, 0.5001, 0.2935, 0.1553, 0.4364], '15-17': [4.342, 0.4998, 0.2939, 0.2696, 0.4379], '15-18': [4.325, 0.5011, 0.2939, 0.3695, 0.4351], '15-19': [4.306, 0.5041, 0.2945, 0.4779, 0.4304], '15-21': [4.34, 0.5132, 0.2498, 0.1545, 0.4259], '15-22': [4.34, 0.513, 0.2501, 0.2698, 0.426], '15-23': [4.322, 0.5145, 0.2496, 0.369, 0.4229], '15-24': [4.269, 0.5175, 0.2508, 0.47, 0.4151], '16-All': [6.202, 0.7003, 0.3175, 0.3649, 0.4458], '16-1': [6.237, 0.6971, 0.5115, 0.1523, 0.4503], '16-2': [6.253, 0.6968, 0.513, 0.2711, 0.4517], '16-3': [6.248, 0.6968, 0.5139, 0.3699, 0.4514], '16-4': [6.236, 0.6977, 0.5153, 0.4686, 0.45], '16-5': [6.209, 0.6982, 0.5181, 0.5853, 0.4476], '16-6': [6.141, 0.7004, 0.5182, 0.7545, 0.4412], '16-7': [6.228, 0.6983, 0.3585, 0.153, 0.4489], '16-8': [6.245, 0.6981, 0.3586, 0.2707, 0.4504], '16-9': [6.235, 0.6981, 0.3586, 0.3696, 0.4495], '16-10': [6.223, 0.699, 0.3584, 0.4686, 0.4481], '16-11': [6.21, 0.6996, 0.359, 0.5837, 0.4468], '16-12': [6.145, 0.7017, 0.3635, 0.7426, 0.4407], '16-13': [6.229, 0.6982, 0.2722, 0.153, 0.4491], '16-14': [6.235, 0.6985, 0.2724, 0.2709, 0.4494], '16-15': [6.21, 0.6992, 0.2716, 0.3702, 0.447], '16-16': [6.196, 0.6998, 0.2721, 0.4679, 0.4457], '16-17': [6.147, 0.7018, 0.2747, 0.5782, 0.4408], '16-19': [6.23, 0.6978, 0.2191, 0.1516, 0.4494], '16-20': [6.218, 0.6988, 0.2189, 0.2719, 0.4479], '16-21': [6.202, 0.6997, 0.2189, 0.3693, 0.4461], '16-22': [6.145, 0.7017, 0.2199, 0.465, 0.4407], '16-25': [6.224, 0.7054, 0.1833, 0.1506, 0.4441], '16-26': [6.201, 0.7068, 0.1829, 0.2723, 0.4415], '16-27': [6.169, 0.7075, 0.1832, 0.3685, 0.4388], '17-All': [6.153, 0.6039, 0.3452, 0.3411, 0.513], '17-1': [6.18, 0.6015, 0.5318, 0.1336, 0.5173], '17-2': [6.179, 0.6016, 0.5313, 0.2369, 0.5171], '17-3': [6.159, 0.6022, 0.5301, 0.3251, 0.5148], '17-4': [6.133, 0.6024, 0.5294, 0.409, 0.5124], '17-5': [6.084, 0.604, 0.5279, 0.4968, 0.5069], '17-6': [5.969, 0.6081, 0.5233, 0.6238, 0.4938], '17-7': [6.193, 0.6014, 0.3851, 0.1339, 0.5186], '17-8': [6.197, 0.6013, 0.3846, 0.2372, 0.519], '17-9': [6.212, 0.601, 0.385, 0.325, 0.5206], '17-10': [6.21, 0.601, 0.3857, 0.4089, 0.5203], '17-11': [6.172, 0.6019, 0.3852, 0.4975, 0.5163], '17-12': [6.086, 0.6047, 0.3861, 0.6239, 0.5065], '17-13': [6.186, 0.6016, 0.3081, 0.1347, 0.5179], '17-14': [6.203, 0.6012, 0.3081, 0.2366, 0.5196], '17-15': [6.209, 0.601, 0.3085, 0.3242, 0.5203], '17-16': [6.176, 0.6023, 0.3083, 0.4091, 0.5164], '17-17': [6.156, 0.603, 0.3084, 0.4968, 0.514], '17-18': [6.019, 0.6081, 0.3118, 0.6102, 0.498], '17-19': [6.195, 0.6015, 0.2532, 0.1353, 0.5187], '17-20': [6.203, 0.6011, 0.2538, 0.2352, 0.5197], '17-21': [6.183, 0.6023, 0.2537, 0.3251, 0.5169], '17-22': [6.147, 0.603, 0.2538, 0.4088, 0.5132], '17-23': [6.038, 0.6072, 0.2561, 0.4924, 0.5004], '17-25': [6.2, 0.6093, 0.2122, 0.1349, 0.5122], '17-26': [6.207, 0.6095, 0.2123, 0.2355, 0.5126], '17-27': [6.162, 0.6105, 0.2121, 0.325, 0.508], '17-28': [6.055, 0.6126, 0.2128, 0.4065, 0.4974]}\n",
    "\n",
    "def Get_Bin_Center_Function(Q2_y_Bin, z_pT_Bin, Variable=\"All\"):\n",
    "    if(str(z_pT_Bin) in [\"0\", 0, \"all\"]):\n",
    "        z_pT_Bin = \"All\"\n",
    "    if(Variable in [\"All\"]):\n",
    "        return Get_Bin_Center_Dictionary[f\"{Q2_y_Bin}-{z_pT_Bin}\"]\n",
    "    else:\n",
    "        if(str(Variable) in [\"mean_Q2\", \"Q2\"]):\n",
    "            return Get_Bin_Center_Dictionary[f\"{Q2_y_Bin}-{z_pT_Bin}\"][0]\n",
    "        if(str(Variable) in [\"mean_y\",  \"y\"]):\n",
    "            return Get_Bin_Center_Dictionary[f\"{Q2_y_Bin}-{z_pT_Bin}\"][1]\n",
    "        if(str(Variable) in [\"mean_z\",  \"z\"]):\n",
    "            return Get_Bin_Center_Dictionary[f\"{Q2_y_Bin}-{z_pT_Bin}\"][2]\n",
    "        if(str(Variable) in [\"mean_pT\", \"pT\"]):\n",
    "            return Get_Bin_Center_Dictionary[f\"{Q2_y_Bin}-{z_pT_Bin}\"][3]\n",
    "        if(str(Variable) in [\"mean_xB\", \"xB\"]):\n",
    "            return Get_Bin_Center_Dictionary[f\"{Q2_y_Bin}-{z_pT_Bin}\"][4]\n",
    "    print(f\"POTENTIAL ERROR: Get_Bin_Center_Function({Q2_y_Bin}, {z_pT_Bin}, {Variable}) did not return anything yet... (returning Variable='All')\")\n",
    "    return Get_Bin_Center_Dictionary[f\"{Q2_y_Bin}-{z_pT_Bin}\"]\n",
    "\n",
    "\n",
    "print(Get_Bin_Center_Function(1, 5))"
   ]
  },
  {
   "cell_type": "code",
   "execution_count": 28,
   "id": "athletic-thanks",
   "metadata": {},
   "outputs": [
    {
     "name": "stdout",
     "output_type": "stream",
     "text": [
      "event/I:runN/I:ex:ey:ez:pipx:pipy:pipz:esec/I:pipsec/I:V_PCal:W_PCal:U_PCal:Hx:Hy:ele_x_DC:ele_y_DC:ele_z_DC:Hx_pip:Hy_pip:pip_x_DC:pip_y_DC:pip_z_DC:detector_ele_DC/I:layer_ele_DC/I:detector_pip_DC/I:layer_pip_DC/I:beamCharge:ex_gen:ey_gen:ez_gen:eE_gen:PID_el:pipx_gen:pipy_gen:pipz_gen:pipE_gen:PID_pip\n"
     ]
    }
   ],
   "source": [
    "text = \"\"\"event/I\n",
    "runN/I\n",
    "ex\n",
    "ey\n",
    "ez\n",
    "pipx\n",
    "pipy\n",
    "pipz\n",
    "\n",
    "esec/I\n",
    "pipsec/I\n",
    "V_PCal\n",
    "W_PCal\n",
    "U_PCal\n",
    "\n",
    "Hx\n",
    "Hy\n",
    "ele_x_DC\n",
    "ele_y_DC\n",
    "ele_z_DC\n",
    "\n",
    "Hx_pip\n",
    "Hy_pip\n",
    "pip_x_DC\n",
    "pip_y_DC\n",
    "pip_z_DC\n",
    "\n",
    "detector_ele_DC/I\n",
    "layer_ele_DC/I\n",
    "detector_pip_DC/I\n",
    "layer_pip_DC/I\n",
    "beamCharge\n",
    "\n",
    "ex_gen\n",
    "ey_gen\n",
    "ez_gen\n",
    "eE_gen\n",
    "PID_el\n",
    "\n",
    "pipx_gen\n",
    "pipy_gen\n",
    "pipz_gen\n",
    "pipE_gen\n",
    "PID_pip\"\"\".replace(\"\\n\", \":\")\n",
    "\n",
    "# while(\" \" in text):\n",
    "text = text.replace(\"::\", \":\")\n",
    "\n",
    "print(text)"
   ]
  },
  {
   "cell_type": "code",
   "execution_count": null,
   "id": "secondary-faith",
   "metadata": {},
   "outputs": [],
   "source": []
  },
  {
   "cell_type": "code",
   "execution_count": null,
   "id": "subject-process",
   "metadata": {},
   "outputs": [],
   "source": []
  },
  {
   "cell_type": "code",
   "execution_count": 5,
   "id": "useful-ridge",
   "metadata": {},
   "outputs": [
    {
     "name": "stdout",
     "output_type": "stream",
     "text": [
      "['inb-clasdis_7580_010.hipo', 'inb-clasdis_7580_011.hipo', 'inb-clasdis_7580_012.hipo', 'inb-clasdis_7580_013.hipo', 'inb-clasdis_7580_014.hipo', 'inb-clasdis_7580_015.hipo', 'inb-clasdis_7580_016.hipo', 'inb-clasdis_7580_017.hipo', 'inb-clasdis_7580_018.hipo', 'inb-clasdis_7580_019.hipo', 'inb-clasdis_7580_020.hipo', 'inb-clasdis_7580_021.hipo', 'inb-clasdis_7580_022.hipo', 'inb-clasdis_7580_023.hipo', 'inb-clasdis_7580_024.hipo', 'inb-clasdis_7580_025.hipo', 'inb-clasdis_7580_026.hipo', 'inb-clasdis_7580_027.hipo', 'inb-clasdis_7580_028.hipo', 'inb-clasdis_7580_029.hipo', 'inb-clasdis_7580_030.hipo', 'inb-clasdis_7580_031.hipo', 'inb-clasdis_7580_032.hipo', 'inb-clasdis_7580_033.hipo', 'inb-clasdis_7580_034.hipo', 'inb-clasdis_7580_035.hipo', 'inb-clasdis_7580_036.hipo', 'inb-clasdis_7580_037.hipo', 'inb-clasdis_7580_038.hipo', 'inb-clasdis_7580_039.hipo', 'inb-clasdis_7580_040.hipo', 'inb-clasdis_7580_041.hipo', 'inb-clasdis_7580_042.hipo', 'inb-clasdis_7580_043.hipo', 'inb-clasdis_7580_044.hipo', 'inb-clasdis_7580_045.hipo', 'inb-clasdis_7580_046.hipo', 'inb-clasdis_7580_047.hipo', 'inb-clasdis_7580_048.hipo', 'inb-clasdis_7580_049.hipo']\n"
     ]
    }
   ],
   "source": [
    "print(\"\"\"['inb-clasdis_7580_010.hipo\n",
    "inb-clasdis_7580_011.hipo\n",
    "inb-clasdis_7580_012.hipo\n",
    "inb-clasdis_7580_013.hipo\n",
    "inb-clasdis_7580_014.hipo\n",
    "inb-clasdis_7580_015.hipo\n",
    "inb-clasdis_7580_016.hipo\n",
    "inb-clasdis_7580_017.hipo\n",
    "inb-clasdis_7580_018.hipo\n",
    "inb-clasdis_7580_019.hipo\n",
    "inb-clasdis_7580_020.hipo\n",
    "inb-clasdis_7580_021.hipo\n",
    "inb-clasdis_7580_022.hipo\n",
    "inb-clasdis_7580_023.hipo\n",
    "inb-clasdis_7580_024.hipo\n",
    "inb-clasdis_7580_025.hipo\n",
    "inb-clasdis_7580_026.hipo\n",
    "inb-clasdis_7580_027.hipo\n",
    "inb-clasdis_7580_028.hipo\n",
    "inb-clasdis_7580_029.hipo\n",
    "inb-clasdis_7580_030.hipo\n",
    "inb-clasdis_7580_031.hipo\n",
    "inb-clasdis_7580_032.hipo\n",
    "inb-clasdis_7580_033.hipo\n",
    "inb-clasdis_7580_034.hipo\n",
    "inb-clasdis_7580_035.hipo\n",
    "inb-clasdis_7580_036.hipo\n",
    "inb-clasdis_7580_037.hipo\n",
    "inb-clasdis_7580_038.hipo\n",
    "inb-clasdis_7580_039.hipo\n",
    "inb-clasdis_7580_040.hipo\n",
    "inb-clasdis_7580_041.hipo\n",
    "inb-clasdis_7580_042.hipo\n",
    "inb-clasdis_7580_043.hipo\n",
    "inb-clasdis_7580_044.hipo\n",
    "inb-clasdis_7580_045.hipo\n",
    "inb-clasdis_7580_046.hipo\n",
    "inb-clasdis_7580_047.hipo\n",
    "inb-clasdis_7580_048.hipo\n",
    "inb-clasdis_7580_049.hipo']\"\"\".replace(\"\\n\", \"', '\"))"
   ]
  },
  {
   "cell_type": "code",
   "execution_count": 4,
   "id": "healthy-creation",
   "metadata": {},
   "outputs": [
    {
     "name": "stdout",
     "output_type": "stream",
     "text": [
      "cp 00050.hipo /w/hallb-scshelf2102/clas12/richcap/SIDIS/New_MC_hipo/inb-clasdis_7716_50.hipo; cp 00051.hipo /w/hallb-scshelf2102/clas12/richcap/SIDIS/New_MC_hipo/inb-clasdis_7716_51.hipo; cp 00052.hipo /w/hallb-scshelf2102/clas12/richcap/SIDIS/New_MC_hipo/inb-clasdis_7716_52.hipo; cp 00053.hipo /w/hallb-scshelf2102/clas12/richcap/SIDIS/New_MC_hipo/inb-clasdis_7716_53.hipo; cp 00054.hipo /w/hallb-scshelf2102/clas12/richcap/SIDIS/New_MC_hipo/inb-clasdis_7716_54.hipo; cp 00055.hipo /w/hallb-scshelf2102/clas12/richcap/SIDIS/New_MC_hipo/inb-clasdis_7716_55.hipo; cp 00056.hipo /w/hallb-scshelf2102/clas12/richcap/SIDIS/New_MC_hipo/inb-clasdis_7716_56.hipo; cp 00057.hipo /w/hallb-scshelf2102/clas12/richcap/SIDIS/New_MC_hipo/inb-clasdis_7716_57.hipo; cp 00058.hipo /w/hallb-scshelf2102/clas12/richcap/SIDIS/New_MC_hipo/inb-clasdis_7716_58.hipo; cp 00059.hipo /w/hallb-scshelf2102/clas12/richcap/SIDIS/New_MC_hipo/inb-clasdis_7716_59.hipo; cp 00060.hipo /w/hallb-scshelf2102/clas12/richcap/SIDIS/New_MC_hipo/inb-clasdis_7716_60.hipo; cp 00061.hipo /w/hallb-scshelf2102/clas12/richcap/SIDIS/New_MC_hipo/inb-clasdis_7716_61.hipo; cp 00062.hipo /w/hallb-scshelf2102/clas12/richcap/SIDIS/New_MC_hipo/inb-clasdis_7716_62.hipo; cp 00063.hipo /w/hallb-scshelf2102/clas12/richcap/SIDIS/New_MC_hipo/inb-clasdis_7716_63.hipo; cp 00064.hipo /w/hallb-scshelf2102/clas12/richcap/SIDIS/New_MC_hipo/inb-clasdis_7716_64.hipo; cp 00065.hipo /w/hallb-scshelf2102/clas12/richcap/SIDIS/New_MC_hipo/inb-clasdis_7716_65.hipo; cp 00066.hipo /w/hallb-scshelf2102/clas12/richcap/SIDIS/New_MC_hipo/inb-clasdis_7716_66.hipo; cp 00067.hipo /w/hallb-scshelf2102/clas12/richcap/SIDIS/New_MC_hipo/inb-clasdis_7716_67.hipo; cp 00068.hipo /w/hallb-scshelf2102/clas12/richcap/SIDIS/New_MC_hipo/inb-clasdis_7716_68.hipo; cp 00069.hipo /w/hallb-scshelf2102/clas12/richcap/SIDIS/New_MC_hipo/inb-clasdis_7716_69.hipo; cp 00070.hipo /w/hallb-scshelf2102/clas12/richcap/SIDIS/New_MC_hipo/inb-clasdis_7716_70.hipo; cp 00071.hipo /w/hallb-scshelf2102/clas12/richcap/SIDIS/New_MC_hipo/inb-clasdis_7716_71.hipo; cp 00072.hipo /w/hallb-scshelf2102/clas12/richcap/SIDIS/New_MC_hipo/inb-clasdis_7716_72.hipo; cp 00073.hipo /w/hallb-scshelf2102/clas12/richcap/SIDIS/New_MC_hipo/inb-clasdis_7716_73.hipo; cp 00074.hipo /w/hallb-scshelf2102/clas12/richcap/SIDIS/New_MC_hipo/inb-clasdis_7716_74.hipo; cp 00075.hipo /w/hallb-scshelf2102/clas12/richcap/SIDIS/New_MC_hipo/inb-clasdis_7716_75.hipo; cp 00076.hipo /w/hallb-scshelf2102/clas12/richcap/SIDIS/New_MC_hipo/inb-clasdis_7716_76.hipo; cp 00077.hipo /w/hallb-scshelf2102/clas12/richcap/SIDIS/New_MC_hipo/inb-clasdis_7716_77.hipo; cp 00078.hipo /w/hallb-scshelf2102/clas12/richcap/SIDIS/New_MC_hipo/inb-clasdis_7716_78.hipo; cp 00079.hipo /w/hallb-scshelf2102/clas12/richcap/SIDIS/New_MC_hipo/inb-clasdis_7716_79.hipo; cp 00080.hipo /w/hallb-scshelf2102/clas12/richcap/SIDIS/New_MC_hipo/inb-clasdis_7716_80.hipo; cp 00081.hipo /w/hallb-scshelf2102/clas12/richcap/SIDIS/New_MC_hipo/inb-clasdis_7716_81.hipo; cp 00082.hipo /w/hallb-scshelf2102/clas12/richcap/SIDIS/New_MC_hipo/inb-clasdis_7716_82.hipo; cp 00083.hipo /w/hallb-scshelf2102/clas12/richcap/SIDIS/New_MC_hipo/inb-clasdis_7716_83.hipo; cp 00084.hipo /w/hallb-scshelf2102/clas12/richcap/SIDIS/New_MC_hipo/inb-clasdis_7716_84.hipo; cp 00085.hipo /w/hallb-scshelf2102/clas12/richcap/SIDIS/New_MC_hipo/inb-clasdis_7716_85.hipo; cp 00086.hipo /w/hallb-scshelf2102/clas12/richcap/SIDIS/New_MC_hipo/inb-clasdis_7716_86.hipo; cp 00087.hipo /w/hallb-scshelf2102/clas12/richcap/SIDIS/New_MC_hipo/inb-clasdis_7716_87.hipo; cp 00088.hipo /w/hallb-scshelf2102/clas12/richcap/SIDIS/New_MC_hipo/inb-clasdis_7716_88.hipo; cp 00089.hipo /w/hallb-scshelf2102/clas12/richcap/SIDIS/New_MC_hipo/inb-clasdis_7716_89.hipo; cp 00090.hipo /w/hallb-scshelf2102/clas12/richcap/SIDIS/New_MC_hipo/inb-clasdis_7716_90.hipo; cp 00091.hipo /w/hallb-scshelf2102/clas12/richcap/SIDIS/New_MC_hipo/inb-clasdis_7716_91.hipo; cp 00092.hipo /w/hallb-scshelf2102/clas12/richcap/SIDIS/New_MC_hipo/inb-clasdis_7716_92.hipo; cp 00093.hipo /w/hallb-scshelf2102/clas12/richcap/SIDIS/New_MC_hipo/inb-clasdis_7716_93.hipo; cp 00094.hipo /w/hallb-scshelf2102/clas12/richcap/SIDIS/New_MC_hipo/inb-clasdis_7716_94.hipo; cp 00095.hipo /w/hallb-scshelf2102/clas12/richcap/SIDIS/New_MC_hipo/inb-clasdis_7716_95.hipo; cp 00096.hipo /w/hallb-scshelf2102/clas12/richcap/SIDIS/New_MC_hipo/inb-clasdis_7716_96.hipo; cp 00097.hipo /w/hallb-scshelf2102/clas12/richcap/SIDIS/New_MC_hipo/inb-clasdis_7716_97.hipo; cp 00098.hipo /w/hallb-scshelf2102/clas12/richcap/SIDIS/New_MC_hipo/inb-clasdis_7716_98.hipo; cp 00099.hipo /w/hallb-scshelf2102/clas12/richcap/SIDIS/New_MC_hipo/inb-clasdis_7716_99.hipo; cp 00100.hipo /w/hallb-scshelf2102/clas12/richcap/SIDIS/New_MC_hipo/inb-clasdis_7716_100.hipo; lt\n"
     ]
    }
   ],
   "source": [
    "file_list = ['00001.hipo', '00002.hipo', '00003.hipo', '00004.hipo', '00005.hipo', '00006.hipo', '00007.hipo', '00008.hipo', '00009.hipo', '00010.hipo', '00011.hipo', '00012.hipo', '00013.hipo', '00014.hipo', '00015.hipo', '00016.hipo', '00017.hipo', '00018.hipo', '00019.hipo', '00020.hipo', '00021.hipo', '00022.hipo', '00023.hipo', '00024.hipo', '00025.hipo', '00026.hipo', '00027.hipo', '00028.hipo', '00029.hipo', '00030.hipo', '00031.hipo', '00032.hipo', '00033.hipo', '00034.hipo', '00035.hipo', '00036.hipo', '00037.hipo', '00038.hipo', '00039.hipo', '00040.hipo', '00041.hipo', '00042.hipo', '00043.hipo', '00044.hipo', '00045.hipo', '00046.hipo', '00047.hipo', '00048.hipo', '00049.hipo', '00050.hipo', '00051.hipo', '00052.hipo', '00053.hipo', '00054.hipo', '00055.hipo', '00056.hipo', '00057.hipo', '00058.hipo', '00059.hipo', '00060.hipo', '00061.hipo', '00062.hipo', '00063.hipo', '00064.hipo', '00065.hipo', '00066.hipo', '00067.hipo', '00068.hipo', '00069.hipo', '00070.hipo', '00071.hipo', '00072.hipo', '00073.hipo', '00074.hipo', '00075.hipo', '00076.hipo', '00077.hipo', '00078.hipo', '00079.hipo', '00080.hipo', '00081.hipo', '00082.hipo', '00083.hipo', '00084.hipo', '00085.hipo', '00086.hipo', '00087.hipo', '00088.hipo', '00089.hipo', '00090.hipo', '00091.hipo', '00092.hipo', '00093.hipo', '00094.hipo', '00095.hipo', '00096.hipo', '00097.hipo', '00098.hipo', '00099.hipo', '00100.hipo']\n",
    "file_list = ['00050.hipo', '00051.hipo', '00052.hipo', '00053.hipo', '00054.hipo', '00055.hipo', '00056.hipo', '00057.hipo', '00058.hipo', '00059.hipo', '00060.hipo', '00061.hipo', '00062.hipo', '00063.hipo', '00064.hipo', '00065.hipo', '00066.hipo', '00067.hipo', '00068.hipo', '00069.hipo', '00070.hipo', '00071.hipo', '00072.hipo', '00073.hipo', '00074.hipo', '00075.hipo', '00076.hipo', '00077.hipo', '00078.hipo', '00079.hipo', '00080.hipo', '00081.hipo', '00082.hipo', '00083.hipo', '00084.hipo', '00085.hipo', '00086.hipo', '00087.hipo', '00088.hipo', '00089.hipo', '00090.hipo', '00091.hipo', '00092.hipo', '00093.hipo', '00094.hipo', '00095.hipo', '00096.hipo', '00097.hipo', '00098.hipo', '00099.hipo', '00100.hipo']\n",
    "# new_list = []\n",
    "command = \"\"\n",
    "for ii in file_list:\n",
    "#     if(ii in [\"00050.hipo\"]):\n",
    "#         break\n",
    "    temp = ii.replace(\"00\", \"_\")\n",
    "    temp = temp.replace(\"__\", \"_\")\n",
    "    temp = temp.replace(\"_0\", \"_\")\n",
    "    temp = temp.replace(\"_.hipo\", \"00.hipo\")\n",
    "    \n",
    "    command = f\"{command}cp {ii} /w/hallb-scshelf2102/clas12/richcap/SIDIS/New_MC_hipo/inb-clasdis_7716{temp}; \"\n",
    "    \n",
    "    \n",
    "print(f\"{command}lt\")\n",
    "#     new_list.append(f\"inb-clasdis{temp}\")\n",
    "# print(f\"new_list = {new_list}\")\n"
   ]
  },
  {
   "cell_type": "code",
   "execution_count": 7,
   "id": "discrete-secretariat",
   "metadata": {},
   "outputs": [
    {
     "name": "stdout",
     "output_type": "stream",
     "text": [
      "mv inb-clasdis_7580_010.hipo inb-clasdis_7580_10.hipo; mv inb-clasdis_7580_011.hipo inb-clasdis_7580_11.hipo; mv inb-clasdis_7580_012.hipo inb-clasdis_7580_12.hipo; mv inb-clasdis_7580_013.hipo inb-clasdis_7580_13.hipo; mv inb-clasdis_7580_014.hipo inb-clasdis_7580_14.hipo; mv inb-clasdis_7580_015.hipo inb-clasdis_7580_15.hipo; mv inb-clasdis_7580_016.hipo inb-clasdis_7580_16.hipo; mv inb-clasdis_7580_017.hipo inb-clasdis_7580_17.hipo; mv inb-clasdis_7580_018.hipo inb-clasdis_7580_18.hipo; mv inb-clasdis_7580_019.hipo inb-clasdis_7580_19.hipo; mv inb-clasdis_7580_020.hipo inb-clasdis_7580_20.hipo; mv inb-clasdis_7580_021.hipo inb-clasdis_7580_21.hipo; mv inb-clasdis_7580_022.hipo inb-clasdis_7580_22.hipo; mv inb-clasdis_7580_023.hipo inb-clasdis_7580_23.hipo; mv inb-clasdis_7580_024.hipo inb-clasdis_7580_24.hipo; mv inb-clasdis_7580_025.hipo inb-clasdis_7580_25.hipo; mv inb-clasdis_7580_026.hipo inb-clasdis_7580_26.hipo; mv inb-clasdis_7580_027.hipo inb-clasdis_7580_27.hipo; mv inb-clasdis_7580_028.hipo inb-clasdis_7580_28.hipo; mv inb-clasdis_7580_029.hipo inb-clasdis_7580_29.hipo; mv inb-clasdis_7580_030.hipo inb-clasdis_7580_30.hipo; mv inb-clasdis_7580_031.hipo inb-clasdis_7580_31.hipo; mv inb-clasdis_7580_032.hipo inb-clasdis_7580_32.hipo; mv inb-clasdis_7580_033.hipo inb-clasdis_7580_33.hipo; mv inb-clasdis_7580_034.hipo inb-clasdis_7580_34.hipo; mv inb-clasdis_7580_035.hipo inb-clasdis_7580_35.hipo; mv inb-clasdis_7580_036.hipo inb-clasdis_7580_36.hipo; mv inb-clasdis_7580_037.hipo inb-clasdis_7580_37.hipo; mv inb-clasdis_7580_038.hipo inb-clasdis_7580_38.hipo; mv inb-clasdis_7580_039.hipo inb-clasdis_7580_39.hipo; mv inb-clasdis_7580_040.hipo inb-clasdis_7580_40.hipo; mv inb-clasdis_7580_041.hipo inb-clasdis_7580_41.hipo; mv inb-clasdis_7580_042.hipo inb-clasdis_7580_42.hipo; mv inb-clasdis_7580_043.hipo inb-clasdis_7580_43.hipo; mv inb-clasdis_7580_044.hipo inb-clasdis_7580_44.hipo; mv inb-clasdis_7580_045.hipo inb-clasdis_7580_45.hipo; mv inb-clasdis_7580_046.hipo inb-clasdis_7580_46.hipo; mv inb-clasdis_7580_047.hipo inb-clasdis_7580_47.hipo; mv inb-clasdis_7580_048.hipo inb-clasdis_7580_48.hipo; mv inb-clasdis_7580_049.hipo inb-clasdis_7580_49.hipo; lt\n"
     ]
    }
   ],
   "source": [
    "file_list = ['inb-clasdis_7580_010.hipo', 'inb-clasdis_7580_011.hipo', 'inb-clasdis_7580_012.hipo', 'inb-clasdis_7580_013.hipo', 'inb-clasdis_7580_014.hipo', 'inb-clasdis_7580_015.hipo', 'inb-clasdis_7580_016.hipo', 'inb-clasdis_7580_017.hipo', 'inb-clasdis_7580_018.hipo', 'inb-clasdis_7580_019.hipo', 'inb-clasdis_7580_020.hipo', 'inb-clasdis_7580_021.hipo', 'inb-clasdis_7580_022.hipo', 'inb-clasdis_7580_023.hipo', 'inb-clasdis_7580_024.hipo', 'inb-clasdis_7580_025.hipo', 'inb-clasdis_7580_026.hipo', 'inb-clasdis_7580_027.hipo', 'inb-clasdis_7580_028.hipo', 'inb-clasdis_7580_029.hipo', 'inb-clasdis_7580_030.hipo', 'inb-clasdis_7580_031.hipo', 'inb-clasdis_7580_032.hipo', 'inb-clasdis_7580_033.hipo', 'inb-clasdis_7580_034.hipo', 'inb-clasdis_7580_035.hipo', 'inb-clasdis_7580_036.hipo', 'inb-clasdis_7580_037.hipo', 'inb-clasdis_7580_038.hipo', 'inb-clasdis_7580_039.hipo', 'inb-clasdis_7580_040.hipo', 'inb-clasdis_7580_041.hipo', 'inb-clasdis_7580_042.hipo', 'inb-clasdis_7580_043.hipo', 'inb-clasdis_7580_044.hipo', 'inb-clasdis_7580_045.hipo', 'inb-clasdis_7580_046.hipo', 'inb-clasdis_7580_047.hipo', 'inb-clasdis_7580_048.hipo', 'inb-clasdis_7580_049.hipo']\n",
    "command = \"\"\n",
    "for ii in file_list:\n",
    "    temp = ii.replace(\"00\", \"_\")\n",
    "    temp = temp.replace(\"__\", \"_\")\n",
    "    temp = temp.replace(\"_0\", \"_\")\n",
    "    temp = temp.replace(\"_.hipo\", \"00.hipo\")\n",
    "    \n",
    "    command = f\"{command}mv {ii} {temp}; \"\n",
    "    \n",
    "    \n",
    "print(f\"{command}lt\")\n"
   ]
  },
  {
   "cell_type": "code",
   "execution_count": 29,
   "id": "encouraging-madison",
   "metadata": {},
   "outputs": [
    {
     "name": "stdout",
     "output_type": "stream",
     "text": [
      "hipo-utils -merge -o inb-clasdis-7975_3.hipo /lustre19/expphy/volatile/clas12/osg/richcap/job_7975/output/inb-clasdis-7975-*3.hipo; hipo-utils -merge -o inb-clasdis-7975_4.hipo /lustre19/expphy/volatile/clas12/osg/richcap/job_7975/output/inb-clasdis-7975-*4.hipo; hipo-utils -merge -o inb-clasdis-7975_5.hipo /lustre19/expphy/volatile/clas12/osg/richcap/job_7975/output/inb-clasdis-7975-*5.hipo; hipo-utils -merge -o inb-clasdis-7975_6.hipo /lustre19/expphy/volatile/clas12/osg/richcap/job_7975/output/inb-clasdis-7975-*6.hipo; hipo-utils -merge -o inb-clasdis-7975_7.hipo /lustre19/expphy/volatile/clas12/osg/richcap/job_7975/output/inb-clasdis-7975-*7.hipo; hipo-utils -merge -o inb-clasdis-7975_8.hipo /lustre19/expphy/volatile/clas12/osg/richcap/job_7975/output/inb-clasdis-7975-*8.hipo; hipo-utils -merge -o inb-clasdis-7975_9.hipo /lustre19/expphy/volatile/clas12/osg/richcap/job_7975/output/inb-clasdis-7975-*9.hipo; lt\n",
      "\n",
      "lt /lustre19/expphy/volatile/clas12/richcap/New_MC_SIDIS_Files_Volatile/; lt /w/hallb-scshelf2102/clas12/richcap/SIDIS/New_MC_hipo/BeamEnergy_1060/; ln -s /lustre19/expphy/volatile/clas12/richcap/New_MC_SIDIS_Files_Volatile/inb-clasdis-7975_3.hipo /w/hallb-scshelf2102/clas12/richcap/SIDIS/New_MC_hipo/BeamEnergy_1060/inb-clasdis-7975_3.hipo; ln -s /lustre19/expphy/volatile/clas12/richcap/New_MC_SIDIS_Files_Volatile/inb-clasdis-7975_4.hipo /w/hallb-scshelf2102/clas12/richcap/SIDIS/New_MC_hipo/BeamEnergy_1060/inb-clasdis-7975_4.hipo; ln -s /lustre19/expphy/volatile/clas12/richcap/New_MC_SIDIS_Files_Volatile/inb-clasdis-7975_5.hipo /w/hallb-scshelf2102/clas12/richcap/SIDIS/New_MC_hipo/BeamEnergy_1060/inb-clasdis-7975_5.hipo; ln -s /lustre19/expphy/volatile/clas12/richcap/New_MC_SIDIS_Files_Volatile/inb-clasdis-7975_6.hipo /w/hallb-scshelf2102/clas12/richcap/SIDIS/New_MC_hipo/BeamEnergy_1060/inb-clasdis-7975_6.hipo; ln -s /lustre19/expphy/volatile/clas12/richcap/New_MC_SIDIS_Files_Volatile/inb-clasdis-7975_7.hipo /w/hallb-scshelf2102/clas12/richcap/SIDIS/New_MC_hipo/BeamEnergy_1060/inb-clasdis-7975_7.hipo; ln -s /lustre19/expphy/volatile/clas12/richcap/New_MC_SIDIS_Files_Volatile/inb-clasdis-7975_8.hipo /w/hallb-scshelf2102/clas12/richcap/SIDIS/New_MC_hipo/BeamEnergy_1060/inb-clasdis-7975_8.hipo; ln -s /lustre19/expphy/volatile/clas12/richcap/New_MC_SIDIS_Files_Volatile/inb-clasdis-7975_9.hipo /w/hallb-scshelf2102/clas12/richcap/SIDIS/New_MC_hipo/BeamEnergy_1060/inb-clasdis-7975_9.hipo; lt /w/hallb-scshelf2102/clas12/richcap/SIDIS/New_MC_hipo/BeamEnergy_1060/\n",
      "\n",
      "\n",
      "\u001b[1m\u001b[94mTOGETHER:\n",
      "\u001b[0m\u001b[1mhipo-utils -merge -o inb-clasdis-7975_3.hipo /lustre19/expphy/volatile/clas12/osg/richcap/job_7975/output/inb-clasdis-7975-*3.hipo; hipo-utils -merge -o inb-clasdis-7975_4.hipo /lustre19/expphy/volatile/clas12/osg/richcap/job_7975/output/inb-clasdis-7975-*4.hipo; hipo-utils -merge -o inb-clasdis-7975_5.hipo /lustre19/expphy/volatile/clas12/osg/richcap/job_7975/output/inb-clasdis-7975-*5.hipo; hipo-utils -merge -o inb-clasdis-7975_6.hipo /lustre19/expphy/volatile/clas12/osg/richcap/job_7975/output/inb-clasdis-7975-*6.hipo; hipo-utils -merge -o inb-clasdis-7975_7.hipo /lustre19/expphy/volatile/clas12/osg/richcap/job_7975/output/inb-clasdis-7975-*7.hipo; hipo-utils -merge -o inb-clasdis-7975_8.hipo /lustre19/expphy/volatile/clas12/osg/richcap/job_7975/output/inb-clasdis-7975-*8.hipo; hipo-utils -merge -o inb-clasdis-7975_9.hipo /lustre19/expphy/volatile/clas12/osg/richcap/job_7975/output/inb-clasdis-7975-*9.hipo; ; lt /lustre19/expphy/volatile/clas12/richcap/New_MC_SIDIS_Files_Volatile/; lt /w/hallb-scshelf2102/clas12/richcap/SIDIS/New_MC_hipo/BeamEnergy_1060/; ln -s /lustre19/expphy/volatile/clas12/richcap/New_MC_SIDIS_Files_Volatile/inb-clasdis-7975_3.hipo /w/hallb-scshelf2102/clas12/richcap/SIDIS/New_MC_hipo/BeamEnergy_1060/inb-clasdis-7975_3.hipo; ln -s /lustre19/expphy/volatile/clas12/richcap/New_MC_SIDIS_Files_Volatile/inb-clasdis-7975_4.hipo /w/hallb-scshelf2102/clas12/richcap/SIDIS/New_MC_hipo/BeamEnergy_1060/inb-clasdis-7975_4.hipo; ln -s /lustre19/expphy/volatile/clas12/richcap/New_MC_SIDIS_Files_Volatile/inb-clasdis-7975_5.hipo /w/hallb-scshelf2102/clas12/richcap/SIDIS/New_MC_hipo/BeamEnergy_1060/inb-clasdis-7975_5.hipo; ln -s /lustre19/expphy/volatile/clas12/richcap/New_MC_SIDIS_Files_Volatile/inb-clasdis-7975_6.hipo /w/hallb-scshelf2102/clas12/richcap/SIDIS/New_MC_hipo/BeamEnergy_1060/inb-clasdis-7975_6.hipo; ln -s /lustre19/expphy/volatile/clas12/richcap/New_MC_SIDIS_Files_Volatile/inb-clasdis-7975_7.hipo /w/hallb-scshelf2102/clas12/richcap/SIDIS/New_MC_hipo/BeamEnergy_1060/inb-clasdis-7975_7.hipo; ln -s /lustre19/expphy/volatile/clas12/richcap/New_MC_SIDIS_Files_Volatile/inb-clasdis-7975_8.hipo /w/hallb-scshelf2102/clas12/richcap/SIDIS/New_MC_hipo/BeamEnergy_1060/inb-clasdis-7975_8.hipo; ln -s /lustre19/expphy/volatile/clas12/richcap/New_MC_SIDIS_Files_Volatile/inb-clasdis-7975_9.hipo /w/hallb-scshelf2102/clas12/richcap/SIDIS/New_MC_hipo/BeamEnergy_1060/inb-clasdis-7975_9.hipo; lt /w/hallb-scshelf2102/clas12/richcap/SIDIS/New_MC_hipo/BeamEnergy_1060/\u001b[0m\n",
      "\n",
      "\n"
     ]
    }
   ],
   "source": [
    "Job_ID_Num = \"7975\"\n",
    "Merge_Command   = \"\" # Run this list of commands first\n",
    "\n",
    "pwd_of_volatile = \"/lustre19/expphy/volatile/clas12/richcap/New_MC_SIDIS_Files_Volatile/\" # Change as needed\n",
    "pwd_of_work_dir = \"/w/hallb-scshelf2102/clas12/richcap/SIDIS/New_MC_hipo/BeamEnergy_1060/\" # Change as needed\n",
    "Link_Command    = f\"lt {pwd_of_volatile}; lt {pwd_of_work_dir}; \" # Run to make symbolic links to the work directory folders (Command works from any location as long as 'pwd_of_volatile' and 'pwd_of_work_dir' are set correctly)\n",
    "for ii in range(3, 10):\n",
    "    Merge_Command = f\"{Merge_Command}hipo-utils -merge -o inb-clasdis-{Job_ID_Num}_{ii}.hipo /lustre19/expphy/volatile/clas12/osg/richcap/job_{Job_ID_Num}/output/inb-clasdis-{Job_ID_Num}-*{ii}.hipo; \"\n",
    "    Link_Command  = f\"{Link_Command}ln -s {pwd_of_volatile}inb-clasdis-{Job_ID_Num}_{ii}.hipo {pwd_of_work_dir}inb-clasdis-{Job_ID_Num}_{ii}.hipo; \"\n",
    "print(f\"{Merge_Command}lt\" + \"\\n\\n\" + f\"{Link_Command}lt {pwd_of_work_dir}\")\n",
    "\n",
    "\n",
    "print(f\"\\n\\n{color.BBLUE}TOGETHER:\\n{color.END_B}{Merge_Command}; {Link_Command}lt {pwd_of_work_dir}{color.END}\\n\\n\")"
   ]
  },
  {
   "cell_type": "code",
   "execution_count": null,
   "id": "developmental-pleasure",
   "metadata": {},
   "outputs": [],
   "source": []
  },
  {
   "cell_type": "code",
   "execution_count": 12,
   "id": "danish-vacuum",
   "metadata": {},
   "outputs": [
    {
     "name": "stdout",
     "output_type": "stream",
     "text": [
      "echo '0'; l1 inb-clasdis-7975-*0.hipo | wc -l; echo ''; echo '1'; l1 inb-clasdis-7975-*1.hipo | wc -l; echo ''; echo '2'; l1 inb-clasdis-7975-*2.hipo | wc -l; echo ''; echo '3'; l1 inb-clasdis-7975-*3.hipo | wc -l; echo ''; echo '4'; l1 inb-clasdis-7975-*4.hipo | wc -l; echo ''; echo '5'; l1 inb-clasdis-7975-*5.hipo | wc -l; echo ''; echo '6'; l1 inb-clasdis-7975-*6.hipo | wc -l; echo ''; echo '7'; l1 inb-clasdis-7975-*7.hipo | wc -l; echo ''; echo '8'; l1 inb-clasdis-7975-*8.hipo | wc -l; echo ''; echo '9'; l1 inb-clasdis-7975-*9.hipo | wc -l; echo ''; pwd\n"
     ]
    }
   ],
   "source": [
    "test = \"\"\n",
    "for ii in range(0, 10):\n",
    "    test = f\"{test}echo '{ii}'; l1 inb-clasdis-7975-*{ii}.hipo | wc -l; echo ''; \"\n",
    "print(f\"{test}pwd\")"
   ]
  },
  {
   "cell_type": "code",
   "execution_count": null,
   "id": "reliable-karen",
   "metadata": {},
   "outputs": [],
   "source": []
  }
 ],
 "metadata": {
  "kernelspec": {
   "display_name": "Python 3 (ipykernel)",
   "language": "python",
   "name": "python3"
  },
  "language_info": {
   "codemirror_mode": {
    "name": "ipython",
    "version": 3
   },
   "file_extension": ".py",
   "mimetype": "text/x-python",
   "name": "python",
   "nbconvert_exporter": "python",
   "pygments_lexer": "ipython3",
   "version": "3.11.9"
  }
 },
 "nbformat": 4,
 "nbformat_minor": 5
}
