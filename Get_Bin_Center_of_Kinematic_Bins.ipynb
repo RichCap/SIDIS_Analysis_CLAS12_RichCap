{
 "cells": [
  {
   "cell_type": "markdown",
   "id": "international-manhattan",
   "metadata": {
    "tags": [
     "Loading"
    ]
   },
   "source": [
    "# Get Bin Centers of Kinematic Bins\n",
    "\n",
    "### This code's intended use is to print information pertaining to the statistical centers of the kinematic bins\n",
    "\n",
    "Give this code an up-to-date version of the experimental data plots (with cuts) for the Q2 vs y AND z vs pT plots"
   ]
  },
  {
   "cell_type": "code",
   "execution_count": 1,
   "id": "internal-headline",
   "metadata": {},
   "outputs": [
    {
     "name": "stdout",
     "output_type": "stream",
     "text": [
      "Welcome to JupyROOT 6.22/06\n",
      "\u001b[1m\n",
      "Starting RG-A SIDIS Analysis\n",
      "\u001b[0m\n",
      "Ran on \u001b[1m8-8-2024\u001b[0m at \u001b[1m9:51 a.m.\u001b[0m\n",
      "\n"
     ]
    }
   ],
   "source": [
    "%reset -f\n",
    "import ROOT, numpy\n",
    "import traceback\n",
    "from datetime import datetime\n",
    "from array import array\n",
    "\n",
    "from MyCommonAnalysisFunction_richcap import *\n",
    "\n",
    "import math\n",
    "import array\n",
    "import copy\n",
    "\n",
    "ROOT.TH1.AddDirectory(0)\n",
    "ROOT.gStyle.SetTitleOffset(1.3,'y')\n",
    "\n",
    "ROOT.gStyle.SetGridColor(17)\n",
    "ROOT.gStyle.SetPadGridX(1)\n",
    "ROOT.gStyle.SetPadGridY(1)\n",
    "\n",
    "print(f\"{color.BOLD}\\nStarting RG-A SIDIS Analysis\\n{color.END}\")\n",
    "\n",
    "\n",
    "# getting current date\n",
    "datetime_object_full = datetime.now()\n",
    "# print(datetime_object)\n",
    "\n",
    "startMin_full = datetime_object_full.minute\n",
    "startHr_full = datetime_object_full.hour\n",
    "\n",
    "if(datetime_object_full.minute <10):\n",
    "    timeMin_full = \"\".join([\"0\", str(datetime_object_full.minute)])\n",
    "else:\n",
    "    timeMin_full = str(datetime_object_full.minute)\n",
    "\n",
    "    \n",
    "Date_Day = \"\".join([\"Ran on \", color.BOLD, str(datetime_object_full.month), \"-\", str(datetime_object_full.day), \"-\", str(datetime_object_full.year), color.END, \" at \"])\n",
    "# printing current time\n",
    "if(datetime_object_full.hour > 12 and datetime_object_full.hour < 24):\n",
    "    print(\"\".join([Date_Day, color.BOLD, str((datetime_object_full.hour)-12), \":\", timeMin_full, \" p.m.\", color.END]))\n",
    "if(datetime_object_full.hour < 12 and datetime_object_full.hour > 0):\n",
    "    print(\"\".join([Date_Day, color.BOLD, str(datetime_object_full.hour), \":\", timeMin_full, \" a.m.\", color.END]))\n",
    "if(datetime_object_full.hour == 12):\n",
    "    print(\"\".join([Date_Day, color.BOLD, str(datetime_object_full.hour), \":\", timeMin_full, \" p.m.\", color.END]))\n",
    "if(datetime_object_full.hour == 0 or datetime_object_full.hour == 24):\n",
    "    print(\"\".join([Date_Day, color.BOLD, \"12:\", str(timeMin_full), \" a.m.\", color.END]))\n",
    "print(\"\")"
   ]
  },
  {
   "cell_type": "markdown",
   "id": "nonprofit-dylan",
   "metadata": {},
   "source": [
    ".\n",
    "\n",
    ".\n",
    "\n",
    "."
   ]
  },
  {
   "cell_type": "markdown",
   "id": "final-lounge",
   "metadata": {
    "tags": [
     "Loading"
    ]
   },
   "source": [
    "## Load Data File(s)"
   ]
  },
  {
   "cell_type": "code",
   "execution_count": 2,
   "id": "olive-harvard",
   "metadata": {},
   "outputs": [
    {
     "name": "stdout",
     "output_type": "stream",
     "text": [
      "\u001b[1m\u001b[94m\n",
      "Running with Pass 2 files\n",
      "\n",
      "\u001b[0m\n",
      "\u001b[1m\n",
      "Not using the common file name for the Generated Monte Carlo Data...\n",
      "\u001b[0m\n",
      "The total number of histograms available for the\u001b[94m Real (Experimental) Data\u001b[0m in       '\u001b[1mPass_2_New_Fiducial_Cut_Test_V3_All\u001b[0m' is \u001b[1m378\u001b[0m\n",
      "The total number of histograms available for the\u001b[91m Reconstructed Monte Carlo Data\u001b[0m in '\u001b[1mUnsmeared_Pass_2_New_Fiducial_Cut_Test_V3_All\u001b[0m' is \u001b[1m828\u001b[0m\n",
      "The total number of histograms available for the\u001b[92m Generated Monte Carlo Data\u001b[0m in     '\u001b[1mPass_2_New_Sector_Cut_Test_V9_All\u001b[0m' is \u001b[1m416\u001b[0m\n",
      "\u001b[1m\n",
      "Pass Version in use is:\u001b[0m\u001b[94m Pass 2\u001b[0m\u001b[1m\n",
      "\n",
      "\n",
      "Done Loading RDataFrame files...\n",
      "\n",
      "\u001b[0m\n"
     ]
    },
    {
     "name": "stderr",
     "output_type": "stream",
     "text": [
      "Error in <TList::Clear>: A list is accessing an object (0x55ea05e8a3d0) already deleted (list name = TList)\n",
      "Error in <TList::Clear>: A list is accessing an object (0x55ea05f04690) already deleted (list name = TList)\n",
      "Error in <TList::Clear>: A list is accessing an object (0x55ea05f0ba70) already deleted (list name = TList)\n",
      "Error in <TList::Clear>: A list is accessing an object (0x55ea05f0bde0) already deleted (list name = TList)\n",
      "Error in <TList::Clear>: A list is accessing an object (0x55ea05f0c150) already deleted (list name = TList)\n",
      "Error in <TList::Clear>: A list is accessing an object (0x55ea05f0c4c0) already deleted (list name = TList)\n",
      "Error in <TList::Clear>: A list is accessing an object (0x55ea05f0c9f0) already deleted (list name = TList)\n",
      "Error in <TList::Clear>: A list is accessing an object (0x55ea05f0ce90) already deleted (list name = TList)\n",
      "Error in <TList::Clear>: A list is accessing an object (0x55ea05f0d260) already deleted (list name = TList)\n",
      "Error in <TList::Clear>: A list is accessing an object (0x55ea05f0d700) already deleted (list name = TList)\n",
      "Error in <TList::Clear>: A list is accessing an object (0x55ea05f0d930) already deleted (list name = TList)\n",
      "Error in <TList::Clear>: A list is accessing an object (0x55ea05f0dde0) already deleted (list name = TList)\n",
      "Error in <TList::Clear>: A list is accessing an object (0x55ea05f0e960) already deleted (list name = TList)\n",
      "Error in <TList::Clear>: A list is accessing an object (0x55ea05f2f710) already deleted (list name = TList)\n",
      "Error in <TList::Clear>: A list is accessing an object (0x55ea05f2f940) already deleted (list name = TList)\n",
      "Error in <TList::Clear>: A list is accessing an object (0x55ea05f30860) already deleted (list name = TList)\n",
      "Error in <TList::Clear>: A list is accessing an object (0x55ea05f31510) already deleted (list name = TList)\n",
      "Error in <TList::Clear>: A list is accessing an object (0x55ea05f319c0) already deleted (list name = TList)\n",
      "Error in <TList::Clear>: A list is accessing an object (0x55ea06020550) already deleted (list name = TList)\n",
      "Error in <TList::Clear>: A list is accessing an object (0x55ea060209c0) already deleted (list name = TList)\n",
      "Error in <TList::Clear>: A list is accessing an object (0x55ea06020d40) already deleted (list name = TList)\n",
      "Error in <TList::Clear>: A list is accessing an object (0x55ea06020f20) already deleted (list name = TList)\n",
      "Error in <TList::Clear>: A list is accessing an object (0x55ea06021210) already deleted (list name = TList)\n",
      "Error in <TList::Clear>: A list is accessing an object (0x55ea06021500) already deleted (list name = TList)\n",
      "Error in <TList::Clear>: A list is accessing an object (0x55ea06021980) already deleted (list name = TList)\n",
      "Error in <TList::Clear>: A list is accessing an object (0x55ea06021dd0) already deleted (list name = TList)\n",
      "Error in <TList::Clear>: A list is accessing an object (0x55ea06022150) already deleted (list name = TList)\n",
      "Error in <TList::Clear>: A list is accessing an object (0x55ea060225a0) already deleted (list name = TList)\n",
      "Error in <TList::Clear>: A list is accessing an object (0x55ea06022780) already deleted (list name = TList)\n",
      "Error in <TList::Clear>: A list is accessing an object (0x55ea06022b80) already deleted (list name = TList)\n",
      "Error in <TList::Clear>: A list is accessing an object (0x55ea06023640) already deleted (list name = TList)\n",
      "Error in <TList::Clear>: A list is accessing an object (0x55ea060253f0) already deleted (list name = TList)\n",
      "Error in <TList::Clear>: A list is accessing an object (0x55ea06025590) already deleted (list name = TList)\n",
      "Error in <TList::Clear>: A list is accessing an object (0x55ea06026320) already deleted (list name = TList)\n",
      "Error in <TList::Clear>: A list is accessing an object (0x55ea06026f90) already deleted (list name = TList)\n",
      "Error in <TList::Clear>: A list is accessing an object (0x55ea06027440) already deleted (list name = TList)\n"
     ]
    }
   ],
   "source": [
    "def FileLocation(FileName, Datatype):\n",
    "    # location = \"/lustre19/expphy/volatile/clas12/richcap/SIDIS_Analysis/Histo_Files_ROOT/\"\n",
    "    location = \"Histo_Files_ROOT/\"\n",
    "    if(str(Datatype) == 'rdf'):\n",
    "        file = \"\".join([\"REAL_Data/SIDIS_epip_Data_REC_\", str(FileName), \".root\"])\n",
    "    if(str(Datatype) == 'mdf'):\n",
    "        file = \"\".join([\"Matching_REC_MC/SIDIS_epip_MC_Matched_\", str(FileName), \".root\"])\n",
    "    if(str(Datatype) == 'gdf'):\n",
    "        file = \"\".join([\"GEN_MC/SIDIS_epip_MC_GEN_\", str(FileName), \".root\"])\n",
    "    loading = \"\".join([location, file])\n",
    "    return loading\n",
    "\n",
    "\n",
    "################################################################################################################################################################\n",
    "##==========##==========##     Names of Requested File(s)     ##==========##==========##==========##==========##==========##==========##==========##==========##\n",
    "################################################################################################################################################################\n",
    "\n",
    "Smearing_Options = \"no_smear\"\n",
    "# Smearing_Options = \"smear\"\n",
    "\n",
    "Common_Name = \"Pass_2_New_Sector_Cut_Test_V12_All\"\n",
    "Common_Name = \"Tagged_Proton_Pass_2_New_Fiducial_Cut_Test_V2_All\"\n",
    "Common_Name = \"Pass_2_New_Fiducial_Cut_Test_V3_All\"\n",
    "\n",
    "Standard_Histogram_Title_Addition = \"\"\n",
    "Pass_Version = \"Pass 2\" if(\"Pass_2\" in Common_Name) else \"Pass 1\"\n",
    "if(Pass_Version not in [\"\"]):\n",
    "    Standard_Histogram_Title_Addition = Pass_Version\n",
    "    \n",
    "if(\"Tagged_Proton\" in Common_Name):\n",
    "    if(Standard_Histogram_Title_Addition not in [\"\"]):\n",
    "        Standard_Histogram_Title_Addition = f\"{Standard_Histogram_Title_Addition} - Tagged Proton\"\n",
    "    else:\n",
    "        Standard_Histogram_Title_Addition = \"Tagged Proton\"\n",
    "    print(f\"{color.BGREEN}\\nRunning with 'Tagged Proton' files{color.END}\")\n",
    "print(f\"{color.BBLUE}\\nRunning with {Pass_Version} files\\n\\n{color.END}\")\n",
    "        \n",
    "        \n",
    "# Use unique file(s) for one of datatypes? (If so, set the following if(...) conditions to 'False')\n",
    "\n",
    "##################################\n",
    "##   Real (Experimental) Data   ##\n",
    "##################################\n",
    "if(True):\n",
    "#     print(\"\".join([color.BOLD, \"\\nNot using the common file name for the Real (Experimental) Data...\\n\", color.END]))\n",
    "# if(False):\n",
    "    REAL_File_Name = Common_Name\n",
    "else:\n",
    "    REAL_File_Name = \"Pass_2_5D_Unfold_Test_V7_All\" if(Pass_Version in [\"Pass 2\"]) else \"5D_Unfold_Test_V7_All\"\n",
    "##################################\n",
    "##   Real (Experimental) Data   ##\n",
    "##################################\n",
    "\n",
    "########################################\n",
    "##   Reconstructed Monte Carlo Data   ##\n",
    "########################################\n",
    "if(True):\n",
    "#     print(\"\".join([color.BOLD, \"\\nNot using the common file name for the Reconstructed Monte Carlo Data...\\n\", color.END]))\n",
    "# if(False):\n",
    "#     MC_REC_File_Name = Common_Name\n",
    "    MC_REC_File_Name = f\"Unsmeared_{Common_Name}\" if(Smearing_Options in [\"no_smear\"]) else Common_Name\n",
    "else:\n",
    "    MC_REC_File_Name = \"Unsmeared_Pass_2_New_Sector_Cut_Test_V3_All\" if(Smearing_Options in [\"no_smear\"]) else \"Pass_2_New_Sector_Cut_Test_V3_All\"\n",
    "if((Pass_Version not in [\"Pass 2\"]) and (\"Pass_2_\" in str(MC_REC_File_Name))):\n",
    "    print(f\"{color.Error}Error: 'MC_REC_File_Name' includes 'Pass_2' in name when not appropriate...{color.END}\\n\\t(MC_REC_File_Name = {MC_REC_File_Name})\")\n",
    "    MC_REC_File_Name = MC_REC_File_Name.replace(\"Pass_2_\", \"\")\n",
    "########################################\n",
    "##   Reconstructed Monte Carlo Data   ##\n",
    "########################################\n",
    "\n",
    "####################################\n",
    "##   Generated Monte Carlo Data   ##\n",
    "####################################\n",
    "if(True):\n",
    "    print(\"\".join([color.BOLD, \"\\nNot using the common file name for the Generated Monte Carlo Data...\\n\", color.END]))\n",
    "if(False):\n",
    "    MC_GEN_File_Name = Common_Name\n",
    "else:\n",
    "    MC_GEN_File_Name = \"Pass_2_New_Sector_Cut_Test_V9_All\"\n",
    "####################################\n",
    "##   Generated Monte Carlo Data   ##\n",
    "####################################\n",
    "\n",
    "\n",
    "################################################################################################################################################################\n",
    "##==========##==========##     Names of Requested File(s)     ##==========##==========##==========##==========##==========##==========##==========##==========##\n",
    "################################################################################################################################################################\n",
    "\n",
    "\n",
    "\n",
    "\n",
    "\n",
    "################################################################################################################################################################\n",
    "##==========##==========##     Loading Requested File(s)     ##==========##==========##==========##==========##==========##==========##==========##==========##\n",
    "################################################################################################################################################################\n",
    "try:\n",
    "    rdf = ROOT.TFile(str(FileLocation(str(REAL_File_Name), \"rdf\")), \"READ\")\n",
    "    print(\"\".join([\"The total number of histograms available for the\", color.BLUE,  \" Real (Experimental) Data\",       color.END, \" in       '\", color.BOLD, REAL_File_Name,   color.END, \"' is \", color.BOLD, str(len(rdf.GetListOfKeys())), color.END]))\n",
    "except:\n",
    "    print(\"\".join([color.Error, \"\\nERROR IN GETTING THE 'rdf' DATAFRAME...\\nTraceback:\\n\", color.END_R, str(traceback.format_exc()), color.END]))\n",
    "try:\n",
    "    mdf = ROOT.TFile(str(FileLocation(str(MC_REC_File_Name), \"mdf\")), \"READ\")\n",
    "    print(\"\".join([\"The total number of histograms available for the\", color.RED,   \" Reconstructed Monte Carlo Data\", color.END, \" in '\",       color.BOLD, MC_REC_File_Name, color.END, \"' is \", color.BOLD, str(len(mdf.GetListOfKeys())), color.END]))\n",
    "except:\n",
    "    print(\"\".join([color.Error, \"\\nERROR IN GETTING THE 'mdf' DATAFRAME...\\nTraceback:\\n\", color.END_R, str(traceback.format_exc()), color.END]))\n",
    "try:\n",
    "    gdf = ROOT.TFile(str(FileLocation(str(MC_GEN_File_Name), \"gdf\")), \"READ\")\n",
    "    print(\"\".join([\"The total number of histograms available for the\", color.GREEN, \" Generated Monte Carlo Data\",     color.END, \" in     '\",   color.BOLD, MC_GEN_File_Name, color.END, \"' is \", color.BOLD, str(len(gdf.GetListOfKeys())), color.END]))\n",
    "except:\n",
    "    print(\"\".join([color.Error, \"\\nERROR IN GETTING THE 'gdf' DATAFRAME...\\nTraceback:\\n\", color.END_R, str(traceback.format_exc()), color.END]))\n",
    "################################################################################################################################################################\n",
    "##==========##==========##     Loading Requested File(s)     ##==========##==========##==========##==========##==========##==========##==========##==========##\n",
    "################################################################################################################################################################\n",
    "\n",
    "\n",
    "print(f\"{color.BOLD}\\nPass Version in use is:{color.END}{color.BLUE} {Pass_Version}{color.END_B}\\n\\n\\nDone Loading RDataFrame files...\\n\\n{color.END}\")"
   ]
  },
  {
   "cell_type": "markdown",
   "id": "trained-convert",
   "metadata": {},
   "source": [
    ".\n",
    "\n",
    ".\n",
    "\n",
    "."
   ]
  },
  {
   "cell_type": "markdown",
   "id": "purple-cornell",
   "metadata": {
    "tags": [
     "Checks"
    ]
   },
   "source": [
    "## Checking DataFrame(s) for required histograms"
   ]
  },
  {
   "cell_type": "code",
   "execution_count": 3,
   "id": "liked-clone",
   "metadata": {},
   "outputs": [
    {
     "name": "stdout",
     "output_type": "stream",
     "text": [
      "\u001b[1mDataFrame in use = \u001b[4mrdf\u001b[0m\n",
      "\n",
      "\u001b[1mhisto_count (Total) = 54\u001b[0m\n",
      "\n",
      "Done\n"
     ]
    }
   ],
   "source": [
    "Check_Inputs     = not True\n",
    "Check_Inputs_All = not True\n",
    "\n",
    "if(Check_Inputs):\n",
    "    print(\"\")\n",
    "    \n",
    "Use_xB = True\n",
    "Data_Frame = \"rdf\"\n",
    "df = rdf   # Make sure df and Data_Frame are set to the same file\n",
    "Cut_Type   = \"cut_Complete_SIDIS\"\n",
    "print(f\"{color.BOLD}DataFrame in use = {color.UNDERLINE}{Data_Frame}{color.END}\\n\")\n",
    "# Select only one dataframe at a time (default should be 'rdf')\n",
    "histo_count = 0\n",
    "for df_name in df.GetListOfKeys():\n",
    "    if(f\"'{Data_Frame}'\" in str(df_name.GetName())):\n",
    "        # Looking for one DataFrame type at a time\n",
    "        if(\"Normal_2D\" in str(df_name.GetName())):\n",
    "            # Only looking for the 2D Histograms\n",
    "            if(f\"(Data-Cut='{Cut_Type}')\" in str(df_name.GetName())):\n",
    "                # Only looking for the Histograms with all the regular SIDIS cuts (or whatever 'Cut_Type' is set to)\n",
    "                if((\"Var-D2='xB'\" in str(df_name.GetName())) and (not Use_xB)):\n",
    "                    # Not looking for the Q2 vs xB plots (right now - will include xB if 'Use_xB' is set to 'True')\n",
    "                    continue\n",
    "                if(\"Var-D1='Q2'\" in str(df_name.GetName())):\n",
    "                    histo_count += 1\n",
    "                    if(Check_Inputs):\n",
    "                        print(f\"{color.BOLD}Histo {histo_count}:{color.BBLUE}\\n\\t {df_name.GetName()}{color.END}\\n\")\n",
    "                if(\"Var-D1='z'\"  in str(df_name.GetName())):\n",
    "                    histo_count += 1\n",
    "                    if(Check_Inputs):\n",
    "                        print(f\"{color.BOLD}Histo {histo_count}:{color.BGREEN}\\n\\t {df_name.GetName()}{color.END}\\n\")\n",
    "        if(Check_Inputs_All):\n",
    "            print(f\"{color.RED}\\t {df_name.GetName()}{color.END}\\n\")\n",
    "    else:\n",
    "        print(f\"{color.Error}Could not find the correct dataframe type (i.e., '{Data_Frame}'){color.END}\")\n",
    "        break\n",
    "        \n",
    "if(histo_count not in [36, 54]):\n",
    "    print(f\"{color.Error}histo_count (Total) = {histo_count} is the incorrect number of histograms{color.END_R}\\n\\tCheck input file with 'Check_Inputs' or 'Check_Inputs_All'{color.END}\")\n",
    "else:\n",
    "    print(f\"{color.BOLD}histo_count (Total) = {histo_count}{color.END}\\n\")   \n",
    "print(\"Done\")"
   ]
  },
  {
   "cell_type": "markdown",
   "id": "present-difficulty",
   "metadata": {},
   "source": [
    ".\n",
    "\n",
    ".\n",
    "\n",
    "."
   ]
  },
  {
   "cell_type": "markdown",
   "id": "annual-caribbean",
   "metadata": {
    "tags": [
     "Checks"
    ]
   },
   "source": [
    "## Drawing Histograms"
   ]
  },
  {
   "cell_type": "code",
   "execution_count": 4,
   "id": "demanding-transformation",
   "metadata": {},
   "outputs": [
    {
     "name": "stdout",
     "output_type": "stream",
     "text": [
      "\n",
      "\u001b[1mDone\u001b[0m\n"
     ]
    }
   ],
   "source": [
    "Draw_Histos   = not True\n",
    "Save_Histos   = not True\n",
    "Print_Centers = not True\n",
    "\n",
    "Q2_y_borders = {}\n",
    "for Q2_Y_Bin_ii in range(1, 18, 1):\n",
    "    Q2_y_borders[Q2_Y_Bin_ii] = Draw_Q2_Y_Bins(Input_Bin=Q2_Y_Bin_ii)\n",
    "    Q2_y_borders[f\"{Q2_Y_Bin_ii}_RED\"] = Draw_Q2_Y_Bins(Input_Bin=Q2_Y_Bin_ii)\n",
    "    for line in Q2_y_borders[f\"{Q2_Y_Bin_ii}_RED\"]:\n",
    "        line.SetLineColor(ROOT.kRed)\n",
    "        line.SetLineWidth(5)\n",
    "statbox, Q2_vs_xB_Histo, Q2_vs_y_Histo, z_vs_pT_Histo, canvas_main = {}, {}, {}, {}, {}\n",
    "Final_Output = {}\n",
    "Final_Output[\"Key\"] = [\"mean_Q2\", \"ErrorQ2\", \"mean__y\", \"Error_y\", \"mean__z\", \"Error_z\", \"mean_pT\", \"ErrorpT\"]\n",
    "if(Use_xB):\n",
    "    Final_Output[\"Key\"].append(\"mean_xB\")\n",
    "    Final_Output[\"Key\"].append(\"ErrorxB\")\n",
    "    \n",
    "    \n",
    "Select_Q2_y_Bin = range(1, 18)\n",
    "# Select_Q2_y_Bin = [0]\n",
    "\n",
    "Skip_z_pT_Q = not True\n",
    "    \n",
    "for Q2_y_Bin in range(0, 18):\n",
    "    if(Q2_y_Bin not in Select_Q2_y_Bin):\n",
    "        continue\n",
    "    if(Q2_y_Bin     in [0]):\n",
    "        Q2_y_Bin = \"All\"\n",
    "    Q2_vs_y_Name      = f\"((Histo-Group='Normal_2D'), (Data-Type='{Data_Frame}'), (Data-Cut='{Cut_Type}'), (Smear-Type=''), (Binning-Type='Y_bin'-[Q2-y-Bin={Q2_y_Bin}, z-PT-Bin=All]), (Var-D1='Q2'-[NumBins=280, MinBin=0, MaxBin=14]), (Var-D2='y'-[NumBins=100, MinBin=0, MaxBin=1]))\"\n",
    "    z_vs_pT_Name      = f\"((Histo-Group='Normal_2D'), (Data-Type='{Data_Frame}'), (Data-Cut='{Cut_Type}'), (Smear-Type=''), (Binning-Type='Y_bin'-[Q2-y-Bin={Q2_y_Bin}, z-PT-Bin=All]), (Var-D1='z'-[NumBins=120, MinBin=0, MaxBin=1.2]), (Var-D2='pT'-[NumBins=200, MinBin=0, MaxBin=2.0]))\"\n",
    "    Q2_vs_y_Histo[f\"({Q2_y_Bin})\"] = df.Get(Q2_vs_y_Name)\n",
    "    z_vs_pT_Histo[f\"({Q2_y_Bin})\"] = df.Get(z_vs_pT_Name)\n",
    "    if(Use_xB):\n",
    "        Q2_vs_xB_Name = f\"((Histo-Group='Normal_2D'), (Data-Type='{Data_Frame}'), (Data-Cut='{Cut_Type}'), (Smear-Type=''), (Binning-Type='Y_bin'-[Q2-y-Bin={Q2_y_Bin}, z-PT-Bin=All]), (Var-D1='Q2'-[NumBins=280, MinBin=0, MaxBin=14]), (Var-D2='xB'-[NumBins=50, MinBin=0.09, MaxBin=0.826]))\"\n",
    "        Q2_vs_xB_Histo[f\"({Q2_y_Bin})\"] = df.Get(Q2_vs_xB_Name)\n",
    "    \n",
    "    z_pT_Bin_List = [\"All\"]\n",
    "    if(not Skip_z_pT_Q):\n",
    "        # z_pT_Bin_List = range(1, Get_Num_of_z_pT_Bins_w_Migrations(Q2_y_Bin_Num_In=Q2_y_Bin)[1] + 1)\n",
    "        z_pT_Bin_List.extend(range(1, Get_Num_of_z_pT_Bins_w_Migrations(Q2_y_Bin_Num_In=Q2_y_Bin)[1] + 1))\n",
    "    for z_pT_Bin in z_pT_Bin_List:\n",
    "        if(skip_condition_z_pT_bins(Q2_Y_BIN=Q2_y_Bin, Z_PT_BIN=z_pT_Bin, BINNING_METHOD=\"_Y_bin\")):\n",
    "            continue\n",
    "            \n",
    "        Q2_vs_y_Histo[f\"({Q2_y_Bin}, {z_pT_Bin})\"] = Q2_vs_y_Histo[f\"({Q2_y_Bin})\"].Clone(Q2_vs_y_Name.replace(\"z-PT-Bin=All\",  f\"z-PT-Bin={z_pT_Bin}\"))\n",
    "        z_vs_pT_Histo[f\"({Q2_y_Bin}, {z_pT_Bin})\"] = z_vs_pT_Histo[f\"({Q2_y_Bin})\"].Clone(z_vs_pT_Name.replace(\"z-PT-Bin=All\",  f\"z-PT-Bin={z_pT_Bin}\"))\n",
    "        \n",
    "        if(z_pT_Bin not in [\"All\", \"0\", 0]):\n",
    "            Q2_vs_y_Histo[f\"({Q2_y_Bin}, {z_pT_Bin})\"].GetXaxis().SetRangeUser(z_pT_Bin, z_pT_Bin)\n",
    "            z_vs_pT_Histo[f\"({Q2_y_Bin}, {z_pT_Bin})\"].GetXaxis().SetRangeUser(z_pT_Bin, z_pT_Bin)\n",
    "        else:\n",
    "            Q2_vs_y_Histo[f\"({Q2_y_Bin}, {z_pT_Bin})\"].GetXaxis().SetRangeUser(-0.5 if(Skip_z_pT_Q) else 0.5, 50)\n",
    "            z_vs_pT_Histo[f\"({Q2_y_Bin}, {z_pT_Bin})\"].GetXaxis().SetRangeUser(-0.5 if(Skip_z_pT_Q) else 0.5, 50)\n",
    "        \n",
    "        Q2_vs_y_Histo[f\"({Q2_y_Bin}, {z_pT_Bin})\"] = Q2_vs_y_Histo[f\"({Q2_y_Bin}, {z_pT_Bin})\"].Project3D(\"yz\")\n",
    "        z_vs_pT_Histo[f\"({Q2_y_Bin}, {z_pT_Bin})\"] = z_vs_pT_Histo[f\"({Q2_y_Bin}, {z_pT_Bin})\"].Project3D(\"yz\")\n",
    "        \n",
    "        Kinematic_Bin = \"\".join([\"Q^{2}-y Bin: \", str(Q2_y_Bin), \" #topbar z-P_{T} Bin: \", str(z_pT_Bin)])\n",
    "\n",
    "        Q2_vs_y_Title = \"\".join([\"#splitline{#splitline{#splitline{\", \"Experimental\" if(str(Data_Frame) in [\"rdf\"]) else \"MC REC\" if(str(Data_Frame) in [\"mdf\"]) else \"MC GEN\" if(str(Data_Frame) in [\"gdf\"]) else \"ERROR\", \" Data}{\", str(root_color.Bold), \"{Q^{2} vs y Plot}}}{\", str(root_color.Bold), \"{\", str(Kinematic_Bin), \"}}}{\", str(root_color.Bold), \"{Pass Version:} #color[\", str(root_color.Blue), \"]{\", str(Standard_Histogram_Title_Addition), \"}}\"])\n",
    "        z_vs_pT_Title = \"\".join([\"#splitline{#splitline{#splitline{\", \"Experimental\" if(str(Data_Frame) in [\"rdf\"]) else \"MC REC\" if(str(Data_Frame) in [\"mdf\"]) else \"MC GEN\" if(str(Data_Frame) in [\"gdf\"]) else \"ERROR\", \" Data}{\", str(root_color.Bold), \"{z vs P_{T} Plot}}}{\", str(root_color.Bold), \"{\", str(Kinematic_Bin), \"}}}{\", str(root_color.Bold), \"{Pass Version:} #color[\", str(root_color.Blue), \"]{\", str(Standard_Histogram_Title_Addition), \"}}\"])\n",
    "\n",
    "        Q2_vs_y_Histo[f\"({Q2_y_Bin}, {z_pT_Bin})\"].SetTitle(Q2_vs_y_Title)\n",
    "        z_vs_pT_Histo[f\"({Q2_y_Bin}, {z_pT_Bin})\"].SetTitle(z_vs_pT_Title)\n",
    "        \n",
    "        if(Use_xB):\n",
    "            Q2_vs_xB_Histo[f\"({Q2_y_Bin}, {z_pT_Bin})\"] = Q2_vs_xB_Histo[f\"({Q2_y_Bin})\"].Clone(Q2_vs_xB_Name.replace(\"z-PT-Bin=All\", f\"z-PT-Bin={z_pT_Bin}\"))\n",
    "            if(z_pT_Bin not in [\"All\", \"0\", 0]):\n",
    "                Q2_vs_xB_Histo[f\"({Q2_y_Bin}, {z_pT_Bin})\"].GetXaxis().SetRangeUser(z_pT_Bin, z_pT_Bin)\n",
    "            else:\n",
    "                Q2_vs_xB_Histo[f\"({Q2_y_Bin}, {z_pT_Bin})\"].GetXaxis().SetRangeUser(-0.5 if(Skip_z_pT_Q) else 0.5, 50)\n",
    "            Q2_vs_xB_Histo[f\"({Q2_y_Bin}, {z_pT_Bin})\"] = Q2_vs_xB_Histo[f\"({Q2_y_Bin}, {z_pT_Bin})\"].Project3D(\"yz\")\n",
    "            Q2_vs_xB_Histo[f\"({Q2_y_Bin}, {z_pT_Bin})\"].SetTitle(Q2_vs_y_Title.replace(\"y Plot\", \"x_{B} Plot\"))\n",
    "        \n",
    "        # Q2_vs_y_Histo[f\"({Q2_y_Bin}, {z_pT_Bin})\"].SetTitleOffset(8.2, 't')\n",
    "        # print(Q2_vs_y_Histo[f\"({Q2_y_Bin}, {z_pT_Bin})\"].GetTitleOffset('t'))\n",
    "        # print(z_vs_pT_Histo[f\"({Q2_y_Bin}, {z_pT_Bin})\"].GetTitleOffset('t'))\n",
    "        \n",
    "        Q2_vs_y_Histo[f\"({Q2_y_Bin}, {z_pT_Bin})\"].GetYaxis().SetRangeUser(0 if(Skip_z_pT_Q) else 0.5, 11.5 if(Skip_z_pT_Q) else 9)\n",
    "        Q2_vs_y_Histo[f\"({Q2_y_Bin}, {z_pT_Bin})\"].GetXaxis().SetRangeUser(0.2, 0.9)\n",
    "        if(Use_xB):\n",
    "            Q2_vs_xB_Histo[f\"({Q2_y_Bin}, {z_pT_Bin})\"].GetYaxis().SetRangeUser(0.5, 9)\n",
    "        \n",
    "        z_vs_pT_Histo[f\"({Q2_y_Bin}, {z_pT_Bin})\"].GetYaxis().SetRangeUser(0.01, 1.0 if(Skip_z_pT_Q) else 0.8)\n",
    "        z_vs_pT_Histo[f\"({Q2_y_Bin}, {z_pT_Bin})\"].GetXaxis().SetRangeUser(0,    1.6 if(Skip_z_pT_Q) else 1.1)\n",
    "\n",
    "#         canvas_main[f\"({Q2_y_Bin}, {z_pT_Bin})\"] = Canvas_Create(Name=f\"({Q2_y_Bin}, {z_pT_Bin})\", Num_Columns=3 if(Use_xB) else 2, Num_Rows=1, Size_X=1600, Size_Y=1200, cd_Space=0)\n",
    "        canvas_main[f\"({Q2_y_Bin}, {z_pT_Bin})\"] = Canvas_Create(Name=f\"({Q2_y_Bin}, {z_pT_Bin})\", Num_Columns=1, Num_Rows=3 if(Use_xB) else 2, Size_X=1200, Size_Y=1600, cd_Space=0)\n",
    "        Draw_Canvas(canvas=canvas_main[f\"({Q2_y_Bin}, {z_pT_Bin})\"], cd_num=1, left_add=0.15, right_add=0.15, up_add=0.15, down_add=0.15)\n",
    "        Q2_vs_y_Histo[f\"({Q2_y_Bin}, {z_pT_Bin})\"].Draw(\"colz\")\n",
    "        Q2_vs_y_Histo[f\"({Q2_y_Bin}, {z_pT_Bin})\"].SetStats(ROOT.kTRUE)  # Ensure statistics box is enabled\n",
    "        ROOT.gStyle.SetOptStat(1100)  # '11' means decimal part of precision, '00'\n",
    "        \n",
    "        statbox[f\"Q2_vs_y_({Q2_y_Bin}, {z_pT_Bin})\"] = Q2_vs_y_Histo[f\"({Q2_y_Bin}, {z_pT_Bin})\"].GetListOfFunctions().FindObject(\"stats\")\n",
    "        if(statbox[f\"Q2_vs_y_({Q2_y_Bin}, {z_pT_Bin})\"]):\n",
    "            statbox[f\"Q2_vs_y_({Q2_y_Bin}, {z_pT_Bin})\"].SetX1NDC(0.55)   # X position of left edge\n",
    "            statbox[f\"Q2_vs_y_({Q2_y_Bin}, {z_pT_Bin})\"].SetX2NDC(0.85)  # X position of right edge\n",
    "            statbox[f\"Q2_vs_y_({Q2_y_Bin}, {z_pT_Bin})\"].SetY1NDC(0.15)  # Y position of bottom edge\n",
    "            statbox[f\"Q2_vs_y_({Q2_y_Bin}, {z_pT_Bin})\"].SetY2NDC(0.25)  # Y position of top edge\n",
    "        for Q2_Y_Bin_ii in range(1, 18, 1):\n",
    "            for line in Q2_y_borders[Q2_Y_Bin_ii]:\n",
    "                line.SetLineColor(ROOT.kBlack)\n",
    "                line.SetLineWidth(2)\n",
    "                line.Draw(\"same\")\n",
    "        if(Q2_y_Bin not in [0, \"All\"]):\n",
    "            for line_current in Q2_y_borders[f\"{Q2_y_Bin}_RED\"]:\n",
    "                line_current.Draw(\"same\")\n",
    "            \n",
    "        Draw_Canvas(canvas=canvas_main[f\"({Q2_y_Bin}, {z_pT_Bin})\"], cd_num=2, left_add=0.15, right_add=0.15, up_add=0.15, down_add=0.15)\n",
    "        z_vs_pT_Histo[f\"({Q2_y_Bin}, {z_pT_Bin})\"].Draw(\"colz\")\n",
    "        z_vs_pT_Histo[f\"({Q2_y_Bin}, {z_pT_Bin})\"].SetStats(ROOT.kTRUE)  # Ensure statistics box is enabled\n",
    "        ROOT.gStyle.SetOptStat(1100)  # '11' means decimal part of precision, '00'\n",
    "        statbox[f\"z_vs_pT_({Q2_y_Bin}, {z_pT_Bin})\"] = z_vs_pT_Histo[f\"({Q2_y_Bin}, {z_pT_Bin})\"].GetListOfFunctions().FindObject(\"stats\")\n",
    "        if(statbox[f\"z_vs_pT_({Q2_y_Bin}, {z_pT_Bin})\"]):\n",
    "            statbox[f\"z_vs_pT_({Q2_y_Bin}, {z_pT_Bin})\"].SetX1NDC(0.55)   # X position of left edge\n",
    "            statbox[f\"z_vs_pT_({Q2_y_Bin}, {z_pT_Bin})\"].SetX2NDC(0.85)  # X position of right edge\n",
    "            statbox[f\"z_vs_pT_({Q2_y_Bin}, {z_pT_Bin})\"].SetY1NDC(0.15)  # Y position of bottom edge\n",
    "            statbox[f\"z_vs_pT_({Q2_y_Bin}, {z_pT_Bin})\"].SetY2NDC(0.25)  # Y position of top edge\n",
    "        if(Q2_y_Bin not in [\"All\", \"0\", 0]):\n",
    "            Draw_z_pT_Bins_With_Migration(Q2_y_Bin_Num_In=int(Q2_y_Bin), Set_Max_Y=1.2, Set_Max_X=1.2, Plot_Orientation_Input=\"z_pT\")\n",
    "            \n",
    "        if(Use_xB):\n",
    "            Draw_Canvas(canvas=canvas_main[f\"({Q2_y_Bin}, {z_pT_Bin})\"], cd_num=3, left_add=0.15, right_add=0.15, up_add=0.15, down_add=0.15)\n",
    "            Q2_vs_xB_Histo[f\"({Q2_y_Bin}, {z_pT_Bin})\"].Draw(\"colz\")\n",
    "            Q2_vs_xB_Histo[f\"({Q2_y_Bin}, {z_pT_Bin})\"].SetStats(ROOT.kTRUE)  # Ensure statistics box is enabled\n",
    "            ROOT.gStyle.SetOptStat(1100)  # '11' means decimal part of precision, '00'\n",
    "            statbox[f\"Q2_vs_xB_({Q2_y_Bin}, {z_pT_Bin})\"] = Q2_vs_xB_Histo[f\"({Q2_y_Bin}, {z_pT_Bin})\"].GetListOfFunctions().FindObject(\"stats\")\n",
    "            if(statbox[f\"Q2_vs_xB_({Q2_y_Bin}, {z_pT_Bin})\"]):\n",
    "                statbox[f\"Q2_vs_xB_({Q2_y_Bin}, {z_pT_Bin})\"].SetX1NDC(0.55)   # X position of left edge\n",
    "                statbox[f\"Q2_vs_xB_({Q2_y_Bin}, {z_pT_Bin})\"].SetX2NDC(0.85)  # X position of right edge\n",
    "                statbox[f\"Q2_vs_xB_({Q2_y_Bin}, {z_pT_Bin})\"].SetY1NDC(0.15)  # Y position of bottom edge\n",
    "                statbox[f\"Q2_vs_xB_({Q2_y_Bin}, {z_pT_Bin})\"].SetY2NDC(0.25)  # Y position of top edge\n",
    "            \n",
    "        mean_Q2 = Q2_vs_y_Histo[f\"({Q2_y_Bin}, {z_pT_Bin})\"].GetMean(2)  # 2 denotes the Y-axis\n",
    "        mean__y = Q2_vs_y_Histo[f\"({Q2_y_Bin}, {z_pT_Bin})\"].GetMean(1)  # 1 denotes the X-axis\n",
    "        Q2_vs_y_entries = Q2_vs_y_Histo[f\"({Q2_y_Bin}, {z_pT_Bin})\"].GetEntries()\n",
    "        sdev_Q2 = Q2_vs_y_Histo[f\"({Q2_y_Bin}, {z_pT_Bin})\"].GetStdDev(2)\n",
    "        sdev__y = Q2_vs_y_Histo[f\"({Q2_y_Bin}, {z_pT_Bin})\"].GetStdDev(1)\n",
    "        ErrorQ2 = (sdev_Q2/ROOT.sqrt(Q2_vs_y_entries)) if(Q2_vs_y_entries > 0) else 0\n",
    "        Error_y = (sdev__y/ROOT.sqrt(Q2_vs_y_entries)) if(Q2_vs_y_entries > 0) else 0\n",
    "        \n",
    "        mean__z = z_vs_pT_Histo[f\"({Q2_y_Bin}, {z_pT_Bin})\"].GetMean(2)  # 2 denotes the Y-axis\n",
    "        mean_pT = z_vs_pT_Histo[f\"({Q2_y_Bin}, {z_pT_Bin})\"].GetMean(1)  # 1 denotes the X-axis\n",
    "        z_vs_pT_entries = z_vs_pT_Histo[f\"({Q2_y_Bin}, {z_pT_Bin})\"].GetEntries()\n",
    "        sdev__z = z_vs_pT_Histo[f\"({Q2_y_Bin}, {z_pT_Bin})\"].GetStdDev(2)\n",
    "        sdev_pT = z_vs_pT_Histo[f\"({Q2_y_Bin}, {z_pT_Bin})\"].GetStdDev(1)\n",
    "        Error_z = (sdev__z/ROOT.sqrt(z_vs_pT_entries)) if(z_vs_pT_entries > 0) else 0\n",
    "        ErrorpT = (sdev_pT/ROOT.sqrt(z_vs_pT_entries)) if(z_vs_pT_entries > 0) else 0\n",
    "        \n",
    "        if(Use_xB):\n",
    "            mean_xB     = Q2_vs_xB_Histo[f\"({Q2_y_Bin}, {z_pT_Bin})\"].GetMean(1)  # 1 denotes the X-axis\n",
    "            mean_Q2_xB  = Q2_vs_xB_Histo[f\"({Q2_y_Bin}, {z_pT_Bin})\"].GetMean(2)\n",
    "            Q2_vs_xB_entries = Q2_vs_xB_Histo[f\"({Q2_y_Bin}, {z_pT_Bin})\"].GetEntries()\n",
    "            sdev_xB = Q2_vs_xB_Histo[f\"({Q2_y_Bin}, {z_pT_Bin})\"].GetStdDev(1)\n",
    "            ErrorxB = (sdev_xB/ROOT.sqrt(Q2_vs_xB_entries)) if(Q2_vs_xB_entries > 0) else 0\n",
    "            if(round(mean_Q2, 3) != round(mean_Q2_xB, 3)):\n",
    "                print(f\"\"\"{color.Error}\n",
    "Q2_vs_y_Histo[f\"({Q2_y_Bin}, {z_pT_Bin})\"].GetMean(2)  = {mean_Q2}\n",
    "Q2_vs_xB_Histo[f\"({Q2_y_Bin}, {z_pT_Bin})\"].GetMean(2) = {mean_Q2_xB}\n",
    "{color.END}\"\"\")\n",
    "            if(Print_Centers):\n",
    "                print(f\"For ({Q2_y_Bin}-{z_pT_Bin}):\\t [mean_Q2, ErrorQ2, mean__y, Error_y, mean__z, Error_z, mean_pT, ErrorpT, mean_xB, ErrorxB] = [{round(mean_Q2, 3)}, {round(ErrorQ2, 7)}, {round(mean__y, 4)}, {round(Error_y, 7)}, {round(mean__z, 4)}, {round(Error_z, 7)}, {round(mean_pT, 4)}, {round(ErrorpT, 7)}, {round(mean_xB, 4)}, {round(ErrorxB, 7)}]\")\n",
    "            Final_Output[f\"{Q2_y_Bin}-{z_pT_Bin}\"] = [round(mean_Q2, 3), round(ErrorQ2, 7), round(mean__y, 4), round(Error_y, 7), round(mean__z, 4), round(Error_z, 7), round(mean_pT, 4), round(ErrorpT, 7), round(mean_xB, 4), round(ErrorxB, 7)]\n",
    "        else:\n",
    "            if(Print_Centers):\n",
    "                print(f\"For ({Q2_y_Bin}-{z_pT_Bin}):\\t [mean_Q2, ErrorQ2, mean__y, Error_y, mean__z, Error_z, mean_pT, ErrorpT] = [{round(mean_Q2, 3)}, {round(ErrorQ2, 7)}, {round(mean__y, 4)}, {round(Error_y, 7)}, {round(mean__z, 4)}, {round(Error_z, 7)}, {round(mean_pT, 4)}, {round(ErrorpT, 7)}]\")\n",
    "            Final_Output[f\"{Q2_y_Bin}-{z_pT_Bin}\"] = [round(mean_Q2, 3), round(ErrorQ2, 7), round(mean__y, 4), round(Error_y, 7), round(mean__z, 4), round(Error_z, 7), round(mean_pT, 4), round(ErrorpT, 7)]\n",
    "            \n",
    "        if(Draw_Histos):\n",
    "            canvas_main[f\"({Q2_y_Bin}, {z_pT_Bin})\"].Draw()\n",
    "        if(Save_Histos):\n",
    "            Save_Name = f\"Normal_2D_Histos_For_Q2_y_Bin_{Q2_y_Bin}_z_pT_Bin_{z_pT_Bin}.pdf\"\n",
    "            canvas_main[f\"({Q2_y_Bin}, {z_pT_Bin})\"].SaveAs(Save_Name)\n",
    "            print(f\"\\n{color.BBLUE}Saved: {color.UNDERLINE}{Save_Name}{color.END}\\n\")\n",
    "            \n",
    "\n",
    "print(f\"\\n{color.BOLD}Done{color.END}\")"
   ]
  },
  {
   "cell_type": "markdown",
   "id": "palestinian-ottawa",
   "metadata": {},
   "source": [
    ".\n",
    "\n",
    ".\n",
    "\n",
    "."
   ]
  },
  {
   "cell_type": "markdown",
   "id": "artistic-holmes",
   "metadata": {
    "tags": [
     "Main_Output"
    ]
   },
   "source": [
    "# Making Final Output\n",
    "Use the final text printed from this cell as the reference for bin centers"
   ]
  },
  {
   "cell_type": "code",
   "execution_count": 5,
   "id": "miniature-participation",
   "metadata": {},
   "outputs": [
    {
     "name": "stdout",
     "output_type": "stream",
     "text": [
      "\u001b[1m\n",
      "\n",
      "Get_Bin_Center_Dictionary = {'Key': ['mean_Q2', 'ErrorQ2', 'mean__y', 'Error_y', 'mean__z', 'Error_z', 'mean_pT', 'ErrorpT', 'mean_xB', 'ErrorxB'], '1-All': [2.195, 0.0001045, 0.6999, 2.63e-05, 0.2895, 9.84e-05, 0.4708, 0.0001568, 0.1578, 1.04e-05], '1-1': [2.217, 0.0023617, 0.6755, 0.0004398, 0.4782, 0.001501, 0.1893, 0.0005249, 0.1652, 0.0002232], '1-2': [2.202, 0.0010723, 0.6877, 0.0002493, 0.483, 0.0006689, 0.2795, 0.0002574, 0.1611, 0.000105], '1-3': [2.199, 0.0007336, 0.6928, 0.0001798, 0.4861, 0.0004618, 0.374, 0.0001832, 0.1598, 7.29e-05], '1-4': [2.196, 0.000636, 0.695, 0.0001578, 0.4909, 0.0004022, 0.4711, 0.0001587, 0.1591, 6.36e-05], '1-5': [2.197, 0.000597, 0.6961, 0.0001494, 0.4951, 0.000384, 0.5748, 0.0001647, 0.1589, 5.96e-05], '1-6': [2.194, 0.0006202, 0.697, 0.0001549, 0.4981, 0.0004005, 0.6874, 0.0001863, 0.1585, 6.15e-05], '1-7': [2.195, 0.0005734, 0.6976, 0.0001444, 0.5058, 0.0003835, 0.8512, 0.0003359, 0.1583, 5.74e-05], '1-8': [2.203, 0.0013036, 0.6864, 0.0002992, 0.3298, 0.0003362, 0.1874, 0.0002946, 0.1616, 0.0001274], '1-9': [2.199, 0.0006592, 0.6943, 0.0001633, 0.3334, 0.0001745, 0.2762, 0.0001618, 0.1595, 6.58e-05], '1-10': [2.196, 0.0005237, 0.6971, 0.0001309, 0.3356, 0.0001411, 0.3718, 0.0001313, 0.1586, 5.22e-05], '1-11': [2.195, 0.000485, 0.698, 0.0001216, 0.3359, 0.0001314, 0.4704, 0.0001214, 0.1583, 4.82e-05], '1-12': [2.195, 0.0004794, 0.6987, 0.000121, 0.337, 0.0001302, 0.573, 0.0001326, 0.1581, 4.8e-05], '1-13': [2.195, 0.0005388, 0.6992, 0.0001352, 0.3383, 0.0001476, 0.6854, 0.000162, 0.158, 5.34e-05], '1-14': [2.193, 0.0006019, 0.7012, 0.0001507, 0.3427, 0.0001626, 0.8379, 0.0003314, 0.1575, 5.95e-05], '1-15': [2.202, 0.000931, 0.6913, 0.0002267, 0.2554, 0.0001371, 0.1837, 0.0002267, 0.1603, 9.31e-05], '1-16': [2.197, 0.0005665, 0.6969, 0.0001419, 0.2568, 8.42e-05, 0.274, 0.0001405, 0.1587, 5.66e-05], '1-17': [2.194, 0.0004655, 0.698, 0.0001169, 0.2566, 6.92e-05, 0.3724, 0.0001162, 0.1582, 4.63e-05], '1-18': [2.194, 0.0004384, 0.6987, 0.0001105, 0.257, 6.51e-05, 0.4699, 0.0001096, 0.1581, 4.38e-05], '1-19': [2.195, 0.000462, 0.6997, 0.0001161, 0.2578, 6.86e-05, 0.5715, 0.0001269, 0.1579, 4.58e-05], '1-20': [2.193, 0.0005984, 0.7021, 0.0001482, 0.2599, 8.73e-05, 0.6812, 0.0001734, 0.1572, 5.89e-05], '1-22': [2.2, 0.0007702, 0.6941, 0.0001908, 0.208, 7.49e-05, 0.1785, 0.0002034, 0.1596, 7.72e-05], '1-23': [2.196, 0.0005135, 0.6975, 0.0001291, 0.2082, 5.01e-05, 0.2753, 0.0001279, 0.1584, 5.11e-05], '1-24': [2.195, 0.0004169, 0.6984, 0.0001046, 0.2084, 4.06e-05, 0.3717, 0.0001041, 0.1582, 4.13e-05], '1-25': [2.194, 0.0004177, 0.6998, 0.0001048, 0.2089, 4.07e-05, 0.4681, 0.0001041, 0.1578, 4.13e-05], '1-26': [2.191, 0.000517, 0.704, 0.0001276, 0.2108, 4.96e-05, 0.566, 0.0001367, 0.1566, 5.05e-05], '1-29': [2.199, 0.0008714, 0.7069, 0.0002078, 0.178, 5.63e-05, 0.1761, 0.0002412, 0.1565, 8.44e-05], '1-30': [2.193, 0.0005766, 0.7095, 0.0001356, 0.1777, 3.79e-05, 0.2757, 0.0001425, 0.1555, 5.52e-05], '1-31': [2.194, 0.0004792, 0.7102, 0.000112, 0.1777, 3.13e-05, 0.3707, 0.0001194, 0.1554, 4.57e-05], '1-32': [2.192, 0.0005288, 0.7115, 0.0001215, 0.1781, 3.4e-05, 0.4655, 0.0001301, 0.155, 4.96e-05], '2-All': [2.198, 0.0001061, 0.6003, 2.65e-05, 0.3394, 0.0001146, 0.4475, 0.0001612, 0.1845, 1.29e-05], '2-1': [2.207, 0.0010161, 0.5885, 0.0002379, 0.5979, 0.000626, 0.1882, 0.0004057, 0.1889, 0.0001205], '2-2': [2.202, 0.0008866, 0.5942, 0.0002175, 0.5966, 0.0005373, 0.3032, 0.0002213, 0.1866, 0.0001071], '2-3': [2.2, 0.0007792, 0.5955, 0.0001919, 0.5916, 0.0004618, 0.4018, 0.0001936, 0.1861, 9.44e-05], '2-4': [2.199, 0.0007655, 0.5962, 0.0001919, 0.5932, 0.0004604, 0.4953, 0.0001732, 0.1859, 9.31e-05], '2-5': [2.2, 0.0006636, 0.5968, 0.000164, 0.5957, 0.0003982, 0.6029, 0.000215, 0.1857, 8e-05], '2-6': [2.197, 0.0005847, 0.5985, 0.0001466, 0.5978, 0.0003482, 0.7813, 0.0003719, 0.1849, 7.08e-05], '2-7': [2.205, 0.000857, 0.5917, 0.0002062, 0.4311, 0.0002548, 0.1905, 0.0003262, 0.1877, 0.0001038], '2-8': [2.201, 0.0006877, 0.5957, 0.0001718, 0.4298, 0.0002032, 0.3036, 0.0001722, 0.1861, 8.42e-05], '2-9': [2.2, 0.0006048, 0.5973, 0.0001507, 0.4314, 0.0001793, 0.4007, 0.0001528, 0.1856, 7.39e-05], '2-10': [2.197, 0.0006345, 0.598, 0.0001588, 0.4321, 0.0001892, 0.4946, 0.0001434, 0.1851, 7.7e-05], '2-11': [2.197, 0.0005639, 0.5986, 0.0001414, 0.4326, 0.0001684, 0.6021, 0.0001835, 0.1849, 6.87e-05], '2-12': [2.196, 0.0005537, 0.5998, 0.0001388, 0.4348, 0.000167, 0.7738, 0.0003443, 0.1845, 6.73e-05], '2-13': [2.203, 0.0007468, 0.594, 0.0001833, 0.3413, 0.0001295, 0.1934, 0.0002714, 0.1868, 9.11e-05], '2-14': [2.2, 0.0006089, 0.5973, 0.0001521, 0.3419, 0.0001059, 0.3025, 0.0001518, 0.1855, 7.44e-05], '2-15': [2.199, 0.0005613, 0.5981, 0.0001407, 0.3418, 9.82e-05, 0.4011, 0.0001415, 0.1852, 6.85e-05], '2-16': [2.198, 0.0005862, 0.5984, 0.0001473, 0.3418, 0.0001022, 0.4945, 0.0001324, 0.185, 7.13e-05], '2-17': [2.197, 0.0005428, 0.5991, 0.0001356, 0.3424, 9.44e-05, 0.601, 0.000175, 0.1848, 6.59e-05], '2-18': [2.195, 0.0006235, 0.6032, 0.000154, 0.3451, 0.0001081, 0.7577, 0.0003562, 0.1833, 7.48e-05], '2-19': [2.202, 0.0006493, 0.5954, 0.0001612, 0.2828, 8.02e-05, 0.1935, 0.0002288, 0.1864, 7.91e-05], '2-20': [2.199, 0.0005705, 0.598, 0.0001431, 0.2831, 7.04e-05, 0.3019, 0.0001428, 0.1852, 6.96e-05], '2-21': [2.198, 0.0005068, 0.5984, 0.0001274, 0.2829, 6.26e-05, 0.4012, 0.0001271, 0.1851, 6.17e-05], '2-22': [2.197, 0.0005368, 0.5993, 0.0001348, 0.2833, 6.65e-05, 0.494, 0.0001216, 0.1847, 6.53e-05], '2-23': [2.195, 0.0005436, 0.6018, 0.0001348, 0.2843, 6.73e-05, 0.597, 0.0001749, 0.1837, 6.55e-05], '2-25': [2.202, 0.0006816, 0.5962, 0.0001703, 0.2443, 4.89e-05, 0.1905, 0.0002415, 0.1861, 8.33e-05], '2-26': [2.198, 0.0006084, 0.5981, 0.0001527, 0.2442, 4.35e-05, 0.3034, 0.0001538, 0.1851, 7.43e-05], '2-27': [2.198, 0.0005348, 0.5987, 0.0001341, 0.2443, 3.82e-05, 0.4006, 0.0001338, 0.185, 6.54e-05], '2-28': [2.197, 0.0006047, 0.6015, 0.0001498, 0.2447, 4.33e-05, 0.4921, 0.0001359, 0.184, 7.26e-05], '2-29': [2.194, 0.0007224, 0.6062, 0.0001765, 0.2454, 5.13e-05, 0.5919, 0.0002209, 0.1823, 8.61e-05], '2-31': [2.201, 0.0005729, 0.6056, 0.0001359, 0.2124, 5.23e-05, 0.1884, 0.0002124, 0.183, 6.75e-05], '2-32': [2.198, 0.000495, 0.6075, 0.0001165, 0.212, 4.55e-05, 0.3038, 0.0001231, 0.1822, 5.79e-05], '2-33': [2.198, 0.0004562, 0.6085, 0.0001063, 0.2123, 4.19e-05, 0.3992, 0.0001135, 0.1818, 5.31e-05], '2-34': [2.194, 0.0005834, 0.6112, 0.0001336, 0.2131, 5.29e-05, 0.4905, 0.0001307, 0.1807, 6.72e-05], '3-All': [2.201, 0.0001139, 0.5014, 2.86e-05, 0.3884, 0.0001255, 0.4012, 0.0001591, 0.2213, 1.79e-05], '3-1': [2.205, 0.00095, 0.4932, 0.0002317, 0.6464, 0.0004597, 0.1459, 0.0003149, 0.2254, 0.0001476], '3-2': [2.204, 0.0008509, 0.4945, 0.0002112, 0.6468, 0.0004102, 0.2503, 0.0002144, 0.2247, 0.000134], '3-3': [2.205, 0.0008558, 0.496, 0.0002158, 0.6426, 0.0004096, 0.3458, 0.000195, 0.2242, 0.0001367], '3-4': [2.203, 0.0007628, 0.4967, 0.0001912, 0.6384, 0.0003558, 0.441, 0.0001919, 0.2236, 0.0001198], '3-5': [2.201, 0.0007611, 0.4974, 0.0001928, 0.639, 0.0003517, 0.5388, 0.000193, 0.2231, 0.0001199], '3-6': [2.199, 0.0006931, 0.5002, 0.0001725, 0.633, 0.0002972, 0.6671, 0.0002947, 0.2217, 0.0001084], '3-7': [2.204, 0.0007601, 0.4949, 0.0001866, 0.476, 0.0002838, 0.1479, 0.0002388, 0.2246, 0.0001186], '3-8': [2.204, 0.0006435, 0.4966, 0.0001612, 0.4719, 0.0002403, 0.2535, 0.0001618, 0.2238, 0.0001016], '3-9': [2.202, 0.0005767, 0.4973, 0.0001443, 0.4719, 0.0002117, 0.3461, 0.0001297, 0.2232, 9.08e-05], '3-10': [2.203, 0.0005345, 0.4981, 0.000135, 0.4744, 0.0002001, 0.4392, 0.0001351, 0.223, 8.47e-05], '3-11': [2.201, 0.0005622, 0.4984, 0.0001421, 0.4744, 0.0002117, 0.5386, 0.000142, 0.2226, 8.91e-05], '3-12': [2.2, 0.0005154, 0.5001, 0.000129, 0.477, 0.0001941, 0.6656, 0.0002181, 0.2217, 8.09e-05], '3-13': [2.205, 0.0007604, 0.4958, 0.0001899, 0.3661, 0.0001528, 0.1525, 0.0002279, 0.2242, 0.0001198], '3-14': [2.205, 0.0005638, 0.4965, 0.0001421, 0.3659, 0.0001125, 0.2532, 0.000141, 0.2239, 8.9e-05], '3-15': [2.203, 0.0005458, 0.4978, 0.0001378, 0.3665, 0.0001094, 0.3455, 0.0001236, 0.2231, 8.61e-05], '3-16': [2.2, 0.0005145, 0.4984, 0.0001299, 0.3662, 0.0001033, 0.4399, 0.0001299, 0.2225, 8.12e-05], '3-17': [2.199, 0.0005501, 0.5008, 0.0001374, 0.3674, 0.0001103, 0.5373, 0.0001383, 0.2214, 8.59e-05], '3-18': [2.197, 0.000607, 0.5054, 0.0001487, 0.3699, 0.0001218, 0.6585, 0.0002497, 0.2191, 9.33e-05], '3-19': [2.203, 0.0007365, 0.4956, 0.0001844, 0.3031, 9.14e-05, 0.1567, 0.0002007, 0.2242, 0.0001158], '3-20': [2.204, 0.0005674, 0.4975, 0.0001422, 0.3037, 7.04e-05, 0.2519, 0.0001424, 0.2234, 8.97e-05], '3-21': [2.202, 0.0005538, 0.4989, 0.0001394, 0.3035, 6.89e-05, 0.346, 0.0001265, 0.2225, 8.73e-05], '3-22': [2.199, 0.0005189, 0.5013, 0.0001287, 0.304, 6.44e-05, 0.4384, 0.0001306, 0.221, 8.05e-05], '3-23': [2.198, 0.0006394, 0.5055, 0.0001576, 0.305, 8e-05, 0.5351, 0.0001601, 0.2191, 9.86e-05], '3-24': [2.195, 0.0008149, 0.5074, 0.0002009, 0.3064, 0.000101, 0.6497, 0.00031, 0.218, 0.0001254], '3-25': [2.203, 0.000654, 0.5075, 0.0001558, 0.2553, 8.72e-05, 0.1548, 0.0001737, 0.2187, 9.83e-05], '3-26': [2.202, 0.0005246, 0.5088, 0.0001246, 0.2554, 7.06e-05, 0.252, 0.0001327, 0.218, 7.88e-05], '3-27': [2.199, 0.0004972, 0.5108, 0.0001149, 0.2546, 6.74e-05, 0.346, 0.000112, 0.2169, 7.36e-05], '3-28': [2.197, 0.0005235, 0.5138, 0.0001176, 0.2558, 7.04e-05, 0.4355, 0.0001312, 0.2153, 7.61e-05], '3-29': [2.197, 0.0007001, 0.5127, 0.0001612, 0.2564, 9.35e-05, 0.5347, 0.0001737, 0.2157, 0.0001033], '4-All': [2.203, 0.0001362, 0.4051, 3.38e-05, 0.4407, 0.0001289, 0.3652, 0.0001859, 0.2746, 2.95e-05], '4-1': [2.203, 0.0009399, 0.3991, 0.0002352, 0.6459, 0.0002843, 0.1426, 0.0003259, 0.2788, 0.0002071], '4-2': [2.204, 0.0009025, 0.3999, 0.0002223, 0.6447, 0.0002691, 0.2458, 0.000204, 0.2782, 0.000194], '4-3': [2.205, 0.0009139, 0.4, 0.0002237, 0.6412, 0.0002669, 0.3341, 0.0002084, 0.2783, 0.0001948], '4-4': [2.199, 0.000883, 0.4038, 0.0002114, 0.6361, 0.0002434, 0.4295, 0.0002219, 0.2748, 0.0001824], '4-5': [2.195, 0.000943, 0.413, 0.0002018, 0.6333, 0.0002526, 0.5363, 0.0003045, 0.2678, 0.0001719], '4-7': [2.206, 0.0009225, 0.3986, 0.0002342, 0.5429, 0.0002116, 0.1452, 0.000309, 0.2795, 0.0002071], '4-8': [2.209, 0.0008464, 0.3962, 0.000213, 0.5419, 0.0001937, 0.2467, 0.000192, 0.2816, 0.0001891], '4-9': [2.206, 0.0007655, 0.3955, 0.0001924, 0.5407, 0.0001728, 0.3366, 0.0001739, 0.2818, 0.0001716], '4-10': [2.205, 0.0007097, 0.3979, 0.0001774, 0.542, 0.000161, 0.4288, 0.0001794, 0.2799, 0.0001572], '4-11': [2.203, 0.0007385, 0.4029, 0.0001788, 0.5426, 0.0001673, 0.5392, 0.0002418, 0.276, 0.0001561], '4-12': [2.192, 0.0009484, 0.4164, 0.0001945, 0.5423, 0.0002134, 0.6867, 0.0004861, 0.2653, 0.0001707], '4-13': [2.206, 0.0009023, 0.3992, 0.0002307, 0.4635, 0.0001601, 0.1488, 0.0002893, 0.2793, 0.0002036], '4-14': [2.207, 0.0007482, 0.396, 0.0001893, 0.462, 0.0001314, 0.2476, 0.0001693, 0.2817, 0.000168], '4-15': [2.206, 0.0006753, 0.3972, 0.0001704, 0.4626, 0.000118, 0.3353, 0.0001518, 0.2806, 0.0001512], '4-16': [2.205, 0.0006971, 0.4002, 0.0001715, 0.4637, 0.000122, 0.4278, 0.0001744, 0.2783, 0.000152], '4-17': [2.199, 0.0007431, 0.4061, 0.0001796, 0.4641, 0.0001306, 0.539, 0.0002412, 0.2734, 0.0001565], '4-18': [2.196, 0.0010076, 0.4122, 0.000233, 0.4652, 0.0001775, 0.6864, 0.0005169, 0.2688, 0.000204], '4-19': [2.205, 0.0009324, 0.3988, 0.0002338, 0.4037, 0.0001155, 0.1538, 0.0002795, 0.2793, 0.0002068], '4-20': [2.207, 0.0007122, 0.3966, 0.0001791, 0.4036, 8.91e-05, 0.2474, 0.0001599, 0.2812, 0.0001594], '4-21': [2.205, 0.0006962, 0.3996, 0.0001735, 0.4042, 8.68e-05, 0.334, 0.0001584, 0.2787, 0.000153], '4-22': [2.203, 0.0007553, 0.4049, 0.0001831, 0.4047, 9.4e-05, 0.4267, 0.0001915, 0.2748, 0.0001608], '4-23': [2.198, 0.0008436, 0.4082, 0.0002081, 0.4048, 0.0001053, 0.5368, 0.0002744, 0.2719, 0.000181], '4-24': [2.196, 0.0011854, 0.4094, 0.0002878, 0.405, 0.0001483, 0.6862, 0.0006133, 0.2707, 0.000249], '4-25': [2.205, 0.0007615, 0.3983, 0.0001901, 0.3533, 9.41e-05, 0.1579, 0.000209, 0.2797, 0.0001675], '4-26': [2.206, 0.0006062, 0.3985, 0.0001527, 0.3541, 7.54e-05, 0.2454, 0.0001371, 0.2797, 0.0001348], '4-27': [2.204, 0.00065, 0.4037, 0.0001577, 0.3546, 8.06e-05, 0.3329, 0.0001472, 0.2756, 0.0001392], '4-28': [2.2, 0.0007313, 0.4091, 0.0001744, 0.355, 9.05e-05, 0.4272, 0.0001832, 0.2714, 0.0001524], '4-29': [2.199, 0.0008432, 0.4075, 0.0002076, 0.3549, 0.000105, 0.5364, 0.0002739, 0.2725, 0.0001815], '4-31': [2.204, 0.0007717, 0.4186, 0.0001472, 0.3051, 0.0001106, 0.1576, 0.0001999, 0.2651, 0.0001378], '4-32': [2.206, 0.0006739, 0.4186, 0.0001276, 0.3059, 9.55e-05, 0.2452, 0.0001537, 0.2655, 0.0001202], '4-33': [2.201, 0.0007248, 0.422, 0.0001278, 0.3053, 0.0001031, 0.3326, 0.0001624, 0.2626, 0.0001229], '4-34': [2.199, 0.000818, 0.4232, 0.000144, 0.3055, 0.0001159, 0.4265, 0.0002064, 0.2617, 0.0001378], '4-35': [2.197, 0.0009521, 0.4219, 0.0001728, 0.3053, 0.0001363, 0.5379, 0.0003062, 0.2622, 0.0001649], '5-All': [2.637, 0.0001327, 0.6993, 2.66e-05, 0.2929, 0.0001015, 0.4622, 0.000159, 0.1899, 1.26e-05], '5-1': [2.671, 0.0036569, 0.6751, 0.0005247, 0.5679, 0.0015315, 0.1813, 0.0007979, 0.1991, 0.0003217], '5-2': [2.649, 0.0019503, 0.685, 0.0003456, 0.5626, 0.0007373, 0.2775, 0.0003797, 0.1946, 0.0001804], '5-3': [2.643, 0.0015103, 0.6903, 0.0002874, 0.5627, 0.000573, 0.3684, 0.0002665, 0.1928, 0.0001424], '5-4': [2.642, 0.0012026, 0.6924, 0.0002353, 0.5627, 0.0004528, 0.4619, 0.0002414, 0.1921, 0.0001142], '5-5': [2.639, 0.000993, 0.6936, 0.000195, 0.5649, 0.0003744, 0.5793, 0.0002768, 0.1916, 9.39e-05], '5-6': [2.637, 0.0007914, 0.6951, 0.0001567, 0.5691, 0.0003034, 0.7878, 0.0005044, 0.191, 7.46e-05], '5-7': [2.66, 0.0024675, 0.6828, 0.0004218, 0.4248, 0.0005307, 0.1815, 0.0005231, 0.1962, 0.0002246], '5-8': [2.646, 0.0013153, 0.692, 0.0002546, 0.4244, 0.0002819, 0.2771, 0.0002524, 0.1924, 0.0001258], '5-9': [2.64, 0.001039, 0.6949, 0.0002054, 0.4255, 0.0002235, 0.3675, 0.0001856, 0.1913, 9.87e-05], '5-10': [2.639, 0.0009035, 0.6965, 0.0001794, 0.4267, 0.0001942, 0.4606, 0.0001802, 0.1908, 8.54e-05], '5-11': [2.637, 0.0007751, 0.697, 0.0001551, 0.4278, 0.0001678, 0.578, 0.0002169, 0.1905, 7.39e-05], '5-12': [2.635, 0.0006928, 0.6984, 0.0001391, 0.4295, 0.0001517, 0.778, 0.000429, 0.19, 6.56e-05], '5-13': [2.649, 0.0016406, 0.6876, 0.0003004, 0.3329, 0.0002511, 0.1826, 0.0003384, 0.1939, 0.0001516], '5-14': [2.64, 0.0009209, 0.6945, 0.0001802, 0.3342, 0.0001436, 0.2758, 0.0001804, 0.1914, 8.73e-05], '5-15': [2.639, 0.0007997, 0.6966, 0.0001599, 0.3355, 0.000126, 0.3664, 0.000144, 0.1907, 7.58e-05], '5-16': [2.638, 0.0007165, 0.6971, 0.0001427, 0.3353, 0.0001131, 0.4606, 0.0001429, 0.1906, 6.79e-05], '5-17': [2.636, 0.0006344, 0.6982, 0.0001271, 0.3358, 0.0001009, 0.5768, 0.0001775, 0.1901, 6e-05], '5-18': [2.634, 0.0006398, 0.6995, 0.000128, 0.3378, 0.0001013, 0.7642, 0.0003708, 0.1896, 6.04e-05], '5-19': [2.648, 0.0011738, 0.6912, 0.0002248, 0.2658, 0.0001367, 0.1811, 0.0002439, 0.1929, 0.0001106], '5-20': [2.639, 0.00074, 0.6964, 0.0001478, 0.2669, 8.72e-05, 0.2739, 0.000146, 0.1908, 7e-05], '5-21': [2.638, 0.0006631, 0.6974, 0.0001328, 0.2667, 7.82e-05, 0.3669, 0.000119, 0.1904, 6.29e-05], '5-22': [2.638, 0.0005903, 0.698, 0.0001181, 0.2671, 6.98e-05, 0.4598, 0.0001173, 0.1902, 5.59e-05], '5-23': [2.636, 0.0005534, 0.6988, 0.0001105, 0.2677, 6.54e-05, 0.5747, 0.0001537, 0.1899, 5.21e-05], '5-25': [2.643, 0.000985, 0.6933, 0.0001926, 0.2182, 7.63e-05, 0.1772, 0.0002173, 0.1919, 9.29e-05], '5-26': [2.639, 0.0006933, 0.6974, 0.0001388, 0.2184, 5.4e-05, 0.2742, 0.0001389, 0.1905, 6.54e-05], '5-27': [2.638, 0.0006038, 0.6979, 0.0001206, 0.2183, 4.67e-05, 0.3666, 0.0001078, 0.1903, 5.72e-05], '5-28': [2.635, 0.0005544, 0.699, 0.0001112, 0.2187, 4.31e-05, 0.4589, 0.0001105, 0.1898, 5.25e-05], '5-29': [2.634, 0.000605, 0.7028, 0.0001199, 0.2204, 4.67e-05, 0.5669, 0.0001598, 0.1887, 5.67e-05], '5-31': [2.641, 0.0008957, 0.7033, 0.0001751, 0.1831, 6.17e-05, 0.1743, 0.0002054, 0.1891, 8.41e-05], '5-32': [2.638, 0.0006208, 0.7058, 0.0001208, 0.1826, 4.33e-05, 0.2752, 0.0001226, 0.1882, 5.77e-05], '5-33': [2.635, 0.0005494, 0.7063, 0.0001067, 0.1828, 3.84e-05, 0.3659, 9.85e-05, 0.1878, 5.09e-05], '5-34': [2.634, 0.0005581, 0.7079, 0.0001076, 0.1834, 3.89e-05, 0.4559, 0.0001101, 0.1874, 5.17e-05], '6-All': [2.639, 0.0001296, 0.6002, 2.59e-05, 0.3408, 0.0001103, 0.44, 0.0001623, 0.2214, 1.51e-05], '6-1': [2.648, 0.0011252, 0.5896, 0.0002126, 0.5531, 0.0005808, 0.1616, 0.0003284, 0.2262, 0.0001287], '6-2': [2.644, 0.0009145, 0.5941, 0.0001789, 0.5499, 0.0004774, 0.2737, 0.0001816, 0.2242, 0.0001071], '6-3': [2.642, 0.0008279, 0.5956, 0.0001644, 0.5461, 0.0004253, 0.3666, 0.0001487, 0.2235, 9.68e-05], '6-4': [2.64, 0.000741, 0.5965, 0.0001468, 0.5482, 0.000378, 0.4605, 0.0001475, 0.2229, 8.7e-05], '6-5': [2.639, 0.0006473, 0.5974, 0.0001288, 0.5523, 0.0003349, 0.5778, 0.0001815, 0.2225, 7.52e-05], '6-6': [2.639, 0.0005599, 0.5987, 0.0001118, 0.5569, 0.0002901, 0.7857, 0.0003669, 0.222, 6.52e-05], '6-7': [2.65, 0.0010732, 0.5923, 0.0002076, 0.3934, 0.0002129, 0.1667, 0.0002945, 0.2254, 0.0001243], '6-8': [2.642, 0.0008129, 0.5958, 0.0001609, 0.3929, 0.0001599, 0.2742, 0.0001599, 0.2234, 9.46e-05], '6-9': [2.64, 0.0007403, 0.5969, 0.0001478, 0.3941, 0.0001465, 0.3656, 0.0001332, 0.2227, 8.64e-05], '6-10': [2.638, 0.0006945, 0.598, 0.000139, 0.3943, 0.0001384, 0.4599, 0.000139, 0.2223, 8.11e-05], '6-11': [2.638, 0.0006307, 0.5981, 0.0001259, 0.3945, 0.0001254, 0.5763, 0.0001758, 0.2222, 7.38e-05], '6-12': [2.636, 0.0006359, 0.6009, 0.0001271, 0.3977, 0.0001269, 0.7647, 0.0003818, 0.221, 7.4e-05], '6-13': [2.644, 0.0008862, 0.5937, 0.0001739, 0.3113, 0.000123, 0.1701, 0.0002295, 0.2243, 0.000103], '6-14': [2.641, 0.0006775, 0.5969, 0.0001337, 0.312, 9.35e-05, 0.2727, 0.0001343, 0.2229, 7.9e-05], '6-15': [2.639, 0.0006473, 0.5978, 0.0001294, 0.3118, 9.03e-05, 0.3657, 0.0001167, 0.2224, 7.62e-05], '6-16': [2.639, 0.0005968, 0.598, 0.0001191, 0.3115, 8.23e-05, 0.4599, 0.000119, 0.2223, 6.99e-05], '6-17': [2.637, 0.000567, 0.5995, 0.0001129, 0.3125, 7.82e-05, 0.5739, 0.0001571, 0.2215, 6.6e-05], '6-19': [2.643, 0.0007688, 0.5949, 0.0001521, 0.2528, 7.54e-05, 0.1701, 0.0001912, 0.2238, 9e-05], '6-20': [2.64, 0.0006262, 0.5974, 0.0001248, 0.2532, 6.14e-05, 0.2726, 0.0001249, 0.2226, 7.3e-05], '6-21': [2.637, 0.0005789, 0.598, 0.0001153, 0.2528, 5.68e-05, 0.3665, 0.0001038, 0.2222, 6.74e-05], '6-22': [2.637, 0.0005502, 0.6001, 0.0001089, 0.2535, 5.4e-05, 0.4584, 0.0001096, 0.2214, 6.34e-05], '6-23': [2.634, 0.0006216, 0.6044, 0.0001218, 0.2556, 6.04e-05, 0.5673, 0.0001666, 0.2195, 7.12e-05], '6-25': [2.643, 0.0007823, 0.6062, 0.0001507, 0.2115, 6.24e-05, 0.1678, 0.0001984, 0.2196, 8.89e-05], '6-26': [2.639, 0.0006366, 0.6084, 0.000121, 0.2111, 5.14e-05, 0.2739, 0.0001277, 0.2184, 7.18e-05], '6-27': [2.638, 0.0005834, 0.6091, 0.0001096, 0.2112, 4.68e-05, 0.3651, 0.000104, 0.218, 6.54e-05], '6-28': [2.635, 0.0006307, 0.6118, 0.0001154, 0.2119, 5.01e-05, 0.4549, 0.0001245, 0.2169, 6.98e-05], '7-All': [2.639, 0.0001361, 0.5012, 2.72e-05, 0.3953, 0.0001214, 0.3971, 0.0001577, 0.2655, 2.04e-05], '7-1': [2.645, 0.001109, 0.4946, 0.0002167, 0.6665, 0.0004204, 0.1426, 0.0003066, 0.2697, 0.0001671], '7-2': [2.644, 0.0010546, 0.4948, 0.0002089, 0.666, 0.0004008, 0.2458, 0.0001899, 0.2695, 0.0001598], '7-3': [2.642, 0.0010391, 0.4964, 0.0002045, 0.6626, 0.000385, 0.3354, 0.0001869, 0.2682, 0.000156], '7-4': [2.639, 0.0009758, 0.4971, 0.0001937, 0.6557, 0.0003477, 0.4305, 0.0001957, 0.2677, 0.0001451], '7-5': [2.637, 0.0009184, 0.4989, 0.000183, 0.6505, 0.000304, 0.5378, 0.0002197, 0.2665, 0.0001374], '7-7': [2.643, 0.0010041, 0.4951, 0.0001975, 0.5086, 0.0002609, 0.1449, 0.0002684, 0.2692, 0.0001522], '7-8': [2.645, 0.0009297, 0.4958, 0.0001852, 0.5067, 0.0002426, 0.2464, 0.0001674, 0.269, 0.0001406], '7-9': [2.641, 0.000833, 0.4965, 0.0001661, 0.5051, 0.0002132, 0.3366, 0.0001488, 0.2683, 0.0001258], '7-10': [2.642, 0.0007451, 0.4972, 0.0001487, 0.5067, 0.0001911, 0.4297, 0.0001483, 0.268, 0.0001129], '7-11': [2.64, 0.0007312, 0.4979, 0.0001459, 0.508, 0.0001895, 0.5383, 0.0001755, 0.2673, 0.0001107], '7-12': [2.637, 0.0006761, 0.4999, 0.0001334, 0.5102, 0.0001756, 0.6962, 0.0002999, 0.266, 0.0001005], '7-13': [2.643, 0.0009836, 0.4958, 0.0001939, 0.4072, 0.0001565, 0.148, 0.0002535, 0.2688, 0.0001481], '7-14': [2.644, 0.0008237, 0.4962, 0.0001649, 0.4057, 0.0001308, 0.2476, 0.0001475, 0.2687, 0.000125], '7-15': [2.641, 0.00073, 0.4971, 0.000146, 0.4063, 0.0001155, 0.3356, 0.0001307, 0.2679, 0.0001112], '7-16': [2.641, 0.0007063, 0.4979, 0.000141, 0.4068, 0.0001126, 0.4293, 0.0001406, 0.2675, 0.0001069], '7-17': [2.638, 0.0006918, 0.4993, 0.000137, 0.4072, 0.0001102, 0.5369, 0.000165, 0.2664, 0.0001035], '7-18': [2.634, 0.0007516, 0.5045, 0.0001471, 0.4097, 0.0001201, 0.6849, 0.0003172, 0.2632, 0.0001104], '7-19': [2.644, 0.0009089, 0.4959, 0.0001797, 0.3377, 0.0001078, 0.153, 0.0002189, 0.2689, 0.0001374], '7-20': [2.643, 0.0007241, 0.4964, 0.0001449, 0.3378, 8.6e-05, 0.247, 0.00013, 0.2685, 0.0001098], '7-21': [2.642, 0.0006781, 0.4977, 0.000135, 0.3382, 8.03e-05, 0.3353, 0.000122, 0.2677, 0.0001022], '7-22': [2.639, 0.0006498, 0.4993, 0.0001293, 0.338, 7.73e-05, 0.4294, 0.0001303, 0.2665, 9.71e-05], '7-23': [2.636, 0.0006883, 0.5036, 0.0001357, 0.3395, 8.26e-05, 0.5338, 0.0001639, 0.2638, 0.0001015], '7-24': [2.633, 0.000921, 0.5077, 0.0001807, 0.3414, 0.0001098, 0.6734, 0.0003578, 0.2615, 0.0001352], '7-25': [2.641, 0.0008833, 0.496, 0.0001765, 0.2888, 6.86e-05, 0.1553, 0.0001962, 0.2685, 0.0001344], '7-26': [2.644, 0.0007417, 0.4972, 0.0001482, 0.2891, 5.82e-05, 0.2463, 0.0001337, 0.2682, 0.0001127], '7-27': [2.64, 0.0007116, 0.4989, 0.0001413, 0.2892, 5.53e-05, 0.3355, 0.000128, 0.2668, 0.0001067], '7-28': [2.635, 0.0006981, 0.5031, 0.0001361, 0.2896, 5.44e-05, 0.4279, 0.0001389, 0.264, 0.0001027], '7-29': [2.634, 0.0008453, 0.5059, 0.0001681, 0.2901, 6.59e-05, 0.5319, 0.0002003, 0.2624, 0.000126], '7-31': [2.644, 0.0008524, 0.5098, 0.0001549, 0.2504, 7.58e-05, 0.1538, 0.0001891, 0.2613, 0.0001207], '7-32': [2.643, 0.000743, 0.5113, 0.0001332, 0.2502, 6.65e-05, 0.2462, 0.000134, 0.2604, 0.000104], '7-33': [2.637, 0.0006909, 0.5137, 0.0001202, 0.2496, 6.21e-05, 0.3358, 0.0001241, 0.2585, 9.4e-05], '7-34': [2.635, 0.0007384, 0.5164, 0.0001255, 0.2504, 6.6e-05, 0.4255, 0.0001476, 0.2569, 9.95e-05], '7-35': [2.632, 0.0009581, 0.5154, 0.0001662, 0.2512, 8.34e-05, 0.5294, 0.0002165, 0.2571, 0.0001303], '8-All': [2.638, 0.0001702, 0.4047, 3.34e-05, 0.4355, 0.000123, 0.3288, 0.0001508, 0.3291, 3.54e-05], '8-1': [2.638, 0.0009935, 0.4007, 0.0001968, 0.6219, 0.0002727, 0.1404, 0.0002832, 0.3324, 0.0002059], '8-2': [2.637, 0.0009665, 0.4015, 0.0001862, 0.6193, 0.0002599, 0.2462, 0.0001721, 0.3315, 0.0001962], '8-3': [2.635, 0.0009957, 0.4018, 0.0001925, 0.6153, 0.0002629, 0.3296, 0.000162, 0.331, 0.0001994], '8-4': [2.628, 0.0009884, 0.4056, 0.0001873, 0.6109, 0.0002534, 0.4138, 0.0001806, 0.3269, 0.0001916], '8-5': [2.621, 0.0009908, 0.4152, 0.0001604, 0.6067, 0.0002341, 0.5193, 0.000271, 0.3179, 0.0001663], '8-6': [2.644, 0.0011672, 0.3984, 0.000233, 0.5236, 0.0001627, 0.1442, 0.0003177, 0.3352, 0.0002512], '8-7': [2.644, 0.0010327, 0.3961, 0.0002055, 0.5226, 0.0001437, 0.2474, 0.0001849, 0.3372, 0.000221], '8-8': [2.643, 0.0009867, 0.3957, 0.0001986, 0.5225, 0.0001386, 0.3306, 0.0001591, 0.3374, 0.0002121], '8-9': [2.641, 0.0009333, 0.398, 0.0001838, 0.5229, 0.0001302, 0.414, 0.0001678, 0.3352, 0.0001962], '8-10': [2.634, 0.0009193, 0.4048, 0.000174, 0.5232, 0.0001287, 0.5209, 0.0002552, 0.3284, 0.0001812], '8-11': [2.643, 0.0012372, 0.3987, 0.0002459, 0.4645, 0.0001235, 0.1474, 0.00033, 0.3348, 0.0002631], '8-12': [2.642, 0.0010149, 0.3959, 0.0002033, 0.4637, 0.0001012, 0.2479, 0.0001831, 0.3371, 0.0002186], '8-13': [2.642, 0.0009722, 0.3967, 0.0001923, 0.4638, 9.6e-05, 0.3305, 0.000156, 0.3364, 0.000207], '8-14': [2.642, 0.0009763, 0.4004, 0.0001902, 0.4644, 9.55e-05, 0.4127, 0.0001746, 0.3333, 0.0002025], '8-15': [2.635, 0.0010042, 0.4068, 0.0001929, 0.4648, 0.0001001, 0.5215, 0.0002794, 0.3268, 0.0002036], '8-16': [2.642, 0.0010988, 0.399, 0.0002212, 0.4139, 0.0001084, 0.1512, 0.0002805, 0.3346, 0.0002351], '8-17': [2.641, 0.0008484, 0.3965, 0.0001695, 0.4136, 8.44e-05, 0.2477, 0.0001522, 0.3364, 0.0001829], '8-18': [2.643, 0.0008575, 0.3993, 0.0001694, 0.4142, 8.49e-05, 0.3292, 0.0001366, 0.3343, 0.0001821], '8-19': [2.64, 0.0009264, 0.4039, 0.0001799, 0.4149, 9.18e-05, 0.4119, 0.0001674, 0.33, 0.0001926], '8-20': [2.633, 0.0009895, 0.4085, 0.0001923, 0.4148, 9.86e-05, 0.5208, 0.0002749, 0.3253, 0.0002028], '8-21': [2.638, 0.0012529, 0.3983, 0.0002523, 0.3745, 7.16e-05, 0.1543, 0.000302, 0.3346, 0.0002702], '8-22': [2.641, 0.0009487, 0.3969, 0.0001891, 0.3745, 5.43e-05, 0.2466, 0.0001694, 0.3361, 0.0002022], '8-23': [2.64, 0.0010499, 0.4016, 0.0002049, 0.375, 5.99e-05, 0.3285, 0.0001688, 0.332, 0.0002191], '8-24': [2.639, 0.001198, 0.4081, 0.0002278, 0.375, 6.87e-05, 0.4117, 0.0002136, 0.3264, 0.0002448], '8-25': [2.631, 0.0012889, 0.4086, 0.0002518, 0.3749, 7.43e-05, 0.5213, 0.0003561, 0.3251, 0.000264], '8-26': [2.641, 0.0011267, 0.3986, 0.0002215, 0.3445, 6.36e-05, 0.1562, 0.0002561, 0.3346, 0.0002377], '8-27': [2.64, 0.0008809, 0.3994, 0.0001731, 0.3449, 5e-05, 0.2449, 0.000156, 0.3339, 0.0001848], '8-28': [2.639, 0.0010343, 0.4053, 0.0001981, 0.3451, 5.9e-05, 0.328, 0.0001653, 0.3287, 0.0002102], '8-29': [2.631, 0.001214, 0.4103, 0.0002298, 0.3452, 6.95e-05, 0.4115, 0.0002201, 0.3236, 0.0002434], '8-30': [2.632, 0.0012781, 0.4072, 0.0002533, 0.345, 7.31e-05, 0.5216, 0.0003562, 0.3264, 0.0002654], '8-31': [2.64, 0.0009087, 0.4184, 0.0001356, 0.3053, 9.94e-05, 0.1569, 0.0001991, 0.3177, 0.0001559], '8-32': [2.641, 0.0007803, 0.4183, 0.0001172, 0.3062, 8.51e-05, 0.2445, 0.0001403, 0.3181, 0.0001334], '8-33': [2.636, 0.0009296, 0.4218, 0.000132, 0.3063, 0.0001016, 0.3271, 0.0001475, 0.3146, 0.0001554], '8-34': [2.629, 0.001089, 0.4233, 0.0001506, 0.3055, 0.0001204, 0.4128, 0.0001972, 0.3126, 0.0001783], '8-35': [2.631, 0.0011204, 0.4214, 0.0001623, 0.3063, 0.0001218, 0.5209, 0.0003112, 0.3143, 0.000189], '9-All': [3.27, 0.0002037, 0.6992, 2.55e-05, 0.2962, 9.85e-05, 0.4487, 0.0001513, 0.2354, 1.75e-05], '9-1': [3.307, 0.0028615, 0.6818, 0.0002991, 0.5118, 0.0008975, 0.1708, 0.000469, 0.244, 0.0002366], '9-2': [3.285, 0.0021575, 0.6889, 0.0002516, 0.5054, 0.0006407, 0.2639, 0.0002104, 0.2399, 0.000182], '9-3': [3.279, 0.0016816, 0.6923, 0.0002029, 0.5063, 0.0004966, 0.3424, 0.0001667, 0.2384, 0.0001438], '9-4': [3.278, 0.0014756, 0.6943, 0.0001802, 0.5082, 0.0004371, 0.4209, 0.0001468, 0.2377, 0.0001258], '9-5': [3.275, 0.0011558, 0.6952, 0.0001426, 0.5107, 0.0003447, 0.52, 0.0001732, 0.2371, 9.91e-05], '9-6': [3.272, 0.0010756, 0.6958, 0.0001334, 0.5157, 0.000329, 0.656, 0.0002149, 0.2367, 9.21e-05], '9-7': [3.268, 0.0012275, 0.6966, 0.000152, 0.5224, 0.0003827, 0.8306, 0.0003152, 0.2362, 0.0001055], '9-8': [3.293, 0.0019006, 0.6888, 0.0002212, 0.347, 0.0002745, 0.1759, 0.0002874, 0.2407, 0.0001612], '9-9': [3.279, 0.0013609, 0.694, 0.0001664, 0.3475, 0.0001966, 0.2634, 0.0001333, 0.2378, 0.0001166], '9-10': [3.276, 0.001146, 0.6962, 0.0001416, 0.3492, 0.000166, 0.3415, 0.0001132, 0.2369, 9.8e-05], '9-11': [3.273, 0.0010683, 0.697, 0.0001329, 0.3503, 0.0001574, 0.4204, 0.000107, 0.2364, 9.17e-05], '9-12': [3.27, 0.0008857, 0.6975, 0.0001106, 0.3502, 0.0001304, 0.5187, 0.0001326, 0.236, 7.59e-05], '9-13': [3.268, 0.0008936, 0.6983, 0.0001117, 0.3521, 0.0001324, 0.6528, 0.0001769, 0.2356, 7.67e-05], '9-14': [3.264, 0.0012096, 0.7004, 0.000151, 0.3561, 0.0001789, 0.8206, 0.0002979, 0.2345, 0.0001031], '9-15': [3.289, 0.0015974, 0.6923, 0.0001944, 0.2663, 0.0001178, 0.1765, 0.0002315, 0.2391, 0.0001379], '9-16': [3.275, 0.0012452, 0.6963, 0.0001545, 0.2673, 9.21e-05, 0.2625, 0.0001227, 0.2367, 0.0001067], '9-17': [3.274, 0.0010985, 0.6977, 0.0001367, 0.2671, 8.08e-05, 0.3412, 0.0001091, 0.2362, 9.43e-05], '9-18': [3.268, 0.0010232, 0.6978, 0.0001275, 0.267, 7.53e-05, 0.4204, 0.0001013, 0.2358, 8.79e-05], '9-19': [3.268, 0.0008605, 0.6983, 0.0001075, 0.2674, 6.36e-05, 0.5178, 0.0001286, 0.2355, 7.35e-05], '9-20': [3.265, 0.0009708, 0.7006, 0.0001213, 0.2693, 7.15e-05, 0.6468, 0.0001865, 0.2346, 8.27e-05], '9-22': [3.28, 0.0014144, 0.6937, 0.0001726, 0.2182, 6.82e-05, 0.1736, 0.0002088, 0.238, 0.0001211], '9-23': [3.274, 0.0011915, 0.6971, 0.0001485, 0.2186, 5.79e-05, 0.2621, 0.0001185, 0.2364, 0.0001022], '9-24': [3.268, 0.0010078, 0.6977, 0.000126, 0.2184, 4.88e-05, 0.3418, 0.0001001, 0.2358, 8.64e-05], '9-25': [3.269, 0.000955, 0.6986, 0.0001198, 0.2187, 4.66e-05, 0.4198, 9.52e-05, 0.2355, 8.21e-05], '9-26': [3.263, 0.0008667, 0.7006, 0.0001081, 0.2195, 4.23e-05, 0.5147, 0.0001283, 0.2344, 7.4e-05], '9-29': [3.277, 0.0012981, 0.7032, 0.0001591, 0.1832, 5.59e-05, 0.1708, 0.0001996, 0.2345, 0.0001103], '9-30': [3.272, 0.0010954, 0.7058, 0.0001335, 0.1827, 4.77e-05, 0.2633, 0.0001087, 0.2332, 9.25e-05], '9-31': [3.268, 0.0009194, 0.7064, 0.000112, 0.1828, 4.03e-05, 0.3413, 9.17e-05, 0.2328, 7.76e-05], '9-32': [3.265, 0.0009132, 0.7072, 0.0001103, 0.183, 3.98e-05, 0.4188, 9.07e-05, 0.2323, 7.66e-05], '10-All': [3.267, 0.0002001, 0.5999, 2.49e-05, 0.3445, 0.0001067, 0.4218, 0.0001505, 0.2743, 2.07e-05], '10-1': [3.289, 0.0018977, 0.5907, 0.0002264, 0.592, 0.0005141, 0.1485, 0.0003468, 0.2804, 0.000196], '10-2': [3.28, 0.0016285, 0.5939, 0.0002003, 0.5889, 0.0004413, 0.263, 0.0002034, 0.2782, 0.0001696], '10-3': [3.276, 0.001539, 0.5955, 0.0001883, 0.5871, 0.0004123, 0.3561, 0.0001717, 0.2771, 0.0001594], '10-4': [3.27, 0.0013488, 0.5963, 0.0001668, 0.5867, 0.000362, 0.4503, 0.0001681, 0.2762, 0.0001398], '10-5': [3.269, 0.0011701, 0.5968, 0.0001456, 0.5885, 0.0003129, 0.5681, 0.0002048, 0.2759, 0.0001221], '10-6': [3.265, 0.001076, 0.5985, 0.0001335, 0.5903, 0.0002847, 0.7503, 0.0003385, 0.2747, 0.0001109], '10-7': [3.284, 0.0018704, 0.5929, 0.0002263, 0.4447, 0.0002321, 0.152, 0.0003323, 0.279, 0.0001932], '10-8': [3.276, 0.0014752, 0.5949, 0.0001828, 0.4435, 0.0001821, 0.2637, 0.0001835, 0.2774, 0.0001533], '10-9': [3.273, 0.0013453, 0.5964, 0.0001668, 0.4437, 0.0001649, 0.3564, 0.000151, 0.2764, 0.0001401], '10-10': [3.27, 0.0012394, 0.5974, 0.0001546, 0.4446, 0.0001538, 0.4495, 0.0001549, 0.2756, 0.0001292], '10-11': [3.267, 0.0011251, 0.598, 0.0001403, 0.4448, 0.00014, 0.5668, 0.0001967, 0.2751, 0.0001168], '10-12': [3.264, 0.0011294, 0.5993, 0.0001416, 0.4462, 0.0001411, 0.744, 0.0003513, 0.2742, 0.000117], '10-13': [3.283, 0.0015184, 0.5939, 0.0001853, 0.3558, 0.0001505, 0.1575, 0.0002578, 0.2785, 0.0001569], '10-14': [3.273, 0.0011466, 0.5961, 0.0001423, 0.3557, 0.000113, 0.2634, 0.0001417, 0.2765, 0.0001194], '10-15': [3.273, 0.0010822, 0.5972, 0.0001346, 0.3564, 0.0001072, 0.3555, 0.0001213, 0.276, 0.0001124], '10-16': [3.268, 0.0010172, 0.5977, 0.0001272, 0.3562, 0.000101, 0.4497, 0.0001276, 0.2754, 0.0001055], '10-17': [3.265, 0.0009392, 0.5985, 0.0001168, 0.3564, 9.28e-05, 0.566, 0.0001634, 0.2748, 9.69e-05], '10-18': [3.257, 0.0010931, 0.603, 0.0001348, 0.3596, 0.0001085, 0.73, 0.0003138, 0.272, 0.0001122], '10-19': [3.279, 0.0013022, 0.5947, 0.0001597, 0.2872, 9.58e-05, 0.161, 0.0002051, 0.2777, 0.0001345], '10-20': [3.273, 0.000995, 0.597, 0.0001227, 0.2876, 7.33e-05, 0.2625, 0.0001229, 0.2761, 0.0001034], '10-21': [3.271, 0.0009639, 0.5976, 0.0001196, 0.2876, 7.16e-05, 0.356, 0.0001084, 0.2756, 0.0001001], '10-22': [3.265, 0.0008924, 0.5985, 0.000111, 0.2876, 6.57e-05, 0.4494, 0.0001112, 0.2748, 9.19e-05], '10-23': [3.261, 0.0008946, 0.6018, 0.00011, 0.2892, 6.64e-05, 0.562, 0.0001537, 0.2728, 9.13e-05], '10-25': [3.278, 0.001456, 0.5953, 0.0001801, 0.2444, 5.16e-05, 0.1607, 0.000224, 0.2773, 0.0001511], '10-26': [3.271, 0.0011719, 0.5974, 0.0001461, 0.2444, 4.18e-05, 0.262, 0.0001457, 0.2758, 0.0001219], '10-27': [3.266, 0.0011043, 0.5983, 0.0001374, 0.2443, 3.93e-05, 0.3565, 0.0001249, 0.2749, 0.0001142], '10-28': [3.263, 0.0010739, 0.6008, 0.0001321, 0.2447, 3.83e-05, 0.4475, 0.0001338, 0.2735, 0.0001099], '10-29': [3.253, 0.0012785, 0.6062, 0.0001563, 0.2456, 4.57e-05, 0.554, 0.0002081, 0.2702, 0.0001291], '10-31': [3.276, 0.001232, 0.6047, 0.0001456, 0.2126, 5.57e-05, 0.159, 0.0001921, 0.2728, 0.0001245], '10-32': [3.268, 0.0010066, 0.6068, 0.0001186, 0.2124, 4.6e-05, 0.2629, 0.000126, 0.2712, 0.0001014], '10-33': [3.263, 0.0009294, 0.6077, 0.0001089, 0.2123, 4.27e-05, 0.3554, 0.0001041, 0.2703, 9.3e-05], '10-34': [3.258, 0.0010145, 0.6112, 0.0001155, 0.2129, 4.62e-05, 0.4453, 0.0001261, 0.2682, 0.0001003], '11-All': [3.265, 0.0002149, 0.5014, 2.68e-05, 0.3896, 0.0001141, 0.3672, 0.0001379, 0.3283, 2.82e-05], '11-1': [3.275, 0.0014088, 0.4955, 0.0001734, 0.614, 0.000368, 0.1408, 0.0002476, 0.3333, 0.000185], '11-2': [3.273, 0.0012621, 0.4954, 0.0001556, 0.6119, 0.0003305, 0.2518, 0.0001575, 0.3331, 0.0001658], '11-3': [3.27, 0.001203, 0.4967, 0.0001495, 0.6084, 0.0003109, 0.3503, 0.0001508, 0.3318, 0.0001583], '11-4': [3.265, 0.0010529, 0.498, 0.0001307, 0.602, 0.0002585, 0.4637, 0.0001712, 0.3305, 0.0001375], '11-5': [3.255, 0.0010942, 0.5016, 0.0001361, 0.5965, 0.0002512, 0.6025, 0.0002184, 0.327, 0.0001403], '11-6': [3.27, 0.0012528, 0.497, 0.0001553, 0.4481, 0.0002041, 0.145, 0.0002118, 0.3317, 0.0001657], '11-7': [3.274, 0.0010423, 0.4964, 0.0001295, 0.4453, 0.0001672, 0.2528, 0.0001295, 0.3325, 0.0001381], '11-8': [3.268, 0.0009327, 0.497, 0.0001171, 0.445, 0.0001492, 0.3508, 0.0001166, 0.3316, 0.0001244], '11-9': [3.269, 0.0008367, 0.4977, 0.0001045, 0.4471, 0.0001352, 0.4628, 0.0001359, 0.3312, 0.0001113], '11-10': [3.261, 0.0009129, 0.5008, 0.0001135, 0.4495, 0.0001481, 0.6012, 0.000181, 0.3283, 0.0001191], '11-11': [3.269, 0.0012955, 0.4971, 0.0001611, 0.3522, 0.0001133, 0.1507, 0.0002054, 0.3316, 0.0001714], '11-12': [3.271, 0.0009797, 0.4966, 0.0001225, 0.3518, 8.5e-05, 0.2525, 0.0001223, 0.3321, 0.0001301], '11-13': [3.268, 0.0009265, 0.4979, 0.0001157, 0.3526, 8.04e-05, 0.3497, 0.0001157, 0.3309, 0.0001228], '11-14': [3.262, 0.0008848, 0.5013, 0.0001088, 0.3532, 7.69e-05, 0.4613, 0.0001433, 0.3281, 0.000115], '11-15': [3.253, 0.0011146, 0.5062, 0.0001373, 0.3551, 9.75e-05, 0.595, 0.0002167, 0.3239, 0.0001438], '11-16': [3.27, 0.0011987, 0.4966, 0.0001494, 0.2932, 7.4e-05, 0.1539, 0.0001765, 0.332, 0.000158], '11-17': [3.272, 0.0009414, 0.4973, 0.0001176, 0.2937, 5.8e-05, 0.2511, 0.0001171, 0.3317, 0.0001249], '11-18': [3.265, 0.0009364, 0.5002, 0.0001159, 0.2942, 5.79e-05, 0.3489, 0.000118, 0.329, 0.0001222], '11-19': [3.255, 0.0009558, 0.5053, 0.0001179, 0.2949, 5.94e-05, 0.4584, 0.0001538, 0.3247, 0.000123], '11-20': [3.248, 0.0014365, 0.5083, 0.0001758, 0.2964, 8.83e-05, 0.5877, 0.000257, 0.322, 0.0001821], '11-21': [3.27, 0.0012545, 0.5107, 0.0001414, 0.2502, 6.99e-05, 0.1526, 0.0001825, 0.3226, 0.0001549], '11-22': [3.269, 0.0010471, 0.5118, 0.000117, 0.2502, 5.86e-05, 0.2507, 0.0001307, 0.3218, 0.0001298], '11-23': [3.258, 0.0010456, 0.5153, 0.0001116, 0.2498, 5.95e-05, 0.3486, 0.0001313, 0.3183, 0.0001253], '11-24': [3.253, 0.0011657, 0.5163, 0.0001253, 0.2504, 6.49e-05, 0.4569, 0.0001889, 0.3173, 0.0001411], '12-All': [3.251, 0.0002727, 0.4071, 3.3e-05, 0.4273, 0.0001153, 0.3154, 0.0001469, 0.403, 4.69e-05], '12-1': [3.244, 0.0012965, 0.4046, 0.0001575, 0.5836, 0.0002869, 0.1399, 0.0002338, 0.4046, 0.0002189], '12-2': [3.24, 0.0013162, 0.4056, 0.0001591, 0.5771, 0.000284, 0.2415, 0.0001344, 0.4031, 0.0002178], '12-3': [3.234, 0.0012636, 0.4062, 0.0001521, 0.5722, 0.0002626, 0.3197, 0.0001296, 0.4015, 0.0002028], '12-4': [3.224, 0.0012962, 0.4106, 0.0001471, 0.5663, 0.0002525, 0.4028, 0.000151, 0.3957, 0.0001948], '12-6': [3.266, 0.0014864, 0.3994, 0.0001843, 0.4682, 0.0001494, 0.1453, 0.0002525, 0.413, 0.0002683], '12-7': [3.263, 0.001307, 0.3984, 0.0001628, 0.4668, 0.0001309, 0.2425, 0.0001307, 0.4136, 0.0002348], '12-8': [3.263, 0.0011824, 0.3986, 0.0001458, 0.4668, 0.0001185, 0.3204, 0.0001188, 0.4133, 0.00021], '12-9': [3.257, 0.0011756, 0.4028, 0.0001427, 0.4678, 0.0001181, 0.4026, 0.0001331, 0.408, 0.0001994], '12-10': [3.238, 0.0012711, 0.412, 0.0001423, 0.4692, 0.00013, 0.5103, 0.0002372, 0.3961, 0.0001935], '12-11': [3.264, 0.0014569, 0.3991, 0.0001849, 0.3984, 0.0001094, 0.1505, 0.0002364, 0.413, 0.0002671], '12-12': [3.263, 0.0012054, 0.3981, 0.0001502, 0.3978, 9e-05, 0.2423, 0.0001204, 0.4138, 0.0002165], '12-13': [3.261, 0.0011459, 0.4007, 0.0001417, 0.399, 8.57e-05, 0.3189, 0.0001148, 0.411, 0.0002042], '12-14': [3.259, 0.0012941, 0.406, 0.0001574, 0.4001, 9.71e-05, 0.4007, 0.0001453, 0.4051, 0.0002266], '12-15': [3.236, 0.0014816, 0.4119, 0.0001728, 0.4002, 0.0001126, 0.5117, 0.0002776, 0.3962, 0.0002401], '12-16': [3.261, 0.001518, 0.3993, 0.0001882, 0.3492, 7.37e-05, 0.1539, 0.0002311, 0.4125, 0.0002744], '12-17': [3.258, 0.0012576, 0.4001, 0.0001545, 0.3494, 6.14e-05, 0.2412, 0.0001249, 0.4111, 0.0002248], '12-18': [3.263, 0.0013466, 0.4044, 0.0001641, 0.3502, 6.59e-05, 0.3172, 0.0001348, 0.4074, 0.0002404], '12-19': [3.252, 0.0016793, 0.4102, 0.0001993, 0.3507, 8.18e-05, 0.3997, 0.0001869, 0.4001, 0.0002899], '12-20': [3.233, 0.001815, 0.4106, 0.0002193, 0.3499, 9.14e-05, 0.5152, 0.0003425, 0.3972, 0.0002999], '12-21': [3.259, 0.0013984, 0.419, 0.0001301, 0.3053, 9.62e-05, 0.1551, 0.0002044, 0.3918, 0.0002116], '12-22': [3.262, 0.001252, 0.419, 0.0001149, 0.3061, 8.51e-05, 0.2397, 0.0001244, 0.3921, 0.0001868], '12-23': [3.255, 0.0014506, 0.4217, 0.0001308, 0.307, 9.86e-05, 0.3164, 0.0001442, 0.3886, 0.0002145], '12-24': [3.242, 0.0018164, 0.4233, 0.0001583, 0.3058, 0.000127, 0.4017, 0.0002097, 0.3855, 0.000266], '12-25': [3.241, 0.0018342, 0.4224, 0.0001643, 0.3063, 0.0001266, 0.5116, 0.000329, 0.3862, 0.0002688], '13-All': [4.384, 0.0003924, 0.6996, 2.49e-05, 0.3017, 9.88e-05, 0.4277, 0.0001449, 0.3154, 3.07e-05], '13-1': [4.48, 0.0049122, 0.6856, 0.0002759, 0.5502, 0.0006969, 0.1592, 0.0004705, 0.3288, 0.0003831], '13-2': [4.434, 0.0033546, 0.6913, 0.0002019, 0.5405, 0.0004537, 0.287, 0.0002474, 0.3228, 0.0002617], '13-3': [4.418, 0.0029511, 0.6934, 0.0001811, 0.542, 0.0003952, 0.3919, 0.0001836, 0.3208, 0.0002307], '13-4': [4.4, 0.0023597, 0.6946, 0.0001475, 0.544, 0.0003205, 0.5098, 0.0002075, 0.3189, 0.0001848], '13-5': [4.384, 0.0018663, 0.6958, 0.0001176, 0.5498, 0.000259, 0.7157, 0.0003673, 0.3172, 0.0001462], '13-6': [4.453, 0.0038963, 0.6897, 0.0002314, 0.3966, 0.0002667, 0.1661, 0.0003527, 0.3249, 0.0003035], '13-7': [4.415, 0.0024768, 0.695, 0.0001541, 0.3963, 0.0001678, 0.286, 0.000183, 0.3198, 0.000194], '13-8': [4.399, 0.0022815, 0.6974, 0.0001434, 0.3973, 0.0001564, 0.3909, 0.0001435, 0.3175, 0.0001781], '13-9': [4.39, 0.0019408, 0.6977, 0.0001222, 0.3979, 0.0001331, 0.5081, 0.0001716, 0.3168, 0.0001521], '13-10': [4.373, 0.0017188, 0.6991, 0.0001094, 0.3993, 0.0001198, 0.7056, 0.0003294, 0.3149, 0.0001343], '13-11': [4.435, 0.0035705, 0.6926, 0.0002169, 0.3166, 0.0001321, 0.17, 0.0003018, 0.3224, 0.0002797], '13-12': [4.402, 0.0022658, 0.6964, 0.0001427, 0.3172, 8.46e-05, 0.2851, 0.0001694, 0.3183, 0.0001773], '13-13': [4.395, 0.0022232, 0.6977, 0.0001408, 0.3176, 8.34e-05, 0.3905, 0.0001408, 0.3172, 0.0001741], '13-14': [4.384, 0.0019047, 0.6983, 0.0001207, 0.3175, 7.13e-05, 0.5079, 0.0001678, 0.316, 0.0001492], '13-15': [4.362, 0.0018743, 0.7006, 0.0001193, 0.3191, 7.12e-05, 0.6901, 0.0003311, 0.3134, 0.000146], '13-16': [4.421, 0.0029042, 0.6938, 0.0001804, 0.2627, 8.94e-05, 0.1705, 0.0002365, 0.3208, 0.0002283], '13-17': [4.399, 0.0019274, 0.6973, 0.0001219, 0.2633, 6e-05, 0.284, 0.0001448, 0.3176, 0.0001513], '13-18': [4.384, 0.0018923, 0.6982, 0.0001203, 0.263, 5.9e-05, 0.3909, 0.0001203, 0.316, 0.000148], '13-19': [4.377, 0.001651, 0.699, 0.0001047, 0.2635, 5.15e-05, 0.5066, 0.0001462, 0.3152, 0.0001288], '13-21': [4.415, 0.0024912, 0.6947, 0.0001547, 0.2184, 6.07e-05, 0.1692, 0.0002052, 0.3199, 0.0001948], '13-22': [4.391, 0.001742, 0.6981, 0.0001097, 0.2187, 4.28e-05, 0.284, 0.0001315, 0.3167, 0.000136], '13-23': [4.381, 0.001667, 0.6989, 0.0001058, 0.2187, 4.11e-05, 0.3904, 0.0001052, 0.3155, 0.0001301], '13-24': [4.362, 0.001594, 0.7021, 0.0001007, 0.2197, 3.94e-05, 0.5014, 0.0001379, 0.3127, 0.000123], '13-26': [4.407, 0.0023131, 0.7036, 0.0001438, 0.1832, 5.02e-05, 0.1676, 0.0001932, 0.3152, 0.0001793], '13-27': [4.383, 0.0016193, 0.7064, 9.9e-05, 0.1828, 3.57e-05, 0.2854, 0.000122, 0.3123, 0.0001248], '13-28': [4.369, 0.0015994, 0.7075, 9.8e-05, 0.183, 3.56e-05, 0.389, 0.000101, 0.3108, 0.0001227], '14-All': [4.367, 0.0003966, 0.6008, 2.51e-05, 0.3492, 0.0001077, 0.4007, 0.00015, 0.3661, 3.67e-05], '14-1': [4.417, 0.0031679, 0.5931, 0.0001938, 0.5904, 0.0004193, 0.1448, 0.0003021, 0.375, 0.000293], '14-2': [4.4, 0.0030171, 0.5946, 0.0001875, 0.5875, 0.0003978, 0.2629, 0.0001909, 0.3728, 0.0002822], '14-3': [4.394, 0.0028171, 0.5966, 0.0001776, 0.5855, 0.0003714, 0.3561, 0.0001605, 0.371, 0.0002622], '14-4': [4.391, 0.002589, 0.5974, 0.0001631, 0.586, 0.0003379, 0.45, 0.0001646, 0.3702, 0.0002401], '14-5': [4.371, 0.0022886, 0.5981, 0.0001455, 0.5853, 0.0002972, 0.5674, 0.0002052, 0.3681, 0.0002113], '14-6': [4.317, 0.0022386, 0.6021, 0.0001449, 0.5803, 0.0002809, 0.7428, 0.0003609, 0.3609, 0.0002003], '14-7': [4.406, 0.0030184, 0.5945, 0.0001858, 0.4398, 0.0002087, 0.1482, 0.0002834, 0.3732, 0.0002786], '14-8': [4.396, 0.0025401, 0.5966, 0.0001593, 0.4373, 0.000174, 0.2635, 0.000159, 0.3711, 0.0002366], '14-9': [4.386, 0.0023856, 0.5976, 0.000151, 0.4382, 0.0001645, 0.3557, 0.0001356, 0.3696, 0.0002225], '14-10': [4.379, 0.0022425, 0.5979, 0.0001421, 0.4381, 0.0001556, 0.4493, 0.0001426, 0.3689, 0.0002092], '14-11': [4.371, 0.0020781, 0.5987, 0.0001317, 0.4389, 0.0001447, 0.5665, 0.0001846, 0.3677, 0.0001931], '14-12': [4.353, 0.0021984, 0.6008, 0.0001401, 0.4412, 0.0001551, 0.74, 0.0003438, 0.3648, 0.0002033], '14-13': [4.401, 0.0028588, 0.5958, 0.0001782, 0.3522, 0.0001252, 0.1543, 0.0002555, 0.3721, 0.0002658], '14-14': [4.386, 0.0022449, 0.5971, 0.0001409, 0.3517, 9.86e-05, 0.2626, 0.0001409, 0.3699, 0.0002088], '14-15': [4.386, 0.0021686, 0.5979, 0.0001366, 0.3522, 9.49e-05, 0.3556, 0.0001232, 0.3694, 0.0002015], '14-16': [4.375, 0.0020795, 0.5986, 0.000132, 0.3523, 9.18e-05, 0.4491, 0.0001324, 0.3681, 0.0001935], '14-17': [4.362, 0.0019822, 0.5997, 0.0001254, 0.3528, 8.76e-05, 0.5646, 0.0001755, 0.3663, 0.0001825], '14-18': [4.318, 0.0025105, 0.6058, 0.0001591, 0.3559, 0.0001129, 0.7202, 0.0003477, 0.3588, 0.0002274], '14-19': [4.393, 0.0026845, 0.5964, 0.0001672, 0.2933, 8.33e-05, 0.1575, 0.0002262, 0.3709, 0.0002484], '14-20': [4.387, 0.0021098, 0.5979, 0.0001335, 0.2935, 6.58e-05, 0.2624, 0.0001328, 0.3696, 0.0001964], '14-21': [4.38, 0.0020846, 0.5987, 0.0001316, 0.2936, 6.52e-05, 0.3551, 0.0001192, 0.3684, 0.000194], '14-22': [4.363, 0.0019961, 0.5999, 0.0001267, 0.2936, 6.26e-05, 0.449, 0.0001275, 0.3663, 0.0001848], '14-23': [4.346, 0.0020656, 0.6037, 0.0001297, 0.2947, 6.52e-05, 0.5606, 0.0001817, 0.3624, 0.000188], '14-25': [4.389, 0.0023924, 0.5965, 0.000151, 0.2487, 5.9e-05, 0.1579, 0.0001978, 0.3705, 0.0002223], '14-26': [4.379, 0.0019748, 0.598, 0.000125, 0.249, 4.89e-05, 0.2614, 0.0001246, 0.3688, 0.0001844], '14-27': [4.365, 0.0019512, 0.6, 0.0001242, 0.249, 4.84e-05, 0.3554, 0.0001125, 0.3664, 0.00018], '14-28': [4.346, 0.0019614, 0.603, 0.000123, 0.2498, 4.9e-05, 0.4469, 0.0001246, 0.3628, 0.0001788], '14-29': [4.297, 0.0024667, 0.6091, 0.000156, 0.2516, 6.25e-05, 0.5505, 0.0002018, 0.3551, 0.0002198], '14-31': [4.388, 0.0022933, 0.6056, 0.0001365, 0.2124, 5.24e-05, 0.1564, 0.0001904, 0.3648, 0.0002085], '14-32': [4.376, 0.0019498, 0.6072, 0.0001159, 0.2125, 4.51e-05, 0.2619, 0.000124, 0.3628, 0.0001765], '14-33': [4.351, 0.0019138, 0.6098, 0.0001119, 0.2121, 4.48e-05, 0.3545, 0.0001093, 0.3591, 0.0001706], '14-34': [4.324, 0.0021786, 0.6126, 0.000128, 0.2131, 5.15e-05, 0.4438, 0.000139, 0.3553, 0.0001934], '15-All': [4.327, 0.0004437, 0.5038, 2.86e-05, 0.3892, 0.0001153, 0.3543, 0.0001522, 0.4328, 5.01e-05], '15-1': [4.338, 0.0022053, 0.4995, 0.0001415, 0.5845, 0.0003224, 0.1509, 0.0002307, 0.4375, 0.0002456], '15-2': [4.33, 0.0022035, 0.4995, 0.0001432, 0.5781, 0.0003145, 0.2709, 0.0001445, 0.4367, 0.000245], '15-3': [4.314, 0.002158, 0.5008, 0.0001411, 0.5715, 0.0002959, 0.3694, 0.0001433, 0.434, 0.0002384], '15-4': [4.276, 0.0019979, 0.5035, 0.0001333, 0.5646, 0.0002633, 0.4817, 0.0001773, 0.4278, 0.0002152], '15-6': [4.367, 0.0025712, 0.4984, 0.0001642, 0.4421, 0.0001477, 0.1561, 0.0002587, 0.4418, 0.0002959], '15-7': [4.362, 0.0022966, 0.4975, 0.0001471, 0.4407, 0.000132, 0.2721, 0.0001473, 0.442, 0.0002659], '15-8': [4.365, 0.002143, 0.4978, 0.000137, 0.4407, 0.000123, 0.3702, 0.0001376, 0.442, 0.0002473], '15-9': [4.343, 0.0020189, 0.4999, 0.0001294, 0.4419, 0.0001168, 0.4809, 0.0001691, 0.4378, 0.000228], '15-10': [4.275, 0.0022053, 0.5081, 0.0001411, 0.4435, 0.0001345, 0.6369, 0.0003341, 0.4236, 0.0002313], '15-11': [4.358, 0.0021443, 0.4988, 0.0001388, 0.3566, 0.0001102, 0.1616, 0.0002047, 0.4404, 0.0002473], '15-12': [4.353, 0.0018098, 0.4981, 0.000116, 0.3562, 9.23e-05, 0.272, 0.0001155, 0.4406, 0.0002086], '15-13': [4.349, 0.0017747, 0.4999, 0.0001139, 0.3575, 9.07e-05, 0.369, 0.0001144, 0.4384, 0.0002028], '15-14': [4.327, 0.0018623, 0.5049, 0.0001174, 0.359, 9.66e-05, 0.4787, 0.0001558, 0.4319, 0.0002082], '15-15': [4.271, 0.0024031, 0.5103, 0.0001551, 0.3622, 0.0001287, 0.6243, 0.0003289, 0.4216, 0.0002617], '15-16': [4.349, 0.0021041, 0.4983, 0.0001352, 0.2934, 6.65e-05, 0.165, 0.0001893, 0.44, 0.0002423], '15-17': [4.349, 0.0018521, 0.4993, 0.000119, 0.294, 5.88e-05, 0.2702, 0.0001189, 0.4391, 0.0002122], '15-18': [4.327, 0.0020392, 0.5047, 0.0001286, 0.295, 6.51e-05, 0.3669, 0.0001324, 0.432, 0.0002289], '15-19': [4.302, 0.0023116, 0.5083, 0.000148, 0.2955, 7.51e-05, 0.4761, 0.0001946, 0.4264, 0.000257], '15-21': [4.361, 0.0021903, 0.5118, 0.000125, 0.2499, 6.26e-05, 0.1638, 0.0001929, 0.4291, 0.0002391], '15-22': [4.349, 0.002106, 0.5135, 0.0001179, 0.2501, 6.04e-05, 0.2688, 0.0001345, 0.4264, 0.0002275], '15-23': [4.311, 0.0024402, 0.5179, 0.0001309, 0.25, 7.1e-05, 0.366, 0.0001576, 0.419, 0.0002609], '15-24': [4.27, 0.0029263, 0.5185, 0.0001621, 0.251, 8.67e-05, 0.47, 0.0002335, 0.4144, 0.0003084], '16-All': [6.221, 0.0008686, 0.6996, 3.63e-05, 0.3107, 0.0001463, 0.4003, 0.0002099, 0.4476, 6.68e-05], '16-1': [6.353, 0.0070714, 0.6896, 0.0002668, 0.5153, 0.0006821, 0.1533, 0.0004525, 0.4637, 0.0005443], '16-2': [6.301, 0.0060468, 0.6934, 0.0002366, 0.5077, 0.0005647, 0.2738, 0.0002445, 0.4573, 0.0004656], '16-3': [6.282, 0.0050871, 0.695, 0.0002049, 0.5091, 0.0004763, 0.3713, 0.0002056, 0.455, 0.0003928], '16-4': [6.266, 0.0049219, 0.6962, 0.0001998, 0.5121, 0.0004695, 0.4697, 0.0002024, 0.453, 0.000379], '16-5': [6.233, 0.0044328, 0.6971, 0.0001843, 0.5145, 0.0004359, 0.5863, 0.0002606, 0.45, 0.0003406], '16-6': [6.162, 0.0044407, 0.6996, 0.0001922, 0.5149, 0.0004477, 0.7571, 0.0004482, 0.4432, 0.0003328], '16-7': [6.309, 0.0058837, 0.6932, 0.0002328, 0.3568, 0.0002611, 0.1619, 0.0003592, 0.4581, 0.0004507], '16-8': [6.266, 0.0046012, 0.6959, 0.0001869, 0.3565, 0.0002048, 0.2735, 0.0001881, 0.4532, 0.0003552], '16-9': [6.259, 0.004114, 0.6968, 0.0001682, 0.3574, 0.0001849, 0.3708, 0.000169, 0.4521, 0.0003154], '16-10': [6.249, 0.0041566, 0.6981, 0.0001719, 0.3579, 0.0001878, 0.4692, 0.0001723, 0.4505, 0.0003188], '16-11': [6.227, 0.0039737, 0.6986, 0.0001656, 0.3584, 0.0001819, 0.5848, 0.0002313, 0.4487, 0.000306], '16-12': [6.16, 0.0047056, 0.7016, 0.0002035, 0.3633, 0.0002216, 0.7447, 0.00044, 0.4419, 0.0003582], '16-13': [6.282, 0.0050368, 0.6945, 0.0002017, 0.2709, 0.000142, 0.1648, 0.0002907, 0.4553, 0.0003867], '16-14': [6.252, 0.0039584, 0.6969, 0.0001631, 0.2716, 0.0001133, 0.2728, 0.0001622, 0.4516, 0.0003043], '16-15': [6.239, 0.0036385, 0.6981, 0.0001515, 0.2716, 0.0001049, 0.3704, 0.0001518, 0.4498, 0.0002795], '16-16': [6.215, 0.0036631, 0.6991, 0.0001541, 0.2718, 0.0001071, 0.4687, 0.0001538, 0.4475, 0.0002822], '16-17': [6.158, 0.0037759, 0.7021, 0.0001626, 0.2746, 0.0001129, 0.5788, 0.0002217, 0.4414, 0.0002858], '16-19': [6.265, 0.0049891, 0.6952, 0.0002027, 0.2186, 7.95e-05, 0.1645, 0.0002903, 0.4536, 0.0003844], '16-20': [6.242, 0.0041447, 0.6976, 0.0001713, 0.2189, 6.68e-05, 0.2716, 0.0001709, 0.4505, 0.0003194], '16-21': [6.22, 0.0037997, 0.6993, 0.0001579, 0.2188, 6.16e-05, 0.3705, 0.0001582, 0.4477, 0.000293], '16-22': [6.16, 0.0039726, 0.7025, 0.000171, 0.22, 6.73e-05, 0.4652, 0.00017, 0.4413, 0.0002992], '16-25': [6.257, 0.0047103, 0.7037, 0.0001898, 0.1832, 6.72e-05, 0.1636, 0.0002774, 0.4474, 0.0003593], '16-26': [6.229, 0.0040055, 0.7057, 0.0001621, 0.1829, 5.8e-05, 0.273, 0.0001665, 0.4442, 0.0003051], '16-27': [6.18, 0.0036114, 0.7081, 0.000149, 0.1831, 5.41e-05, 0.3686, 0.0001526, 0.4392, 0.000272], '17-All': [6.17, 0.0009239, 0.6034, 3.95e-05, 0.3454, 0.0001587, 0.3559, 0.000206, 0.5149, 8.27e-05], '17-1': [6.229, 0.0056971, 0.5986, 0.0002391, 0.5368, 0.0005624, 0.1319, 0.0003259, 0.5238, 0.0005044], '17-2': [6.222, 0.0053709, 0.5983, 0.0002285, 0.5321, 0.0005361, 0.2369, 0.0002093, 0.5235, 0.0004733], '17-3': [6.187, 0.0047879, 0.5997, 0.0002064, 0.5271, 0.0004667, 0.3259, 0.0001868, 0.5194, 0.0004237], '17-4': [6.155, 0.0048588, 0.6011, 0.000213, 0.5259, 0.0004823, 0.4097, 0.0001742, 0.5153, 0.0004211], '17-5': [6.094, 0.0044995, 0.6033, 0.0002081, 0.5252, 0.0004566, 0.4978, 0.0002121, 0.5083, 0.000384], '17-6': [5.971, 0.0038308, 0.6073, 0.0001947, 0.5202, 0.0004211, 0.6257, 0.0003592, 0.4945, 0.0003189], '17-7': [6.248, 0.0062087, 0.5986, 0.0002538, 0.3856, 0.0002582, 0.1357, 0.0003373, 0.5256, 0.0005634], '17-8': [6.234, 0.0051119, 0.5988, 0.0002124, 0.3841, 0.0002116, 0.2387, 0.0001901, 0.5244, 0.0004649], '17-9': [6.225, 0.0044918, 0.6, 0.0001872, 0.3842, 0.0001873, 0.3259, 0.0001702, 0.5226, 0.0004075], '17-10': [6.218, 0.0046589, 0.6001, 0.0001966, 0.3847, 0.0001969, 0.4097, 0.0001574, 0.5218, 0.0004203], '17-11': [6.184, 0.0044128, 0.6016, 0.0001911, 0.3849, 0.0001916, 0.4977, 0.0001943, 0.5175, 0.0003934], '17-12': [6.095, 0.0041179, 0.6056, 0.0001869, 0.3872, 0.0001928, 0.6232, 0.0003348, 0.5063, 0.0003501], '17-13': [6.232, 0.0062259, 0.5984, 0.0002583, 0.3078, 0.000157, 0.1403, 0.0003255, 0.5244, 0.0005642], '17-14': [6.219, 0.0048396, 0.5995, 0.0002031, 0.3077, 0.0001212, 0.238, 0.0001828, 0.5224, 0.0004412], '17-15': [6.22, 0.0044204, 0.6002, 0.0001852, 0.3081, 0.0001108, 0.3251, 0.0001668, 0.522, 0.0004021], '17-16': [6.193, 0.0047848, 0.6016, 0.0002025, 0.3087, 0.0001217, 0.409, 0.0001628, 0.5183, 0.0004311], '17-17': [6.157, 0.004733, 0.6044, 0.0002012, 0.3092, 0.0001235, 0.4964, 0.0002057, 0.5128, 0.0004192], '17-18': [6.033, 0.0052568, 0.6117, 0.000234, 0.3129, 0.0001485, 0.6084, 0.0003867, 0.4962, 0.0004477], '17-19': [6.235, 0.0054142, 0.5988, 0.0002245, 0.253, 0.000111, 0.1418, 0.0002719, 0.5244, 0.0004922], '17-20': [6.218, 0.0042762, 0.5998, 0.0001797, 0.2533, 8.92e-05, 0.2371, 0.000161, 0.5221, 0.0003886], '17-21': [6.2, 0.0040907, 0.6019, 0.0001722, 0.254, 8.62e-05, 0.3247, 0.0001574, 0.5187, 0.0003688], '17-22': [6.146, 0.0045441, 0.6049, 0.0001921, 0.2545, 9.79e-05, 0.4082, 0.0001581, 0.5115, 0.0004033], '17-23': [6.045, 0.0048592, 0.6112, 0.0002164, 0.2571, 0.0001125, 0.4914, 0.000223, 0.4976, 0.0004158], '17-25': [6.229, 0.0055845, 0.6078, 0.0002159, 0.2122, 8.52e-05, 0.141, 0.0002822, 0.5158, 0.0004946], '17-26': [6.222, 0.0046481, 0.6089, 0.0001816, 0.2122, 7.16e-05, 0.236, 0.0001759, 0.5143, 0.0004103], '17-27': [6.172, 0.0045534, 0.6117, 0.0001754, 0.2121, 7.26e-05, 0.3241, 0.0001775, 0.5078, 0.0003989], '17-28': [6.057, 0.0052355, 0.6158, 0.0002164, 0.2133, 9.05e-05, 0.4052, 0.0001947, 0.4947, 0.0004449]}\n",
      "\u001b[0m\n",
      "\n",
      "\n",
      "Done\n"
     ]
    }
   ],
   "source": [
    "print(\"\".join([f\"\"\"{color.BOLD}\n",
    "\n",
    "Get_Bin_Center_Dictionary = {Final_Output}\n",
    "\"\"\", \"\"\"\n",
    "def Get_Bin_Center_Function(Q2_y_Bin, z_pT_Bin, Variable=\"All\"):\n",
    "    if(str(z_pT_Bin) in [\"0\", 0, \"all\"]):\n",
    "        z_pT_Bin = \"All\"\n",
    "    if(Variable in [\"All\"]):\n",
    "        return Get_Bin_Center_Dictionary[f\"{Q2_y_Bin}-{z_pT_Bin}\"]\n",
    "    else:\n",
    "        if(str(Variable) in [\"mean_Q2\",  \"Q2\"]):\n",
    "            return Get_Bin_Center_Dictionary[f\"{Q2_y_Bin}-{z_pT_Bin}\"][0]\n",
    "        if(str(Variable) in [\"Error_Q2\", \"error_Q2\"]):\n",
    "            return Get_Bin_Center_Dictionary[f\"{Q2_y_Bin}-{z_pT_Bin}\"][1]\n",
    "        if(str(Variable) in [\"mean_y\",   \"y\"]):\n",
    "            return Get_Bin_Center_Dictionary[f\"{Q2_y_Bin}-{z_pT_Bin}\"][2]\n",
    "        if(str(Variable) in [\"Error_y\",  \"error_y\"]):\n",
    "            return Get_Bin_Center_Dictionary[f\"{Q2_y_Bin}-{z_pT_Bin}\"][3]\n",
    "        if(str(Variable) in [\"mean_z\",   \"z\"]):\n",
    "            return Get_Bin_Center_Dictionary[f\"{Q2_y_Bin}-{z_pT_Bin}\"][4]\n",
    "        if(str(Variable) in [\"Error_z\",  \"error_z\"]):\n",
    "            return Get_Bin_Center_Dictionary[f\"{Q2_y_Bin}-{z_pT_Bin}\"][5]\n",
    "        if(str(Variable) in [\"mean_pT\",  \"pT\"]):\n",
    "            return Get_Bin_Center_Dictionary[f\"{Q2_y_Bin}-{z_pT_Bin}\"][6]\n",
    "        if(str(Variable) in [\"Error_pT\", \"error_pT\"]):\n",
    "            return Get_Bin_Center_Dictionary[f\"{Q2_y_Bin}-{z_pT_Bin}\"][7]\n",
    "        if(str(Variable) in [\"mean_xB\",  \"xB\"]):\n",
    "            return Get_Bin_Center_Dictionary[f\"{Q2_y_Bin}-{z_pT_Bin}\"][8]\n",
    "        if(str(Variable) in [\"Error_xB\", \"error_xB\"]):\n",
    "            return Get_Bin_Center_Dictionary[f\"{Q2_y_Bin}-{z_pT_Bin}\"][9]\n",
    "    print(f\"POTENTIAL ERROR: Get_Bin_Center_Function({Q2_y_Bin}, {z_pT_Bin}, {Variable}) did not return anything yet... (returning Variable='All')\")\n",
    "    return Get_Bin_Center_Dictionary[f\"{Q2_y_Bin}-{z_pT_Bin}\"]\n",
    "\"\"\" if(not True) else \"\", color.END]))\n",
    "print(\"\\n\\nDone\")"
   ]
  },
  {
   "cell_type": "markdown",
   "id": "moral-favorite",
   "metadata": {},
   "source": [
    ".\n",
    "\n",
    ".\n",
    "\n",
    ".\n",
    "\n",
    ".\n",
    "\n",
    "."
   ]
  },
  {
   "cell_type": "markdown",
   "id": "gentle-effects",
   "metadata": {},
   "source": [
    "## Test"
   ]
  },
  {
   "cell_type": "code",
   "execution_count": 23,
   "id": "indoor-timing",
   "metadata": {
    "jupyter": {
     "source_hidden": true
    }
   },
   "outputs": [
    {
     "name": "stdout",
     "output_type": "stream",
     "text": [
      "[2.193, 0.6976, 0.5011, 0.5731, 0.1583]\n"
     ]
    }
   ],
   "source": [
    "Get_Bin_Center_Dictionary = {'Key': ['mean_Q2', 'mean__y', 'mean__z', 'mean_pT', 'mean_xB'], '1-All': [2.193, 0.7002, 0.3052, 0.4127, 0.1577], '1-1': [2.197, 0.6936, 0.5021, 0.1529, 0.1594], '1-2': [2.195, 0.6962, 0.4988, 0.2724, 0.1587], '1-3': [2.193, 0.6968, 0.4996, 0.3709, 0.1585], '1-4': [2.193, 0.6973, 0.4996, 0.4696, 0.1583], '1-5': [2.193, 0.6976, 0.5011, 0.5731, 0.1583], '1-6': [2.192, 0.6979, 0.5042, 0.6862, 0.1581], '1-7': [2.193, 0.6982, 0.513, 0.8469, 0.1581], '1-8': [2.196, 0.6967, 0.3371, 0.1563, 0.1587], '1-9': [2.194, 0.6982, 0.3374, 0.2724, 0.1582], '1-10': [2.193, 0.6989, 0.3368, 0.3708, 0.1579], '1-11': [2.193, 0.6992, 0.3375, 0.469, 0.1578], '1-12': [2.193, 0.6995, 0.3389, 0.5716, 0.1578], '1-13': [2.193, 0.6997, 0.3405, 0.6838, 0.1577], '1-14': [2.192, 0.7007, 0.3434, 0.8361, 0.1575], '1-15': [2.196, 0.6976, 0.2577, 0.1546, 0.1584], '1-16': [2.194, 0.699, 0.2571, 0.2733, 0.158], '1-17': [2.192, 0.6994, 0.2572, 0.3706, 0.1578], '1-18': [2.193, 0.6994, 0.258, 0.468, 0.1578], '1-19': [2.194, 0.6999, 0.2585, 0.5701, 0.1578], '1-20': [2.193, 0.7005, 0.2596, 0.6813, 0.1576], '1-22': [2.195, 0.698, 0.2088, 0.1548, 0.1583], '1-23': [2.193, 0.6991, 0.2085, 0.2734, 0.1579], '1-24': [2.193, 0.6993, 0.2088, 0.3694, 0.1579], '1-25': [2.193, 0.6998, 0.2092, 0.4667, 0.1578], '1-26': [2.191, 0.7016, 0.2104, 0.5664, 0.1572], '1-29': [2.194, 0.7094, 0.1779, 0.1572, 0.1556], '1-30': [2.192, 0.7103, 0.1778, 0.2732, 0.1553], '1-31': [2.194, 0.7101, 0.178, 0.3684, 0.1554], '1-32': [2.192, 0.7101, 0.1781, 0.4663, 0.1553], '2-All': [2.196, 0.6005, 0.3491, 0.4043, 0.1842], '2-1': [2.197, 0.5966, 0.6019, 0.1657, 0.1855], '2-2': [2.197, 0.5969, 0.5989, 0.3013, 0.1854], '2-3': [2.196, 0.5977, 0.5982, 0.4001, 0.1851], '2-4': [2.195, 0.598, 0.5987, 0.4944, 0.1849], '2-5': [2.196, 0.5981, 0.6001, 0.6018, 0.1849], '2-6': [2.194, 0.5991, 0.6016, 0.7777, 0.1845], '2-7': [2.198, 0.5972, 0.4324, 0.1693, 0.1854], '2-8': [2.197, 0.5981, 0.4327, 0.3008, 0.185], '2-9': [2.196, 0.5989, 0.4324, 0.4001, 0.1847], '2-10': [2.195, 0.5989, 0.4326, 0.494, 0.1846], '2-11': [2.195, 0.5993, 0.4333, 0.601, 0.1845], '2-12': [2.195, 0.5999, 0.4357, 0.7699, 0.1843], '2-13': [2.197, 0.5978, 0.3424, 0.1705, 0.1852], '2-14': [2.196, 0.599, 0.3423, 0.3015, 0.1847], '2-15': [2.195, 0.599, 0.3419, 0.4003, 0.1846], '2-16': [2.196, 0.5993, 0.3421, 0.4937, 0.1846], '2-17': [2.196, 0.5995, 0.3429, 0.5993, 0.1845], '2-18': [2.194, 0.6007, 0.3444, 0.7615, 0.184], '2-19': [2.197, 0.5983, 0.2836, 0.1693, 0.185], '2-20': [2.195, 0.599, 0.2832, 0.3023, 0.1846], '2-21': [2.195, 0.5991, 0.2833, 0.3999, 0.1845], '2-22': [2.196, 0.5996, 0.2836, 0.493, 0.1845], '2-23': [2.195, 0.5995, 0.284, 0.598, 0.1844], '2-25': [2.197, 0.5983, 0.2444, 0.1689, 0.185], '2-26': [2.196, 0.5988, 0.2443, 0.3021, 0.1847], '2-27': [2.195, 0.5995, 0.2444, 0.3993, 0.1845], '2-28': [2.196, 0.5997, 0.2446, 0.4922, 0.1845], '2-29': [2.193, 0.6019, 0.2451, 0.5938, 0.1835], '2-31': [2.196, 0.607, 0.2124, 0.1708, 0.1822], '2-32': [2.195, 0.6078, 0.2121, 0.3021, 0.1818], '2-33': [2.196, 0.6079, 0.2125, 0.3981, 0.1819], '2-34': [2.194, 0.608, 0.2127, 0.4922, 0.1817], '3-All': [2.197, 0.5014, 0.3891, 0.3797, 0.2209], '3-1': [2.198, 0.4981, 0.6459, 0.1364, 0.2224], '3-2': [2.199, 0.4977, 0.6442, 0.2517, 0.2227], '3-3': [2.199, 0.497, 0.6435, 0.3449, 0.2231], '3-4': [2.199, 0.4977, 0.643, 0.4392, 0.2227], '3-5': [2.198, 0.4986, 0.6406, 0.5386, 0.2222], '3-6': [2.195, 0.5007, 0.6351, 0.6649, 0.221], '3-7': [2.199, 0.4988, 0.4746, 0.1387, 0.2223], '3-8': [2.198, 0.4978, 0.4739, 0.2514, 0.2226], '3-9': [2.198, 0.4983, 0.475, 0.3447, 0.2224], '3-10': [2.198, 0.499, 0.4745, 0.4393, 0.2221], '3-11': [2.198, 0.4989, 0.4752, 0.538, 0.2221], '3-12': [2.196, 0.4994, 0.4763, 0.6656, 0.2217], '3-13': [2.198, 0.4985, 0.3664, 0.142, 0.2223], '3-14': [2.199, 0.4977, 0.3671, 0.2501, 0.2228], '3-15': [2.198, 0.4985, 0.3664, 0.3456, 0.2223], '3-16': [2.197, 0.4987, 0.3663, 0.439, 0.2221], '3-17': [2.197, 0.4992, 0.3668, 0.5377, 0.2219], '3-18': [2.196, 0.5011, 0.3685, 0.6609, 0.2209], '3-19': [2.198, 0.4984, 0.3036, 0.1421, 0.2223], '3-20': [2.2, 0.4983, 0.3039, 0.2507, 0.2226], '3-21': [2.197, 0.4988, 0.3032, 0.346, 0.222], '3-22': [2.197, 0.4993, 0.3036, 0.4388, 0.2218], '3-23': [2.196, 0.5004, 0.3043, 0.5362, 0.2213], '3-24': [2.193, 0.5066, 0.3064, 0.6492, 0.2181], '3-25': [2.198, 0.5088, 0.2555, 0.1396, 0.2176], '3-26': [2.197, 0.5095, 0.255, 0.2529, 0.2173], '3-27': [2.196, 0.5099, 0.255, 0.3453, 0.217], '3-28': [2.197, 0.5102, 0.2554, 0.4377, 0.2169], '3-29': [2.194, 0.5118, 0.2562, 0.534, 0.216], '4-All': [2.199, 0.4046, 0.434, 0.3655, 0.2744], '4-1': [2.198, 0.4001, 0.6455, 0.136, 0.2775], '4-2': [2.199, 0.4007, 0.6435, 0.2467, 0.2772], '4-3': [2.195, 0.4023, 0.6413, 0.3353, 0.2755], '4-4': [2.196, 0.4048, 0.6387, 0.4271, 0.2738], '4-5': [2.19, 0.4133, 0.6335, 0.5369, 0.2671], '4-7': [2.203, 0.3987, 0.5422, 0.1376, 0.2792], '4-8': [2.201, 0.3982, 0.5414, 0.2475, 0.2792], '4-9': [2.202, 0.3976, 0.542, 0.3351, 0.2798], '4-10': [2.202, 0.3981, 0.542, 0.4284, 0.2795], '4-11': [2.199, 0.4002, 0.5418, 0.5405, 0.2775], '4-12': [2.188, 0.4129, 0.5397, 0.6895, 0.2672], '4-13': [2.201, 0.3994, 0.4629, 0.1403, 0.2785], '4-14': [2.201, 0.3987, 0.4624, 0.2472, 0.2789], '4-15': [2.203, 0.3976, 0.463, 0.3343, 0.2799], '4-16': [2.202, 0.3985, 0.463, 0.4289, 0.2792], '4-17': [2.199, 0.4004, 0.4632, 0.5403, 0.2774], '4-18': [2.193, 0.4094, 0.4643, 0.6873, 0.2703], '4-19': [2.2, 0.3995, 0.4036, 0.1425, 0.2782], '4-20': [2.201, 0.3988, 0.4038, 0.2467, 0.2788], '4-21': [2.203, 0.3985, 0.4041, 0.334, 0.2793], '4-22': [2.199, 0.3997, 0.4039, 0.4294, 0.278], '4-23': [2.197, 0.4031, 0.4042, 0.5385, 0.2752], '4-24': [2.193, 0.4096, 0.4054, 0.6814, 0.2702], '4-25': [2.2, 0.3998, 0.3536, 0.1434, 0.278], '4-26': [2.201, 0.3989, 0.354, 0.2457, 0.2788], '4-27': [2.2, 0.3999, 0.354, 0.3346, 0.278], '4-28': [2.198, 0.4019, 0.3541, 0.4282, 0.2763], '4-29': [2.196, 0.4062, 0.3549, 0.5362, 0.273], '4-31': [2.198, 0.4194, 0.305, 0.1429, 0.264], '4-32': [2.201, 0.4186, 0.3059, 0.2444, 0.2648], '4-33': [2.197, 0.4198, 0.3048, 0.3361, 0.2637], '4-34': [2.197, 0.4206, 0.3051, 0.4273, 0.263], '4-35': [2.195, 0.4219, 0.306, 0.5337, 0.262], '5-All': [2.636, 0.6998, 0.3068, 0.4072, 0.1897], '5-1': [2.642, 0.6918, 0.5698, 0.1498, 0.1923], '5-2': [2.638, 0.6942, 0.5671, 0.272, 0.1913], '5-3': [2.637, 0.6949, 0.5669, 0.3656, 0.1911], '5-4': [2.637, 0.6952, 0.567, 0.4599, 0.191], '5-5': [2.637, 0.6957, 0.5675, 0.5773, 0.1908], '5-6': [2.636, 0.696, 0.5709, 0.7814, 0.1907], '5-7': [2.641, 0.6954, 0.428, 0.1527, 0.1912], '5-8': [2.639, 0.6975, 0.4281, 0.2719, 0.1905], '5-9': [2.638, 0.698, 0.4283, 0.3655, 0.1903], '5-10': [2.636, 0.6984, 0.4278, 0.4596, 0.1901], '5-11': [2.635, 0.6987, 0.4287, 0.5761, 0.1899], '5-12': [2.635, 0.6994, 0.4307, 0.7698, 0.1897], '5-13': [2.64, 0.6964, 0.3359, 0.1545, 0.1909], '5-14': [2.637, 0.698, 0.3363, 0.2717, 0.1902], '5-15': [2.637, 0.6987, 0.3356, 0.3657, 0.19], '5-16': [2.636, 0.6987, 0.336, 0.4593, 0.19], '5-17': [2.636, 0.6992, 0.3367, 0.5745, 0.1898], '5-18': [2.635, 0.6997, 0.3385, 0.7593, 0.1896], '5-19': [2.639, 0.6974, 0.2678, 0.1538, 0.1905], '5-20': [2.636, 0.6987, 0.2673, 0.273, 0.19], '5-21': [2.635, 0.6991, 0.2673, 0.3654, 0.1898], '5-22': [2.636, 0.6989, 0.2676, 0.4584, 0.1899], '5-23': [2.636, 0.699, 0.2683, 0.5724, 0.1899], '5-25': [2.638, 0.6975, 0.2189, 0.1536, 0.1905], '5-26': [2.636, 0.6989, 0.2186, 0.273, 0.1899], '5-27': [2.636, 0.6989, 0.2187, 0.3653, 0.1899], '5-28': [2.636, 0.6994, 0.2191, 0.4574, 0.1898], '5-29': [2.634, 0.7009, 0.2202, 0.5675, 0.1892], '5-31': [2.638, 0.7057, 0.183, 0.1554, 0.1882], '5-32': [2.635, 0.7067, 0.1828, 0.2731, 0.1877], '5-33': [2.635, 0.7067, 0.1831, 0.3641, 0.1878], '5-34': [2.635, 0.7068, 0.1834, 0.4563, 0.1877], '6-All': [2.637, 0.6005, 0.3466, 0.401, 0.2212], '6-1': [2.638, 0.5972, 0.5551, 0.1499, 0.2225], '6-2': [2.639, 0.5969, 0.5532, 0.2714, 0.2227], '6-3': [2.639, 0.5977, 0.5528, 0.3651, 0.2225], '6-4': [2.637, 0.5979, 0.5536, 0.4594, 0.2222], '6-5': [2.637, 0.5983, 0.5557, 0.5765, 0.222], '6-6': [2.636, 0.5994, 0.5607, 0.7799, 0.2215], '6-7': [2.641, 0.5974, 0.3946, 0.1521, 0.2227], '6-8': [2.639, 0.5979, 0.3948, 0.271, 0.2223], '6-9': [2.638, 0.5983, 0.3947, 0.3651, 0.2221], '6-10': [2.636, 0.5987, 0.3945, 0.4591, 0.2218], '6-11': [2.636, 0.599, 0.3952, 0.5752, 0.2217], '6-12': [2.635, 0.6, 0.3975, 0.7649, 0.2212], '6-13': [2.639, 0.5977, 0.3123, 0.1525, 0.2224], '6-14': [2.639, 0.5983, 0.3124, 0.2712, 0.2222], '6-15': [2.637, 0.5987, 0.3117, 0.3656, 0.2218], '6-16': [2.637, 0.5988, 0.3118, 0.459, 0.2218], '6-17': [2.636, 0.5991, 0.3127, 0.5731, 0.2217], '6-19': [2.639, 0.5978, 0.2536, 0.1512, 0.2224], '6-20': [2.637, 0.5985, 0.2531, 0.2731, 0.2219], '6-21': [2.636, 0.5987, 0.2531, 0.3654, 0.2218], '6-22': [2.637, 0.5994, 0.2536, 0.4577, 0.2216], '6-23': [2.636, 0.6008, 0.2547, 0.5694, 0.2209], '6-25': [2.64, 0.6077, 0.2116, 0.1507, 0.2187], '6-26': [2.637, 0.6089, 0.2111, 0.273, 0.2181], '6-27': [2.637, 0.6089, 0.2114, 0.3645, 0.2181], '6-28': [2.637, 0.6089, 0.2118, 0.4566, 0.218], '7-All': [2.637, 0.5013, 0.3937, 0.3805, 0.2653], '7-1': [2.637, 0.4981, 0.6652, 0.1376, 0.267], '7-2': [2.638, 0.4976, 0.6641, 0.2466, 0.2673], '7-3': [2.637, 0.4977, 0.6622, 0.3351, 0.2671], '7-4': [2.638, 0.4981, 0.659, 0.4288, 0.267], '7-5': [2.634, 0.5001, 0.6525, 0.5368, 0.2655], '7-7': [2.638, 0.4985, 0.5076, 0.1386, 0.2668], '7-8': [2.639, 0.4979, 0.5065, 0.2465, 0.2672], '7-9': [2.64, 0.4974, 0.5077, 0.3348, 0.2677], '7-10': [2.639, 0.498, 0.5077, 0.4291, 0.2673], '7-11': [2.637, 0.4985, 0.5082, 0.5374, 0.2668], '7-12': [2.637, 0.4989, 0.5094, 0.6969, 0.2665], '7-13': [2.638, 0.4986, 0.4069, 0.14, 0.2668], '7-14': [2.64, 0.4977, 0.4068, 0.2462, 0.2674], '7-15': [2.64, 0.4978, 0.4071, 0.3346, 0.2674], '7-16': [2.639, 0.4984, 0.4068, 0.4294, 0.267], '7-17': [2.637, 0.4986, 0.4068, 0.5369, 0.2667], '7-18': [2.636, 0.5006, 0.4084, 0.6887, 0.2654], '7-19': [2.638, 0.4986, 0.338, 0.1421, 0.2667], '7-20': [2.641, 0.4976, 0.3383, 0.2453, 0.2676], '7-21': [2.638, 0.4982, 0.3381, 0.3355, 0.267], '7-22': [2.637, 0.4986, 0.3379, 0.4291, 0.2667], '7-23': [2.637, 0.4994, 0.3383, 0.5358, 0.2662], '7-24': [2.633, 0.5052, 0.341, 0.6731, 0.2627], '7-25': [2.638, 0.4982, 0.2891, 0.1425, 0.267], '7-26': [2.641, 0.4976, 0.2892, 0.2452, 0.2676], '7-27': [2.638, 0.4987, 0.2889, 0.3363, 0.2667], '7-28': [2.636, 0.4992, 0.2892, 0.4287, 0.2663], '7-29': [2.636, 0.5019, 0.2898, 0.5328, 0.2648], '7-31': [2.638, 0.5115, 0.2503, 0.1407, 0.2598], '7-32': [2.639, 0.512, 0.2499, 0.2466, 0.2597], '7-33': [2.636, 0.5126, 0.2498, 0.3354, 0.259], '7-34': [2.637, 0.5129, 0.2501, 0.428, 0.2589], '7-35': [2.632, 0.515, 0.2513, 0.5278, 0.2573], '8-All': [2.636, 0.4041, 0.428, 0.331, 0.3294], '8-1': [2.633, 0.4009, 0.6209, 0.1371, 0.3316], '8-2': [2.635, 0.4021, 0.6185, 0.2465, 0.3308], '8-3': [2.63, 0.4039, 0.6154, 0.33, 0.3286], '8-4': [2.626, 0.4068, 0.6127, 0.4128, 0.3256], '8-5': [2.619, 0.4152, 0.6075, 0.5193, 0.3178], '8-6': [2.64, 0.3983, 0.5232, 0.1386, 0.3348], '8-7': [2.639, 0.3977, 0.5227, 0.2473, 0.3352], '8-8': [2.638, 0.3975, 0.5227, 0.3303, 0.3353], '8-9': [2.641, 0.3974, 0.5231, 0.4138, 0.3356], '8-10': [2.633, 0.401, 0.5223, 0.5232, 0.3314], '8-11': [2.64, 0.3987, 0.464, 0.1399, 0.3345], '8-12': [2.638, 0.3981, 0.4639, 0.2473, 0.3348], '8-13': [2.64, 0.3974, 0.464, 0.33, 0.3355], '8-14': [2.64, 0.3977, 0.4641, 0.4135, 0.3354], '8-15': [2.635, 0.401, 0.4641, 0.5242, 0.3318], '8-16': [2.637, 0.3992, 0.4138, 0.1415, 0.3338], '8-17': [2.637, 0.3983, 0.4138, 0.2471, 0.3345], '8-18': [2.641, 0.398, 0.414, 0.3294, 0.3352], '8-19': [2.639, 0.3992, 0.4142, 0.4135, 0.334], '8-20': [2.634, 0.4032, 0.4142, 0.5229, 0.3299], '8-21': [2.635, 0.3991, 0.3746, 0.1423, 0.3336], '8-22': [2.637, 0.3987, 0.3746, 0.2467, 0.3341], '8-23': [2.64, 0.3982, 0.3748, 0.329, 0.3349], '8-24': [2.637, 0.4011, 0.3746, 0.4142, 0.3319], '8-25': [2.633, 0.4053, 0.3748, 0.5208, 0.328], '8-26': [2.637, 0.3996, 0.3447, 0.1428, 0.3332], '8-27': [2.638, 0.3996, 0.3447, 0.2461, 0.3334], '8-28': [2.64, 0.3999, 0.3449, 0.3291, 0.3334], '8-29': [2.633, 0.403, 0.3448, 0.4139, 0.3298], '8-30': [2.633, 0.4068, 0.345, 0.5194, 0.3268], '8-31': [2.637, 0.419, 0.3055, 0.1429, 0.317], '8-32': [2.64, 0.4183, 0.3062, 0.2449, 0.3179], '8-33': [2.636, 0.4193, 0.3056, 0.3303, 0.3166], '8-34': [2.633, 0.4205, 0.3057, 0.4131, 0.3154], '8-35': [2.631, 0.4216, 0.3067, 0.5167, 0.3142], '9-All': [3.267, 0.6998, 0.3083, 0.3982, 0.235], '9-1': [3.275, 0.6944, 0.5172, 0.1503, 0.2374], '9-2': [3.273, 0.6956, 0.5142, 0.261, 0.2369], '9-3': [3.27, 0.6962, 0.5147, 0.3403, 0.2364], '9-4': [3.269, 0.6967, 0.5156, 0.4198, 0.2361], '9-5': [3.268, 0.6971, 0.5159, 0.5185, 0.236], '9-6': [3.266, 0.6973, 0.5197, 0.654, 0.2357], '9-7': [3.265, 0.6976, 0.5262, 0.8281, 0.2356], '9-8': [3.275, 0.6966, 0.3514, 0.1529, 0.2366], '9-9': [3.27, 0.6977, 0.3517, 0.261, 0.2359], '9-10': [3.269, 0.6985, 0.3514, 0.3406, 0.2356], '9-11': [3.267, 0.6987, 0.3511, 0.42, 0.2353], '9-12': [3.265, 0.6988, 0.3516, 0.5174, 0.2352], '9-13': [3.265, 0.6992, 0.3537, 0.6506, 0.2351], '9-14': [3.262, 0.7, 0.3574, 0.8194, 0.2345], '9-15': [3.272, 0.6973, 0.2678, 0.1532, 0.2362], '9-16': [3.269, 0.6985, 0.2676, 0.2615, 0.2355], '9-17': [3.267, 0.699, 0.2673, 0.3407, 0.2353], '9-18': [3.265, 0.6991, 0.2674, 0.4196, 0.2351], '9-19': [3.267, 0.6991, 0.2681, 0.5158, 0.2352], '9-20': [3.263, 0.6998, 0.2693, 0.6463, 0.2347], '9-22': [3.271, 0.6976, 0.2189, 0.1524, 0.236], '9-23': [3.267, 0.6987, 0.2186, 0.2622, 0.2353], '9-24': [3.266, 0.6989, 0.2187, 0.3406, 0.2352], '9-25': [3.266, 0.6992, 0.219, 0.4189, 0.2351], '9-26': [3.264, 0.6995, 0.2194, 0.5142, 0.2349], '9-29': [3.27, 0.7057, 0.1831, 0.1535, 0.2332], '9-30': [3.266, 0.7068, 0.1828, 0.262, 0.2325], '9-31': [3.264, 0.7067, 0.1829, 0.3401, 0.2324], '9-32': [3.264, 0.7066, 0.1832, 0.4181, 0.2325], '10-All': [3.264, 0.6004, 0.3483, 0.3897, 0.2738], '10-1': [3.265, 0.5977, 0.5899, 0.1453, 0.2751], '10-2': [3.271, 0.5971, 0.5902, 0.2611, 0.2759], '10-3': [3.269, 0.5972, 0.5904, 0.355, 0.2757], '10-4': [3.266, 0.5978, 0.59, 0.4493, 0.2752], '10-5': [3.267, 0.5981, 0.5916, 0.5668, 0.2751], '10-6': [3.261, 0.5995, 0.593, 0.7472, 0.274], '10-7': [3.268, 0.5981, 0.4449, 0.1454, 0.2752], '10-8': [3.269, 0.5974, 0.4449, 0.2612, 0.2756], '10-9': [3.267, 0.598, 0.445, 0.355, 0.2752], '10-10': [3.266, 0.5987, 0.4453, 0.449, 0.2748], '10-11': [3.263, 0.5991, 0.4452, 0.5657, 0.2743], '10-12': [3.261, 0.5996, 0.4465, 0.7419, 0.2739], '10-13': [3.27, 0.5981, 0.3564, 0.1464, 0.2753], '10-14': [3.269, 0.5978, 0.3568, 0.2608, 0.2755], '10-15': [3.267, 0.5985, 0.3566, 0.3551, 0.2749], '10-16': [3.264, 0.5985, 0.3564, 0.4491, 0.2747], '10-17': [3.263, 0.5991, 0.3567, 0.5647, 0.2743], '10-18': [3.258, 0.6007, 0.3587, 0.733, 0.2731], '10-19': [3.267, 0.598, 0.288, 0.147, 0.2751], '10-20': [3.268, 0.5983, 0.288, 0.261, 0.2751], '10-21': [3.263, 0.5988, 0.2875, 0.3558, 0.2745], '10-22': [3.262, 0.5991, 0.2877, 0.4487, 0.2742], '10-23': [3.26, 0.5995, 0.2885, 0.5627, 0.2739], '10-25': [3.269, 0.598, 0.2446, 0.1459, 0.2753], '10-26': [3.265, 0.5987, 0.2444, 0.2623, 0.2746], '10-27': [3.262, 0.599, 0.2444, 0.3553, 0.2742], '10-28': [3.262, 0.5994, 0.2445, 0.4478, 0.2741], '10-29': [3.256, 0.6024, 0.2453, 0.5562, 0.2721], '10-31': [3.269, 0.6066, 0.2127, 0.1443, 0.2713], '10-32': [3.263, 0.6077, 0.2122, 0.2633, 0.2704], '10-33': [3.262, 0.6078, 0.2123, 0.3551, 0.2702], '10-34': [3.262, 0.6082, 0.2126, 0.4469, 0.27], '11-All': [3.26, 0.5016, 0.3858, 0.3576, 0.3277], '11-1': [3.261, 0.498, 0.6104, 0.1387, 0.3301], '11-2': [3.263, 0.4979, 0.6092, 0.2521, 0.3304], '11-3': [3.261, 0.4981, 0.6082, 0.35, 0.3301], '11-4': [3.261, 0.499, 0.6055, 0.4621, 0.3294], '11-5': [3.249, 0.5023, 0.5984, 0.6013, 0.326], '11-6': [3.261, 0.499, 0.4468, 0.1398, 0.3295], '11-7': [3.262, 0.4985, 0.4461, 0.2521, 0.3299], '11-8': [3.266, 0.4978, 0.4471, 0.3495, 0.3307], '11-9': [3.264, 0.4983, 0.4475, 0.4626, 0.3302], '11-10': [3.259, 0.499, 0.4478, 0.6022, 0.3293], '11-11': [3.259, 0.4992, 0.3523, 0.1413, 0.3292], '11-12': [3.265, 0.4979, 0.3525, 0.2511, 0.3306], '11-13': [3.262, 0.4985, 0.3527, 0.3494, 0.33], '11-14': [3.26, 0.4992, 0.3524, 0.4626, 0.3292], '11-15': [3.256, 0.5017, 0.3538, 0.598, 0.3271], '11-16': [3.262, 0.4989, 0.2934, 0.1427, 0.3297], '11-17': [3.266, 0.498, 0.2939, 0.25, 0.3307], '11-18': [3.259, 0.4991, 0.2936, 0.3506, 0.3292], '11-19': [3.257, 0.5004, 0.294, 0.4609, 0.3281], '11-20': [3.247, 0.5073, 0.2964, 0.5863, 0.3225], '11-21': [3.262, 0.5121, 0.25, 0.1417, 0.3209], '11-22': [3.263, 0.5119, 0.2502, 0.2507, 0.3211], '11-23': [3.258, 0.5129, 0.2498, 0.3502, 0.3199], '11-24': [3.255, 0.5142, 0.2502, 0.4581, 0.3188], '12-All': [3.246, 0.4065, 0.4191, 0.3211, 0.403], '12-1': [3.236, 0.4044, 0.5806, 0.1384, 0.4038], '12-2': [3.234, 0.4055, 0.5765, 0.2411, 0.4024], '12-3': [3.226, 0.4073, 0.5728, 0.3198, 0.3995], '12-4': [3.216, 0.4109, 0.5679, 0.4028, 0.3944], '12-6': [3.256, 0.3993, 0.4676, 0.1401, 0.4118], '12-7': [3.255, 0.399, 0.4669, 0.2419, 0.412], '12-8': [3.255, 0.3993, 0.4669, 0.3206, 0.4116], '12-9': [3.25, 0.4002, 0.4673, 0.4031, 0.4099], '12-10': [3.231, 0.4081, 0.4673, 0.5135, 0.399], '12-11': [3.256, 0.3993, 0.3983, 0.1414, 0.4118], '12-12': [3.255, 0.3989, 0.3981, 0.2419, 0.4122], '12-13': [3.256, 0.3993, 0.3985, 0.3197, 0.4119], '12-14': [3.256, 0.401, 0.3991, 0.4025, 0.4099], '12-15': [3.235, 0.408, 0.3992, 0.5137, 0.3998], '12-16': [3.254, 0.3999, 0.3494, 0.1421, 0.4109], '12-17': [3.253, 0.4, 0.3494, 0.2417, 0.4107], '12-18': [3.26, 0.4003, 0.3498, 0.3187, 0.4112], '12-19': [3.249, 0.4045, 0.3498, 0.403, 0.4055], '12-20': [3.236, 0.4085, 0.3499, 0.5115, 0.3995], '12-21': [3.255, 0.4192, 0.3056, 0.1428, 0.3911], '12-22': [3.258, 0.4189, 0.3059, 0.2407, 0.3916], '12-23': [3.258, 0.4191, 0.3062, 0.319, 0.3915], '12-24': [3.245, 0.4213, 0.3055, 0.403, 0.3878], '12-25': [3.238, 0.4224, 0.3068, 0.5078, 0.3859], '13-All': [4.374, 0.7004, 0.3118, 0.384, 0.3144], '13-1': [4.392, 0.6955, 0.547, 0.1515, 0.3178], '13-2': [4.4, 0.6955, 0.5463, 0.2815, 0.3185], '13-3': [4.391, 0.6962, 0.5458, 0.39, 0.3175], '13-4': [4.38, 0.6964, 0.5477, 0.5075, 0.3167], '13-5': [4.373, 0.6969, 0.5518, 0.7102, 0.3159], '13-6': [4.395, 0.6976, 0.3984, 0.1514, 0.3171], '13-7': [4.392, 0.6981, 0.3984, 0.2815, 0.3167], '13-8': [4.381, 0.6989, 0.3986, 0.3896, 0.3155], '13-9': [4.376, 0.6993, 0.3986, 0.5069, 0.315], '13-10': [4.364, 0.6999, 0.4002, 0.6996, 0.3138], '13-11': [4.391, 0.6979, 0.3178, 0.1525, 0.3167], '13-12': [4.388, 0.6988, 0.318, 0.2814, 0.3161], '13-13': [4.377, 0.6993, 0.3177, 0.3899, 0.3151], '13-14': [4.374, 0.6995, 0.3178, 0.5062, 0.3148], '13-15': [4.358, 0.7008, 0.3192, 0.6854, 0.3131], '13-16': [4.39, 0.6982, 0.2636, 0.1524, 0.3165], '13-17': [4.381, 0.699, 0.2634, 0.2828, 0.3155], '13-18': [4.373, 0.6994, 0.2632, 0.3898, 0.3148], '13-19': [4.369, 0.6997, 0.2637, 0.5047, 0.3143], '13-21': [4.389, 0.6981, 0.219, 0.1514, 0.3165], '13-22': [4.376, 0.6995, 0.2187, 0.2836, 0.315], '13-23': [4.37, 0.6999, 0.2189, 0.3893, 0.3143], '13-24': [4.363, 0.7011, 0.2197, 0.5009, 0.3132], '13-26': [4.385, 0.7059, 0.1832, 0.1521, 0.3127], '13-27': [4.37, 0.7073, 0.1828, 0.2832, 0.311], '13-28': [4.37, 0.7074, 0.1831, 0.388, 0.3109], '14-All': [4.356, 0.6013, 0.3502, 0.3766, 0.3648], '14-1': [4.366, 0.5985, 0.5866, 0.1458, 0.3674], '14-2': [4.373, 0.5983, 0.5873, 0.2617, 0.3681], '14-3': [4.376, 0.5982, 0.5882, 0.355, 0.3684], '14-4': [4.376, 0.5984, 0.5884, 0.449, 0.3683], '14-5': [4.357, 0.5993, 0.5878, 0.566, 0.3661], '14-6': [4.309, 0.6029, 0.5827, 0.7393, 0.3598], '14-7': [4.368, 0.5991, 0.4388, 0.1463, 0.3672], '14-8': [4.375, 0.5986, 0.4385, 0.2614, 0.3681], '14-9': [4.375, 0.5988, 0.4391, 0.3547, 0.368], '14-10': [4.367, 0.5991, 0.4392, 0.4486, 0.3671], '14-11': [4.358, 0.5996, 0.4394, 0.5654, 0.3661], '14-12': [4.345, 0.6005, 0.4409, 0.7399, 0.3644], '14-13': [4.364, 0.5994, 0.3524, 0.147, 0.3667], '14-14': [4.373, 0.5987, 0.3524, 0.2609, 0.3678], '14-15': [4.374, 0.599, 0.3527, 0.3546, 0.3677], '14-16': [4.361, 0.5994, 0.3523, 0.4488, 0.3665], '14-17': [4.353, 0.6001, 0.3527, 0.564, 0.3654], '14-18': [4.325, 0.6026, 0.3549, 0.7246, 0.3613], '14-19': [4.364, 0.5994, 0.2936, 0.1478, 0.3667], '14-20': [4.374, 0.5989, 0.2938, 0.2605, 0.3678], '14-21': [4.36, 0.5995, 0.2935, 0.3553, 0.3663], '14-22': [4.355, 0.6001, 0.2936, 0.4485, 0.3655], '14-23': [4.349, 0.6009, 0.2941, 0.5624, 0.3645], '14-25': [4.367, 0.5992, 0.249, 0.1476, 0.367], '14-26': [4.368, 0.5992, 0.2491, 0.261, 0.3672], '14-27': [4.352, 0.6003, 0.2489, 0.3551, 0.3651], '14-28': [4.347, 0.6007, 0.2493, 0.4478, 0.3645], '14-29': [4.304, 0.6054, 0.2511, 0.5517, 0.3579], '14-31': [4.372, 0.6072, 0.2126, 0.1452, 0.3625], '14-32': [4.36, 0.6082, 0.2123, 0.2625, 0.3609], '14-33': [4.35, 0.6087, 0.2122, 0.3546, 0.3597], '14-34': [4.334, 0.6092, 0.2127, 0.4457, 0.3581], '15-All': [4.315, 0.5039, 0.3829, 0.352, 0.4316], '15-1': [4.315, 0.5007, 0.5808, 0.1515, 0.4343], '15-2': [4.308, 0.5015, 0.5781, 0.2712, 0.4329], '15-3': [4.294, 0.5022, 0.5735, 0.3691, 0.4308], '15-4': [4.267, 0.5046, 0.5679, 0.4802, 0.4259], '15-6': [4.339, 0.5001, 0.4415, 0.1526, 0.4375], '15-7': [4.339, 0.4995, 0.4408, 0.2718, 0.438], '15-8': [4.349, 0.4989, 0.4413, 0.3694, 0.4395], '15-9': [4.339, 0.4995, 0.4417, 0.481, 0.4378], '15-10': [4.268, 0.5051, 0.4418, 0.6407, 0.4255], '15-11': [4.332, 0.5003, 0.3565, 0.1535, 0.4365], '15-12': [4.339, 0.4997, 0.3566, 0.2712, 0.4377], '15-13': [4.344, 0.4996, 0.3575, 0.3688, 0.4383], '15-14': [4.326, 0.5012, 0.3573, 0.481, 0.435], '15-15': [4.273, 0.5078, 0.3607, 0.6271, 0.4238], '15-16': [4.33, 0.5001, 0.2935, 0.1553, 0.4364], '15-17': [4.342, 0.4998, 0.2939, 0.2696, 0.4379], '15-18': [4.325, 0.5011, 0.2939, 0.3695, 0.4351], '15-19': [4.306, 0.5041, 0.2945, 0.4779, 0.4304], '15-21': [4.34, 0.5132, 0.2498, 0.1545, 0.4259], '15-22': [4.34, 0.513, 0.2501, 0.2698, 0.426], '15-23': [4.322, 0.5145, 0.2496, 0.369, 0.4229], '15-24': [4.269, 0.5175, 0.2508, 0.47, 0.4151], '16-All': [6.202, 0.7003, 0.3175, 0.3649, 0.4458], '16-1': [6.237, 0.6971, 0.5115, 0.1523, 0.4503], '16-2': [6.253, 0.6968, 0.513, 0.2711, 0.4517], '16-3': [6.248, 0.6968, 0.5139, 0.3699, 0.4514], '16-4': [6.236, 0.6977, 0.5153, 0.4686, 0.45], '16-5': [6.209, 0.6982, 0.5181, 0.5853, 0.4476], '16-6': [6.141, 0.7004, 0.5182, 0.7545, 0.4412], '16-7': [6.228, 0.6983, 0.3585, 0.153, 0.4489], '16-8': [6.245, 0.6981, 0.3586, 0.2707, 0.4504], '16-9': [6.235, 0.6981, 0.3586, 0.3696, 0.4495], '16-10': [6.223, 0.699, 0.3584, 0.4686, 0.4481], '16-11': [6.21, 0.6996, 0.359, 0.5837, 0.4468], '16-12': [6.145, 0.7017, 0.3635, 0.7426, 0.4407], '16-13': [6.229, 0.6982, 0.2722, 0.153, 0.4491], '16-14': [6.235, 0.6985, 0.2724, 0.2709, 0.4494], '16-15': [6.21, 0.6992, 0.2716, 0.3702, 0.447], '16-16': [6.196, 0.6998, 0.2721, 0.4679, 0.4457], '16-17': [6.147, 0.7018, 0.2747, 0.5782, 0.4408], '16-19': [6.23, 0.6978, 0.2191, 0.1516, 0.4494], '16-20': [6.218, 0.6988, 0.2189, 0.2719, 0.4479], '16-21': [6.202, 0.6997, 0.2189, 0.3693, 0.4461], '16-22': [6.145, 0.7017, 0.2199, 0.465, 0.4407], '16-25': [6.224, 0.7054, 0.1833, 0.1506, 0.4441], '16-26': [6.201, 0.7068, 0.1829, 0.2723, 0.4415], '16-27': [6.169, 0.7075, 0.1832, 0.3685, 0.4388], '17-All': [6.153, 0.6039, 0.3452, 0.3411, 0.513], '17-1': [6.18, 0.6015, 0.5318, 0.1336, 0.5173], '17-2': [6.179, 0.6016, 0.5313, 0.2369, 0.5171], '17-3': [6.159, 0.6022, 0.5301, 0.3251, 0.5148], '17-4': [6.133, 0.6024, 0.5294, 0.409, 0.5124], '17-5': [6.084, 0.604, 0.5279, 0.4968, 0.5069], '17-6': [5.969, 0.6081, 0.5233, 0.6238, 0.4938], '17-7': [6.193, 0.6014, 0.3851, 0.1339, 0.5186], '17-8': [6.197, 0.6013, 0.3846, 0.2372, 0.519], '17-9': [6.212, 0.601, 0.385, 0.325, 0.5206], '17-10': [6.21, 0.601, 0.3857, 0.4089, 0.5203], '17-11': [6.172, 0.6019, 0.3852, 0.4975, 0.5163], '17-12': [6.086, 0.6047, 0.3861, 0.6239, 0.5065], '17-13': [6.186, 0.6016, 0.3081, 0.1347, 0.5179], '17-14': [6.203, 0.6012, 0.3081, 0.2366, 0.5196], '17-15': [6.209, 0.601, 0.3085, 0.3242, 0.5203], '17-16': [6.176, 0.6023, 0.3083, 0.4091, 0.5164], '17-17': [6.156, 0.603, 0.3084, 0.4968, 0.514], '17-18': [6.019, 0.6081, 0.3118, 0.6102, 0.498], '17-19': [6.195, 0.6015, 0.2532, 0.1353, 0.5187], '17-20': [6.203, 0.6011, 0.2538, 0.2352, 0.5197], '17-21': [6.183, 0.6023, 0.2537, 0.3251, 0.5169], '17-22': [6.147, 0.603, 0.2538, 0.4088, 0.5132], '17-23': [6.038, 0.6072, 0.2561, 0.4924, 0.5004], '17-25': [6.2, 0.6093, 0.2122, 0.1349, 0.5122], '17-26': [6.207, 0.6095, 0.2123, 0.2355, 0.5126], '17-27': [6.162, 0.6105, 0.2121, 0.325, 0.508], '17-28': [6.055, 0.6126, 0.2128, 0.4065, 0.4974]}\n",
    "\n",
    "def Get_Bin_Center_Function(Q2_y_Bin, z_pT_Bin, Variable=\"All\"):\n",
    "    if(str(z_pT_Bin) in [\"0\", 0, \"all\"]):\n",
    "        z_pT_Bin = \"All\"\n",
    "    if(Variable in [\"All\"]):\n",
    "        return Get_Bin_Center_Dictionary[f\"{Q2_y_Bin}-{z_pT_Bin}\"]\n",
    "    else:\n",
    "        if(str(Variable) in [\"mean_Q2\", \"Q2\"]):\n",
    "            return Get_Bin_Center_Dictionary[f\"{Q2_y_Bin}-{z_pT_Bin}\"][0]\n",
    "        if(str(Variable) in [\"mean_y\",  \"y\"]):\n",
    "            return Get_Bin_Center_Dictionary[f\"{Q2_y_Bin}-{z_pT_Bin}\"][1]\n",
    "        if(str(Variable) in [\"mean_z\",  \"z\"]):\n",
    "            return Get_Bin_Center_Dictionary[f\"{Q2_y_Bin}-{z_pT_Bin}\"][2]\n",
    "        if(str(Variable) in [\"mean_pT\", \"pT\"]):\n",
    "            return Get_Bin_Center_Dictionary[f\"{Q2_y_Bin}-{z_pT_Bin}\"][3]\n",
    "        if(str(Variable) in [\"mean_xB\", \"xB\"]):\n",
    "            return Get_Bin_Center_Dictionary[f\"{Q2_y_Bin}-{z_pT_Bin}\"][4]\n",
    "    print(f\"POTENTIAL ERROR: Get_Bin_Center_Function({Q2_y_Bin}, {z_pT_Bin}, {Variable}) did not return anything yet... (returning Variable='All')\")\n",
    "    return Get_Bin_Center_Dictionary[f\"{Q2_y_Bin}-{z_pT_Bin}\"]\n",
    "\n",
    "\n",
    "print(Get_Bin_Center_Function(1, 5))"
   ]
  },
  {
   "cell_type": "code",
   "execution_count": 28,
   "id": "fitting-summary",
   "metadata": {},
   "outputs": [
    {
     "name": "stdout",
     "output_type": "stream",
     "text": [
      "event/I:runN/I:ex:ey:ez:pipx:pipy:pipz:esec/I:pipsec/I:V_PCal:W_PCal:U_PCal:Hx:Hy:ele_x_DC:ele_y_DC:ele_z_DC:Hx_pip:Hy_pip:pip_x_DC:pip_y_DC:pip_z_DC:detector_ele_DC/I:layer_ele_DC/I:detector_pip_DC/I:layer_pip_DC/I:beamCharge:ex_gen:ey_gen:ez_gen:eE_gen:PID_el:pipx_gen:pipy_gen:pipz_gen:pipE_gen:PID_pip\n"
     ]
    }
   ],
   "source": [
    "text = \"\"\"event/I\n",
    "runN/I\n",
    "ex\n",
    "ey\n",
    "ez\n",
    "pipx\n",
    "pipy\n",
    "pipz\n",
    "\n",
    "esec/I\n",
    "pipsec/I\n",
    "V_PCal\n",
    "W_PCal\n",
    "U_PCal\n",
    "\n",
    "Hx\n",
    "Hy\n",
    "ele_x_DC\n",
    "ele_y_DC\n",
    "ele_z_DC\n",
    "\n",
    "Hx_pip\n",
    "Hy_pip\n",
    "pip_x_DC\n",
    "pip_y_DC\n",
    "pip_z_DC\n",
    "\n",
    "detector_ele_DC/I\n",
    "layer_ele_DC/I\n",
    "detector_pip_DC/I\n",
    "layer_pip_DC/I\n",
    "beamCharge\n",
    "\n",
    "ex_gen\n",
    "ey_gen\n",
    "ez_gen\n",
    "eE_gen\n",
    "PID_el\n",
    "\n",
    "pipx_gen\n",
    "pipy_gen\n",
    "pipz_gen\n",
    "pipE_gen\n",
    "PID_pip\"\"\".replace(\"\\n\", \":\")\n",
    "\n",
    "# while(\" \" in text):\n",
    "text = text.replace(\"::\", \":\")\n",
    "\n",
    "print(text)"
   ]
  },
  {
   "cell_type": "code",
   "execution_count": null,
   "id": "transparent-agent",
   "metadata": {},
   "outputs": [],
   "source": []
  },
  {
   "cell_type": "code",
   "execution_count": null,
   "id": "powerful-following",
   "metadata": {},
   "outputs": [],
   "source": []
  },
  {
   "cell_type": "code",
   "execution_count": 5,
   "id": "affecting-navigator",
   "metadata": {},
   "outputs": [
    {
     "name": "stdout",
     "output_type": "stream",
     "text": [
      "['inb-clasdis_7580_010.hipo', 'inb-clasdis_7580_011.hipo', 'inb-clasdis_7580_012.hipo', 'inb-clasdis_7580_013.hipo', 'inb-clasdis_7580_014.hipo', 'inb-clasdis_7580_015.hipo', 'inb-clasdis_7580_016.hipo', 'inb-clasdis_7580_017.hipo', 'inb-clasdis_7580_018.hipo', 'inb-clasdis_7580_019.hipo', 'inb-clasdis_7580_020.hipo', 'inb-clasdis_7580_021.hipo', 'inb-clasdis_7580_022.hipo', 'inb-clasdis_7580_023.hipo', 'inb-clasdis_7580_024.hipo', 'inb-clasdis_7580_025.hipo', 'inb-clasdis_7580_026.hipo', 'inb-clasdis_7580_027.hipo', 'inb-clasdis_7580_028.hipo', 'inb-clasdis_7580_029.hipo', 'inb-clasdis_7580_030.hipo', 'inb-clasdis_7580_031.hipo', 'inb-clasdis_7580_032.hipo', 'inb-clasdis_7580_033.hipo', 'inb-clasdis_7580_034.hipo', 'inb-clasdis_7580_035.hipo', 'inb-clasdis_7580_036.hipo', 'inb-clasdis_7580_037.hipo', 'inb-clasdis_7580_038.hipo', 'inb-clasdis_7580_039.hipo', 'inb-clasdis_7580_040.hipo', 'inb-clasdis_7580_041.hipo', 'inb-clasdis_7580_042.hipo', 'inb-clasdis_7580_043.hipo', 'inb-clasdis_7580_044.hipo', 'inb-clasdis_7580_045.hipo', 'inb-clasdis_7580_046.hipo', 'inb-clasdis_7580_047.hipo', 'inb-clasdis_7580_048.hipo', 'inb-clasdis_7580_049.hipo']\n"
     ]
    }
   ],
   "source": [
    "print(\"\"\"['inb-clasdis_7580_010.hipo\n",
    "inb-clasdis_7580_011.hipo\n",
    "inb-clasdis_7580_012.hipo\n",
    "inb-clasdis_7580_013.hipo\n",
    "inb-clasdis_7580_014.hipo\n",
    "inb-clasdis_7580_015.hipo\n",
    "inb-clasdis_7580_016.hipo\n",
    "inb-clasdis_7580_017.hipo\n",
    "inb-clasdis_7580_018.hipo\n",
    "inb-clasdis_7580_019.hipo\n",
    "inb-clasdis_7580_020.hipo\n",
    "inb-clasdis_7580_021.hipo\n",
    "inb-clasdis_7580_022.hipo\n",
    "inb-clasdis_7580_023.hipo\n",
    "inb-clasdis_7580_024.hipo\n",
    "inb-clasdis_7580_025.hipo\n",
    "inb-clasdis_7580_026.hipo\n",
    "inb-clasdis_7580_027.hipo\n",
    "inb-clasdis_7580_028.hipo\n",
    "inb-clasdis_7580_029.hipo\n",
    "inb-clasdis_7580_030.hipo\n",
    "inb-clasdis_7580_031.hipo\n",
    "inb-clasdis_7580_032.hipo\n",
    "inb-clasdis_7580_033.hipo\n",
    "inb-clasdis_7580_034.hipo\n",
    "inb-clasdis_7580_035.hipo\n",
    "inb-clasdis_7580_036.hipo\n",
    "inb-clasdis_7580_037.hipo\n",
    "inb-clasdis_7580_038.hipo\n",
    "inb-clasdis_7580_039.hipo\n",
    "inb-clasdis_7580_040.hipo\n",
    "inb-clasdis_7580_041.hipo\n",
    "inb-clasdis_7580_042.hipo\n",
    "inb-clasdis_7580_043.hipo\n",
    "inb-clasdis_7580_044.hipo\n",
    "inb-clasdis_7580_045.hipo\n",
    "inb-clasdis_7580_046.hipo\n",
    "inb-clasdis_7580_047.hipo\n",
    "inb-clasdis_7580_048.hipo\n",
    "inb-clasdis_7580_049.hipo']\"\"\".replace(\"\\n\", \"', '\"))"
   ]
  },
  {
   "cell_type": "code",
   "execution_count": 4,
   "id": "checked-chicago",
   "metadata": {},
   "outputs": [
    {
     "name": "stdout",
     "output_type": "stream",
     "text": [
      "cp 00050.hipo /w/hallb-scshelf2102/clas12/richcap/SIDIS/New_MC_hipo/inb-clasdis_7716_50.hipo; cp 00051.hipo /w/hallb-scshelf2102/clas12/richcap/SIDIS/New_MC_hipo/inb-clasdis_7716_51.hipo; cp 00052.hipo /w/hallb-scshelf2102/clas12/richcap/SIDIS/New_MC_hipo/inb-clasdis_7716_52.hipo; cp 00053.hipo /w/hallb-scshelf2102/clas12/richcap/SIDIS/New_MC_hipo/inb-clasdis_7716_53.hipo; cp 00054.hipo /w/hallb-scshelf2102/clas12/richcap/SIDIS/New_MC_hipo/inb-clasdis_7716_54.hipo; cp 00055.hipo /w/hallb-scshelf2102/clas12/richcap/SIDIS/New_MC_hipo/inb-clasdis_7716_55.hipo; cp 00056.hipo /w/hallb-scshelf2102/clas12/richcap/SIDIS/New_MC_hipo/inb-clasdis_7716_56.hipo; cp 00057.hipo /w/hallb-scshelf2102/clas12/richcap/SIDIS/New_MC_hipo/inb-clasdis_7716_57.hipo; cp 00058.hipo /w/hallb-scshelf2102/clas12/richcap/SIDIS/New_MC_hipo/inb-clasdis_7716_58.hipo; cp 00059.hipo /w/hallb-scshelf2102/clas12/richcap/SIDIS/New_MC_hipo/inb-clasdis_7716_59.hipo; cp 00060.hipo /w/hallb-scshelf2102/clas12/richcap/SIDIS/New_MC_hipo/inb-clasdis_7716_60.hipo; cp 00061.hipo /w/hallb-scshelf2102/clas12/richcap/SIDIS/New_MC_hipo/inb-clasdis_7716_61.hipo; cp 00062.hipo /w/hallb-scshelf2102/clas12/richcap/SIDIS/New_MC_hipo/inb-clasdis_7716_62.hipo; cp 00063.hipo /w/hallb-scshelf2102/clas12/richcap/SIDIS/New_MC_hipo/inb-clasdis_7716_63.hipo; cp 00064.hipo /w/hallb-scshelf2102/clas12/richcap/SIDIS/New_MC_hipo/inb-clasdis_7716_64.hipo; cp 00065.hipo /w/hallb-scshelf2102/clas12/richcap/SIDIS/New_MC_hipo/inb-clasdis_7716_65.hipo; cp 00066.hipo /w/hallb-scshelf2102/clas12/richcap/SIDIS/New_MC_hipo/inb-clasdis_7716_66.hipo; cp 00067.hipo /w/hallb-scshelf2102/clas12/richcap/SIDIS/New_MC_hipo/inb-clasdis_7716_67.hipo; cp 00068.hipo /w/hallb-scshelf2102/clas12/richcap/SIDIS/New_MC_hipo/inb-clasdis_7716_68.hipo; cp 00069.hipo /w/hallb-scshelf2102/clas12/richcap/SIDIS/New_MC_hipo/inb-clasdis_7716_69.hipo; cp 00070.hipo /w/hallb-scshelf2102/clas12/richcap/SIDIS/New_MC_hipo/inb-clasdis_7716_70.hipo; cp 00071.hipo /w/hallb-scshelf2102/clas12/richcap/SIDIS/New_MC_hipo/inb-clasdis_7716_71.hipo; cp 00072.hipo /w/hallb-scshelf2102/clas12/richcap/SIDIS/New_MC_hipo/inb-clasdis_7716_72.hipo; cp 00073.hipo /w/hallb-scshelf2102/clas12/richcap/SIDIS/New_MC_hipo/inb-clasdis_7716_73.hipo; cp 00074.hipo /w/hallb-scshelf2102/clas12/richcap/SIDIS/New_MC_hipo/inb-clasdis_7716_74.hipo; cp 00075.hipo /w/hallb-scshelf2102/clas12/richcap/SIDIS/New_MC_hipo/inb-clasdis_7716_75.hipo; cp 00076.hipo /w/hallb-scshelf2102/clas12/richcap/SIDIS/New_MC_hipo/inb-clasdis_7716_76.hipo; cp 00077.hipo /w/hallb-scshelf2102/clas12/richcap/SIDIS/New_MC_hipo/inb-clasdis_7716_77.hipo; cp 00078.hipo /w/hallb-scshelf2102/clas12/richcap/SIDIS/New_MC_hipo/inb-clasdis_7716_78.hipo; cp 00079.hipo /w/hallb-scshelf2102/clas12/richcap/SIDIS/New_MC_hipo/inb-clasdis_7716_79.hipo; cp 00080.hipo /w/hallb-scshelf2102/clas12/richcap/SIDIS/New_MC_hipo/inb-clasdis_7716_80.hipo; cp 00081.hipo /w/hallb-scshelf2102/clas12/richcap/SIDIS/New_MC_hipo/inb-clasdis_7716_81.hipo; cp 00082.hipo /w/hallb-scshelf2102/clas12/richcap/SIDIS/New_MC_hipo/inb-clasdis_7716_82.hipo; cp 00083.hipo /w/hallb-scshelf2102/clas12/richcap/SIDIS/New_MC_hipo/inb-clasdis_7716_83.hipo; cp 00084.hipo /w/hallb-scshelf2102/clas12/richcap/SIDIS/New_MC_hipo/inb-clasdis_7716_84.hipo; cp 00085.hipo /w/hallb-scshelf2102/clas12/richcap/SIDIS/New_MC_hipo/inb-clasdis_7716_85.hipo; cp 00086.hipo /w/hallb-scshelf2102/clas12/richcap/SIDIS/New_MC_hipo/inb-clasdis_7716_86.hipo; cp 00087.hipo /w/hallb-scshelf2102/clas12/richcap/SIDIS/New_MC_hipo/inb-clasdis_7716_87.hipo; cp 00088.hipo /w/hallb-scshelf2102/clas12/richcap/SIDIS/New_MC_hipo/inb-clasdis_7716_88.hipo; cp 00089.hipo /w/hallb-scshelf2102/clas12/richcap/SIDIS/New_MC_hipo/inb-clasdis_7716_89.hipo; cp 00090.hipo /w/hallb-scshelf2102/clas12/richcap/SIDIS/New_MC_hipo/inb-clasdis_7716_90.hipo; cp 00091.hipo /w/hallb-scshelf2102/clas12/richcap/SIDIS/New_MC_hipo/inb-clasdis_7716_91.hipo; cp 00092.hipo /w/hallb-scshelf2102/clas12/richcap/SIDIS/New_MC_hipo/inb-clasdis_7716_92.hipo; cp 00093.hipo /w/hallb-scshelf2102/clas12/richcap/SIDIS/New_MC_hipo/inb-clasdis_7716_93.hipo; cp 00094.hipo /w/hallb-scshelf2102/clas12/richcap/SIDIS/New_MC_hipo/inb-clasdis_7716_94.hipo; cp 00095.hipo /w/hallb-scshelf2102/clas12/richcap/SIDIS/New_MC_hipo/inb-clasdis_7716_95.hipo; cp 00096.hipo /w/hallb-scshelf2102/clas12/richcap/SIDIS/New_MC_hipo/inb-clasdis_7716_96.hipo; cp 00097.hipo /w/hallb-scshelf2102/clas12/richcap/SIDIS/New_MC_hipo/inb-clasdis_7716_97.hipo; cp 00098.hipo /w/hallb-scshelf2102/clas12/richcap/SIDIS/New_MC_hipo/inb-clasdis_7716_98.hipo; cp 00099.hipo /w/hallb-scshelf2102/clas12/richcap/SIDIS/New_MC_hipo/inb-clasdis_7716_99.hipo; cp 00100.hipo /w/hallb-scshelf2102/clas12/richcap/SIDIS/New_MC_hipo/inb-clasdis_7716_100.hipo; lt\n"
     ]
    }
   ],
   "source": [
    "file_list = ['00001.hipo', '00002.hipo', '00003.hipo', '00004.hipo', '00005.hipo', '00006.hipo', '00007.hipo', '00008.hipo', '00009.hipo', '00010.hipo', '00011.hipo', '00012.hipo', '00013.hipo', '00014.hipo', '00015.hipo', '00016.hipo', '00017.hipo', '00018.hipo', '00019.hipo', '00020.hipo', '00021.hipo', '00022.hipo', '00023.hipo', '00024.hipo', '00025.hipo', '00026.hipo', '00027.hipo', '00028.hipo', '00029.hipo', '00030.hipo', '00031.hipo', '00032.hipo', '00033.hipo', '00034.hipo', '00035.hipo', '00036.hipo', '00037.hipo', '00038.hipo', '00039.hipo', '00040.hipo', '00041.hipo', '00042.hipo', '00043.hipo', '00044.hipo', '00045.hipo', '00046.hipo', '00047.hipo', '00048.hipo', '00049.hipo', '00050.hipo', '00051.hipo', '00052.hipo', '00053.hipo', '00054.hipo', '00055.hipo', '00056.hipo', '00057.hipo', '00058.hipo', '00059.hipo', '00060.hipo', '00061.hipo', '00062.hipo', '00063.hipo', '00064.hipo', '00065.hipo', '00066.hipo', '00067.hipo', '00068.hipo', '00069.hipo', '00070.hipo', '00071.hipo', '00072.hipo', '00073.hipo', '00074.hipo', '00075.hipo', '00076.hipo', '00077.hipo', '00078.hipo', '00079.hipo', '00080.hipo', '00081.hipo', '00082.hipo', '00083.hipo', '00084.hipo', '00085.hipo', '00086.hipo', '00087.hipo', '00088.hipo', '00089.hipo', '00090.hipo', '00091.hipo', '00092.hipo', '00093.hipo', '00094.hipo', '00095.hipo', '00096.hipo', '00097.hipo', '00098.hipo', '00099.hipo', '00100.hipo']\n",
    "file_list = ['00050.hipo', '00051.hipo', '00052.hipo', '00053.hipo', '00054.hipo', '00055.hipo', '00056.hipo', '00057.hipo', '00058.hipo', '00059.hipo', '00060.hipo', '00061.hipo', '00062.hipo', '00063.hipo', '00064.hipo', '00065.hipo', '00066.hipo', '00067.hipo', '00068.hipo', '00069.hipo', '00070.hipo', '00071.hipo', '00072.hipo', '00073.hipo', '00074.hipo', '00075.hipo', '00076.hipo', '00077.hipo', '00078.hipo', '00079.hipo', '00080.hipo', '00081.hipo', '00082.hipo', '00083.hipo', '00084.hipo', '00085.hipo', '00086.hipo', '00087.hipo', '00088.hipo', '00089.hipo', '00090.hipo', '00091.hipo', '00092.hipo', '00093.hipo', '00094.hipo', '00095.hipo', '00096.hipo', '00097.hipo', '00098.hipo', '00099.hipo', '00100.hipo']\n",
    "# new_list = []\n",
    "command = \"\"\n",
    "for ii in file_list:\n",
    "#     if(ii in [\"00050.hipo\"]):\n",
    "#         break\n",
    "    temp = ii.replace(\"00\", \"_\")\n",
    "    temp = temp.replace(\"__\", \"_\")\n",
    "    temp = temp.replace(\"_0\", \"_\")\n",
    "    temp = temp.replace(\"_.hipo\", \"00.hipo\")\n",
    "    \n",
    "    command = f\"{command}cp {ii} /w/hallb-scshelf2102/clas12/richcap/SIDIS/New_MC_hipo/inb-clasdis_7716{temp}; \"\n",
    "    \n",
    "    \n",
    "print(f\"{command}lt\")\n",
    "#     new_list.append(f\"inb-clasdis{temp}\")\n",
    "# print(f\"new_list = {new_list}\")\n"
   ]
  },
  {
   "cell_type": "code",
   "execution_count": 7,
   "id": "domestic-maximum",
   "metadata": {},
   "outputs": [
    {
     "name": "stdout",
     "output_type": "stream",
     "text": [
      "mv inb-clasdis_7580_010.hipo inb-clasdis_7580_10.hipo; mv inb-clasdis_7580_011.hipo inb-clasdis_7580_11.hipo; mv inb-clasdis_7580_012.hipo inb-clasdis_7580_12.hipo; mv inb-clasdis_7580_013.hipo inb-clasdis_7580_13.hipo; mv inb-clasdis_7580_014.hipo inb-clasdis_7580_14.hipo; mv inb-clasdis_7580_015.hipo inb-clasdis_7580_15.hipo; mv inb-clasdis_7580_016.hipo inb-clasdis_7580_16.hipo; mv inb-clasdis_7580_017.hipo inb-clasdis_7580_17.hipo; mv inb-clasdis_7580_018.hipo inb-clasdis_7580_18.hipo; mv inb-clasdis_7580_019.hipo inb-clasdis_7580_19.hipo; mv inb-clasdis_7580_020.hipo inb-clasdis_7580_20.hipo; mv inb-clasdis_7580_021.hipo inb-clasdis_7580_21.hipo; mv inb-clasdis_7580_022.hipo inb-clasdis_7580_22.hipo; mv inb-clasdis_7580_023.hipo inb-clasdis_7580_23.hipo; mv inb-clasdis_7580_024.hipo inb-clasdis_7580_24.hipo; mv inb-clasdis_7580_025.hipo inb-clasdis_7580_25.hipo; mv inb-clasdis_7580_026.hipo inb-clasdis_7580_26.hipo; mv inb-clasdis_7580_027.hipo inb-clasdis_7580_27.hipo; mv inb-clasdis_7580_028.hipo inb-clasdis_7580_28.hipo; mv inb-clasdis_7580_029.hipo inb-clasdis_7580_29.hipo; mv inb-clasdis_7580_030.hipo inb-clasdis_7580_30.hipo; mv inb-clasdis_7580_031.hipo inb-clasdis_7580_31.hipo; mv inb-clasdis_7580_032.hipo inb-clasdis_7580_32.hipo; mv inb-clasdis_7580_033.hipo inb-clasdis_7580_33.hipo; mv inb-clasdis_7580_034.hipo inb-clasdis_7580_34.hipo; mv inb-clasdis_7580_035.hipo inb-clasdis_7580_35.hipo; mv inb-clasdis_7580_036.hipo inb-clasdis_7580_36.hipo; mv inb-clasdis_7580_037.hipo inb-clasdis_7580_37.hipo; mv inb-clasdis_7580_038.hipo inb-clasdis_7580_38.hipo; mv inb-clasdis_7580_039.hipo inb-clasdis_7580_39.hipo; mv inb-clasdis_7580_040.hipo inb-clasdis_7580_40.hipo; mv inb-clasdis_7580_041.hipo inb-clasdis_7580_41.hipo; mv inb-clasdis_7580_042.hipo inb-clasdis_7580_42.hipo; mv inb-clasdis_7580_043.hipo inb-clasdis_7580_43.hipo; mv inb-clasdis_7580_044.hipo inb-clasdis_7580_44.hipo; mv inb-clasdis_7580_045.hipo inb-clasdis_7580_45.hipo; mv inb-clasdis_7580_046.hipo inb-clasdis_7580_46.hipo; mv inb-clasdis_7580_047.hipo inb-clasdis_7580_47.hipo; mv inb-clasdis_7580_048.hipo inb-clasdis_7580_48.hipo; mv inb-clasdis_7580_049.hipo inb-clasdis_7580_49.hipo; lt\n"
     ]
    }
   ],
   "source": [
    "file_list = ['inb-clasdis_7580_010.hipo', 'inb-clasdis_7580_011.hipo', 'inb-clasdis_7580_012.hipo', 'inb-clasdis_7580_013.hipo', 'inb-clasdis_7580_014.hipo', 'inb-clasdis_7580_015.hipo', 'inb-clasdis_7580_016.hipo', 'inb-clasdis_7580_017.hipo', 'inb-clasdis_7580_018.hipo', 'inb-clasdis_7580_019.hipo', 'inb-clasdis_7580_020.hipo', 'inb-clasdis_7580_021.hipo', 'inb-clasdis_7580_022.hipo', 'inb-clasdis_7580_023.hipo', 'inb-clasdis_7580_024.hipo', 'inb-clasdis_7580_025.hipo', 'inb-clasdis_7580_026.hipo', 'inb-clasdis_7580_027.hipo', 'inb-clasdis_7580_028.hipo', 'inb-clasdis_7580_029.hipo', 'inb-clasdis_7580_030.hipo', 'inb-clasdis_7580_031.hipo', 'inb-clasdis_7580_032.hipo', 'inb-clasdis_7580_033.hipo', 'inb-clasdis_7580_034.hipo', 'inb-clasdis_7580_035.hipo', 'inb-clasdis_7580_036.hipo', 'inb-clasdis_7580_037.hipo', 'inb-clasdis_7580_038.hipo', 'inb-clasdis_7580_039.hipo', 'inb-clasdis_7580_040.hipo', 'inb-clasdis_7580_041.hipo', 'inb-clasdis_7580_042.hipo', 'inb-clasdis_7580_043.hipo', 'inb-clasdis_7580_044.hipo', 'inb-clasdis_7580_045.hipo', 'inb-clasdis_7580_046.hipo', 'inb-clasdis_7580_047.hipo', 'inb-clasdis_7580_048.hipo', 'inb-clasdis_7580_049.hipo']\n",
    "command = \"\"\n",
    "for ii in file_list:\n",
    "    temp = ii.replace(\"00\", \"_\")\n",
    "    temp = temp.replace(\"__\", \"_\")\n",
    "    temp = temp.replace(\"_0\", \"_\")\n",
    "    temp = temp.replace(\"_.hipo\", \"00.hipo\")\n",
    "    \n",
    "    command = f\"{command}mv {ii} {temp}; \"\n",
    "    \n",
    "    \n",
    "print(f\"{command}lt\")\n"
   ]
  },
  {
   "cell_type": "code",
   "execution_count": 29,
   "id": "municipal-pencil",
   "metadata": {},
   "outputs": [
    {
     "name": "stdout",
     "output_type": "stream",
     "text": [
      "hipo-utils -merge -o inb-clasdis-7975_3.hipo /lustre19/expphy/volatile/clas12/osg/richcap/job_7975/output/inb-clasdis-7975-*3.hipo; hipo-utils -merge -o inb-clasdis-7975_4.hipo /lustre19/expphy/volatile/clas12/osg/richcap/job_7975/output/inb-clasdis-7975-*4.hipo; hipo-utils -merge -o inb-clasdis-7975_5.hipo /lustre19/expphy/volatile/clas12/osg/richcap/job_7975/output/inb-clasdis-7975-*5.hipo; hipo-utils -merge -o inb-clasdis-7975_6.hipo /lustre19/expphy/volatile/clas12/osg/richcap/job_7975/output/inb-clasdis-7975-*6.hipo; hipo-utils -merge -o inb-clasdis-7975_7.hipo /lustre19/expphy/volatile/clas12/osg/richcap/job_7975/output/inb-clasdis-7975-*7.hipo; hipo-utils -merge -o inb-clasdis-7975_8.hipo /lustre19/expphy/volatile/clas12/osg/richcap/job_7975/output/inb-clasdis-7975-*8.hipo; hipo-utils -merge -o inb-clasdis-7975_9.hipo /lustre19/expphy/volatile/clas12/osg/richcap/job_7975/output/inb-clasdis-7975-*9.hipo; lt\n",
      "\n",
      "lt /lustre19/expphy/volatile/clas12/richcap/New_MC_SIDIS_Files_Volatile/; lt /w/hallb-scshelf2102/clas12/richcap/SIDIS/New_MC_hipo/BeamEnergy_1060/; ln -s /lustre19/expphy/volatile/clas12/richcap/New_MC_SIDIS_Files_Volatile/inb-clasdis-7975_3.hipo /w/hallb-scshelf2102/clas12/richcap/SIDIS/New_MC_hipo/BeamEnergy_1060/inb-clasdis-7975_3.hipo; ln -s /lustre19/expphy/volatile/clas12/richcap/New_MC_SIDIS_Files_Volatile/inb-clasdis-7975_4.hipo /w/hallb-scshelf2102/clas12/richcap/SIDIS/New_MC_hipo/BeamEnergy_1060/inb-clasdis-7975_4.hipo; ln -s /lustre19/expphy/volatile/clas12/richcap/New_MC_SIDIS_Files_Volatile/inb-clasdis-7975_5.hipo /w/hallb-scshelf2102/clas12/richcap/SIDIS/New_MC_hipo/BeamEnergy_1060/inb-clasdis-7975_5.hipo; ln -s /lustre19/expphy/volatile/clas12/richcap/New_MC_SIDIS_Files_Volatile/inb-clasdis-7975_6.hipo /w/hallb-scshelf2102/clas12/richcap/SIDIS/New_MC_hipo/BeamEnergy_1060/inb-clasdis-7975_6.hipo; ln -s /lustre19/expphy/volatile/clas12/richcap/New_MC_SIDIS_Files_Volatile/inb-clasdis-7975_7.hipo /w/hallb-scshelf2102/clas12/richcap/SIDIS/New_MC_hipo/BeamEnergy_1060/inb-clasdis-7975_7.hipo; ln -s /lustre19/expphy/volatile/clas12/richcap/New_MC_SIDIS_Files_Volatile/inb-clasdis-7975_8.hipo /w/hallb-scshelf2102/clas12/richcap/SIDIS/New_MC_hipo/BeamEnergy_1060/inb-clasdis-7975_8.hipo; ln -s /lustre19/expphy/volatile/clas12/richcap/New_MC_SIDIS_Files_Volatile/inb-clasdis-7975_9.hipo /w/hallb-scshelf2102/clas12/richcap/SIDIS/New_MC_hipo/BeamEnergy_1060/inb-clasdis-7975_9.hipo; lt /w/hallb-scshelf2102/clas12/richcap/SIDIS/New_MC_hipo/BeamEnergy_1060/\n",
      "\n",
      "\n",
      "\u001b[1m\u001b[94mTOGETHER:\n",
      "\u001b[0m\u001b[1mhipo-utils -merge -o inb-clasdis-7975_3.hipo /lustre19/expphy/volatile/clas12/osg/richcap/job_7975/output/inb-clasdis-7975-*3.hipo; hipo-utils -merge -o inb-clasdis-7975_4.hipo /lustre19/expphy/volatile/clas12/osg/richcap/job_7975/output/inb-clasdis-7975-*4.hipo; hipo-utils -merge -o inb-clasdis-7975_5.hipo /lustre19/expphy/volatile/clas12/osg/richcap/job_7975/output/inb-clasdis-7975-*5.hipo; hipo-utils -merge -o inb-clasdis-7975_6.hipo /lustre19/expphy/volatile/clas12/osg/richcap/job_7975/output/inb-clasdis-7975-*6.hipo; hipo-utils -merge -o inb-clasdis-7975_7.hipo /lustre19/expphy/volatile/clas12/osg/richcap/job_7975/output/inb-clasdis-7975-*7.hipo; hipo-utils -merge -o inb-clasdis-7975_8.hipo /lustre19/expphy/volatile/clas12/osg/richcap/job_7975/output/inb-clasdis-7975-*8.hipo; hipo-utils -merge -o inb-clasdis-7975_9.hipo /lustre19/expphy/volatile/clas12/osg/richcap/job_7975/output/inb-clasdis-7975-*9.hipo; ; lt /lustre19/expphy/volatile/clas12/richcap/New_MC_SIDIS_Files_Volatile/; lt /w/hallb-scshelf2102/clas12/richcap/SIDIS/New_MC_hipo/BeamEnergy_1060/; ln -s /lustre19/expphy/volatile/clas12/richcap/New_MC_SIDIS_Files_Volatile/inb-clasdis-7975_3.hipo /w/hallb-scshelf2102/clas12/richcap/SIDIS/New_MC_hipo/BeamEnergy_1060/inb-clasdis-7975_3.hipo; ln -s /lustre19/expphy/volatile/clas12/richcap/New_MC_SIDIS_Files_Volatile/inb-clasdis-7975_4.hipo /w/hallb-scshelf2102/clas12/richcap/SIDIS/New_MC_hipo/BeamEnergy_1060/inb-clasdis-7975_4.hipo; ln -s /lustre19/expphy/volatile/clas12/richcap/New_MC_SIDIS_Files_Volatile/inb-clasdis-7975_5.hipo /w/hallb-scshelf2102/clas12/richcap/SIDIS/New_MC_hipo/BeamEnergy_1060/inb-clasdis-7975_5.hipo; ln -s /lustre19/expphy/volatile/clas12/richcap/New_MC_SIDIS_Files_Volatile/inb-clasdis-7975_6.hipo /w/hallb-scshelf2102/clas12/richcap/SIDIS/New_MC_hipo/BeamEnergy_1060/inb-clasdis-7975_6.hipo; ln -s /lustre19/expphy/volatile/clas12/richcap/New_MC_SIDIS_Files_Volatile/inb-clasdis-7975_7.hipo /w/hallb-scshelf2102/clas12/richcap/SIDIS/New_MC_hipo/BeamEnergy_1060/inb-clasdis-7975_7.hipo; ln -s /lustre19/expphy/volatile/clas12/richcap/New_MC_SIDIS_Files_Volatile/inb-clasdis-7975_8.hipo /w/hallb-scshelf2102/clas12/richcap/SIDIS/New_MC_hipo/BeamEnergy_1060/inb-clasdis-7975_8.hipo; ln -s /lustre19/expphy/volatile/clas12/richcap/New_MC_SIDIS_Files_Volatile/inb-clasdis-7975_9.hipo /w/hallb-scshelf2102/clas12/richcap/SIDIS/New_MC_hipo/BeamEnergy_1060/inb-clasdis-7975_9.hipo; lt /w/hallb-scshelf2102/clas12/richcap/SIDIS/New_MC_hipo/BeamEnergy_1060/\u001b[0m\n",
      "\n",
      "\n"
     ]
    }
   ],
   "source": [
    "Job_ID_Num = \"7975\"\n",
    "Merge_Command   = \"\" # Run this list of commands first\n",
    "\n",
    "pwd_of_volatile = \"/lustre19/expphy/volatile/clas12/richcap/New_MC_SIDIS_Files_Volatile/\" # Change as needed\n",
    "pwd_of_work_dir = \"/w/hallb-scshelf2102/clas12/richcap/SIDIS/New_MC_hipo/BeamEnergy_1060/\" # Change as needed\n",
    "Link_Command    = f\"lt {pwd_of_volatile}; lt {pwd_of_work_dir}; \" # Run to make symbolic links to the work directory folders (Command works from any location as long as 'pwd_of_volatile' and 'pwd_of_work_dir' are set correctly)\n",
    "for ii in range(3, 10):\n",
    "    Merge_Command = f\"{Merge_Command}hipo-utils -merge -o inb-clasdis-{Job_ID_Num}_{ii}.hipo /lustre19/expphy/volatile/clas12/osg/richcap/job_{Job_ID_Num}/output/inb-clasdis-{Job_ID_Num}-*{ii}.hipo; \"\n",
    "    Link_Command  = f\"{Link_Command}ln -s {pwd_of_volatile}inb-clasdis-{Job_ID_Num}_{ii}.hipo {pwd_of_work_dir}inb-clasdis-{Job_ID_Num}_{ii}.hipo; \"\n",
    "print(f\"{Merge_Command}lt\" + \"\\n\\n\" + f\"{Link_Command}lt {pwd_of_work_dir}\")\n",
    "\n",
    "\n",
    "print(f\"\\n\\n{color.BBLUE}TOGETHER:\\n{color.END_B}{Merge_Command}; {Link_Command}lt {pwd_of_work_dir}{color.END}\\n\\n\")"
   ]
  },
  {
   "cell_type": "code",
   "execution_count": null,
   "id": "harmful-italian",
   "metadata": {},
   "outputs": [],
   "source": []
  },
  {
   "cell_type": "code",
   "execution_count": 12,
   "id": "labeled-advertiser",
   "metadata": {},
   "outputs": [
    {
     "name": "stdout",
     "output_type": "stream",
     "text": [
      "echo '0'; l1 inb-clasdis-7975-*0.hipo | wc -l; echo ''; echo '1'; l1 inb-clasdis-7975-*1.hipo | wc -l; echo ''; echo '2'; l1 inb-clasdis-7975-*2.hipo | wc -l; echo ''; echo '3'; l1 inb-clasdis-7975-*3.hipo | wc -l; echo ''; echo '4'; l1 inb-clasdis-7975-*4.hipo | wc -l; echo ''; echo '5'; l1 inb-clasdis-7975-*5.hipo | wc -l; echo ''; echo '6'; l1 inb-clasdis-7975-*6.hipo | wc -l; echo ''; echo '7'; l1 inb-clasdis-7975-*7.hipo | wc -l; echo ''; echo '8'; l1 inb-clasdis-7975-*8.hipo | wc -l; echo ''; echo '9'; l1 inb-clasdis-7975-*9.hipo | wc -l; echo ''; pwd\n"
     ]
    }
   ],
   "source": [
    "test = \"\"\n",
    "for ii in range(0, 10):\n",
    "    test = f\"{test}echo '{ii}'; l1 inb-clasdis-7975-*{ii}.hipo | wc -l; echo ''; \"\n",
    "print(f\"{test}pwd\")"
   ]
  },
  {
   "cell_type": "code",
   "execution_count": null,
   "id": "particular-citizen",
   "metadata": {},
   "outputs": [],
   "source": []
  }
 ],
 "metadata": {
  "kernelspec": {
   "display_name": "Python 3 (ipykernel)",
   "language": "python",
   "name": "python3"
  },
  "language_info": {
   "codemirror_mode": {
    "name": "ipython",
    "version": 3
   },
   "file_extension": ".py",
   "mimetype": "text/x-python",
   "name": "python",
   "nbconvert_exporter": "python",
   "pygments_lexer": "ipython3",
   "version": "3.8.6"
  }
 },
 "nbformat": 4,
 "nbformat_minor": 5
}
