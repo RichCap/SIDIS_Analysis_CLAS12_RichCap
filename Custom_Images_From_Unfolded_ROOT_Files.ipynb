{
 "cells": [
  {
   "cell_type": "code",
   "execution_count": 1,
   "id": "d809288a-25c0-44e5-a58a-73abe7f6a595",
   "metadata": {
    "execution": {
     "iopub.execute_input": "2025-09-30T19:57:19.425973Z",
     "iopub.status.busy": "2025-09-30T19:57:19.425637Z",
     "iopub.status.idle": "2025-09-30T19:57:26.032589Z",
     "shell.execute_reply": "2025-09-30T19:57:26.031953Z",
     "shell.execute_reply.started": "2025-09-30T19:57:19.425952Z"
    }
   },
   "outputs": [
    {
     "name": "stdout",
     "output_type": "stream",
     "text": [
      "\u001b[1m\n",
      "Starting RG-A SIDIS Analysis\n",
      "\u001b[0m\n"
     ]
    }
   ],
   "source": [
    "%reset -f\n",
    "import ROOT\n",
    "import traceback\n",
    "import sys\n",
    "from MyCommonAnalysisFunction_richcap import *\n",
    "from Convert_MultiDim_Kinematic_Bins  import *\n",
    "from ExtraAnalysisCodeValues          import *\n",
    "from array                            import array\n",
    "from datetime                         import datetime\n",
    "\n",
    "script_dir = '/w/hallb-scshelf2102/clas12/richcap/SIDIS_Analysis/RC_Correction_Code'\n",
    "sys.path.append(script_dir)\n",
    "from Find_RC_Fit_Params import Find_RC_Fit_Params, Apply_RC_Factor_Corrections, Get_RC_Fit_Plot\n",
    "sys.path.remove(script_dir)\n",
    "del script_dir\n",
    "\n",
    "def variable_Title_name_new(variable_in):\n",
    "    if(variable_in in [\"k0_cut\"]):\n",
    "        return \"E^{Cutoff}_{#gamma}\"\n",
    "    else:\n",
    "        output = variable_Title_name(variable_in)\n",
    "        output = output.replace(\" (lepton energy loss fraction)\", \"\")\n",
    "        return output\n",
    "\n",
    "ROOT.TH1.AddDirectory(0)\n",
    "ROOT.gStyle.SetTitleOffset(1.3,'y')\n",
    "ROOT.gStyle.SetGridColor(17)\n",
    "ROOT.gStyle.SetPadGridX(1)\n",
    "ROOT.gStyle.SetPadGridY(1)\n",
    "ROOT.gStyle.SetStatX(0.80)  # Set the right edge of the stat box (NDC)\n",
    "ROOT.gStyle.SetStatY(0.45)  # Set the top edge of the stat box (NDC)\n",
    "ROOT.gStyle.SetStatW(0.3)   # Set the width of the stat box (NDC)\n",
    "ROOT.gStyle.SetStatH(0.2)   # Set the height of the stat box (NDC)\n",
    "\n",
    "\n",
    "print(f\"{color.BOLD}\\nStarting RG-A SIDIS Analysis\\n{color.END}\")\n",
    "\n",
    "Relative_Background_Run_Q = False\n"
   ]
  },
  {
   "cell_type": "code",
   "execution_count": 2,
   "id": "91fd4136-2739-449f-9d83-7b1a18720964",
   "metadata": {
    "execution": {
     "iopub.execute_input": "2025-09-30T19:57:27.027488Z",
     "iopub.status.busy": "2025-09-30T19:57:27.027191Z",
     "iopub.status.idle": "2025-09-30T19:57:27.492329Z",
     "shell.execute_reply": "2025-09-30T19:57:27.491819Z",
     "shell.execute_reply.started": "2025-09-30T19:57:27.027467Z"
    }
   },
   "outputs": [
    {
     "name": "stdout",
     "output_type": "stream",
     "text": [
      "\n",
      "\u001b[1m\u001b[94mUsing Existing TTree \u001b[0m\u001b[1m(File is: \u001b[4mUnfolded_Histos_From_Just_RooUnfold_SIDIS_richcap_Lower_Acceptance_Cut.root\u001b[0m\u001b[1m)\u001b[0m\n",
      "\n",
      "\n",
      "\u001b[1m\u001b[94mRecovered: \u001b[1m\u001b[92m52754\u001b[0m\u001b[1m\u001b[94m items\u001b[0m\n",
      "\n",
      "\u001b[1mlength_of_name = 110\u001b[0m\n",
      "\n"
     ]
    }
   ],
   "source": [
    "TTree_Name = \"Unfolded_Histos_From_Just_RooUnfold_SIDIS_richcap_Lower_Acceptance_Cut.root\"\n",
    "print(f\"\\n{color.BBLUE}Using Existing TTree {color.END_B}(File is: {color.UNDERLINE}{TTree_Name}{color.END_B}){color.END}\\n\")\n",
    "TTree_Input = ROOT.TFile.Open(TTree_Name, \"READ\")\n",
    "# List_of_All_Histos_For_Unfolding = {}\n",
    "count = 0\n",
    "length_of_name = 0\n",
    "for key in TTree_Input.GetListOfKeys():\n",
    "    key_name = key.GetName()\n",
    "    if(not Relative_Background_Run_Q):\n",
    "        Relative_Background_Run_Q = \"Relative_Background\" in str(key_name)\n",
    "    if(\"TList_of_\" in key_name):\n",
    "        count += len([float(str(item.GetString())) for item in TTree_Input.Get(key_name)])\n",
    "        pass\n",
    "        # List_of_All_Histos_For_Unfolding[key_name] = [float(str(item.GetString())) for item in TTree_Input.Get(key_name)]\n",
    "    else:\n",
    "        print(f\"\\t{key_name:>112}-> \")\n",
    "        length_of_name = max([length_of_name, len(str(key_name))])\n",
    "        count += 1\n",
    "        # List_of_All_Histos_For_Unfolding[key_name] = TTree_Input.Get(key_name)\n",
    "TTree_Input.Close()\n",
    "print(f\"\\n{color.BBLUE}Recovered: {color.BGREEN}{count}{color.END_B}{color.BLUE} items{color.END}\")\n",
    "print(f\"\\n{color.BOLD}length_of_name = {length_of_name}{color.END}\\n\")"
   ]
  },
  {
   "cell_type": "code",
   "execution_count": null,
   "id": "c0fc11c3-c071-4144-a55c-5489786a4e52",
   "metadata": {},
   "outputs": [],
   "source": []
  }
 ],
 "metadata": {
  "kernelspec": {
   "display_name": "Python 3 (ipykernel)",
   "language": "python",
   "name": "python3"
  },
  "language_info": {
   "codemirror_mode": {
    "name": "ipython",
    "version": 3
   },
   "file_extension": ".py",
   "mimetype": "text/x-python",
   "name": "python",
   "nbconvert_exporter": "python",
   "pygments_lexer": "ipython3",
   "version": "3.11.9"
  }
 },
 "nbformat": 4,
 "nbformat_minor": 5
}
